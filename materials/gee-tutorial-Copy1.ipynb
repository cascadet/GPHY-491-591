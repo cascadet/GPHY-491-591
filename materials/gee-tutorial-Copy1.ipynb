{
 "cells": [
  {
   "cell_type": "markdown",
   "id": "3b9c9b8c-7622-44d3-88d5-230479c7e6d4",
   "metadata": {},
   "source": [
    "# Google Earth Engine Tutorial\n",
    "\n",
    "This tutorial is borrowed from NCEAS: https://learning.nceas.ucsb.edu/2022-09-arctic/sections/15-google-earth-engine.html"
   ]
  },
  {
   "cell_type": "code",
   "execution_count": 1,
   "id": "1453cca9-339b-46a2-8e69-5500f27d47e2",
   "metadata": {
    "tags": []
   },
   "outputs": [
    {
     "ename": "ModuleNotFoundError",
     "evalue": "No module named 'geemap'",
     "output_type": "error",
     "traceback": [
      "\u001b[0;31m---------------------------------------------------------------------------\u001b[0m",
      "\u001b[0;31mModuleNotFoundError\u001b[0m                       Traceback (most recent call last)",
      "Cell \u001b[0;32mIn[1], line 3\u001b[0m\n\u001b[1;32m      1\u001b[0m \u001b[38;5;66;03m# Dependencies\u001b[39;00m\n\u001b[1;32m      2\u001b[0m \u001b[38;5;28;01mimport\u001b[39;00m \u001b[38;5;21;01mee\u001b[39;00m\n\u001b[0;32m----> 3\u001b[0m \u001b[38;5;28;01mimport\u001b[39;00m \u001b[38;5;21;01mgeemap\u001b[39;00m\n",
      "\u001b[0;31mModuleNotFoundError\u001b[0m: No module named 'geemap'"
     ]
    }
   ],
   "source": [
    "# Dependencies\n",
    "import ee\n",
    "import geemap"
   ]
  },
  {
   "cell_type": "code",
   "execution_count": null,
   "id": "e9110eb6-0d0e-464c-91a4-7030276a7762",
   "metadata": {},
   "outputs": [],
   "source": [
    "# triggers the authentication process\n",
    "ee.Authenticate() "
   ]
  },
  {
   "cell_type": "code",
   "execution_count": null,
   "id": "979a422c-cd76-4ac4-892d-3e9cab04127f",
   "metadata": {},
   "outputs": [],
   "source": [
    "# Initialize\n",
    "ee.Initialize() "
   ]
  },
  {
   "cell_type": "code",
   "execution_count": null,
   "id": "0fbdcbd2-2c12-462e-b95d-6a9bbb520de5",
   "metadata": {},
   "outputs": [],
   "source": [
    "myMap = geemap.Map(center = [40, -100], zoom = 2)\n",
    "myMap"
   ]
  },
  {
   "cell_type": "code",
   "execution_count": null,
   "id": "4a7866ec-b1d8-48ef-b590-ca8987688a62",
   "metadata": {},
   "outputs": [],
   "source": [
    "myMap.add_basemap(basemap=\"Esri.WorldImagery\")\n",
    "myMap"
   ]
  },
  {
   "cell_type": "code",
   "execution_count": null,
   "id": "a612248d-9d53-4123-baa2-c5cdc2d0db62",
   "metadata": {},
   "outputs": [],
   "source": []
  }
 ],
 "metadata": {
  "kernelspec": {
   "display_name": "Python 3 (ipykernel)",
   "language": "python",
   "name": "python3"
  },
  "language_info": {
   "codemirror_mode": {
    "name": "ipython",
    "version": 3
   },
   "file_extension": ".py",
   "mimetype": "text/x-python",
   "name": "python",
   "nbconvert_exporter": "python",
   "pygments_lexer": "ipython3",
   "version": "3.9.15"
  }
 },
 "nbformat": 4,
 "nbformat_minor": 5
}
