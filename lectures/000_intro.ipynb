{
 "cells": [
  {
   "cell_type": "markdown",
   "metadata": {
    "cell_style": "center",
    "slideshow": {
     "slide_type": "slide"
    }
   },
   "source": [
    "# GPHY-491-591 Lecture 1: Introduction + Computer Science 101\n",
    "\n",
    "- Course Repository: [https://github.com/cascadet/GPHY-491-591](https://github.com/cascadet/GPHY-491-591)\n",
    "\n",
    "- Course Brightspace / D2L Website: [https://ecat.montana.edu/d2l/home/794961](https://ecat.montana.edu/d2l/home/794961)"
   ]
  },
  {
   "cell_type": "markdown",
   "metadata": {
    "slideshow": {
     "slide_type": "slide"
    }
   },
   "source": [
    "# Welcome!\n",
    "\n",
    "### <u>Plan for Today<u>\n",
    "1. Introductions\n",
    "1. Launching a Juypter Notebook on Tempest\n",
    "1. What is Python\n",
    "1. Computer Science 101\n",
    "1. Unix Shell\n",
    "1. Github \n",
    "1. Conda Environments"
   ]
  },
  {
   "cell_type": "markdown",
   "metadata": {
    "slideshow": {
     "slide_type": "slide"
    }
   },
   "source": [
    "# Introductions\n",
    "\n",
    "- What's your name?\n",
    "- Where are you from?\n",
    "- What do you study or plan to study? (e.g. Why are you here?)\n",
    "- What's your experience with Data Science? (GIS, R, Python, C, Excel ...?)"
   ]
  },
  {
   "cell_type": "markdown",
   "metadata": {
    "slideshow": {
     "slide_type": "slide"
    }
   },
   "source": [
    "![ct_profile.pdf](assets/ct_profile.png)"
   ]
  },
  {
   "cell_type": "markdown",
   "metadata": {
    "slideshow": {
     "slide_type": "slide"
    }
   },
   "source": [
    "# Launch Juypter Notebook on Tempest\n",
    "\n",
    "- Tempest is Montana State University's High Proformace Computing Cluster\n",
    "- You can access Tempest from a web browser: [https://tempest-web.msu.montana.edu/](https://tempest-web.msu.montana.edu/)\n",
    "- Off campus accces, you will need to use MSU's VPN [https://www.montana.edu/uit/computing/desktop/vpn/](https://www.montana.edu/uit/computing/desktop/vpn/)\n",
    "- **We will mainly be using your laptop of this class:** But if you are having issues, Tempest is always an option to get your work done.\n",
    "- Let's explore [Jupyter](https://jupyterlab.readthedocs.io/en/latest/) a bit "
   ]
  },
  {
   "cell_type": "markdown",
   "metadata": {
    "slideshow": {
     "slide_type": "slide"
    }
   },
   "source": [
    "# Some things to note:\n",
    "- Command vs edit mode `esc`\n",
    "- Markdown `m` vs code `y` cell \n",
    "- Shortcuts are your friend: `command shift p`"
   ]
  },
  {
   "cell_type": "markdown",
   "metadata": {
    "slideshow": {
     "slide_type": "slide"
    }
   },
   "source": [
    "![data_science.jpg](assets/data_science.jpg)"
   ]
  },
  {
   "cell_type": "markdown",
   "metadata": {
    "slideshow": {
     "slide_type": "slide"
    }
   },
   "source": [
    "![environmental_data_science.jpg](assets/environmental_data_science.jpg)"
   ]
  },
  {
   "cell_type": "markdown",
   "metadata": {
    "slideshow": {
     "slide_type": "slide"
    }
   },
   "source": [
    "# Why do Data Science? What is the benefit?\n",
    "- Data tells stories.\n",
    "- Data is not inherently “truthful”\n",
    "- Environmental data can be a mess.\n",
    "- Human data can be even worse.\n",
    "- Know thy data\n"
   ]
  },
  {
   "cell_type": "markdown",
   "metadata": {
    "slideshow": {
     "slide_type": "slide"
    }
   },
   "source": [
    "# Environmental data can be a mess.\n",
    "![env-data-mess1.png](assets/env-data-mess1.png)\n"
   ]
  },
  {
   "cell_type": "markdown",
   "metadata": {
    "slideshow": {
     "slide_type": "slide"
    }
   },
   "source": [
    "# Environmental data can be a mess.\n",
    "![env-data-mess2.png](assets/env-data-mess2.png)"
   ]
  },
  {
   "cell_type": "markdown",
   "metadata": {
    "slideshow": {
     "slide_type": "slide"
    }
   },
   "source": [
    "# Human data can be a mess.\n",
    "![hum-data-mess.png](assets/hum-data-mess.png)\n",
    "\n",
    "### ... more on this later"
   ]
  },
  {
   "cell_type": "markdown",
   "metadata": {
    "cell_style": "split",
    "slideshow": {
     "slide_type": "slide"
    }
   },
   "source": [
    "> \"Python is powerful... and fast; \n",
    "plays well with others; \n",
    "runs everywhere; \n",
    "is friendly & easy to learn; \n",
    "is Open.\""
   ]
  },
  {
   "cell_type": "markdown",
   "metadata": {
    "slideshow": {
     "slide_type": "slide"
    }
   },
   "source": [
    "## What is Python?\n",
    "\n",
    "Python is a *general-purpose, object-oriented programming language* that emphasizes _code readability_ through its generous use of white space. Released in 1989, Python is easy to learn and a favorite of programmers and developers.\n",
    "\n"
   ]
  },
  {
   "cell_type": "markdown",
   "metadata": {
    "cell_style": "split",
    "slideshow": {
     "slide_type": "slide"
    }
   },
   "source": [
    "### High-level languages \n",
    "(Python, C, C++, Java, Javascript, R, Pascal)\n",
    "- Take less time to write\n",
    "- Shorter and easier to read\n",
    "- Portable, meaning that they can run on different kinds of computers with few or no modifications.\n",
    "\n",
    "The engine that translates and runs Python is called the *Python Interpreter*"
   ]
  },
  {
   "cell_type": "code",
   "execution_count": null,
   "metadata": {
    "cell_style": "split",
    "slideshow": {
     "slide_type": "slide"
    }
   },
   "outputs": [],
   "source": [
    "\"\"\" \n",
    "Entering code into this notebook cell \n",
    "and pressing [SHIFT-ENTER] will cause the \n",
    "python interpreter to execute the code\n",
    "\"\"\"\n",
    "print(\"Hello world!\")\n",
    "print(\"[from this notebook cell]\")\n",
    "\n",
    "print('I love this class')\n",
    "\n",
    "x = 1 \n",
    "print(x)\n",
    "x = 2\n",
    "print(x)"
   ]
  },
  {
   "cell_type": "code",
   "execution_count": null,
   "metadata": {
    "cell_style": "split",
    "slideshow": {
     "slide_type": "slide"
    }
   },
   "outputs": [],
   "source": [
    "\"\"\"\n",
    "Alternatively, you can run a \n",
    "any python script file (.py file)\n",
    "so long as it contains valid\n",
    "python code.\n",
    "\"\"\"\n",
    "!python hello_world.py"
   ]
  },
  {
   "cell_type": "markdown",
   "metadata": {
    "cell_style": "split",
    "slideshow": {
     "slide_type": "slide"
    }
   },
   "source": [
    "### Natural vs. Formal Languages\n",
    "\n",
    "*Natural languages* are the languages that people speak. They are not designed (although they are subjected to various degrees of \"order\") and evolve naturally. \n",
    "\n",
    "\n"
   ]
  },
  {
   "cell_type": "markdown",
   "metadata": {
    "cell_style": "split",
    "slideshow": {
     "slide_type": "slide"
    }
   },
   "source": [
    "\n",
    "*Formal languages* are languages that are designed by people for specific applications. \n",
    "- Mathematical Notation $E=mc^2$ \n",
    "- Chemical Notation: $\\text{H}_2\\text{O}$\n",
    "\n",
    "\n",
    "*Programming languages* are **formal languages that have been designed to express computations**.\n",
    "\n"
   ]
  },
  {
   "cell_type": "markdown",
   "metadata": {
    "cell_style": "split",
    "slideshow": {
     "slide_type": "slide"
    }
   },
   "source": [
    "**Parsing**: The process of figuring out what the structure of a sentence or statement is (in a natural language you do this subconsciously). \n"
   ]
  },
  {
   "cell_type": "markdown",
   "metadata": {
    "cell_style": "split",
    "slideshow": {
     "slide_type": "slide"
    }
   },
   "source": [
    "Formal Languages have **strict** syntax for _tokens_ and _structure_:\n",
    "\n",
    "- Mathematical syntax error: $E=\\$m🦆_2$ (bad tokens & bad structure)\n",
    "- Chemical syntax error: $\\text{G}_3\\text{Z}$ (bad tokens, but structure is okay)"
   ]
  },
  {
   "cell_type": "markdown",
   "metadata": {
    "slideshow": {
     "slide_type": "slide"
    }
   },
   "source": [
    "### Differences between Natural and Formal languages\n",
    "1. _Ambiguity_:\n",
    "Natural languages are full of ambiguity, which people parse using contextual clues. Formal languages are nearly or completely unambiguous; any statement has exactly one meaning, regardless of context.\n",
    "1. _Redundancy_:\n",
    "In order to make up for ambiguity, natural languages employ lots of redundancy. Formal languages are less redundant and more concise.\n",
    "1. _Literalness_:\n",
    "Formal languages mean exactly what they say. Natural languages employ idioms and metaphors.\n",
    "\n",
    "The inherent differences between familiar natural languages and unfamiliar formal languages creates one of the greatest challenges in learning to code."
   ]
  },
  {
   "cell_type": "markdown",
   "metadata": {
    "cell_style": "split",
    "slideshow": {
     "slide_type": "slide"
    }
   },
   "source": [
    "### A continuum of formalism\n",
    "- _poetry_: Words are used for sound and meaning. Ambiguity is common and often deliberate.\n",
    "- _prose_: The literal meaning of words is important, and the structure contributes meaning. Amenable to analysis but still often ambiguous.\n",
    "- _program_: Meaning is unambiguous and literal, and can be understood entirely by analysis of the tokens and structure."
   ]
  },
  {
   "cell_type": "markdown",
   "metadata": {
    "cell_style": "split",
    "slideshow": {
     "slide_type": "slide"
    }
   },
   "source": [
    "#### Strategies for parsing formal languages:\n",
    "- **Formal languages are very dense**, so it takes longer to read them. \n",
    "- **Structure is very important**, so it is usually not a good idea to read from top to bottom, left to right. Instead, learn to parse the program in your head, identifying the tokens and interpreting the structure. \n",
    "- **Details matter**. Little things like spelling errors and bad punctuation, which you can get away with in natural languages, will make a big difference in a formal language."
   ]
  },
  {
   "cell_type": "markdown",
   "metadata": {
    "cell_style": "split",
    "slideshow": {
     "slide_type": "slide"
    }
   },
   "source": [
    "## Why Python?\n",
    "\n",
    "\n",
    "\n",
    "[IBM: R vs. Python](https://www.ibm.com/cloud/blog/python-vs-r)\n"
   ]
  },
  {
   "cell_type": "markdown",
   "metadata": {
    "cell_style": "split",
    "slideshow": {
     "slide_type": "slide"
    }
   },
   "source": [
    "Python is a multi-purpose language with a readable syntax that’s easy to learn. Programmers use Python to delve into data analysis or use machine learning in scalable production environments.\n",
    "\n",
    "R is built by statisticians and leans heavily into statistical models and specialized analytics. Data scientists use R for deep statistical analysis, supported by just a few lines of code and beautiful data visualizations. "
   ]
  },
  {
   "cell_type": "markdown",
   "metadata": {
    "cell_style": "split",
    "slideshow": {
     "slide_type": "slide"
    }
   },
   "source": [
    "In general, R is better for initial exploratory analyses, statistical analyses, and data visualization. "
   ]
  },
  {
   "cell_type": "markdown",
   "metadata": {
    "cell_style": "split",
    "slideshow": {
     "slide_type": "slide"
    }
   },
   "source": [
    "In general, Python is better for working with APIs (Application Programming Interfaces), writing maintainable, production-ready code, working with a diverse array of data, and building machine learning or AI workflows."
   ]
  },
  {
   "cell_type": "markdown",
   "metadata": {
    "slideshow": {
     "slide_type": "slide"
    }
   },
   "source": [
    "Both languages can _do_ anything. \n",
    "Most data science teams use both languages.\n",
    "(and others too: Julia, Matlab, Javascript, Go, Fortran, etc...)"
   ]
  },
  {
   "cell_type": "code",
   "execution_count": null,
   "metadata": {
    "slideshow": {
     "slide_type": "slide"
    }
   },
   "outputs": [],
   "source": [
    "from IPython.lib.display import YouTubeVideo\n",
    "YouTubeVideo('KHaWVsOgUxU')"
   ]
  },
  {
   "cell_type": "markdown",
   "metadata": {
    "slideshow": {
     "slide_type": "slide"
    }
   },
   "source": [
    "### Language Usage by Data Scientists\n",
    "[Anaconda State of Data Science](https://www.anaconda.com/state-of-data-science-2022)\n",
    "\n",
    "Data from 2021:\n",
    "![language_usage_2021.jpg](assets/language_usage_2021.jpg)"
   ]
  },
  {
   "cell_type": "markdown",
   "metadata": {
    "slideshow": {
     "slide_type": "slide"
    }
   },
   "source": [
    "## What about 2022 data?\n",
    "\n",
    "The data are [available here](https://anaconda.cloud/sods-2022-data-download)...\n",
    "\n",
    "Let's do some python data science!"
   ]
  },
  {
   "cell_type": "code",
   "execution_count": null,
   "metadata": {
    "slideshow": {
     "slide_type": "slide"
    }
   },
   "outputs": [],
   "source": [
    "# First, we need to gather our tools (e.g. \"packages\")\n",
    "import pandas as pd  # This is the most common data science package used in python!\n",
    "import matplotlib.pyplot as plt # This is the most widely-used plotting package.\n",
    "\n",
    "import requests # This package helps us make https requests \n",
    "import io # This package is good at handling input/output streams"
   ]
  },
  {
   "cell_type": "code",
   "execution_count": null,
   "metadata": {
    "slideshow": {
     "slide_type": "slide"
    }
   },
   "outputs": [],
   "source": [
    "# Here's the url for the 2022 data that we just looked at:\n",
    "url = \"https://static.anaconda.cloud/content/Anaconda_2022_State_of_Data_Science_+Raw_Data.csv\"\n",
    "\n",
    "# Try to access the file using the requests library\n",
    "response = requests.get(url)\n",
    "response.raise_for_status()  # Will raise an HTTPError if the HTTP request returned an unsuccessful status code\n",
    "\n",
    "# A 200 response code means our request was successful:\n",
    "print(response)"
   ]
  },
  {
   "cell_type": "code",
   "execution_count": null,
   "metadata": {
    "scrolled": true,
    "slideshow": {
     "slide_type": "slide"
    }
   },
   "outputs": [],
   "source": [
    "# Read the response into a dataframe, using the io.StringIO function to feed the response.txt.\n",
    "# Also, skip the first three rows\n",
    "df = pd.read_csv(io.StringIO(response.text), skiprows=3)\n",
    "\n",
    "# Our very first dataframe!\n",
    "df.head(1)\n",
    "\n",
    "# Jupyter notebook cells only output the last value requested..."
   ]
  },
  {
   "cell_type": "code",
   "execution_count": null,
   "metadata": {
    "scrolled": true,
    "slideshow": {
     "slide_type": "slide"
    }
   },
   "outputs": [],
   "source": [
    "# Read the response into a dataframe, using the io.StringIO function to feed the response.txt.\n",
    "# Also, skip the first three rows\n",
    "df = pd.read_csv(io.StringIO(response.text), skiprows=3)\n",
    "\n",
    "# Our very first dataframe!\n",
    "df.head()\n",
    "\n",
    "# Jupyter notebook cells only output the last value... unless you use print commands!\n",
    "print(f'Number of survey responses: {len(df)}')\n",
    "print(f'Number of survey questions: {len(df.columns)}')"
   ]
  },
  {
   "cell_type": "code",
   "execution_count": null,
   "metadata": {
    "slideshow": {
     "slide_type": "slide"
    }
   },
   "outputs": [],
   "source": [
    "# 1. Filter the dataframe to only the questions about programming language usage, and \n",
    "filtered_df = df.filter(like='How often do you use the following languages?').copy() # Use copy to force python to make a new copy of the data, not just a reference to a subset.\n",
    "\n",
    "# 2. Rename the columns to just be the programming languages, without the question preamble\n",
    "filtered_df.rename(columns=lambda x: x.split('-')[-1].strip() if '-' in x else x, inplace=True)\n"
   ]
  },
  {
   "cell_type": "code",
   "execution_count": null,
   "metadata": {
    "slideshow": {
     "slide_type": "slide"
    }
   },
   "outputs": [],
   "source": [
    "# Calculate the percentage of each response for each language\n",
    "percentage_df = filtered_df.apply(lambda x: x.value_counts(normalize=True).fillna(0) * 100).transpose()\n",
    "\n",
    "# Remove the last row, which is the \"Other\" category\n",
    "percentage_df = percentage_df[:-1]\n",
    "\n",
    "# Sort the DataFrame based on the 'Always' responses\n",
    "sorted_percentage_df = percentage_df.sort_values(by='Always', ascending=True)"
   ]
  },
  {
   "cell_type": "code",
   "execution_count": null,
   "metadata": {
    "slideshow": {
     "slide_type": "slide"
    }
   },
   "outputs": [],
   "source": [
    "# Let's get ready to plot the 2022 data...\n",
    "from IPython.display import display\n",
    "\n",
    "# We are going to use the display command to update our figure over multiple cells. \n",
    "# This usually isn't necessary, but it's helpful here to see how each set of commands updates the figure\n",
    "\n",
    "# Define the custom order for plotting\n",
    "order = ['Always', 'Frequently', 'Sometimes', 'Rarely', 'Never']\n",
    "\n",
    "colors = {\n",
    "    'Always': (8/255, 40/255, 81/255),       # Replace R1, G1, B1 with the RGB values for 'Dark Blue'\n",
    "    'Frequently': (12/255, 96/255, 152/255),   # Replace R2, G2, B2 with the RGB values for 'Light Ocean Blue'\n",
    "    'Sometimes': (16/255, 146/255, 136/255),    # and so on...\n",
    "    'Rarely': (11/255, 88/255, 73/255),\n",
    "    'Never': (52/255, 163/255, 32/255)\n",
    "}"
   ]
  },
  {
   "cell_type": "code",
   "execution_count": null,
   "metadata": {
    "slideshow": {
     "slide_type": "slide"
    }
   },
   "outputs": [],
   "source": [
    "# Make the plot\n",
    "fig, ax = plt.subplots(figsize=(10, 7))\n",
    "sorted_percentage_df[order].plot(kind='barh', stacked=True, ax=ax, color=[colors[label] for label in order])\n",
    "ax.set_xlabel('Percentage')\n",
    "ax.set_title('Frequency of Language Usage, 2022',y=1.05)\n",
    "\n",
    "plt.show() # This command draws our figure. "
   ]
  },
  {
   "cell_type": "code",
   "execution_count": null,
   "metadata": {
    "slideshow": {
     "slide_type": "slide"
    }
   },
   "outputs": [],
   "source": [
    "# Add labels across the top, like in the original graph\n",
    "\n",
    "# Get the patches for the top-most bar\n",
    "num_languages = len(sorted_percentage_df)\n",
    "\n",
    "patches = ax.patches[num_languages-1::num_languages]\n",
    "# Calculate the cumulative width of the patches for the top-most bar\n",
    "cumulative_widths = [0] * len(order)\n",
    "widths = [patch.get_width() for patch in patches]\n",
    "for i, width in enumerate(widths):\n",
    "    cumulative_widths[i] = width + (cumulative_widths[i-1] if i > 0 else 0)\n",
    "\n",
    "# Add text labels above the bars\n",
    "for i, (width, label) in enumerate(zip(cumulative_widths, order)):\n",
    "    # Get the color of the current bar segment\n",
    "    # Calculate the position for the text label\n",
    "    position = width - (patches[i].get_width() / 2)\n",
    "    # Add the text label to the plot\n",
    "    # Adjust the y-coordinate for the text label\n",
    "    y_position = len(sorted_percentage_df) - 0.3  # Adjust the 0.3 value as needed\n",
    "    ax.text(position, y_position, label, ha='center', color=colors[label], fontweight='bold')\n",
    "\n",
    "# Remove the legend\n",
    "ax.legend().set_visible(False)\n",
    "\n",
    "#plt.show()\n",
    "display(fig) # This command shows our updated figure (we can't re-use \"plt.show()\")"
   ]
  },
  {
   "cell_type": "code",
   "execution_count": null,
   "metadata": {
    "slideshow": {
     "slide_type": "slide"
    }
   },
   "outputs": [],
   "source": [
    "# Add percentage values inside each patch\n",
    "for patch in ax.patches:\n",
    "    # Get the width and height of the patch\n",
    "    width, height = patch.get_width(), patch.get_height()\n",
    "    \n",
    "    # Calculate the position for the text label\n",
    "    x = patch.get_x() + width / 2\n",
    "    y = patch.get_y() + height / 2\n",
    "    \n",
    "    # Get the percentage value for the current patch\n",
    "    percentage = \"{:.0f}%\".format(width)\n",
    "    \n",
    "    # Add the text label to the plot\n",
    "    ax.text(x, y, percentage, ha='center', va='center', color='white', fontweight='bold')\n",
    "\n",
    "display(fig) # Let's see those nice text labels!"
   ]
  },
  {
   "cell_type": "code",
   "execution_count": null,
   "metadata": {
    "slideshow": {
     "slide_type": "slide"
    }
   },
   "outputs": [],
   "source": [
    "# Clean up the figure to remove spines and unecessary labels/ticks, etc..\n",
    "\n",
    "# Remove x-axis label\n",
    "ax.set_xlabel('')\n",
    "\n",
    "# Remove the spines\n",
    "ax.spines['top'].set_visible(False)\n",
    "ax.spines['right'].set_visible(False)\n",
    "ax.spines['bottom'].set_visible(False)\n",
    "ax.spines['left'].set_visible(False)\n",
    "\n",
    "# Remove the y-axis tick marks\n",
    "ax.tick_params(axis='y', which='both', length=0)\n",
    "\n",
    "# Remove the x-axis tick marks and labels\n",
    "ax.tick_params(axis='x', which='both', bottom=False, top=False, labelbottom=False)\n",
    "\n",
    "display(fig) # Now 100% less visually cluttered!"
   ]
  },
  {
   "cell_type": "markdown",
   "metadata": {
    "slideshow": {
     "slide_type": "slide"
    }
   },
   "source": [
    "# What python?\n",
    "\n",
    "### Python Developer's Survey 2022\n",
    "[JetBrains, Inc.](https://lp.jetbrains.com/python-developers-survey-2022/)\n",
    "\n",
    "![image.png](assets/python_usage.png)\n",
    "\n",
    "Data is [here](https://drive.google.com/drive/folders/17jyWjMslux6N921jXFI7-kdZzJ4L6vCI)"
   ]
  },
  {
   "cell_type": "markdown",
   "metadata": {
    "slideshow": {
     "slide_type": "slide"
    }
   },
   "source": [
    "### Activities of Data Analysis...\n",
    "[Anaconda State of Data Science](https://www.anaconda.com/resources/whitepapers/state-of-data-science-report-2022)\n",
    "![image.png](assets/activities.png)\n"
   ]
  },
  {
   "cell_type": "markdown",
   "metadata": {
    "cell_style": "split",
    "slideshow": {
     "slide_type": "slide"
    }
   },
   "source": [
    "# How Python?\n",
    "\n",
    "\n",
    "Writing code requires an editor.\n",
    "\n",
    "Running code requires an interpreter.\n",
    "\n",
    "How you setup your editor and your interpreter can vary widely...\n",
    "\n",
    "- On your machine? \n",
    "- On a server? \n",
    "- In the cloud? \n",
    "- In your browser? \n",
    "- In a file?"
   ]
  },
  {
   "cell_type": "markdown",
   "metadata": {
    "cell_style": "split",
    "slideshow": {
     "slide_type": "slide"
    }
   },
   "source": [
    "### Python Developer's Survey 2022\n",
    "[JetBrains, Inc.](https://lp.jetbrains.com/python-developers-survey-2022/)\n",
    "![editor/IDE usage](assets/editor_usage.png)\n",
    "\n",
    "### IDS = Integrated development environment ###"
   ]
  },
  {
   "cell_type": "markdown",
   "metadata": {
    "slideshow": {
     "slide_type": "slide"
    }
   },
   "source": [
    "# Why Open Source Code?\n",
    "- Join a global community \n",
    "- Free knowledge\n",
    "- The Feds want us to: [TRANSFORM TO OPEN SCIENCE](https://nasa.github.io/Transform-to-Open-Science/)\n",
    "- Ethical: Reproducable, Transparent, Accessable to All (kinda)\n",
    "- Great resources: Google + Stack Exchange/Overflow \n",
    "- More fun, faster.\n"
   ]
  },
  {
   "cell_type": "markdown",
   "metadata": {
    "slideshow": {
     "slide_type": "slide"
    }
   },
   "source": [
    "# Workflow for GPHY 491-591 \n",
    "\n",
    "1. Learn Computer Science 101 \n",
    "1. Github\n",
    "1. Unix Shell\n",
    "1. Learn how to manage python working environments using [conda](https://docs.conda.io/en/latest/)\n",
    "1. Focus initially on Jupyter notebooks...\n",
    "1. But also explore using .py files and other tools for developing your own functions and re-usable code.\n",
    "\n",
    "By end of this course, you will have the ability to develop maintanable, repeatable python code that anyone can use!"
   ]
  },
  {
   "cell_type": "markdown",
   "metadata": {
    "slideshow": {
     "slide_type": "slide"
    }
   },
   "source": [
    "# Computer Science 101: What the heck is a Computer?\n",
    "![](assets/Computer-Memory-Hierarchy.jpg)"
   ]
  },
  {
   "cell_type": "markdown",
   "metadata": {
    "slideshow": {
     "slide_type": "slide"
    }
   },
   "source": [
    "# Random Access Memory (RAM) vs. Hard Drive Storage?\n",
    "###  ... I have 64 GB of RAM and 1 TB SSD ... \"WTF does that mean??\"  \n",
    "![](assets/memory-vs-storage.png)"
   ]
  },
  {
   "cell_type": "markdown",
   "metadata": {
    "slideshow": {
     "slide_type": "slide"
    }
   },
   "source": [
    "# Computer Science 101: What the heck is a Computer?\n",
    "![Alt text](assets/python-code-copiler-machine-code.png)"
   ]
  },
  {
   "cell_type": "markdown",
   "metadata": {
    "slideshow": {
     "slide_type": "slide"
    }
   },
   "source": [
    "# RAM \n",
    "![](assets/ram.png)"
   ]
  },
  {
   "cell_type": "markdown",
   "metadata": {
    "slideshow": {
     "slide_type": "slide"
    }
   },
   "source": [
    "# RAM \n",
    "\n",
    "- RAM is literally randomly used within a computer program. \n",
    "- When using data for computation, your CPU gets a pool of RAM that track tracks of during opperations. \n",
    "- The data on this screen is currently \"in memory\" ... until it is released.\n",
    "- More on RAM later, but understanding the basics of RAM is _very important for data science_"
   ]
  },
  {
   "cell_type": "markdown",
   "metadata": {
    "slideshow": {
     "slide_type": "slide"
    }
   },
   "source": [
    "# RAM \n",
    "![](assets/ram.png)"
   ]
  },
  {
   "cell_type": "markdown",
   "metadata": {
    "slideshow": {
     "slide_type": "slide"
    }
   },
   "source": [
    "# Hard Drive Storage + File System + CPU/GPU\n",
    "![file-sys1.png](assets/file-sys1.png)"
   ]
  },
  {
   "cell_type": "markdown",
   "metadata": {
    "slideshow": {
     "slide_type": "slide"
    }
   },
   "source": [
    "# Hard Drive Storage + File System + CPU/GPU\n",
    "![file-sys2.png](assets/file-sys2.png)"
   ]
  },
  {
   "cell_type": "markdown",
   "metadata": {},
   "source": [
    "# Let's Dive Into the Unix Shell\n",
    "\n",
    "- If you have a MAC, you already have it. \n",
    "- If you have a PC, you may need to install it. See [here](https://youtu.be/339AEqk9c-8) for instructions.\n",
    "- A Unix Shell (e.g. Bash) is where you can give your computer commands in `shell script ... .sh files` which runs Unix language.  \n",
    "\n",
    "#### tl;dr Shell scripts tell your opperating systems what to do instead of using the Graphical User Interface (GUI). Today, we're going to use it on Tempest\n",
    "\n",
    "![file-sys1.png](assets/shell.png)"
   ]
  },
  {
   "cell_type": "markdown",
   "metadata": {
    "slideshow": {
     "slide_type": "slide"
    }
   },
   "source": [
    "# Unix Commands \n",
    "For this class, we'll be using Bash script for two reasons:\n",
    "1. To move around your file system\n",
    "2. To use Git\n",
    "\n",
    "### Task\n",
    "1. Open Bash\n",
    "2. Type `pwd` and hit enter - What do you see?\n",
    "3. Type `ls -la` and hit enter - What do you see?\n",
    "4. Type `cd` and the name of a directory (e.g. folder) of your choice and hit enter.\n",
    "5. Type `pwd` and hit enter - What do you see?\n",
    "6. Type `ls -la` and hit enter - What do you see?\n",
    "7. Type `cd ../` and hit enter\n",
    "8. Type `pwd`\n",
    "\n",
    "Nicely done! You now know the basics of moving around your file system"
   ]
  },
  {
   "cell_type": "markdown",
   "metadata": {
    "slideshow": {
     "slide_type": "slide"
    }
   },
   "source": [
    "# Shell on Tempest\n",
    "Let's check it out!"
   ]
  },
  {
   "cell_type": "markdown",
   "metadata": {},
   "source": [
    "# Mini Conda\n",
    "- Mini Conda is a **package manager** ... it keeps track of other code bases so you don't have to.\n",
    "- Packages have versions, that change through time. It's important code you develop always uses the correct version of a package.\n",
    "- An `environment` is a container for you to let Python know which packages/versions to use.\n",
    "- Creating `environments` allow others to replicate your code."
   ]
  },
  {
   "cell_type": "markdown",
   "metadata": {
    "slideshow": {
     "slide_type": "slide"
    }
   },
   "source": [
    "![file-sys1.png](assets/env.png)"
   ]
  },
  {
   "cell_type": "markdown",
   "metadata": {
    "slideshow": {
     "slide_type": "slide"
    }
   },
   "source": [
    "# Now Let's Install Mini Conda\n",
    "\n",
    "- Go here: [https://docs.conda.io/projects/miniconda/en/latest/](https://docs.conda.io/projects/miniconda/en/latest/) and install either the Mac or the Windows version. \n",
    "- While your computer likely already has a version of Python installed, we'll be using Mini Conda to help us keep track of Python for us.\n",
    "- Mini Conda is a **package manager** ... it keeps track of other code bases so you don't have to."
   ]
  },
  {
   "cell_type": "markdown",
   "metadata": {},
   "source": [
    "# You are almost ready to code in Python on your own computer when:\n",
    "\n",
    "1. A Github account.\n",
    "2. Basica ability to run use the shell to run commands.\n",
    "3. Have mini-conda installed.\n",
    "\n",
    "... **but you need to do a few more things**"
   ]
  },
  {
   "cell_type": "markdown",
   "metadata": {},
   "source": [
    "# Launch Juypter Notebook on Tempest\n",
    "\n",
    "- Tempest is Montana State University's High Proformace Computing Cluster\n",
    "- You can access Tempest from a web browser: [https://tempest-web.msu.montana.edu/](https://tempest-web.msu.montana.edu/)\n",
    "- Off campus accces, you will need to use MSU's VPN [https://www.montana.edu/uit/computing/desktop/vpn/](https://www.montana.edu/uit/computing/desktop/vpn/)\n",
    "- **We will mainly be using your laptop of this class:** But if you are having issues, Tempest is always an option to get your work done.\n",
    "- Let's explore [Jupyter](https://jupyterlab.readthedocs.io/en/latest/) a bit "
   ]
  },
  {
   "cell_type": "markdown",
   "metadata": {},
   "source": [
    "# You are READY to code in Python on your own computer when:\n",
    "\n",
    "1. A Github account.\n",
    "2. Basica ability to run use the shell to run commands.\n",
    "3. Have mini-conda installed.\n",
    "\n",
    "... **but you need to do a few more things**\n",
    "\n",
    "4. Open your shell and type `pip install jupyterlab` ... Now you have  Jupyter\n",
    "5. Go to the location where you want to store the class code and type: `git clone https://github.com/cascadet/GPHY-491-591.git`\n",
    "6. Now create the environment: `conda env create -f environment.yml`"
   ]
  },
  {
   "cell_type": "markdown",
   "metadata": {},
   "source": [
    "# Launch Juypter Notebook on Tempest\n",
    "\n",
    "- Tempest is Montana State University's High Proformace Computing Cluster\n",
    "- You can access Tempest from a web browser: [https://tempest-web.msu.montana.edu/](https://tempest-web.msu.montana.edu/)\n",
    "- Off campus accces, you will need to use MSU's VPN [https://www.montana.edu/uit/computing/desktop/vpn/](https://www.montana.edu/uit/computing/desktop/vpn/)\n",
    "- **We will mainly be using your laptop of this class:** But if you are having issues, Tempest is always an option to get your work done.\n",
    "- Let's explore [Jupyter](https://jupyterlab.readthedocs.io/en/latest/) a bit "
   ]
  },
  {
   "cell_type": "markdown",
   "metadata": {},
   "source": [
    "# Some things to note:\n",
    "- Command vs edit mode `esc`\n",
    "- Markdown `m` vs code `y` cell \n",
    "- Shortcuts are your friend: `command shift p`"
   ]
  },
  {
   "cell_type": "markdown",
   "metadata": {
    "slideshow": {
     "slide_type": "slide"
    }
   },
   "source": [
    "# For Next Week\n",
    "- Relax, you are doing fine, even if you are totally confused. This is how you learn a new language.\n",
    "- Homework: Have a Github account, Unix Shell, and Mini Conda installed on your laptop by next class.\n",
    "- On D2L: Write 1-2 paragraphs explaining what your experience with coding is prior to this class and what think your final project may be (this is to help me plan).\n",
    "![](assets/dog-fire.jpg)"
   ]
  }
 ],
 "metadata": {
  "celltoolbar": "Slideshow",
  "kernelspec": {
   "display_name": "Python 3 (ipykernel)",
   "language": "python",
   "name": "python3"
  },
  "language_info": {
   "codemirror_mode": {
    "name": "ipython",
    "version": 3
   },
   "file_extension": ".py",
   "mimetype": "text/x-python",
   "name": "python",
   "nbconvert_exporter": "python",
   "pygments_lexer": "ipython3",
   "version": "3.10.9"
  }
 },
 "nbformat": 4,
 "nbformat_minor": 4
}
