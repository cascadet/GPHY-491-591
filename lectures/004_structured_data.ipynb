{
 "cells": [
  {
   "cell_type": "markdown",
   "metadata": {
    "slideshow": {
     "slide_type": "slide"
    }
   },
   "source": [
    "# Interactive Session: Structured Data in Python\n",
    "\n",
    "Probably the easiest mental model for thinking about structured data is a spreadsheet. You are all familiar with Excel spreadsheets, with their numbered rows and lettered columns. In the spreadsheet, data is often \"structured\" so that each row is an entry, and each column is perhaps a variable recorded for that entry. \n",
    "\n",
    "Environmental data map really well to this model, especially data collected over time. A spreadsheet of weather observations would have a new row for each observation period, and then the columns would be the meteorological data that was collected at that time. As we move into our data science tools, we will see that a major aspect of these tools is creating efficient ways of working with structured data. \n",
    "\n",
    "That being said, Python has a number of built-in data types that can be used to organize data in a structured manner. These basic data types containing structured data are all lumped into a single broad category called `collections`. Within these `collection` data types, some of the data types are `sequences`, which means that the items in the `collection` have a deterministic ordering. You've already used the two most common `sequence` data types: the **string** and the **list**. A **string** is simply an ordered collection of characters, while a **list** data type  structures a collection of anything into an ordered series of elements that can be referenced by their position in the **list**. \n",
    "\n",
    "In this lesson, we are going to learn about an additional `sequence`, called a **tuple**, as well as two `collection` data types called sets (**set**) and dictionaries (**dict**). \n",
    "\n",
    "<p style=\"height:1pt\"> </p>\n",
    "\n",
    "<div class=\"boxhead1\">\n",
    "    Session Topics\n",
    "</div>\n",
    "\n",
    "<div class=\"boxtext1\">\n",
    "<ul class=\"a\">\n",
    "    <li> 📌 <a href=\"#dictionaries\">Dictionaries</a> </li> \n",
    "    <ul class=\"b\">\n",
    "        <li> <a href=\"#accessing_elements\">Accessing elements</a> </li>\n",
    "        <li> <a href=\"#keys_and_values\"><code>keys()</code> and <code>values()</code> </a></li>\n",
    "        <li> <a href=\"#looping\">Looping through dictionaries</a> using <code>values()</code> </li>\n",
    "        <li> <a href=\"#accessing_unassigned\">Accessing un-assigned elements in Dictionaries</a> </li>\n",
    "    </ul>\n",
    "    <li> 📌 <a href=\"#sets\">Sets</a> </li>\n",
    "      <ul class=\"b\">\n",
    "        <li> <a href=\"#mutability\"> Mutability</a> </li>\n",
    "        <li> <a href=\"#mixed_ypes\">Mixed Data Types in Sets </a></li>\n",
    "        <li> <a href=\"#set_methods\">Set Methods</a></li>\n",
    "    </ul>\n",
    "    <li> 📌 <a href=\"#tuples\">Tuples</a> </li>\n",
    "    <ul class=\"b\">\n",
    "        <li> <a href=\"#tuple_indexing\">Indexing</a> </li>\n",
    "        <li> <a href=\"#tuple_immutability\">Immutability</a>\n",
    "        </li>\n",
    "        <li> <a href=\"#named_tuples\">Named tuples</a> </li>\n",
    "    </ul>\n",
    "</ul>\n",
    "</div>\n",
    "\n",
    "<hr style=\"border-top: 0.2px solid gray; margin-top: 12pt; margin-bottom: 0pt\"></hr>\n",
    "\n",
    "### Instructions\n",
    "We will work through this notebook together. To run a cell, click on the cell and press \"Shift\" + \"Enter\" or click the \"Run\" button in the toolbar at the top. \n",
    "\n",
    "<p style=\"color:#408000; font-weight: bold\"> 🐍 &nbsp; &nbsp; This symbol designates an important note about Python structure, syntax, or another quirk.  </p>\n",
    "\n",
    "<p style=\"color:#008C96; font-weight: bold\"> ▶️ &nbsp; &nbsp; This symbol designates a cell with code to be run.  </p>\n",
    "\n",
    "<p style=\"color:#008C96; font-weight: bold\"> ✏️ &nbsp; &nbsp; This symbol designates a partially coded cell with an example.  </p>\n",
    "\n",
    "<hr style=\"border-top: 1px solid gray; margin-top: 24px; margin-bottom: 1px\"></hr>"
   ]
  },
  {
   "cell_type": "markdown",
   "metadata": {},
   "source": [
    "# Collection Summary\n",
    "\n",
    "**Note**: Applying the `sorted()` function to any of these collections will produce a sorted `list`. "
   ]
  },
  {
   "cell_type": "markdown",
   "metadata": {},
   "source": [
    "## 1. Dictionaries <a id=\"dictionaries\"></a>\n",
    "\n",
    "> **TLDR**: Dictionaries are a very common collection type that allows data to be organized using a `key:value` framework. Because of the similarity between `key:value` pairs and many data structures (e.g. \"lookup tables\"), you will see Dictionaries quite a bit when working in python\n",
    "\n",
    "The first collection we will look at today is the dictionary, or **dict**. This is one of the most powerful data structures in python. It is a `mutable`, `unordered` collection, which means that it can be altered, but elements within the structure cannot be referenced by their position and they cannot be sorted. \n",
    "\n",
    "You can create a dictionary using the `{}`, providing both a `key` and a `value`, which are separated by a `:`.\n",
    "\n",
    "\n",
    "<div class=\"python\">\n",
    "    🐍 <b>Note.</b> The use of whitespace and indentation is important in python. In the example above, the dictionary entries are indented relative to the brackets <code>{</code> and <code>}</code>. In addition, there is no space between the <code>'key'</code>, the <code>:</code>, and the <code>'value'</code> for each entry. Finally, notice that there is a <code>,</code> following each dictionary entry. This pattern is the same as all of the other <i>collection</i> data types we've seen so far, including <b>list</b>, <b>set</b>, and <b>tuple</b>.\n",
    "</div>\n",
    "\n",
    "\n",
    "<div class=\"run\">\n",
    "    ▶️ <b> Run the cell below. </b>\n",
    "</div>"
   ]
  },
  {
   "cell_type": "code",
   "execution_count": null,
   "metadata": {},
   "outputs": [],
   "source": [
    "# Create a dictronary \n",
    "environmental_disciplines = {\n",
    "    'ecology':'The relationships between organisms and their environments.',\n",
    "    'hydrology':'The properties, distribution & effects of water on the surface, subsurface, & atmosphere.',\n",
    "    'geology':'The origin, history, and structure of the earth.',\n",
    "    'meteorology':'The phenomena of the atmosphere, especially weather and weather conditions.'\n",
    "}\n",
    "\n",
    "environmental_disciplines"
   ]
  },
  {
   "cell_type": "markdown",
   "metadata": {},
   "source": [
    "### Accessing elements in Dictionaries <a id=\"accessing elements\"></a>\n",
    "\n",
    "Access an element in a dictionary is easy if you know what you are looking for. For example, if I want to know the definition of `ecology`, I can simply retireve the value of this defition using the key as my index into the dictionary:\n"
   ]
  },
  {
   "cell_type": "code",
   "execution_count": null,
   "metadata": {},
   "outputs": [],
   "source": [
    "# accessing the ecology element from the dictonary\n",
    "environmental_disciplines['ecology']"
   ]
  },
  {
   "cell_type": "markdown",
   "metadata": {},
   "source": [
    "\n",
    "<div class=\"example\">\n",
    "    ✏️ <b> Try it. </b>  Accessing the some of the other definitions in the <code>environmental_disciplines</code> dictionary.\n",
    "</div>"
   ]
  },
  {
   "cell_type": "code",
   "execution_count": null,
   "metadata": {},
   "outputs": [],
   "source": []
  },
  {
   "cell_type": "markdown",
   "metadata": {},
   "source": [
    "Because dictionaries are _mutable_, it is easy to add additional entries. This is done using the following notation:"
   ]
  },
  {
   "cell_type": "code",
   "execution_count": null,
   "metadata": {},
   "outputs": [],
   "source": [
    "environmental_disciplines['geomorphology'] =  'The evolution and configuration of landforms.'\n",
    "environmental_disciplines"
   ]
  },
  {
   "cell_type": "markdown",
   "metadata": {},
   "source": [
    "<div class=\"example\">\n",
    "    ✏️ <b> Try it. </b> Add this discpline to the dictionary <code>environmental_disciplines</code>. <br><b>Biogeochemistry</b> is defined as <b>\"the chemical, physical, geological, and biological processes and reactions that govern the composition of the natural environment.\"</b> \n",
    "    \n",
    "</div>\n",
    "\n",
    "\n"
   ]
  },
  {
   "cell_type": "code",
   "execution_count": null,
   "metadata": {},
   "outputs": [],
   "source": []
  },
  {
   "cell_type": "markdown",
   "metadata": {},
   "source": [
    "### Accessing dictionary keys and values <a id=\"keys_and_values\"></a>\n",
    "\n",
    "Every dictionary has builtin methods to retrieve its `keys` and `values`. These functions are called, appropriately, `keys()` and `values()`\n"
   ]
  },
  {
   "cell_type": "code",
   "execution_count": null,
   "metadata": {},
   "outputs": [],
   "source": [
    "disciplines = environmental_disciplines.keys()\n",
    "disciplines"
   ]
  },
  {
   "cell_type": "code",
   "execution_count": null,
   "metadata": {},
   "outputs": [],
   "source": [
    "definitions = environmental_disciplines.values()\n",
    "definitions"
   ]
  },
  {
   "cell_type": "markdown",
   "metadata": {},
   "source": [
    "<div class=\"python\">\n",
    "🐍 <b>Note.</b> The <code>keys()</code> and <code>values()</code> functions return a <code>dict_key</code> object and <code>dict_values</code> object, respectively. Each of these objects contains a <b>list</b> of either the keys or values. You can force the result of the <code>keys()</code> or <code>values()</code> function into a <b>list</b> by wrapping either one in a <code>list()</code> command. \n",
    "\n",
    "For example: <code>key_list = list(environmental_disciplines.keys())</code> will return a <b>list</b> of the keys in <code>environmental_disciplines</code>\n",
    "</div>"
   ]
  },
  {
   "cell_type": "code",
   "execution_count": null,
   "metadata": {},
   "outputs": [],
   "source": [
    "disciplines_list = list(environmental_disciplines.keys())\n",
    "disciplines_list"
   ]
  },
  {
   "cell_type": "markdown",
   "metadata": {},
   "source": [
    "### Looping through Dictionaries <a id=\"looping\"></a>\n",
    "\n",
    "Python has an efficient way to loop through all the keys and values of a dictionary at the same time. The `items()` method returns a **tuple** containing a `(key, value)` for each element in a dictionary. In practice this means that we can loop through a dictionary in the following way:\n"
   ]
  },
  {
   "cell_type": "code",
   "execution_count": null,
   "metadata": {},
   "outputs": [],
   "source": [
    "my_dict = {'name': 'Homer Simpson',\n",
    "           'occupation': 'Nuclear Engineer',\n",
    "           'address': '742 Evergreen Terrace',\n",
    "           'city': 'Springfield',\n",
    "           'state': ' ? '\n",
    "          }\n",
    "\n",
    "my_dict"
   ]
  },
  {
   "cell_type": "code",
   "execution_count": null,
   "metadata": {},
   "outputs": [],
   "source": [
    "for key, value in my_dict.items():\n",
    "    print(f\"{key.capitalize()}: {value}.\")"
   ]
  },
  {
   "cell_type": "markdown",
   "metadata": {},
   "source": [
    "\n",
    "<div class=\"example\">\n",
    "    ✏️ <b> Try it. </b>  Loop through the <code>environmental_disciplines</code> dictionary and print out a sentence providing the definition of each subject (e.g. \"Ecology is the study of....\").\n",
    "</div>"
   ]
  },
  {
   "cell_type": "code",
   "execution_count": null,
   "metadata": {},
   "outputs": [],
   "source": []
  },
  {
   "cell_type": "markdown",
   "metadata": {},
   "source": [
    "### Accessing un-assigned elements in Dictionaries <a id=\"accessing_unassigned\"></a>\n",
    "\n",
    "Attempting to retrieve an element of a dictionary that doesn't exist is the same as requesting an index of a **list** that doesn't exist - Python will raise an Exception. For example, if I attempt to retrieve the definition of a field that hasn't been defined, then I get an error."
   ]
  },
  {
   "cell_type": "code",
   "execution_count": null,
   "metadata": {},
   "outputs": [],
   "source": [
    "environmental_disciplines['xenohydrology']"
   ]
  },
  {
   "cell_type": "markdown",
   "metadata": {},
   "source": [
    "While it's easy to determine what indicies are in a **list** using the `len()` command, it's sometimes hard to know what elements are in a **dict** (but we'll learn how soon!). Regardless, to avoid getting an error when requesting an element from a **dict**, you can use the `get()` function. The `get()` function will return `None` if the element doesn't exist:"
   ]
  },
  {
   "cell_type": "code",
   "execution_count": null,
   "metadata": {},
   "outputs": [],
   "source": [
    "unknown_definition = environmental_disciplines.get('xenohydrology')\n",
    "print(unknown_definition)"
   ]
  },
  {
   "cell_type": "markdown",
   "metadata": {},
   "source": [
    "The `get()` function will also allow you to pass an additional argument. This additional argument specifies a \"default\" value which will be returned for any undefined elements:"
   ]
  },
  {
   "cell_type": "code",
   "execution_count": null,
   "metadata": {},
   "outputs": [],
   "source": [
    "environmental_disciplines.get('xenohydrology', 'Discipline not defined.')"
   ]
  },
  {
   "cell_type": "code",
   "execution_count": null,
   "metadata": {},
   "outputs": [],
   "source": []
  },
  {
   "cell_type": "markdown",
   "metadata": {},
   "source": [
    "\n",
    "<div class=\"example\">\n",
    "    ✏️ <b> Try it. </b>  Using the list of discplines given below, write a <code>for</code> loop that either prints the definition of the discipline, or prints 'Discipline not defined.'\n",
    "</div>"
   ]
  },
  {
   "cell_type": "code",
   "execution_count": null,
   "metadata": {},
   "outputs": [],
   "source": [
    "list_of_disciplines = ['climatology', 'ecology', 'meteorology', 'geology', 'biogeochemistry']"
   ]
  },
  {
   "cell_type": "code",
   "execution_count": null,
   "metadata": {},
   "outputs": [],
   "source": []
  },
  {
   "cell_type": "markdown",
   "metadata": {},
   "source": [
    "## 2. Sets <a id='tuples'></a>\n",
    "\n",
    "> **TLDR**: Sets are useful for comparing groups of items to determine their overlap or their differences. Sometimes used in data science, but rarely when working with large datasets.\n",
    "\n",
    "As opposed to a **list** or **tuple**, a **set** is not a  _sequence_. Although a set is _iterable_ (like the _sequences_ you've already met), a **set** is an _unordered_ collection data type, which means it is not a _sequence_. However, a set is mutable, which means - like a **list** - it can be modified after being created. Finally - and most uniquely - a **set** has no duplicate elements. In this sense, a **set** in python is very much like a mathematical set.\n",
    "\n",
    "We've seen that a **list** is implemented using `[]`, while a **tuple** is implemented using `()`. \n",
    "\n",
    "A set is implemented using `{}`:\n",
    "\n",
    "<div class=\"run\">\n",
    "    ▶️ <b> Run the cell below. </b>\n",
    "</div>"
   ]
  },
  {
   "cell_type": "code",
   "execution_count": null,
   "metadata": {},
   "outputs": [],
   "source": [
    "# Define set variables\n",
    "num_set = {1, 3, 6, 10, 15, 21, 28}\n",
    "str_set = {'hydrology', 'ecology', 'geology', 'climatology'}\n",
    "print(num_set)\n",
    "print(str_set)"
   ]
  },
  {
   "cell_type": "markdown",
   "metadata": {},
   "source": [
    "\n",
    "As with all other collections, you can also create a **set** using the `set()` function:\n"
   ]
  },
  {
   "cell_type": "code",
   "execution_count": null,
   "metadata": {},
   "outputs": [],
   "source": [
    "num_set = set([1, 3, 6, 10, 15, 21, 28, 45, 45, 45, 45, 45])\n",
    "num_set"
   ]
  },
  {
   "cell_type": "markdown",
   "metadata": {},
   "source": [
    "\n",
    "<div class=\"example\">\n",
    "    ✏️ <b> Try it. </b>  Use the <code>set()</code> function to create a set containing the first four prime numbers.\n",
    "</div>"
   ]
  },
  {
   "cell_type": "code",
   "execution_count": null,
   "metadata": {},
   "outputs": [],
   "source": []
  },
  {
   "cell_type": "code",
   "execution_count": null,
   "metadata": {},
   "outputs": [],
   "source": []
  },
  {
   "cell_type": "markdown",
   "metadata": {},
   "source": [
    "### Mutability <a id=\"mutability\"></a>\n",
    "\n",
    "Sets are `mutable`. \n",
    "\n",
    "To remove an element from a set, use the `discard()` method:\n"
   ]
  },
  {
   "cell_type": "code",
   "execution_count": null,
   "metadata": {},
   "outputs": [],
   "source": [
    "str_set.discard('ecology')\n",
    "str_set"
   ]
  },
  {
   "cell_type": "markdown",
   "metadata": {},
   "source": [
    "To add an element from to set, use the `add()` method:"
   ]
  },
  {
   "cell_type": "code",
   "execution_count": null,
   "metadata": {},
   "outputs": [],
   "source": [
    "str_set.add('oceanography')\n",
    "str_set"
   ]
  },
  {
   "cell_type": "markdown",
   "metadata": {},
   "source": [
    "To add multiple elements to a set at the same time, use the `update()` method. The items to add should be contained in a **list**."
   ]
  },
  {
   "cell_type": "code",
   "execution_count": null,
   "metadata": {},
   "outputs": [],
   "source": [
    "str_set.update(['oceanography', 'microbiology'])\n",
    "str_set"
   ]
  },
  {
   "cell_type": "markdown",
   "metadata": {},
   "source": [
    "\n",
    "<div class=\"example\">\n",
    "    ✏️ <b> Try it. </b>  Add <code>'biogeochemistry'</code> and <code>'meteorology'</code> to <code>str_set</code> and then remove <code>'ecology'</code>.\n",
    "</div>"
   ]
  },
  {
   "cell_type": "code",
   "execution_count": null,
   "metadata": {},
   "outputs": [],
   "source": []
  },
  {
   "cell_type": "markdown",
   "metadata": {},
   "source": [
    "Many of the same functions that worked on **list** and **tuple** also work for a **set**. \n"
   ]
  },
  {
   "cell_type": "code",
   "execution_count": null,
   "metadata": {},
   "outputs": [],
   "source": [
    "len(str_set)"
   ]
  },
  {
   "cell_type": "markdown",
   "metadata": {},
   "source": [
    "The `min()` and `max()` commands can also be used to find the minimum and maximum values in a tuple. For a tuple of strings, this corresponds to the alphabetically first and last elements.\n"
   ]
  },
  {
   "cell_type": "code",
   "execution_count": null,
   "metadata": {},
   "outputs": [],
   "source": [
    "min(str_set)"
   ]
  },
  {
   "cell_type": "code",
   "execution_count": null,
   "metadata": {},
   "outputs": [],
   "source": [
    "max(str_set)"
   ]
  },
  {
   "cell_type": "markdown",
   "metadata": {},
   "source": [
    "<div class=\"example\">\n",
    "    ✏️ <b> Try it. </b>  Use the <code>len()</code>, <code>min()</code>, and <code>max()</code> commands to find the length, minimum, and maximum of <code>num_set</code>.\n",
    "</div>"
   ]
  },
  {
   "cell_type": "code",
   "execution_count": null,
   "metadata": {},
   "outputs": [],
   "source": []
  },
  {
   "cell_type": "markdown",
   "metadata": {},
   "source": [
    "### Mixed Data Types in Collections and Sequences <a id=\"mixed_types\"></a>\n",
    "\n",
    "As a reminder, it's usually a good idea to make sure your sets are all of the same basic data type. The reason is because Python doesn't know how to compare the magnitude of different data types. \n",
    "\n",
    "Which is larger: `ecology`, or the number `3`? Python doesn't know the answer, and neither do I. If you try to use functions like `max` or `min` on a mixed data type **set** you will get a `TypeError` exception.\n"
   ]
  },
  {
   "cell_type": "code",
   "execution_count": null,
   "metadata": {},
   "outputs": [],
   "source": [
    "mixed_set = {3, 4, 'ecology', 'biology'}\n",
    "# will python return the maximum element?\n",
    "max(mixed_set)"
   ]
  },
  {
   "cell_type": "markdown",
   "metadata": {},
   "source": [
    "### Set Methods <a id=\"set_methods\"></a>\n",
    "\n",
    "Given their similarity to mathematical sets, there are some specific functions that allow us to compare and combine the contents of different sets. \n",
    "\n",
    "\n",
    "#### Union\n",
    "\n",
    "A union of sets contains all the items that are in any of the sets.\n",
    "\n",
    "The union of sets $A$ and $B$ is defined as $ A \\cup B $. \n",
    "\n",
    "\n",
    "\n",
    "![image](assets/union.jpg)\n",
    "\n",
    "\n",
    "<div class=\"run\">\n",
    "    ▶️ <b> Run the cell below. </b>\n",
    "</div>"
   ]
  },
  {
   "cell_type": "code",
   "execution_count": null,
   "metadata": {},
   "outputs": [],
   "source": [
    "odds = {1, 3, 5, 7, 9, 11, 13, 15}\n",
    "evens = {2, 4, 6, 8, 10, 12, 14, 16}"
   ]
  },
  {
   "cell_type": "code",
   "execution_count": null,
   "metadata": {},
   "outputs": [],
   "source": [
    "integers = odds.union(evens)\n",
    "print(integers)"
   ]
  },
  {
   "cell_type": "markdown",
   "metadata": {},
   "source": [
    "#### Intersection\n",
    "\n",
    "An intersection of sets contains all the items that are found in all of the sets.\n",
    "\n",
    "The intersection of sets $A$ and $B$ is defined as $ A \\cap B $. \n",
    "\n",
    "\n",
    "![image](assets/intersection.jpg)\n",
    "\n"
   ]
  },
  {
   "cell_type": "code",
   "execution_count": null,
   "metadata": {},
   "outputs": [],
   "source": [
    "squares = {4, 9, 16, 25, 36, 49}\n",
    "multiples_of_nine = {9, 18, 27, 36, 45}"
   ]
  },
  {
   "cell_type": "code",
   "execution_count": null,
   "metadata": {},
   "outputs": [],
   "source": [
    "squares_divisible_by_nine = squares.intersection(multiples_of_nine)\n",
    "print(squares_divisible_by_nine)"
   ]
  },
  {
   "cell_type": "markdown",
   "metadata": {},
   "source": [
    "\n",
    "<div class=\"example\">\n",
    "    ✏️ <b> Try it. </b>  Use the <code>intersection()</code> method to determine who knows both `python` and `R`.\n",
    "</div>"
   ]
  },
  {
   "cell_type": "code",
   "execution_count": null,
   "metadata": {},
   "outputs": [],
   "source": [
    "# Sets of people who know Python and R\n",
    "know_python = {\"Alice\", \"Bob\", \"Charlie\", \"Diana\"}\n",
    "know_r = {\"Charlie\", \"Eva\", \"Frank\", \"Diana\"}"
   ]
  },
  {
   "cell_type": "code",
   "execution_count": null,
   "metadata": {},
   "outputs": [],
   "source": [
    "# knows_both = "
   ]
  },
  {
   "cell_type": "markdown",
   "metadata": {},
   "source": [
    "#### Difference\n",
    "\n",
    "An difference of two sets contains all the items that are in A but not in B.\n",
    "\n",
    "The difference (or relative complement) of set $A$ and $B$ is defined as $ A \\setminus B $. \n",
    "\n",
    "\n",
    "![image](assets/difference.jpg)\n",
    "\n"
   ]
  },
  {
   "cell_type": "code",
   "execution_count": null,
   "metadata": {},
   "outputs": [],
   "source": [
    "squares = {4, 9, 16, 25, 36, 49}\n",
    "multiples_of_nine = {9, 18, 27, 36, 45}"
   ]
  },
  {
   "cell_type": "code",
   "execution_count": null,
   "metadata": {},
   "outputs": [],
   "source": [
    "squares_not_divisible_by_nine = squares.difference(multiples_of_nine)\n",
    "print(squares_not_divisible_by_nine)"
   ]
  },
  {
   "cell_type": "markdown",
   "metadata": {},
   "source": [
    "<div class=\"python\">\n",
    "    🐍 <b>Note.</b> Because a <b>set</b> is an <i>unordered</i> collection, the result of a set function will return elements in an unpredictable order. In the example above, the intersection returned `{16, 49, 4, 25}` rather than `{4, 16, 25, 49}`, which you may have expected.\n",
    "</div>"
   ]
  },
  {
   "cell_type": "markdown",
   "metadata": {},
   "source": [
    "<div class=\"example\">\n",
    "    ✏️ <b> Try it. </b>  Use the <code>difference()</code> method to determine who knows <b>R</b>, but does not know <b>Python</b>\n",
    "</div>"
   ]
  },
  {
   "cell_type": "code",
   "execution_count": null,
   "metadata": {},
   "outputs": [],
   "source": []
  },
  {
   "cell_type": "code",
   "execution_count": null,
   "metadata": {},
   "outputs": [],
   "source": []
  },
  {
   "cell_type": "markdown",
   "metadata": {},
   "source": [
    "#### Symmetric Difference\n",
    "\n",
    "This method returns all the items that are _unique_ to each set.\n",
    "\n",
    "The [symmetric difference](https://en.wikipedia.org/wiki/Symmetric_difference) (or disjunctive union) of sets $A$ and $B$ is $A \\triangle B$ (also sometimes written as $A \\oplus B$)\n",
    "\n",
    "![image](assets/symmetric-difference.jpg)\n",
    "\n"
   ]
  },
  {
   "cell_type": "code",
   "execution_count": null,
   "metadata": {},
   "outputs": [],
   "source": [
    "squares = {4, 9, 16, 25, 36, 49}\n",
    "multiples_of_nine = {9, 18, 27, 36, 45}"
   ]
  },
  {
   "cell_type": "code",
   "execution_count": null,
   "metadata": {},
   "outputs": [],
   "source": [
    "squares_not_divisible_by_nine = squares.symmetric_difference(multiples_of_nine)\n",
    "print(squares_not_divisible_by_nine)"
   ]
  },
  {
   "cell_type": "markdown",
   "metadata": {},
   "source": [
    "<div class=\"example\">\n",
    "    ✏️ <b> Try it. </b>  Use the <code>symmetric_difference()</code> method to determine who only knows <i>either</i> R or Python.\n",
    "</div>"
   ]
  },
  {
   "cell_type": "code",
   "execution_count": null,
   "metadata": {},
   "outputs": [],
   "source": []
  },
  {
   "cell_type": "markdown",
   "metadata": {},
   "source": [
    "### Additional Set Methods: isdisjoint(), issubset(), issuperset()\n",
    "\n",
    "There are three additional set functions that allow you to determine the relationships between two sets. Each of these functions returns either `True` or `False`, which means they are `Boolean` operators.\n",
    "\n",
    "**isdisjoint()** determines if two sets are [disjoint](https://en.wikipedia.org/wiki/Disjoint_sets). It returns `True` if the contents of two sets are completely distinct, and `False` if they have any overlap\n",
    "\n"
   ]
  },
  {
   "cell_type": "code",
   "execution_count": null,
   "metadata": {},
   "outputs": [],
   "source": [
    "odds.isdisjoint(evens)"
   ]
  },
  {
   "cell_type": "markdown",
   "metadata": {},
   "source": [
    "<div class=\"python\">\n",
    "    🐍 <b>Note.</b> Set <i>A</i> is <b>disjoint</b> from set <i>B</i> if, and only if, the <b>intersection</b> of <i>A</i> and <i>B</i> is <code>None</code>.\n",
    "</div>\n",
    "<br>\n",
    "\n",
    "**issubset()** returns `True` if the content of set A is a [subset](https://en.wikipedia.org/wiki/Subset) of set B, and `False` if it is not a subset.\n"
   ]
  },
  {
   "cell_type": "code",
   "execution_count": null,
   "metadata": {},
   "outputs": [],
   "source": [
    "primes = {1, 3, 5, 7, 11}\n",
    "primes.issubset(odds)"
   ]
  },
  {
   "cell_type": "markdown",
   "metadata": {},
   "source": [
    "<div class=\"python\">\n",
    "    🐍 <b>Note.</b> Set <i>A</i> is a <b>subset</b> of set <i>B</i> if, and only if, the <b>intersection</b> of <i>A</i> and <i>B</i> is <i>A</i>.\n",
    "</div>\n",
    "<br> \n",
    "\n",
    "**issupserset()** returns `True` if the content of set A is a superset of set B, and `False` if it is not a superset.\n"
   ]
  },
  {
   "cell_type": "code",
   "execution_count": null,
   "metadata": {},
   "outputs": [],
   "source": [
    "odds.issuperset(primes)"
   ]
  },
  {
   "cell_type": "markdown",
   "metadata": {},
   "source": [
    "<div class=\"python\">\n",
    "    🐍 <b>Note.</b> Set <i>A</i> is a <b>superset</b> of set <i>B</i> if, and only if, set <i>B</i> is a subset of <i>A</i>.\n",
    "</div>"
   ]
  },
  {
   "cell_type": "markdown",
   "metadata": {},
   "source": [
    "There is a lot more to learn about dictionaries, including methods for deleting elements, merging dictionaries, and learning about additional _collection_ types like **OrderedDict** that allow you to preserve the arrangement of dictionary elements (essentially making them _sequences_). We will keep coming back to them throughout the class. If you want to learn more, check out the great material in our reading: [Dictionaries](https://proquest-safaribooksonline-com.proxy.library.ucsb.edu:9443/book/programming/python/9781449355722/4dot-introducing-python-object-types/dictionaries_html)\n",
    "\n",
    "<hr style=\"border-top: 1px solid gray; margin-top: 24px; margin-bottom: 1px\"></hr>"
   ]
  },
  {
   "cell_type": "markdown",
   "metadata": {},
   "source": [
    "## 3. Tuples <a id='tuples'></a>\n",
    "\n",
    "> **TLDR:** Tuples are a kind of list that can't be altered. They are not very common in data science applications, but you might run across them from time to time. \"[Named Tuples](#named_tuples)\" allow for the creation of simple structured data \"objects\" that don't require much coding overhead.\n",
    "\n",
    "\n",
    "Tuples are a type of _sequence_, similar to **list**, which you've already seen.  They primary difference between a **tuple** and a **list** is that a tuple is `immutable`, which means that it's value cannot be changed once it is defined. A tuple is implemented using `()`:\n"
   ]
  },
  {
   "cell_type": "code",
   "execution_count": null,
   "metadata": {},
   "outputs": [],
   "source": [
    "# Define tuple variables\n",
    "num_tuple = (4, 23, 654, 2, 0, -12, 4391)\n",
    "num_tuple "
   ]
  },
  {
   "cell_type": "code",
   "execution_count": null,
   "metadata": {},
   "outputs": [],
   "source": [
    "str_tuple = ('energy', 'water', 'carbon')\n",
    "str_tuple"
   ]
  },
  {
   "cell_type": "markdown",
   "metadata": {},
   "source": [
    "As with a **list**, a **tuple** may contain mixed data types, but this is not usually recommended.\n",
    "\n",
    "Because they are both [_sequences_](https://docs.python.org/3/library/stdtypes.html#typesseq), tuples and lists share many of the same methods. For example, just like lists, the `len()` command returns the length of the tuple."
   ]
  },
  {
   "cell_type": "code",
   "execution_count": null,
   "metadata": {},
   "outputs": [],
   "source": [
    "len(str_tuple)"
   ]
  },
  {
   "cell_type": "markdown",
   "metadata": {},
   "source": [
    "The `min()` and `max()` commands can also be used to find the minimum and maximum values in a tuple. For a tuple of strings, this corresponds to the alphabetically first and last elements."
   ]
  },
  {
   "cell_type": "code",
   "execution_count": null,
   "metadata": {},
   "outputs": [],
   "source": [
    "min(str_tuple)"
   ]
  },
  {
   "cell_type": "code",
   "execution_count": null,
   "metadata": {},
   "outputs": [],
   "source": [
    "max(str_tuple)"
   ]
  },
  {
   "cell_type": "markdown",
   "metadata": {},
   "source": [
    "<div class=\"example\">\n",
    "    ✏️ <b> Try it. </b>  Use the <code>len()</code>, <code>min()</code>, and <code>max()</code> commands to find the length, minimum, and maximum of <code>num_tuple</code>.\n",
    "</div>"
   ]
  },
  {
   "cell_type": "code",
   "execution_count": null,
   "metadata": {},
   "outputs": [],
   "source": [
    "# Find the length of num_tuple\n"
   ]
  },
  {
   "cell_type": "code",
   "execution_count": null,
   "metadata": {},
   "outputs": [],
   "source": [
    "# Minimum value of num_tuple\n"
   ]
  },
  {
   "cell_type": "code",
   "execution_count": null,
   "metadata": {},
   "outputs": [],
   "source": [
    "# Maximum value of num_tuple\n"
   ]
  },
  {
   "cell_type": "markdown",
   "metadata": {},
   "source": [
    "<hr style=\"border-top: 0.2px solid gray; margin-top: 12px; margin-bottom: 1px\"></hr>\n",
    "\n",
    "### Other ways to create tuples\n",
    "Tuples can also be constructed by:\n",
    "<ul>\n",
    "    <li> Using a pair of parentheses to indicate an empty tuple: <code>()</code>\n",
    "    <li> Using a trailing comma for a tuple with a single element: <code>a,</code> or <code>(a,)</code>\n",
    "    <li> Separating items with commas: <code>a, b, c</code> or <code>(a, b, c)</code>\n",
    "    <li> using the <code>tuple()</code> built-in function: <code>tuple(iterable)</code>.\n",
    "</ul>\n",
    "<div class=\"python\">\n",
    "    🐍 <b>Note.</b> An <i>iterable</i> is any object that is capable of returning its contents one at a time. Strings are iterable objects, so <code>tuple('abc')</code> returns <code>('a', 'b', 'c')</code>.\n",
    "</div>\n",
    "\n"
   ]
  },
  {
   "cell_type": "code",
   "execution_count": null,
   "metadata": {},
   "outputs": [],
   "source": [
    "tuple('earth')"
   ]
  },
  {
   "cell_type": "markdown",
   "metadata": {},
   "source": [
    "\n",
    "<div class=\"example\">\n",
    "    ✏️ <b> Try it. </b>  Create three separate <b>tuples</b> containing the latitude and longitudes of the following cities:\n",
    "</div>\n",
    "\n",
    "1. Los Angeles, CA (34.05, -118.25)\n",
    "2. Johannesburg, South Africa (-26.20, 28.05)\n",
    "2. Cairo, Egypt (30.03, 31.23)\n",
    "3. Create a fourth tuple that is made up of the three tuples (i.e. a \"tuple of tuples\").\n"
   ]
  },
  {
   "cell_type": "code",
   "execution_count": null,
   "metadata": {},
   "outputs": [],
   "source": [
    "# Define a three new tuples, one for each city.\n",
    "\n",
    "# los_angeles = \n",
    "\n",
    "# johannesburg = \n",
    "\n",
    "# singapore = \n",
    "\n",
    "# Create a new tuple that is a tuple made up of the three city location tuples:\n",
    "# tuple_of_tuples = "
   ]
  },
  {
   "cell_type": "markdown",
   "metadata": {},
   "source": [
    "### Indexing <a id='tuple_indexing'></a>\n",
    "As you learned with lists, any element of a _sequence_ data type can be referenced by its position within the sequence. To access an element in a sequence by its index, use square brackets `[]`.\n",
    "\n",
    "Individual elements of tuples are accessed in the exact same manner as lists:"
   ]
  },
  {
   "cell_type": "code",
   "execution_count": null,
   "metadata": {},
   "outputs": [],
   "source": [
    "num_tuple[0]"
   ]
  },
  {
   "cell_type": "code",
   "execution_count": null,
   "metadata": {},
   "outputs": [],
   "source": [
    "num_tuple[-2]"
   ]
  },
  {
   "cell_type": "code",
   "execution_count": null,
   "metadata": {},
   "outputs": [],
   "source": [
    "word_tuple = tuple('antidisestablishmentarianism')"
   ]
  },
  {
   "cell_type": "code",
   "execution_count": null,
   "metadata": {},
   "outputs": [],
   "source": [
    "word_tuple[14]"
   ]
  },
  {
   "cell_type": "code",
   "execution_count": null,
   "metadata": {},
   "outputs": [],
   "source": [
    "word_tuple[::3]"
   ]
  },
  {
   "cell_type": "markdown",
   "metadata": {},
   "source": [
    "<div class=\"example\">\n",
    "    ✏️ <b> Try it. </b>  Use indexing to create a new tuple from the 2nd element in <code>str_tuple</code>. Find the 3rd element of this new tuple.\n",
    "</div>"
   ]
  },
  {
   "cell_type": "code",
   "execution_count": null,
   "metadata": {},
   "outputs": [],
   "source": [
    "# new_tuple = \n",
    "\n",
    "# 3rd element of new_tuple:\n"
   ]
  },
  {
   "cell_type": "markdown",
   "metadata": {},
   "source": [
    "<hr style=\"border-top: 0.2px solid gray; margin-top: 12px; margin-bottom: 1px\"></hr>\n",
    "\n",
    "### Immutability <a id='tuple_immutability'></a>"
   ]
  },
  {
   "cell_type": "markdown",
   "metadata": {},
   "source": [
    "All objects in python are either `mutable` or `immutable`. A `mutable` object is one whose value can change. In contrast, an `immutable` object has a fixed value. You've already been introduced to a few _immutable_ objects including numbers, strings and now, tuples. These objects cannot be altered once created.\n",
    "\n",
    "<div class=\"python\">\n",
    "    🐍 <b>Note.</b>  If you attempt to modify the value of an existing tuple, you will get a <code>TypeError</code> exception from the Python interpreter.\n",
    "</div>\n"
   ]
  },
  {
   "cell_type": "code",
   "execution_count": null,
   "metadata": {},
   "outputs": [],
   "source": [
    "num_tuple[0] = 3"
   ]
  },
  {
   "cell_type": "markdown",
   "metadata": {},
   "source": [
    "<hr style=\"border-top: 0.2px solid gray; margin-top: 12px; margin-bottom: 1px\"></hr>\n",
    "\n",
    "### Tuple Operations <a id='tuple_operations'></a>\n",
    "Because they are `immutable`, tuples do not have the same robust set of functions that lists have. Attempting to change a tuple (for example, by trying to `append` elements) will raise an <code>AttributeError</code>, because the `append` method isn't available to tuple objects.\n",
    "\n"
   ]
  },
  {
   "cell_type": "code",
   "execution_count": null,
   "metadata": {},
   "outputs": [],
   "source": [
    "tuple_of_colors = ('red', 'blue', 'green', 'black', 'white')\n",
    "tuple_of_colors.append('pink') # <- UH-OH!"
   ]
  },
  {
   "cell_type": "markdown",
   "metadata": {},
   "source": [
    "Instead of appending data to an existing tuple, when you want to change the contents of a tuple, you need to either create a new one, or modify the variable by re-defining it.\n",
    "\n",
    "<div class=\"run\">\n",
    "    ▶️ <b> Run the cell below. </b>\n",
    "</div>"
   ]
  },
  {
   "cell_type": "code",
   "execution_count": null,
   "metadata": {},
   "outputs": [],
   "source": [
    "tuple_of_colors = ('red', 'blue', 'green', 'black', 'white')\n",
    "tuple_of_colors = tuple_of_colors + ('pink',)\n",
    "print(tuple_of_colors)"
   ]
  },
  {
   "cell_type": "code",
   "execution_count": null,
   "metadata": {},
   "outputs": [],
   "source": []
  }
 ],
 "metadata": {
  "kernelspec": {
   "display_name": "Python 3 (ipykernel)",
   "language": "python",
   "name": "python3"
  },
  "language_info": {
   "codemirror_mode": {
    "name": "ipython",
    "version": 3
   },
   "file_extension": ".py",
   "mimetype": "text/x-python",
   "name": "python",
   "nbconvert_exporter": "python",
   "pygments_lexer": "ipython3",
   "version": "3.10.9"
  }
 },
 "nbformat": 4,
 "nbformat_minor": 4
}
