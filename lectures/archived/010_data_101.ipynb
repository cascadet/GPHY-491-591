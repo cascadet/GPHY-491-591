{
 "cells": [
  {
   "cell_type": "markdown",
   "metadata": {
    "cell_style": "center",
    "slideshow": {
     "slide_type": "slide"
    }
   },
   "source": [
    "# GPHY-491-591 Lecture 2: Data 101\n",
    "\n",
    "- Course Repository: [https://github.com/cascadet/GPHY-491-591](https://github.com/cascadet/GPHY-491-591)\n",
    "\n",
    "- Course Brightspace / D2L Website: [https://ecat.montana.edu/d2l/home/815655](https://ecat.montana.edu/d2l/home/815655)"
   ]
  },
  {
   "cell_type": "markdown",
   "metadata": {
    "slideshow": {
     "slide_type": "slide"
    }
   },
   "source": [
    "# For Next Week\n",
    "- Relax, you are doing fine, even if you are totally confused. This is how you learn a new language.\n",
    "- Homework: Have a Github account, Unix Shell, and Mini Conda installed on your laptop by next class.\n",
    "- On D2L: Write 1-2 paragraphs explaining what your experience with coding is prior to this class and what think your final project may be (this is to help me plan).\n",
    "![](assets/dog-fire.jpg)"
   ]
  },
  {
   "cell_type": "markdown",
   "metadata": {
    "slideshow": {
     "slide_type": "slide"
    }
   },
   "source": [
    "# Reminders\n",
    "1. Is your Github account active?\n",
    "2. Do you have Bash terminal installed?\n",
    "3. Can you log on to Tempest?"
   ]
  },
  {
   "cell_type": "markdown",
   "metadata": {
    "slideshow": {
     "slide_type": "slide"
    }
   },
   "source": [
    "# <u>Plan for Today<u>\n",
    "1. Launching a Juypter Notebook on Tempest\n",
    "1. Unix Shell\n",
    "1. Github \n",
    "1. Conda Environments\n",
    "1. Computer Science 101 Finish\n",
    "1. Data Types and Variables\n",
    "1. Lists\n",
    "1. Controlls (if time)\n",
    "1. Data Structures (if time)"
   ]
  },
  {
   "cell_type": "markdown",
   "metadata": {
    "slideshow": {
     "slide_type": "slide"
    }
   },
   "source": [
    "# Launch Juypter Notebook on Tempest\n",
    "\n",
    "- Tempest is Montana State University's High Proformace Computing Cluster\n",
    "- You can access Tempest from a web browser: [https://tempest-web.msu.montana.edu/](https://tempest-web.msu.montana.edu/)\n",
    "- Off campus accces, you will need to use MSU's VPN [https://www.montana.edu/uit/computing/desktop/vpn/](https://www.montana.edu/uit/computing/desktop/vpn/)\n",
    "- **We will mainly be using your laptop of this class:** But if you are having issues, Tempest is always an option to get your work done.\n",
    "- Let's explore [Jupyter](https://jupyterlab.readthedocs.io/en/latest/) a bit "
   ]
  },
  {
   "cell_type": "markdown",
   "metadata": {
    "slideshow": {
     "slide_type": "slide"
    }
   },
   "source": [
    "# Some things to note:\n",
    "- Command vs edit mode `esc`\n",
    "- Markdown `m` vs code `y` cell \n",
    "- Shortcuts are your friend: `command shift p`"
   ]
  },
  {
   "cell_type": "markdown",
   "metadata": {
    "slideshow": {
     "slide_type": "slide"
    }
   },
   "source": [
    "# Hard Drive Storage + File System + CPU/GPU\n",
    "![file-sys1.png](assets/file-sys1.png)"
   ]
  },
  {
   "cell_type": "markdown",
   "metadata": {
    "slideshow": {
     "slide_type": "slide"
    }
   },
   "source": [
    "# Hard Drive Storage + File System + CPU/GPU\n",
    "![file-sys2.png](assets/file-sys2.png)"
   ]
  },
  {
   "cell_type": "markdown",
   "metadata": {
    "slideshow": {
     "slide_type": "slide"
    }
   },
   "source": [
    "# Let's Dive Into the Unix Shell\n",
    "\n",
    "- If you have a MAC, you already have it. \n",
    "- If you have a PC, you may need to install it. See [here](https://youtu.be/339AEqk9c-8) for instructions for Git Bash and [here](https://learn.microsoft.com/en-us/powershell/scripting/install/installing-powershell-on-windows?view=powershell-7.4) for Power Shell.\n",
    "- A Unix Shell (e.g. Bash) is where you can give your computer commands in `shell script ... .sh files` which runs Unix language.  \n",
    "\n",
    "#### tl;dr Shell scripts tell your opperating systems what to do instead of using the Graphical User Interface (GUI)\n"
   ]
  },
  {
   "cell_type": "markdown",
   "metadata": {
    "slideshow": {
     "slide_type": "slide"
    }
   },
   "source": [
    "# Unix Commands \n",
    "For this class, we'll be using Bash script for two reasons:\n",
    "1. To move around your file system\n",
    "2. To use Git\n",
    "\n",
    "### Task\n",
    "1. Open Bash\n",
    "2. Type `pwd` and hit enter - What do you see?\n",
    "3. Type `ls -la` and hit enter - What do you see?\n",
    "4. Type `cd` and the name of a directory (e.g. folder) of your choice and hit enter.\n",
    "5. Type `pwd` and hit enter - What do you see?\n",
    "6. Type `ls -la` and hit enter - What do you see?\n",
    "7. Type `cd ../` and hit enter\n",
    "8. Type `pwd`\n",
    "\n",
    "Nicely done! You now know the basics of moving around your file system"
   ]
  },
  {
   "cell_type": "markdown",
   "metadata": {
    "slideshow": {
     "slide_type": "slide"
    }
   },
   "source": [
    "# Unix Commands \n",
    "More useful Unix commands:\n",
    "1. `cp {file} {locations}` = copy\n",
    "2. `rm {file}` = remove / delete a file **CAREFUL THIS IS NOT REVERSIBLE** \n",
    "3. `rm -r {file}` = recursively remove (e.g. remove a directory)\n",
    "4. `mv {file} {destination}` = move a file/directory to a new locations\n",
    "<br/><br/>\n",
    "&nbsp; **`mv` is also how you rename files/directories**\n",
    "<br/><br/>\n",
    "5. `mkdir` = make a new directory\n",
    "6. `.` = current directory\n",
    "7. `..` = up one directory"
   ]
  },
  {
   "cell_type": "markdown",
   "metadata": {
    "slideshow": {
     "slide_type": "slide"
    }
   },
   "source": [
    "# Shell on Tempest\n",
    "Let's check it out!"
   ]
  },
  {
   "cell_type": "markdown",
   "metadata": {
    "slideshow": {
     "slide_type": "slide"
    }
   },
   "source": [
    "# Mini Conda\n",
    "- Mini Conda is a **package manager** ... it keeps track of other code bases so you don't have to.\n",
    "- Packages have versions, that change through time. It's important code you develop always uses the correct version of a package.\n",
    "- An `environment` is a container for you to let Python know which packages/versions to use.\n",
    "- Creating `environments` allow others to replicate your code."
   ]
  },
  {
   "cell_type": "markdown",
   "metadata": {
    "slideshow": {
     "slide_type": "slide"
    }
   },
   "source": [
    "![file-sys1.png](assets/env.png)"
   ]
  },
  {
   "cell_type": "markdown",
   "metadata": {
    "slideshow": {
     "slide_type": "slide"
    }
   },
   "source": [
    "# Now Let's Install Mini Conda\n",
    "\n",
    "- Go here: [https://docs.conda.io/projects/miniconda/en/latest/](https://docs.conda.io/projects/miniconda/en/latest/) and install either the Mac or the Windows version. \n",
    "- While your computer likely already has a version of Python installed, we'll be using Mini Conda to help us keep track of Python for us."
   ]
  },
  {
   "cell_type": "markdown",
   "metadata": {
    "slideshow": {
     "slide_type": "slide"
    }
   },
   "source": [
    "# You are almost ready to code in Python on your own computer when:\n",
    "\n",
    "1. A Github account.\n",
    "2. Basica ability to run use the shell to run commands.\n",
    "3. Have mini-conda installed.\n",
    "\n",
    "... **but you need to do a few more things**"
   ]
  },
  {
   "cell_type": "markdown",
   "metadata": {
    "slideshow": {
     "slide_type": "slide"
    }
   },
   "source": [
    "# You are READY to code in Python on your own computer when:\n",
    "\n",
    "1. A Github account.\n",
    "2. Basica ability to run use the shell to run commands.\n",
    "3. Have mini-conda installed.\n",
    "\n",
    "... **but you need to do a few more things**\n",
    "\n",
    "4. Open your shell and type `pip install jupyterlab` ... Now you have  Jupyter\n",
    "5. Go to the location where you want to store the class code and type: `git clone https://github.com/cascadet/GPHY-491-591.git`\n",
    "6. Now create the environment: `conda env create -f environment.yml`"
   ]
  },
  {
   "cell_type": "markdown",
   "metadata": {
    "slideshow": {
     "slide_type": "slide"
    }
   },
   "source": [
    "# Computer Science 101: What the heck is a Computer?\n",
    "![](assets/Computer-Memory-Hierarchy.jpg)"
   ]
  },
  {
   "cell_type": "markdown",
   "metadata": {
    "slideshow": {
     "slide_type": "slide"
    }
   },
   "source": [
    "# Computer Science 101: What the heck is a Computer?\n",
    "![Alt text](assets/python-code-copiler-machine-code.png)"
   ]
  },
  {
   "cell_type": "markdown",
   "metadata": {
    "slideshow": {
     "slide_type": "slide"
    }
   },
   "source": [
    "# Random Access Memory (RAM) vs. Hard Drive Storage?\n",
    "###  ... I have 64 GB of RAM and 1 TB SSD ... \"WTF does that mean??\"  \n",
    "![](assets/memory-vs-storage.png)"
   ]
  },
  {
   "cell_type": "markdown",
   "metadata": {
    "slideshow": {
     "slide_type": "slide"
    }
   },
   "source": [
    "# RAM \n",
    "![](assets/ram.png)"
   ]
  },
  {
   "cell_type": "markdown",
   "metadata": {
    "slideshow": {
     "slide_type": "slide"
    }
   },
   "source": [
    "# RAM \n",
    "\n",
    "- RAM is literally randomly used within a computer program. \n",
    "- When using data for computation, your CPU gets a pool of RAM that track tracks of during opperations. \n",
    "- The data on this screen is currently \"in memory\" ... until it is released.\n",
    "- More on RAM later, but understanding the basics of RAM is _very important for data science_"
   ]
  },
  {
   "cell_type": "markdown",
   "metadata": {
    "slideshow": {
     "slide_type": "slide"
    }
   },
   "source": [
    "# RAM \n",
    "![](assets/ram.png)"
   ]
  }
 ],
 "metadata": {
  "celltoolbar": "Slideshow",
  "kernelspec": {
   "display_name": "Python 3 (ipykernel)",
   "language": "python",
   "name": "python3"
  },
  "language_info": {
   "codemirror_mode": {
    "name": "ipython",
    "version": 3
   },
   "file_extension": ".py",
   "mimetype": "text/x-python",
   "name": "python",
   "nbconvert_exporter": "python",
   "pygments_lexer": "ipython3",
   "version": "3.10.9"
  }
 },
 "nbformat": 4,
 "nbformat_minor": 4
}
