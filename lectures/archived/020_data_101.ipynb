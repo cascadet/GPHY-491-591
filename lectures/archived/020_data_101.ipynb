{
 "cells": [
  {
   "cell_type": "markdown",
   "metadata": {
    "cell_style": "center",
    "slideshow": {
     "slide_type": "slide"
    }
   },
   "source": [
    "# GPHY-491-591 Lecture 3: Data 101\n",
    "\n",
    "- Course Repository: [https://github.com/cascadet/GPHY-491-591](https://github.com/cascadet/GPHY-491-591)\n",
    "\n",
    "- Course Brightspace / D2L Website: [https://ecat.montana.edu/d2l/home/794961](https://ecat.montana.edu/d2l/home/794961)"
   ]
  },
  {
   "cell_type": "markdown",
   "metadata": {
    "slideshow": {
     "slide_type": "slide"
    }
   },
   "source": [
    "# Reminders\n",
    "1. Did you turn in Lab 1 in the Submissions folder on Tempest?\n",
    "2. Were you able to install mini conda?"
   ]
  },
  {
   "cell_type": "markdown",
   "metadata": {
    "slideshow": {
     "slide_type": "slide"
    }
   },
   "source": [
    "# <u>Plan for Today<u>\n",
    "1. Github \n",
    "1. Conda Environments\n",
    "1. Numpy\n",
    "1. Pandas \n",
    "1. Matplotlib (if time)"
   ]
  },
  {
   "cell_type": "markdown",
   "metadata": {
    "slideshow": {
     "slide_type": "slide"
    }
   },
   "source": [
    "# Launch Juypter Notebook on Tempest\n",
    "\n",
    "- Tempest is Montana State University's High Proformace Computing Cluster\n",
    "- You can access Tempest from a web browser: [https://tempest-web.msu.montana.edu/](https://tempest-web.msu.montana.edu/)\n",
    "- Off campus accces, you will need to use MSU's VPN [https://www.montana.edu/uit/computing/desktop/vpn/](https://www.montana.edu/uit/computing/desktop/vpn/)\n",
    "- **We will mainly be using your laptop of this class:** But if you are having issues, Tempest is always an option to get your work done.\n",
    "- Let's explore [Jupyter](https://jupyterlab.readthedocs.io/en/latest/) a bit "
   ]
  },
  {
   "cell_type": "markdown",
   "metadata": {
    "slideshow": {
     "slide_type": "slide"
    }
   },
   "source": [
    "# Let's Dive Into the Unix Shell\n",
    "\n",
    "- If you have a MAC, you already have it. \n",
    "- If you have a PC, you may need to install it. See [here](https://youtu.be/339AEqk9c-8) for instructions.\n",
    "- A Unix Shell (e.g. Bash) is where you can give your computer commands in `shell script ... .sh files` which runs Unix language.  \n",
    "\n",
    "#### But today, we're going to use it on Tempest\n",
    "\n",
    "![file-sys1.png](assets/shell.png)\n"
   ]
  },
  {
   "cell_type": "markdown",
   "metadata": {
    "slideshow": {
     "slide_type": "slide"
    }
   },
   "source": [
    "# Unix Commands \n",
    "For this class, we'll be using Bash script for two reasons:\n",
    "1. To move around your file system\n",
    "2. To use Git"
   ]
  },
  {
   "cell_type": "markdown",
   "metadata": {
    "slideshow": {
     "slide_type": "slide"
    }
   },
   "source": [
    "# Unix Commands \n",
    "\n",
    "1. Open Bash\n",
    "2. Type `pwd` and hit enter - What do you see?\n",
    "3. Type `ls -la` and hit enter - What do you see?\n",
    "4. Type `cd` and the name of a directory (e.g. folder) of your choice and hit enter.\n",
    "5. Type `pwd` and hit enter - What do you see?\n",
    "6. Type `ls -la` and hit enter - What do you see?\n",
    "7. Type `cd ../` and hit enter\n",
    "8. Type `pwd`\n",
    "\n",
    "Nicely done! You now know the basics of moving around your file system"
   ]
  },
  {
   "cell_type": "markdown",
   "metadata": {
    "slideshow": {
     "slide_type": "slide"
    }
   },
   "source": [
    "# Unix Commands \n",
    "More useful Unix commands:\n",
    "1. `cp {file} {locations}` = copy\n",
    "2. `rm {file}` = remove / delete a file **CAREFUL THIS IS NOT REVERSIBLE** \n",
    "3. `rm -r {file}` = recursively remove (e.g. remove a directory)\n",
    "4. `mv {file} {destination}` = move a file/directory to a new locations\n",
    "<br/><br/>\n",
    "&nbsp; **`mv` is also how you rename files/directories**\n",
    "<br/><br/>\n",
    "5. `mkdir` = make a new directory\n",
    "6. `.` = current directory\n",
    "7. `..` = up one directory"
   ]
  },
  {
   "cell_type": "markdown",
   "metadata": {
    "slideshow": {
     "slide_type": "slide"
    }
   },
   "source": [
    "# Git 101\n",
    "- [Nice Tutorial](https://kbroman.org/github_tutorial/pages/fork.html)\n",
    "- Git allows for version control of software (or anything) development."
   ]
  },
  {
   "cell_type": "markdown",
   "metadata": {
    "slideshow": {
     "slide_type": "slide"
    }
   },
   "source": [
    "### Workflow\n",
    "![git](assets/git.png)"
   ]
  },
  {
   "cell_type": "markdown",
   "metadata": {
    "slideshow": {
     "slide_type": "slide"
    }
   },
   "source": [
    "1. To clone: `git clone https://github.com/cascadet/GPHY-491-591`\n",
    "    * this creates a local 'fork' version that will push to your Github account\n",
    "    \n",
    "2. Type: `git remote -v`\n",
    "    * See that your fetch and push is at your user name. \n",
    "    \n",
    "3. To check the status of your repo, type: `git status`\n",
    "4. Generally, always do a pull request before pushing changes: `git pull`\n",
    "5. To stage changes (e.g. save them locally), type: `git add -A`\n",
    "    * The `-A` flag adds all your changes. This is not always recommended.\n",
    "    \n",
    "6. To push (e.g. save them to your repo) type: `git push origin main`\n"
   ]
  },
  {
   "cell_type": "markdown",
   "metadata": {
    "slideshow": {
     "slide_type": "slide"
    }
   },
   "source": [
    "# Mini Conda\n",
    "- Mini Conda is a **package manager** ... it keeps track of other code bases so you don't have to.\n",
    "- Packages have versions, that change through time. It's important code you develop always uses the correct version of a package.\n",
    "- An `environment` is a container for you to let Python know which packages/versions to use.\n",
    "- Creating `environments` allow others to replicate your code."
   ]
  },
  {
   "cell_type": "markdown",
   "metadata": {
    "slideshow": {
     "slide_type": "slide"
    }
   },
   "source": [
    "# Mini Conda\n",
    "- To create an environment, type: `conda create -n myenv python=3.9` ... myenv will use Python version 3.9\n",
    "- To copy en environment from a file, type: `conda env create -f environment.yml`\n",
    "- To see what packages are in an environment, type: `conda env list`"
   ]
  },
  {
   "cell_type": "markdown",
   "metadata": {
    "slideshow": {
     "slide_type": "slide"
    }
   },
   "source": [
    "# Mini Conda\n",
    "- To use your environment, you need to activate it: `conda activate myenv` - now you are using your environment \n",
    "- To install packages, I recommend first installing [mamba](https://mamba.readthedocs.io/en/latest/installation/mamba-installation.html)\n",
    "- But you can use conda very easily: `conda install pandas` or `conda install python`\n",
    "- Congrats! You are now using environments correctly. \n",
    "- To exit your environment, type: `conda deactivate`"
   ]
  },
  {
   "cell_type": "markdown",
   "metadata": {
    "slideshow": {
     "slide_type": "slide"
    }
   },
   "source": [
    "![file-sys1.png](assets/env.png)"
   ]
  }
 ],
 "metadata": {
  "celltoolbar": "Slideshow",
  "kernelspec": {
   "display_name": "Python 3 (ipykernel)",
   "language": "python",
   "name": "python3"
  },
  "language_info": {
   "codemirror_mode": {
    "name": "ipython",
    "version": 3
   },
   "file_extension": ".py",
   "mimetype": "text/x-python",
   "name": "python",
   "nbconvert_exporter": "python",
   "pygments_lexer": "ipython3",
   "version": "3.10.9"
  }
 },
 "nbformat": 4,
 "nbformat_minor": 4
}
