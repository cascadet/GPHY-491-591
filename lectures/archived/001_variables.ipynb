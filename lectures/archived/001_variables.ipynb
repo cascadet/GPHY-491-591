{
 "cells": [
  {
   "cell_type": "markdown",
   "metadata": {
    "slideshow": {
     "slide_type": "slide"
    }
   },
   "source": [
    "# Interactive Session: Variables & Operators\n",
    "\n",
    "![variables.jpg](assets/variables.jpg)\n",
    "\n",
    "All programming languages contain the same fundamental tools: `variables`, `operators`, and `functions`. This session will covers the first two of these basic elements of the Python language. \n",
    "\n",
    "<p style=\"height:1pt\"> </p>\n",
    "\n",
    "<div class=\"boxhead1\">\n",
    "    Session Topics\n",
    "</div>\n",
    "\n",
    "<div class=\"boxtext1\">\n",
    "<ul class=\"a\">\n",
    "    <li> 📌 Numbers: <code>int</code>, <code>float</code> </li>\n",
    "    <ul class=\"b\">\n",
    "        <li> Arithmetic operators </li>\n",
    "        <li> Boolean operators </li>\n",
    "        <li> Built-in functions for numerical objects </li>\n",
    "    </ul>\n",
    "    <li> 📌 Strings </li>\n",
    "    <ul class=\"b\">\n",
    "        <li> Built-in functions for strings </li>\n",
    "        <li> Formatted print statements </li>\n",
    "    </ul>\n",
    "</ul>\n",
    "</div>\n",
    "\n",
    "<hr style=\"border-top: 0.2px solid gray; margin-top: 12pt; margin-bottom: 0pt\"></hr>\n",
    "\n",
    "### Instructions\n",
    "We will work through this notebook together. To run a cell, click on the cell and press \"Shift\" + \"Enter\" or click the \"Run\" button in the toolbar at the top. \n",
    "\n",
    "<p style=\"color:#408000; font-weight: bold\"> 🐍 &nbsp; &nbsp; This symbol designates an important note about Python structure, syntax, or another quirk.  </p>\n",
    "\n",
    "<p style=\"color:#008C96; font-weight: bold\"> ▶️ &nbsp; &nbsp; This symbol designates a cell with code to be run.  </p>\n",
    "\n",
    "<p style=\"color:#008C96; font-weight: bold\"> ✏️ &nbsp; &nbsp; This symbol designates a partially coded cell with an example.  </p>\n",
    "\n",
    "<hr style=\"border-top: 1px solid gray; margin-top: 24px; margin-bottom: 1px\"></hr>"
   ]
  },
  {
   "cell_type": "markdown",
   "metadata": {
    "slideshow": {
     "slide_type": "subslide"
    }
   },
   "source": [
    "## Variables + Operators\n",
    "Variables are used in Python to create references to an object (e.g. string, float, DataFrame, etc.). Variables are assigned in Python using `=`.\n",
    "\n",
    "<div class=\"python\">\n",
    "    🐍 <b>Note.</b>\n",
    "    Variable names should be chosen carefully and should indicate what the variable is used for. Python etiquette generally dictates using lowercase variable names. Underscores are common. Variable names cannot start with a number. Also, there are several names that cannot be used as variables, as they are reserved for built-in Python commands, functions, etc. We will see examples of these throughout this session.\n",
    "</div>\n",
    "\n",
    "\n",
    "<hr style=\"border-top: 0.2px solid gray; margin-top: 12px; margin-bottom: 1px\"></hr>\n",
    "\n",
    "### Numbers\n",
    "Numbers in Python can be either **integers** (whole numbers) or **floats** (floating point decimal numbers).\n",
    "\n",
    "The following syntax is used to define an integer:\n",
    "```python\n",
    "x = 1\n",
    "y = 42\n",
    "```\n",
    "\n",
    "<div class=\"run\">\n",
    "    ▶️ Run the cell below.\n",
    "</div>"
   ]
  },
  {
   "cell_type": "code",
   "execution_count": null,
   "metadata": {},
   "outputs": [],
   "source": [
    "# Define variables x and y as integers.\n",
    "x = 1\n",
    "y = 42"
   ]
  },
  {
   "cell_type": "markdown",
   "metadata": {},
   "source": [
    "The following syntax is used to define a float:\n",
    "```python\n",
    "a = 1.0\n",
    "b = 42.0\n",
    "c = 23.782043\n",
    "```\n",
    "\n",
    "### <div class=\"example\"> ✏️ Try it.\n",
    "Define variables a, b, and c according to the values above.\n",
    "</div>"
   ]
  },
  {
   "cell_type": "code",
   "execution_count": null,
   "metadata": {},
   "outputs": [],
   "source": [
    "# Define variables a, b, and c as floats.\n",
    "a = 1.0\n",
    "b = 42.0\n",
    "c = 23.782043"
   ]
  },
  {
   "cell_type": "markdown",
   "metadata": {},
   "source": [
    "<h4 style=\"border:1px; border-style:solid; border-color:black; padding: 0.5em;\"> <span style=\"color:black\"> Arithmetic Operators </span> </h4>\n",
    "\n",
    "Just like a calculator, basic arithmetic can be done on number variables. Python uses the following symbols \n",
    "\n",
    "| Symbol | Task           |\n",
    "| :----: | :---           |\n",
    "|   +    | Addition       |\n",
    "|   -    | Subtraction    |\n",
    "|   *    | Multiplication |\n",
    "|   /    | Division       |\n",
    "|   %    | Modular        |\n",
    "|  //    | Floor division |\n",
    "|  **    | Power          |\n",
    "\n",
    "\n",
    "\n",
    "### <div class=\"example\"> ✏️  Try it.\n",
    "Practice these arithmetic operations by running the code in the cell below. Feel free to add more to test the operators. Use the <code>print()</code>  command to output your answers.\n",
    "</div>"
   ]
  },
  {
   "cell_type": "code",
   "execution_count": null,
   "metadata": {},
   "outputs": [],
   "source": [
    "# Do some math.\n"
   ]
  },
  {
   "cell_type": "markdown",
   "metadata": {},
   "source": [
    "Notice that the order of operations applies.\n",
    "\n",
    "<h4 style=\"border:1px; border-style:solid; border-color:black; padding: 0.5em;\"> <span style=\"color:black\"> Boolean Operators </span> </h4>\n",
    "\n",
    "Boolean operators evaluate a condition between two operands, returning `True` if the condition is met and `False` otherwise. `True` and `False` are called **booleans**.\n",
    "\n",
    "| Symbol | Task                     |\n",
    "| :----: | :----------------------  |\n",
    "|   ==   | Equals                   |\n",
    "|  !=    | Does not equal           |\n",
    "|   <    | Less than                |\n",
    "|   >    | Greater than             |\n",
    "|   <=   | Less than or equal to    |\n",
    "|   >=   | Greater than or equal to |\n",
    "\n",
    "<div class=\"run\">\n",
    "    ▶️ Run the cell below.\n",
    "</div>"
   ]
  },
  {
   "cell_type": "code",
   "execution_count": null,
   "metadata": {},
   "outputs": [],
   "source": [
    "print( b >= a )\n",
    "print( 87 < -2 )\n",
    "print( c != 0 )\n",
    "print( y == x)"
   ]
  },
  {
   "cell_type": "markdown",
   "metadata": {},
   "source": [
    "<h4 style=\"border:1px; border-style:solid; border-color:black; padding: 0.5em;\"> <span style=\"color:black\"> Built-in functions </span> </h4>\n",
    "\n",
    "Python has a number of built-in functions. Here we will introduce a few of the useful built-in functions for numerical variables. \n",
    "\n",
    "The `type()` function is used to check the data type of a variable. For numerical arguments, either `float` or `int` is returned.\n",
    "\n",
    "<div class=\"run\">\n",
    "    ▶️ Run the cell below.\n",
    "</div>"
   ]
  },
  {
   "cell_type": "code",
   "execution_count": null,
   "metadata": {},
   "outputs": [],
   "source": []
  },
  {
   "cell_type": "markdown",
   "metadata": {},
   "source": [
    "The `isinstance()` function is used to determine whether an argument is in a certain class. It returns a boolean value. Multiple classes can be checked at once.\n",
    "\n",
    "```python\n",
    "isinstance(12, int)\n",
    ">>> True\n",
    "\n",
    "isinstance(12.0,int)\n",
    ">>> False\n",
    "\n",
    "isinstance(12.0,(int,float))\n",
    ">>> True\n",
    "```"
   ]
  },
  {
   "cell_type": "markdown",
   "metadata": {},
   "source": [
    "The commands `int()` and `float()` are used to convert between data types.\n",
    "\n",
    "<div class=\"run\">\n",
    "    ▶️ Run the cell below.\n",
    "</div>"
   ]
  },
  {
   "cell_type": "code",
   "execution_count": null,
   "metadata": {},
   "outputs": [],
   "source": [
    "print( float(y) )\n",
    "print( int(c) )"
   ]
  },
  {
   "cell_type": "markdown",
   "metadata": {},
   "source": [
    "Notice that when converting a float value to an integer, the `int()` command always rounds *down* to the nearest whole number.\n",
    "\n",
    "To round a float to the nearest whole number, use the function `round()`. You can specify the number of decimal places by adding an integer as an argument to the `round()` function .\n",
    "\n",
    "<div class=\"run\">\n",
    "    ▶️ Run the cell below.\n",
    "</div>"
   ]
  },
  {
   "cell_type": "code",
   "execution_count": null,
   "metadata": {},
   "outputs": [],
   "source": [
    "print( round(c) )\n",
    "print( round(c,3) )"
   ]
  },
  {
   "cell_type": "markdown",
   "metadata": {},
   "source": [
    "The `complex()` function is used to define a complex number. We won't be using complex numbers in this course, but it's important to know that python is happy to handle them.\n",
    "\n",
    "<div class=\"run\">\n",
    "    ▶️ Run the cell below.\n",
    "</div>"
   ]
  },
  {
   "cell_type": "code",
   "execution_count": null,
   "metadata": {},
   "outputs": [],
   "source": [
    "d = complex('5+2j')"
   ]
  },
  {
   "cell_type": "markdown",
   "metadata": {},
   "source": [
    "To return the absolute value of a number, use the `abs()` function.\n",
    "\n",
    "<div class=\"run\">\n",
    "    ▶️ Run the cell below.\n",
    "</div>"
   ]
  },
  {
   "cell_type": "code",
   "execution_count": null,
   "metadata": {},
   "outputs": [],
   "source": [
    "print( abs(d) )\n",
    "print( abs(-12) )"
   ]
  },
  {
   "cell_type": "markdown",
   "metadata": {},
   "source": [
    "\n",
    "The `divmod()` function returns the quotient and remainder of two input operands in a tuple. (Tuples are another data type that we will cover later.)\n",
    "\n",
    "```python\n",
    "divmod(64, 4.2)\n",
    "```\n",
    "\n",
    "Output:\n",
    "```\n",
    "(15.0, 0.9999999999999973)\n",
    "```\n",
    "\n",
    "---\n",
    "\n",
    "The `pow()` function is an alternative to the `**` operator for raising a number to an exponent, i.e. $x^y$. An optional third argument is used to return the modulus (`%`) of the power of a number, i.e. $x^y$ % $z$.\n",
    "\n",
    "```python\n",
    "pow(8,2)\n",
    "```\n",
    "\n",
    "Output:\n",
    "```\n",
    "64\n",
    "```\n",
    "\n",
    "```python\n",
    "pow(8,2,3)\n",
    "```\n",
    "\n",
    "Output:\n",
    "```\n",
    "1\n",
    "```\n"
   ]
  },
  {
   "cell_type": "markdown",
   "metadata": {},
   "source": [
    "<hr style=\"border-top: 0.2px solid gray; margin-top: 12px; margin-bottom: 1px\"></hr>\n",
    "\n",
    "### Strings\n",
    "Pieces of text in Python are referred to as strings. Strings are defined with either single or double quotes. The only difference between the two is that it is easier to use an apostrophe with double quotes.\n",
    "```python\n",
    "mytext = 'This is a string.'\n",
    "mytext2 = \"This is also a string.\"\n",
    "```\n",
    "To use an apostrope or single quotes inside a string defined by single quotes (or to use double quotes), use a single backslash ( \\\\ ) referred to as an \"escape\" character.\n",
    "```python\n",
    "q1a = \"What is Newton's 1st law of motion?\"\n",
    "q1b = 'What is Newton\\'s 1st law of motion?'\n",
    "```\n"
   ]
  },
  {
   "cell_type": "markdown",
   "metadata": {},
   "source": [
    "<h4 style=\"border:1px; border-style:solid; border-color:black; padding: 0.5em;\"> <span style=\"color:black\"> Built-in functions </span> </h4>\n",
    "\n",
    "Just like the `int()` and `float` commands, the `str()` command converts a number to a string.\n",
    "\n",
    "<div class=\"run\">\n",
    "    ▶️ Run the cell below.\n",
    "</div>"
   ]
  },
  {
   "cell_type": "code",
   "execution_count": null,
   "metadata": {},
   "outputs": [],
   "source": [
    "ystr = str(y)"
   ]
  },
  {
   "cell_type": "markdown",
   "metadata": {},
   "source": [
    "The `+` operator can be used to combine two or more strings.\n",
    "\n",
    "<div class=\"run\">\n",
    "    ▶️ Run the cell below.\n",
    "</div>"
   ]
  },
  {
   "cell_type": "code",
   "execution_count": null,
   "metadata": {},
   "outputs": [],
   "source": [
    "s = 'isaac' + ' ' + 'newton'"
   ]
  },
  {
   "cell_type": "markdown",
   "metadata": {},
   "source": [
    "The commands `string.upper()` and `string.capitalize()` can be used to convert all letters in the string to uppercase and capitalize the first letter in the string, respectively.\n",
    "\n",
    "<div class=\"run\">\n",
    "    ▶️ Run the cell below.\n",
    "</div>"
   ]
  },
  {
   "cell_type": "code",
   "execution_count": null,
   "metadata": {},
   "outputs": [],
   "source": [
    "print( s.upper() )\n",
    "print( s.capitalize() )"
   ]
  },
  {
   "cell_type": "markdown",
   "metadata": {},
   "source": [
    "<h4 style=\"border:1px; border-style:solid; border-color:black; padding: 0.5em;\"> <span style=\"color:black\"> Formatted print statements </span> </h4>\n",
    "\n",
    "Python uses C-style formatting to create new, formatted strings with the `%` operator. This is useful for printing variables in functions and when asking for user input, both of which we will discuss later. Formatted print statements contain a string argument with one of the following specifiers:\n",
    "\n",
    "| Symbol | Task                     |\n",
    "| :----: | :----------------------  |\n",
    "|  `%s`  | Strings                  |\n",
    "|  `%d`  | Integers                 |\n",
    "|  `%f`  | Floating point numbers   |\n",
    "\n",
    "The second argument can contain a variable name or a tuple, which is a list of a fixed size. The arguments are separated by the `%` operator.\n",
    "\n",
    "<div class=\"run\">\n",
    "    ▶️ Run the cell below.\n",
    "</div>"
   ]
  },
  {
   "cell_type": "code",
   "execution_count": null,
   "metadata": {},
   "outputs": [],
   "source": [
    "city = 'Bozeman'\n",
    "yrs = 1.5\n",
    "print( 'I live in %s.' % city )\n",
    "print( 'I have lived in %s for %d years.' % (city,yrs))"
   ]
  },
  {
   "cell_type": "code",
   "execution_count": null,
   "metadata": {},
   "outputs": [],
   "source": [
    "# Define the variable info.\n",
    "info = (first, age)\n",
    "# Complete the sentence to be printed\n",
    "sentence = \"My name...\"\n",
    "# Print\n",
    "print( sentence % info)"
   ]
  },
  {
   "cell_type": "markdown",
   "metadata": {},
   "source": [
    "When printing floats, the `%f` argument specifier can be accompanied by a number of decimal places to print only a certain number of digits.\n",
    "\n",
    "<div class=\"run\">\n",
    "    ▶️ Run the cell below.\n",
    "</div>"
   ]
  },
  {
   "cell_type": "code",
   "execution_count": null,
   "metadata": {},
   "outputs": [],
   "source": [
    "import math\n",
    "pi_sqrt = math.sqrt(math.pi)\n",
    "print(\"The square root of pi is %f.\" % pi_sqrt)\n",
    "print(\"The square root of pi is %.2f.\" % pi_sqrt)"
   ]
  },
  {
   "cell_type": "markdown",
   "metadata": {},
   "source": [
    "<hr style=\"border-top: 0.5px solid black; margin-top: 1px; margin-bottom: 1px\"></hr>\n",
    "\n",
    "The `input()` function allows for user input within a script or program. Importantly, when Python prompts the user for input, the input is stored as a string, regardless of what it is. Thus, if you write a function (a type of object we will explore in a future session) prompting the user for a number, you must be sure to convert the variable storing the input to an integer or float. \n",
    "\n",
    "To demonstrate this, run the following cell, entering the month in which you were born in numerical format (e.g. if you were born in April, your input would be `4`) when prompted.\n",
    "\n",
    "<div class=\"run\">\n",
    "    ▶️ Run the cell below.\n",
    "</div>"
   ]
  },
  {
   "cell_type": "code",
   "execution_count": null,
   "metadata": {},
   "outputs": [],
   "source": [
    "month_in = input('Month of birth (1-12): ')\n",
    "type(month_in)"
   ]
  },
  {
   "cell_type": "markdown",
   "metadata": {},
   "source": [
    "<hr style=\"border-top: 0.2px solid gray; margin-top: 12px; margin-bottom: 1px\"></hr>\n",
    "\n",
    "### Reserved Key Words\n",
    "Python has a small number of `key words`, or words that are reserved variables that are native to Python. Key words cannot be used as variables, classes, or functions. Notice that:\n",
    "```python \n",
    "and\n",
    "```\n",
    "is green and when you try to assign it, Python throws an error."
   ]
  },
  {
   "cell_type": "code",
   "execution_count": null,
   "metadata": {},
   "outputs": [],
   "source": [
    "# try this\n",
    "and = 1"
   ]
  },
  {
   "cell_type": "code",
   "execution_count": null,
   "metadata": {},
   "outputs": [],
   "source": [
    "# Let's look at keywords\n",
    "import keyword\n",
    "keyword.kwlist"
   ]
  },
  {
   "cell_type": "markdown",
   "metadata": {},
   "source": [
    "### We will learn several key words in this course, but not all of them. They are very useful."
   ]
  },
  {
   "cell_type": "code",
   "execution_count": null,
   "metadata": {},
   "outputs": [],
   "source": [
    "# Let's make some lists \n",
    "list_1 = [1,2,3,4,5]\n",
    "list_2 = [11,4,33,4,5]\n",
    "list_3 = [1,23,3,46,6]"
   ]
  },
  {
   "cell_type": "markdown",
   "metadata": {},
   "source": [
    "### Is 1 in our lists?"
   ]
  },
  {
   "cell_type": "code",
   "execution_count": null,
   "metadata": {},
   "outputs": [],
   "source": [
    "print(1 in list_1, '1 is in list_1')\n",
    "print(1 in list_2, '1 is in list_1')\n",
    "print(1 in list_1 or list_2, '1 is in list_1 or list_2')"
   ]
  },
  {
   "cell_type": "markdown",
   "metadata": {},
   "source": [
    "### More on key words as we continue the course."
   ]
  },
  {
   "cell_type": "markdown",
   "metadata": {},
   "source": [
    "<hr style=\"border-top: 1px solid gray; margin-top: 24px; margin-bottom: 1px\"></hr>"
   ]
  }
 ],
 "metadata": {
  "kernelspec": {
   "display_name": "Python 3 (ipykernel)",
   "language": "python",
   "name": "python3"
  },
  "language_info": {
   "codemirror_mode": {
    "name": "ipython",
    "version": 3
   },
   "file_extension": ".py",
   "mimetype": "text/x-python",
   "name": "python",
   "nbconvert_exporter": "python",
   "pygments_lexer": "ipython3",
   "version": "3.10.9"
  }
 },
 "nbformat": 4,
 "nbformat_minor": 4
}
