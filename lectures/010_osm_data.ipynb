{
 "cells": [
  {
   "cell_type": "markdown",
   "id": "ff079275",
   "metadata": {},
   "source": [
    "# Interactive Session: Human Population Data - OpenStreetMap\n",
    "\n",
    "![osm](./assets/osm.jpg) \n",
    "\n",
    "In this session, we will continue learning about human data that is useful for sustainability research. We will focus on [OpenStreetMap](https://www.openstreetmap.org/#map=5/38.007/-95.844), a global open-source mapping effort that relies on citizen science [volunteered geographic information (VGI)](https://www.usgs.gov/center-of-excellence-for-geospatial-information-science-%28cegis%29/volunteered-geographic-information#:~:text=Volunteered%20geographic%20information%2C%20that%20is,to%20enhance%20their%20geospatial%20databases.). OSM is akin to Wikipedia - a massive effort to collate, validate, and store the world's geographic information. It backed by major corporations like Microsoft and TomTom, as well as individuals around the world. Some [ten million people](https://planet.openstreetmap.org/statistics/data_stats.html) use OSM directly and OSM data is use by Facebook, Amazon, Tesla, and Stava, along with many other companies around the world. Indeed, OSM is truly a powerhouse as a GIS platform. <br>\n",
    "\n",
    "<img src=\"./assets/OSM_data_primitives.png\" alt=\"osm data\" width=\"500\"/>\n",
    "\n",
    "\n",
    "OSM uses topological data structure with four core data primatives (e.g. highest level of organization):\n",
    "1. _Nodes_ (e.g. points) with latitude and longitude coordinates.\n",
    "2. _Ways_ (e.d. lines and polygons), which are ordered lists of _nodes_.\n",
    "3. _Relations_, which are ordered lists of _nodes_, _ways_ and _relations_. Together, these are called _members_ and are used to show the relationship between _nodes_ and _ways_. \n",
    "4. _Tags_ are key-value pairs that create metadata about OSM map objects. Tags are defined by OSM for common usage. For example, `place` has values such as `city` or `country` (read more [here](https://wiki.openstreetmap.org/wiki/Tag:place%3Dcity). \n",
    "\n",
    "<p style=\"height:1pt\"> </p>\n",
    "\n",
    "<div class=\"boxhead2\">\n",
    "    Session Topics\n",
    "</div>\n",
    "\n",
    "<div class=\"boxtext2\">\n",
    "<ul class=\"a\">\n",
    "    <li> 📌 Introduction to <span class=\"codeb\">OpenStreetMap Data  with OSMnx </span> </li>\n",
    "    <ul class=\"b\">\n",
    "        <li> Leaflet Overview </li>\n",
    "        <li> OSM Places </li>\n",
    "        <li> Building Foot Prints </li>\n",
    "        <li> On Your Own: Apartments </li>\n",
    "        <li> On Your Own: Bikepaths </li>\n",
    "    </ul>\n",
    "</div>\n",
    "\n",
    "<hr style=\"border-top: 0.2px solid gray; margin-top: 12pt; margin-bottom: 0pt\"></hr>\n",
    "\n",
    "### Instructions\n",
    "We will work through this notebook together. To run a cell, click on the cell and press \"Shift\" + \"Enter\" or click the \"Run\" button in the toolbar at the top. \n",
    "\n",
    "<p style=\"color:#408000; font-weight: bold\"> 🐍 &nbsp; &nbsp; This symbol designates an important note about Python structure, syntax, or another quirk.  </p>\n",
    "\n",
    "<p style=\"color:#008C96; font-weight: bold\"> ▶️ &nbsp; &nbsp; This symbol designates a cell with code to be run.  </p>\n",
    "\n",
    "<p style=\"color:#008C96; font-weight: bold\"> ✏️ &nbsp; &nbsp; This symbol designates a partially coded cell with an example.  </p>\n",
    "\n",
    "<hr style=\"border-top: 1px solid gray; margin-top: 24px; margin-bottom: 1px\"></hr>"
   ]
  },
  {
   "cell_type": "markdown",
   "id": "9a170049",
   "metadata": {},
   "source": [
    "## Leaflet and OpenStreetMap\n",
    "<hr style=\"border-top: 0.2px solid gray; margin-top: 12px; margin-bottom: 1px\"></hr>\n",
    "\n",
    "This is not a web mapping course. But it is important to know the basics of importing an interactive map into a Jupyter Notebook. To do this, we will use [ipyleaflet](https://ipyleaflet.readthedocs.io/en/latest/index.html), an interactive Juypter widget and even your own web map (see our [Global Waste Water](https://www.globalwastewatermodel.com/webmap.html) as an example, built actually in R using Leaflet, but you can build the same thing in Python).\n",
    "\n",
    "Let's get started!"
   ]
  },
  {
   "cell_type": "markdown",
   "id": "914b3b0e",
   "metadata": {},
   "source": [
    "<div class=\"run\">\n",
    "    ▶️ <b> Run the cells below. </b>\n",
    "</div>"
   ]
  },
  {
   "cell_type": "code",
   "execution_count": null,
   "id": "3d370546",
   "metadata": {
    "tags": []
   },
   "outputs": [],
   "source": [
    "# Import Dependencies\n",
    "from ipyleaflet import Map, basemaps, basemap_to_tiles\n",
    "from ipyleaflet import LayersControl\n",
    "from ipyleaflet import SearchControl, Marker, AwesomeIcon"
   ]
  },
  {
   "cell_type": "code",
   "execution_count": null,
   "id": "85de5336",
   "metadata": {
    "tags": []
   },
   "outputs": [],
   "source": [
    "# Set Latitude and Longitude + Zoom Leve \n",
    "center = [45.7, 249] \n",
    "zoom = 11\n",
    "\n",
    "Map(basemap = basemaps.OpenStreetMap.Mapnik, center = center, zoom = zoom)"
   ]
  },
  {
   "cell_type": "markdown",
   "id": "d3344e4d",
   "metadata": {},
   "source": [
    "While this tutorial is focused on OSM, we can also load other [basemaps](https://ipyleaflet.readthedocs.io/en/latest/map_and_basemaps/basemaps.html) into our Leaflet Map and there are a ton of features you can add to your Leaflet map. We'll come back to the Leaflet maps later, but check out the example of different basemaps and the search bar you can add. FYI: On the left of the panel, you will see a layers icon."
   ]
  },
  {
   "cell_type": "markdown",
   "id": "caf6e06f",
   "metadata": {},
   "source": [
    "<div class=\"run\">\n",
    "    ▶️ <b> Run the cells below. </b>\n",
    "</div>"
   ]
  },
  {
   "cell_type": "code",
   "execution_count": null,
   "id": "b054f44f",
   "metadata": {
    "tags": []
   },
   "outputs": [],
   "source": [
    "# OSM Basemap\n",
    "mapnik = basemap_to_tiles(basemaps.OpenStreetMap.Mapnik)\n",
    "mapnik.base = True\n",
    "\n",
    "# MODIS Terra True Color \n",
    "modis = basemap_to_tiles(basemaps.NASAGIBS.ModisTerraTrueColorCR)\n",
    "modis.base = True\n",
    "\n",
    "# ESRI WorldImagery \n",
    "esri = basemap_to_tiles(basemaps.Esri.WorldImagery)\n",
    "esri.base = True\n",
    "\n",
    "# All Strava\n",
    "strava = basemap_to_tiles(basemaps.Strava.All)\n",
    "strava.base = True\n",
    "\n",
    "# Set the Layers we want in our map \n",
    "layers_list = [mapnik, modis, esri, strava]\n",
    "m = Map(layers = layers_list, center = center, zoom = 7) # Note: not all basemaps can zoom at fine-scales\n",
    "\n",
    "# use the LayersControl to switch basemaps\n",
    "m.add(LayersControl())\n",
    "\n",
    "# Create a green marker\n",
    "marker = Marker(icon=AwesomeIcon(name=\"check\", marker_color='green', icon_color='darkgreen'))\n",
    "\n",
    "# Add SearchControl from OSM database \n",
    "m.add(SearchControl(\n",
    "  position=\"topleft\",\n",
    "  url='https://nominatim.openstreetmap.org/search?format=json&q={s}',\n",
    "  zoom=5,\n",
    "  marker=marker\n",
    "))\n",
    "\n",
    "m"
   ]
  },
  {
   "cell_type": "markdown",
   "id": "14f3fdc9",
   "metadata": {},
   "source": [
    "## Accessing OSM Data\n",
    "<hr style=\"border-top: 0.2px solid gray; margin-top: 12px; margin-bottom: 1px\"></hr>\n",
    "\n",
    "Let's now use the ['OSMnx'](https://osmnx.readthedocs.io/en/stable/user-reference.html)  Python package to import some OSM data as a `GeoPandas` GeoDataFrame. From the documentation:\n",
    "\n",
    "> \"OSMnx geocodes place names and addresses with the OpenStreetMap Nominatim API. You can use the geocoder module to geocode place names or addresses to lat-lon coordinates. Or, you can retrieve place boundaries or any other OpenStreetMap elements by name or ID. <br><br> Using the features and graph modules, as described below, you can download data by lat-lon point, address, bounding box, bounding polygon, or place name (e.g., neighborhood, city, county, etc).\"\n",
    "\n",
    "There are a bunch of tutorials for OSMnx [here](https://github.com/gboeing/osmnx-examples/blob/main/notebooks/00-osmnx-features-demo.ipynb). But, let's start with a search using a place name - Bozeman, MT, USA - and return OSM data. "
   ]
  },
  {
   "cell_type": "markdown",
   "id": "95f01aa6",
   "metadata": {},
   "source": [
    "<div class=\"run\">\n",
    "    ▶️ <b> Run the cells below. </b>\n",
    "</div>"
   ]
  },
  {
   "cell_type": "code",
   "execution_count": null,
   "id": "225dd91f",
   "metadata": {
    "tags": []
   },
   "outputs": [],
   "source": [
    "# Dependencies \n",
    "import pandas as pd\n",
    "import geopandas as gpd\n",
    "import matplotlib.pyplot as plt\n",
    "import osmnx as ox\n",
    "import numpy as np"
   ]
  },
  {
   "cell_type": "code",
   "execution_count": null,
   "id": "643c620a-0eae-4afd-90b8-eba6d732234f",
   "metadata": {
    "tags": []
   },
   "outputs": [],
   "source": [
    "# Specify the name that is used to seach for the data\n",
    "place_name = 'Bozeman, MT, USA'"
   ]
  },
  {
   "cell_type": "code",
   "execution_count": null,
   "id": "cd0aea44-8998-4d7e-94e3-6310f9360569",
   "metadata": {
    "tags": []
   },
   "outputs": [],
   "source": [
    "# Get place boundary related to the place name as a geodataframe\n",
    "area = ox.geocode_to_gdf(place_name)\n",
    "print(type(area))\n",
    "area.head()"
   ]
  },
  {
   "cell_type": "markdown",
   "id": "d0a898b2-6406-4fe0-9b09-b57c661cf046",
   "metadata": {},
   "source": [
    "**Note:** `area` is a `GeoDataFrame` ... so it can easily be written as a `.shp` file. We can also access all the methods and attributes associated with `GeoDataFrame` objects.  \n",
    "\n",
    "Now let's plot the boundaries for Bozeman."
   ]
  },
  {
   "cell_type": "markdown",
   "id": "05da76a0-1300-4406-918b-15035d57e3fc",
   "metadata": {},
   "source": [
    "<div class=\"run\">\n",
    "    ▶️ <b> Run the cells below. </b>\n",
    "</div>"
   ]
  },
  {
   "cell_type": "code",
   "execution_count": null,
   "id": "ea8b4de5-88ed-4ece-b2bc-8277305e81be",
   "metadata": {
    "tags": []
   },
   "outputs": [],
   "source": [
    "# Simple Plot with the axis turned off\n",
    "fig, ax = plt.subplots(1, 1, figsize = (7, 7))\n",
    "\n",
    "area.plot(ax = ax)\n",
    "plt.title('Bozeman, MT - City Boundaries')\n",
    "plt.axis('off');\n",
    "plt.show()"
   ]
  },
  {
   "cell_type": "markdown",
   "id": "29e0bfa6-c48c-4af5-b327-9d0e200be09e",
   "metadata": {},
   "source": [
    "### OSM Building Foot Prints\n",
    "\n",
    "`OSMnx` has a ton of functionality to pull OSM data. You can read about the range of methods to use geographic information and/or place names to pull OSM data [here](https://osmnx.readthedocs.io/en/stable/user-reference.html#osmnx.geometries.geometries_from_place).  \n",
    "\n",
    "Let's start with `ox.geometries_from_place` to get the building foot prints on OSM for Bozeman. To do this, we'll use OSM `tags` to subset our data request for all building types. Remember, `tags` are key-value pairs, so we use a key and then associate it with a value."
   ]
  },
  {
   "cell_type": "markdown",
   "id": "5505b35b-c6ef-4487-a73c-b3824f2cab6e",
   "metadata": {},
   "source": [
    "<div class=\"run\">\n",
    "    ▶️ <b> Run the cells below. </b>\n",
    "</div>"
   ]
  },
  {
   "cell_type": "code",
   "execution_count": null,
   "id": "2ea31591-9e5e-48e3-bd38-50f1c51b122f",
   "metadata": {
    "scrolled": true,
    "tags": []
   },
   "outputs": [],
   "source": [
    "# List key-value pairs for tags\n",
    "tags = {'building': True}   \n",
    "\n",
    "buildings = ox.features_from_place(place_name, tags)\n",
    "print(type(buildings))\n",
    "buildings.tail()"
   ]
  },
  {
   "cell_type": "code",
   "execution_count": null,
   "id": "d1f3b86f-8348-4adc-8cd5-01b2beab2c3b",
   "metadata": {
    "tags": []
   },
   "outputs": [],
   "source": [
    "# Simple Plot with the axis turned off\n",
    "fig, ax = plt.subplots(1, 1, figsize = (7, 7))\n",
    "\n",
    "buildings.plot(ax = ax)\n",
    "plt.title('Bozeman, MT - City Buildings')\n",
    "plt.axis('off')\n",
    "\n",
    "# show the plot\n",
    "plt.show()"
   ]
  },
  {
   "cell_type": "markdown",
   "id": "5873cfb2-7700-4c9e-863b-f379f4fad09c",
   "metadata": {},
   "source": [
    "### Tags / Columns\n",
    "Let's check out the columns that `features_from_place` returned. Notice that OSM features have a lot of tags. This can be useful, but remember that OSM data is crowd-sourced. So it is not always up-to-date nor accurate. Nonetheless, it is pretty useful."
   ]
  },
  {
   "cell_type": "markdown",
   "id": "092e962f-e0ae-4d1e-b4e7-fa557aecba55",
   "metadata": {},
   "source": [
    "<div class=\"run\">\n",
    "    ▶️ <b> Run the cells below. </b>\n",
    "</div>"
   ]
  },
  {
   "cell_type": "code",
   "execution_count": null,
   "id": "a6d453af-2b34-4db4-ae76-e1ee0c0bb93a",
   "metadata": {
    "scrolled": true,
    "tags": []
   },
   "outputs": [],
   "source": [
    "# print columns\n",
    "for col in buildings.columns:\n",
    "    print(col)"
   ]
  },
  {
   "cell_type": "markdown",
   "id": "13d635ad-54d8-47ca-8867-7c77abbf9ac4",
   "metadata": {},
   "source": [
    "### MultiIndex\n",
    "Pandas `DataFrames` allow you to nest both index and columns so that you can have hiarchies in your data labels. This is pretty useful, but not always intuitive. To do this, Pandas uses a `MultiIndex` object to nest the columns. Here we notice that there are `element_type` and `osmid` so that each row is classified as the a high-order OSM data type (e.g. node, way, relation). \n",
    "\n",
    "Here we'll use `np.unique` to show the unique values for the element type."
   ]
  },
  {
   "cell_type": "markdown",
   "id": "f7c008a8-e4aa-46d3-b265-ef7ac0905141",
   "metadata": {},
   "source": [
    "<div class=\"run\">\n",
    "    ▶️ <b> Run the cells below. </b>\n",
    "</div>"
   ]
  },
  {
   "cell_type": "code",
   "execution_count": null,
   "id": "14d34d50-e11e-4817-addd-c26e907696e0",
   "metadata": {
    "tags": []
   },
   "outputs": [],
   "source": [
    "# Check out the index of the buildings GeoDataFraem\n",
    "buildings.index"
   ]
  },
  {
   "cell_type": "code",
   "execution_count": null,
   "id": "4e40b21a-31cf-426e-be8d-72e89b13bbb7",
   "metadata": {
    "tags": []
   },
   "outputs": [],
   "source": [
    "# How many different 'element_type' are there?\n",
    "np.unique(buildings.index.get_level_values('element_type'))"
   ]
  },
  {
   "cell_type": "markdown",
   "id": "139396c9-5eaf-4fe2-b2ec-fee3a2aab0b8",
   "metadata": {},
   "source": [
    "### Beer?\n",
    "Let's subset the buildings dataset with the `brewery` and `microbrewery` tag and plot it. It looks like only brewery is Montana Ale Works and the only microbrewery is Lockhorn Cider House has been tagged as a microbrewery, which is funny, because they don't sell beer. "
   ]
  },
  {
   "cell_type": "code",
   "execution_count": null,
   "id": "187ada1e-46c9-4dde-9d81-f16e02d6c3b6",
   "metadata": {
    "tags": []
   },
   "outputs": [],
   "source": [
    "# Subset Breweries \n",
    "breweries = buildings[buildings['brewery'].notnull()]\n",
    "breweries\n",
    "\n",
    "# Subset Micro Breweriers \n",
    "m_breweries = buildings[buildings['microbrewery'].notnull()]\n",
    "m_breweries"
   ]
  },
  {
   "cell_type": "code",
   "execution_count": null,
   "id": "ac2facac-2ed9-4a32-b6f9-b20a9b0e07d4",
   "metadata": {
    "tags": []
   },
   "outputs": [],
   "source": [
    "# Simple Plot with the axis turned off\n",
    "fig, ax = plt.subplots(1, 1, figsize = (10, 10))\n",
    "\n",
    "# Plot All The buldings\n",
    "buildings.plot(ax = ax, color = 'pink')\n",
    "\n",
    "# Note that matplotlib has a bunch of named colors: https://matplotlib.org/stable/gallery/color/named_colors.html\n",
    "\n",
    "# plot breweries\n",
    "breweries.plot(ax = ax, color = 'deepskyblue')\n",
    "m_breweries.plot(ax = ax, color = 'darkgreen')\n",
    "\n",
    "# Zoom in by lat/long\n",
    "xlim = (-111.035, -111.025) # West, East\n",
    "ylim = (45.677, 45.68) # South, North \n",
    "ax.set_xlim(xlim)\n",
    "ax.set_ylim(ylim)\n",
    "\n",
    "plt.title('Bozeman, MT - (some) Breweries Downtown')\n",
    "plt.axis('off');\n",
    "\n",
    "# show the plot\n",
    "plt.show()"
   ]
  },
  {
   "cell_type": "markdown",
   "id": "f43e7215-7704-4f87-adfb-e96f1213f748",
   "metadata": {
    "tags": []
   },
   "source": [
    "## On your own\n",
    "<hr style=\"border-top: 0.2px solid gray; margin-top: 12px; margin-bottom: 1px\"></hr>\n",
    "\n",
    "See if you can create a similar map of apartments by subsetting `buildings` with the `apartments` column."
   ]
  },
  {
   "cell_type": "code",
   "execution_count": null,
   "id": "5e3c8529-9a0a-429e-8b30-b0e37981405f",
   "metadata": {},
   "outputs": [],
   "source": [
    "# Your code here"
   ]
  },
  {
   "cell_type": "markdown",
   "id": "abbb83cb-0a57-48cd-a71e-23a3b089847c",
   "metadata": {},
   "source": [
    "### Try finding other features:\n",
    "\n",
    "OSM has a ton of [features](https://wiki.openstreetmap.org/wiki/Map_features#Transportation) from which you can pull data. On your own, try to extract the **bike paths** for Bozeman, MT. From the OSM [documentation](https://wiki.openstreetmap.org/wiki/Highways) on `highway`:\n",
    "\n",
    ">\"Note that in North American and Australian English, the term highway frequently implies a major road such as a controlled-access highway or an arterial road. Don't let that confuse you, the term is used with its British English meaning within OSM.\""
   ]
  },
  {
   "cell_type": "code",
   "execution_count": null,
   "id": "c9147584-014c-4c74-9973-9dc4c1d3bcf3",
   "metadata": {
    "tags": []
   },
   "outputs": [],
   "source": [
    "# List key-value pairs for tags\n",
    "tags = {'highway': True}   \n",
    "\n",
    "roads = ox.features_from_place(place_name, tags)\n",
    "print(type(roads))\n",
    "roads.tail()"
   ]
  },
  {
   "cell_type": "code",
   "execution_count": null,
   "id": "b6055b9d-36b2-4abd-8a20-99ece7f1afc7",
   "metadata": {
    "tags": []
   },
   "outputs": [],
   "source": [
    "# Simple Plot with the axis turned off\n",
    "fig, ax = plt.subplots(1, 1, figsize = (7, 7))\n",
    "\n",
    "roads.plot(ax = ax)\n",
    "plt.title('Bozeman, MT - City Roads')\n",
    "plt.axis('off');"
   ]
  },
  {
   "cell_type": "code",
   "execution_count": null,
   "id": "fd96035e-3513-4069-a774-5cdf2c35dbb4",
   "metadata": {},
   "outputs": [],
   "source": [
    "# Your code here"
   ]
  },
  {
   "cell_type": "markdown",
   "id": "e82b9cd3-ddf4-4c2b-a9ac-8e8813b0151f",
   "metadata": {
    "tags": []
   },
   "source": [
    "### Last Task:\n",
    "Try plotting all the local roads in one color, all the major highways in another color, and the buildings in a third color"
   ]
  },
  {
   "cell_type": "code",
   "execution_count": null,
   "id": "905da607-ea8f-484f-a3e5-90998af540fd",
   "metadata": {},
   "outputs": [],
   "source": [
    "# Your code here"
   ]
  },
  {
   "cell_type": "code",
   "execution_count": null,
   "id": "291f98ac-2d88-4ed3-8862-f8a53eba27ee",
   "metadata": {
    "tags": []
   },
   "outputs": [],
   "source": [
    "# List key-value pairs for tags\n",
    "tags = {'highway': True, 'apartments' : True}   \n",
    "\n",
    "roads = ox.features_from_place(place_name, tags)\n",
    "print(type(roads))"
   ]
  },
  {
   "cell_type": "code",
   "execution_count": null,
   "id": "13349754-a8e7-4643-92ec-1d1c9f13a6e2",
   "metadata": {
    "tags": []
   },
   "outputs": [],
   "source": [
    "for column in roads:\n",
    "    print(column)"
   ]
  }
 ],
 "metadata": {
  "kernelspec": {
   "display_name": "Python 3 (ipykernel)",
   "language": "python",
   "name": "python3"
  },
  "language_info": {
   "codemirror_mode": {
    "name": "ipython",
    "version": 3
   },
   "file_extension": ".py",
   "mimetype": "text/x-python",
   "name": "python",
   "nbconvert_exporter": "python",
   "pygments_lexer": "ipython3",
   "version": "3.9.15"
  }
 },
 "nbformat": 4,
 "nbformat_minor": 5
}
