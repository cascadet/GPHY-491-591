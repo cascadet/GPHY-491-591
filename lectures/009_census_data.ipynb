{
 "cells": [
  {
   "cell_type": "markdown",
   "id": "ff079275",
   "metadata": {},
   "source": [
    "# Interactive Session: Human Population Data - US Census\n",
    "\n",
    "![ntl](./assets/humans.jpg)\n",
    "\n",
    "Humans create [complex systems](https://en.wikipedia.org/wiki/Complex_system) and, as such, humans are incredibly difficult to study. Even counting how many people there on the planet is difficult. Many large countries - which we think have rapidly growing populations - have not had a [reliable census conducted in decades](https://www.pnas.org/doi/abs/10.1073/pnas.1715305115). Even the United States, which has a well-regarded and well-funded census, has trouble [estimating population](https://doi.org/10.1016/j.apgeog.2013.11.002). \n",
    "\n",
    "Human population data is very powerful. In the US, **\\$2.8 Trillion** is distributed based on Census data. That's a lot of money. Human data can also be used in nefarious ways too. Governments can rig elections by stuffing districts and governments can oppress groups if they can count them. The power of This is all to say, that while human data is really important for sustainability, there are true ethical considerations when developing and using human datasets.  \n",
    "\n",
    "In this session, we will become familiar with a few human population datasets, specifically the US Census. In doing so, we will learn about [application programming interfaces (APIs)](https://en.wikipedia.org/wiki/API).\n",
    "\n",
    "<p style=\"height:1pt\"> </p>\n",
    "\n",
    "<div class=\"boxhead2\">\n",
    "    Session Topics\n",
    "</div>\n",
    "\n",
    "<div class=\"boxtext2\">\n",
    "<ul class=\"a\">\n",
    "    <li> 📌 Introduction to <span class=\"codeb\">US Census Data</span> </li>\n",
    "    <ul class=\"b\">\n",
    "        <li> Census API </li>\n",
    "        <li> Merging with shapefiles </li>\n",
    "        <li> Plotting Data </li>\n",
    "        <li> Area Aggregation </li>\n",
    "    </ul>\n",
    "</div>\n",
    "\n",
    "<hr style=\"border-top: 0.2px solid gray; margin-top: 12pt; margin-bottom: 0pt\"></hr>\n",
    "\n",
    "### Instructions\n",
    "We will work through this notebook together. To run a cell, click on the cell and press \"Shift\" + \"Enter\" or click the \"Run\" button in the toolbar at the top. \n",
    "\n",
    "<p style=\"color:#408000; font-weight: bold\"> 🐍 &nbsp; &nbsp; This symbol designates an important note about Python structure, syntax, or another quirk.  </p>\n",
    "\n",
    "<p style=\"color:#008C96; font-weight: bold\"> ▶️ &nbsp; &nbsp; This symbol designates a cell with code to be run.  </p>\n",
    "\n",
    "<p style=\"color:#008C96; font-weight: bold\"> ✏️ &nbsp; &nbsp; This symbol designates a partially coded cell with an example.  </p>\n",
    "\n",
    "<hr style=\"border-top: 1px solid gray; margin-top: 24px; margin-bottom: 1px\"></hr>"
   ]
  },
  {
   "cell_type": "markdown",
   "id": "9adc7edc",
   "metadata": {},
   "source": [
    "# US Census Data\n",
    "\n",
    "<img src=\"./assets/income-censustract.jpg\">\n",
    "\n",
    "The US Census Bureau's \"mission is to serve as the nation's leading provider of quality data about its people and economy.\" It collects, curates and disseminates a wide range of demographic and economic data. It's mission in enshrined the US constitution. \n",
    "\n",
    "The [Decadal Populationa and Housing Census](https://www.census.gov/programs-surveys/decennial-census.html#:~:text=The%20U.S.%20census%20counts%20each,of%20Representatives%20among%20the%20states.) is designed to be a complete count of people residents of the United States' territory, whereas the [American Community Survey (ACS)](https://www.census.gov/programs-surveys/acs) is conducted annually has uses a spatiall-informed sampling strategy to estimate demographic data for the entire country. Both surveys are quite useful.\n",
    "\n",
    "With the Census, it's important to remember that how we group people changes overtime. For example, how we count Hispanic-indentifying residents of the US has [changes through time](https://en.wikipedia.org/wiki/Race_and_ethnicity_in_the_United_States_census), just as various other racial and ethnic groups. This makes tracking specific demographics through time quite difficult. Similiarly, census boundaries can change through time - again making it difficult to measure fine-grained demographic change overtime. But the Census makes a strong effort to document changes and inform users how demographic data is collected and aggregated over space and time. \n",
    "\n",
    "Take a moment to checkout the [graphic below](https://www2.census.gov/geo/pdfs/reference/geodiagram.pdf). \n",
    "\n",
    "<img src=\"./assets/cenus-spatial.png\">\n",
    "\n",
    "It's useful to familiarize yourself with the various spatial domains available from the Census. While it is quite easy to download US Census data, let's use the [Python Census API](https://pygis.io/docs/d_access_census.html) to check out US Census data right in our notebook. Note that this tutorial borrows from a great online resource: [PyGIS - Open Source Spatial Programming & Remote Sensing](https://pygis.io/docs/a_intro.html). Check it out!"
   ]
  },
  {
   "cell_type": "markdown",
   "id": "9a170049",
   "metadata": {},
   "source": [
    "### Importing Data from the Census API\n",
    "<hr style=\"border-top: 0.2px solid gray; margin-top: 12px; margin-bottom: 1px\"></hr>\n",
    "\n",
    "Some APIs are fully public, some require free credentials (e.g. a way to authentic users), and some require a fee to use them. <br>\n",
    "\n",
    "Please obtain a census API Key here: https://api.census.gov/data/key_signup.html <br> \n",
    "\n",
    "Note: I had trouble getting a key and I had to try several times with different email address to finally have one work. We are going to try to use my Census API Key (see below).\n",
    "\n",
    "The Census API allows us to read in census data into memory. The Census, like many organizations, uses a common, yet complex, naming convention for variables. Some variables make sense (e.g. `NAME`) and others are alpha numeric. You can checkout the [US Census API User Guide](https://www.census.gov/content/dam/Census/data/developers/api-user-guide/api-guide.pdf). For geographic information, the Census uses [FIPS](https://en.wikipedia.org/wiki/Federal_Information_Processing_Standard_state_code) codes, which are a standardize format to identify geographic adminstrative areas in the US.  \n",
    "\n",
    "Here we are going to use the [ACS5](https://www.census.gov/data/developers/data-sets/acs-5year.html). From this we'll pull some demographic and socioeconomic data for the great state of Montana."
   ]
  },
  {
   "cell_type": "markdown",
   "id": "914b3b0e",
   "metadata": {},
   "source": [
    "<div class=\"run\">\n",
    "    ▶️ <b> Run the cells below. </b>\n",
    "</div>"
   ]
  },
  {
   "cell_type": "code",
   "execution_count": null,
   "id": "c3bc9f3a-bb30-4abf-9614-0ff3dbe63865",
   "metadata": {
    "tags": []
   },
   "outputs": [],
   "source": [
    "# Import modules\n",
    "import matplotlib.pyplot as plt\n",
    "import pandas as pd\n",
    "import geopandas as gpd\n",
    "from census import Census\n",
    "from us import states\n",
    "import os\n",
    "import rasterio\n",
    "import sys"
   ]
  },
  {
   "cell_type": "code",
   "execution_count": null,
   "id": "76c3b439-e534-4e5b-a312-98a773170859",
   "metadata": {
    "tags": []
   },
   "outputs": [],
   "source": [
    "# Set API key \n",
    "c = Census('c2b7b1b0ee04a89666fd161e16d3e1dcec53d1b9') # My key ... please switch to your key."
   ]
  },
  {
   "cell_type": "markdown",
   "id": "04ce5841",
   "metadata": {},
   "source": [
    "Here are the variables we're going to pull from the API:\n",
    "1. C17002_001E - Ratio of Income to Poverty Level in the Past 12 Months Total (e.g. total number of people in 'poverty')\n",
    "1. C17002_002E - Ratio of Income to Poverty Level in the Past 12 Months <50% (e.g. 50% of poverty line)\n",
    "1. C17002_003E - Ratio of Income to Poverty Level in the Past 12 Months 50-99% (e.g. 50% of poverty line)\n",
    "1. B01003_001E - Total Population\n",
    "\n",
    "You can check out the variables yourself [here](https://api.census.gov/data/2022/acs/acs5/variables.html). "
   ]
  },
  {
   "cell_type": "markdown",
   "id": "76865c18",
   "metadata": {},
   "source": [
    "<div class=\"run\">\n",
    "    ▶️ <b> Run the cells below. </b>\n",
    "</div>"
   ]
  },
  {
   "cell_type": "code",
   "execution_count": null,
   "id": "3e7ae3f1-be3d-4145-8269-0f8f4f73eb17",
   "metadata": {
    "tags": []
   },
   "outputs": [],
   "source": [
    "# Make the API request\n",
    "mt_census = c.acs5.state_county_tract(fields = ('NAME', 'C17002_001E', 'C17002_002E', 'C17002_003E', 'B01003_001E'),\n",
    "                                      state_fips = states.MT.fips, # You can change the state here\n",
    "                                      county_fips = \"*\",\n",
    "                                      tract = \"*\",\n",
    "                                      year = 2021)  # You can change the year here"
   ]
  },
  {
   "cell_type": "code",
   "execution_count": null,
   "id": "525675af-d817-497d-abbc-b739728298ce",
   "metadata": {
    "scrolled": true,
    "tags": []
   },
   "outputs": [],
   "source": [
    "# Create a dataframe from the census data\n",
    "mt_df = pd.DataFrame(mt_census)\n",
    "\n",
    "# Show the dataframe\n",
    "mt_df.head(2)"
   ]
  },
  {
   "cell_type": "code",
   "execution_count": null,
   "id": "e66633b2-692c-41dc-8ba5-27bc81758b7b",
   "metadata": {},
   "outputs": [],
   "source": [
    "# Check out the shape"
   ]
  },
  {
   "cell_type": "code",
   "execution_count": null,
   "id": "6b11db8d",
   "metadata": {},
   "outputs": [],
   "source": [
    "# Check out the data type"
   ]
  },
  {
   "cell_type": "markdown",
   "id": "5609a8aa",
   "metadata": {},
   "source": [
    "### Adding geography\n",
    "<hr style=\"border-top: 0.2px solid gray; margin-top: 12px; margin-bottom: 1px\"></hr>\n",
    "\n",
    "Notice that the census data does not have any geographic information ascribed to it. We'll need to read in data directly from the Census's database of boundaries. `GeoPandas` can do this directly from the internet if the data is set up correctly. <br>\n",
    "\n",
    "Note that I had to dive into the the [Census Tiger Product Guide](https://www.census.gov/programs-surveys/geography/guidance/tiger-data-products-guide.html) to make sense of the Census shapefiles that are online, again because they use a alphanumeric coding, not common place names."
   ]
  },
  {
   "cell_type": "markdown",
   "id": "4bc181eb",
   "metadata": {},
   "source": [
    "<div class=\"run\">\n",
    "    ▶️ <b> Run the cells below. </b>\n",
    "</div>"
   ]
  },
  {
   "cell_type": "code",
   "execution_count": null,
   "id": "aa25a76b-555d-49ab-a4ed-fce1227f8301",
   "metadata": {
    "tags": []
   },
   "outputs": [],
   "source": [
    "# Access shapefile of Montana census tracts\n",
    "mt_tract = gpd.read_file(\"https://www2.census.gov/geo/tiger/TIGER2023/TRACT/tl_2023_30_tract.zip\")\n",
    "mt_tract.head()"
   ]
  },
  {
   "cell_type": "code",
   "execution_count": null,
   "id": "5207676d",
   "metadata": {},
   "outputs": [],
   "source": [
    "# What crs is the tract in?"
   ]
  },
  {
   "cell_type": "code",
   "execution_count": null,
   "id": "0643340a",
   "metadata": {},
   "outputs": [],
   "source": [
    "# What size in the tract file?"
   ]
  },
  {
   "cell_type": "code",
   "execution_count": null,
   "id": "4f6cb71e",
   "metadata": {},
   "outputs": [],
   "source": [
    "# What are the data types of each column?"
   ]
  },
  {
   "cell_type": "code",
   "execution_count": null,
   "id": "dd12c3a8-e2c9-4c1c-aa35-0870f71bcd67",
   "metadata": {
    "scrolled": true
   },
   "outputs": [],
   "source": [
    "# Reproject shapefile to UTM Zone 17N\n",
    "# https://spatialreference.org/ref/epsg/wgs-84-utm-zone-17n/\n",
    "mt_tract = mt_tract.to_crs(epsg = 32617)\n",
    "print(mt_tract.crs)\n",
    "mt_tract.head()"
   ]
  },
  {
   "cell_type": "markdown",
   "id": "ad5f08f9",
   "metadata": {},
   "source": [
    "#### GEOID\n",
    "Notice that the `mt_tract` has a `GEOID` column but `mt_df` does not. So we need to combine the FIPS columns into a single GEOID that we can use to merge onto the shape file. This is pretty easy with simple string addition. "
   ]
  },
  {
   "cell_type": "markdown",
   "id": "c9a6c013",
   "metadata": {},
   "source": [
    "<div class=\"run\">\n",
    "    ▶️ <b> Run the cells below. </b>\n",
    "</div>"
   ]
  },
  {
   "cell_type": "code",
   "execution_count": null,
   "id": "98060b6d-ad21-42e8-b854-6360d6b92660",
   "metadata": {
    "tags": []
   },
   "outputs": [],
   "source": [
    "# Combine state, county, and tract columns together to create a new string and assign to new column\n",
    "mt_df[\"GEOID\"] = mt_df[\"state\"] + mt_df[\"county\"] + mt_df[\"tract\"]"
   ]
  },
  {
   "cell_type": "code",
   "execution_count": null,
   "id": "31d2db7d-4f6d-4db6-9b82-666dd4b96c13",
   "metadata": {
    "tags": []
   },
   "outputs": [],
   "source": [
    "# Print head of dataframe\n",
    "mt_df.head(2)"
   ]
  },
  {
   "cell_type": "code",
   "execution_count": null,
   "id": "26e00177-287c-44ad-a678-402e712fd156",
   "metadata": {
    "scrolled": true,
    "tags": []
   },
   "outputs": [],
   "source": [
    "# Remove columns we won't need later\n",
    "mt_df = mt_df.drop(columns = [\"state\", \"county\", \"tract\"])\n",
    "\n",
    "# Show updated dataframe\n",
    "mt_df.head(2)"
   ]
  },
  {
   "cell_type": "markdown",
   "id": "7e135816",
   "metadata": {},
   "source": [
    "#### Check the data types\n",
    "It's always good to check the data types before you merge two DataFrames to make sure that they will merge correctly."
   ]
  },
  {
   "cell_type": "markdown",
   "id": "91362433",
   "metadata": {},
   "source": [
    "<div class=\"run\">\n",
    "    ▶️ <b> Run the cells below. </b>\n",
    "</div>"
   ]
  },
  {
   "cell_type": "code",
   "execution_count": null,
   "id": "23cefc44-d420-412d-8017-7af3e3df9001",
   "metadata": {
    "tags": []
   },
   "outputs": [],
   "source": [
    "# Check column data types for census data\n",
    "print(\"Column data types for census data:\\n{}\".format(mt_df.dtypes))\n",
    "\n",
    "# Check column data types for census shapefile\n",
    "print(\"\\nColumn data types for census shapefile:\\n{}\".format(mt_tract.dtypes))"
   ]
  },
  {
   "cell_type": "markdown",
   "id": "4a4088dc",
   "metadata": {},
   "source": [
    "Now merge the two DataFrames"
   ]
  },
  {
   "cell_type": "markdown",
   "id": "8eed3107",
   "metadata": {},
   "source": [
    "<div class=\"run\">\n",
    "    ▶️ <b> Run the cells below. </b>\n",
    "</div>"
   ]
  },
  {
   "cell_type": "code",
   "execution_count": null,
   "id": "75e6ab11-1a1e-4974-874a-641a9b8ae838",
   "metadata": {
    "tags": []
   },
   "outputs": [],
   "source": [
    "# Join the attributes of the dataframes together\n",
    "mt_merge = mt_tract.merge(mt_df, on = \"GEOID\")\n",
    "mt_merge.head()"
   ]
  },
  {
   "cell_type": "code",
   "execution_count": null,
   "id": "37f12138",
   "metadata": {},
   "outputs": [],
   "source": [
    "# What data types are the columns?"
   ]
  },
  {
   "cell_type": "markdown",
   "id": "603134bc",
   "metadata": {},
   "source": [
    "#### Poverty Rates\n",
    "Now let's select a few columns to make our DateFrame easier to manage. Notice that we are using `.copy()` and since pd.DataFrame.copy() produces a **deep copy by default** we have a new object in memory and Python will not throw runtime warnings.\n",
    "\n",
    "To estimate poverty rates, we need to take the poverty ratios and divide them by the total number of people in each census tract."
   ]
  },
  {
   "cell_type": "markdown",
   "id": "3a1f4f3f",
   "metadata": {},
   "source": [
    "<div class=\"run\">\n",
    "    ▶️ <b> Run the cells below. </b>\n",
    "</div>"
   ]
  },
  {
   "cell_type": "code",
   "execution_count": null,
   "id": "a9b3e4c9-f4a5-4e32-b6ee-56b8d37e7623",
   "metadata": {
    "scrolled": true,
    "tags": []
   },
   "outputs": [],
   "source": [
    "# Create new dataframe from select columns\n",
    "mt_poverty_tract = mt_merge[[\"STATEFP\", \"COUNTYFP\", \"TRACTCE\", \n",
    "                             \"GEOID\", \"geometry\", \"C17002_001E\", \n",
    "                             \"C17002_002E\", \"C17002_003E\", \"B01003_001E\"]].copy()\n",
    "mt_poverty_tract.head()"
   ]
  },
  {
   "cell_type": "code",
   "execution_count": null,
   "id": "a9607aa2",
   "metadata": {},
   "outputs": [],
   "source": [
    "# Get poverty rate and store mtlues in new column\n",
    "mt_poverty_tract[\"Poverty_Rate\"] = (mt_poverty_tract[\"C17002_002E\"] \n",
    "                                     + mt_poverty_tract[\"C17002_003E\"]) / mt_poverty_tract[\"B01003_001E\"] * 100"
   ]
  },
  {
   "cell_type": "markdown",
   "id": "6ff539f3",
   "metadata": {},
   "source": [
    "#### Now plot the data:"
   ]
  },
  {
   "cell_type": "code",
   "execution_count": null,
   "id": "24e64751",
   "metadata": {},
   "outputs": [],
   "source": [
    "# Create subplots\n",
    "fig, ax = plt.subplots(1, 1, figsize = (20, 10))\n",
    "mt_poverty_tract.plot(column = 'Poverty_Rate', ax = ax, cmap = 'RdPu', legend=True)\n",
    "\n",
    "# Stylize plots\n",
    "plt.style.use('bmh')\n",
    "\n",
    "# Set title\n",
    "ax.set_title('Poverty Rates (%) in Montana by Census Tract', fontdict = {'fontsize': '25', 'fontweight' : '3'})\n",
    "\n",
    "# Hide grid lines\n",
    "ax.grid(False)\n",
    "\n",
    "# Hide axes ticks\n",
    "ax.set_xticks([])\n",
    "ax.set_yticks([])\n",
    "\n",
    "# Set background color\n",
    "ax.set_facecolor('white')\n",
    "\n",
    "# show the plot\n",
    "plt.show()"
   ]
  },
  {
   "cell_type": "markdown",
   "id": "03b394d6",
   "metadata": {},
   "source": [
    "### Spatial Aggregation\n",
    "<hr style=\"border-top: 0.2px solid gray; margin-top: 12px; margin-bottom: 1px\"></hr>\n",
    "\n",
    "We may want to aggregate data to the county level. This is very easy to do with `GeoPandas` and uses a spatial [`dissolve`](https://geopandas.org/en/stable/docs/user_guide/aggregation_with_dissolve.html) methods just like ArcGIS or QGIS. In short, `dissolve` uses catagorical data to dissolve the boundaries between ajoining polygons with the same catagorical value. In this case, we will use the `COUNTYFP` code to disscolve the census tract level data. We will need to pass an aggregation method (see [here](https://geopandas.org/en/stable/docs/user_guide/aggregation_with_dissolve.html). In this case, we'll use `sum`."
   ]
  },
  {
   "cell_type": "markdown",
   "id": "2e4e9583",
   "metadata": {},
   "source": [
    "<div class=\"run\">\n",
    "    ▶️ <b> Run the cells below. </b>\n",
    "</div>"
   ]
  },
  {
   "cell_type": "code",
   "execution_count": null,
   "id": "89b50bd1",
   "metadata": {},
   "outputs": [],
   "source": [
    "# Dissolve data\n",
    "mt_poverty_tract_d = mt_merge[[\"STATEFP\", \"COUNTYFP\", \"TRACTCE\", \n",
    "                             \"GEOID\", \"geometry\", \"C17002_001E\", \n",
    "                             \"C17002_002E\", \"C17002_003E\", \"B01003_001E\"]].copy()\n",
    "mt_poverty_county = mt_poverty_tract_d .dissolve(by = 'COUNTYFP', aggfunc = 'sum')\n",
    "mt_poverty_county.head()"
   ]
  },
  {
   "cell_type": "code",
   "execution_count": null,
   "id": "e54367a8",
   "metadata": {},
   "outputs": [],
   "source": [
    "# Use the dataframe's shape to see how many counties there are in Montana"
   ]
  },
  {
   "cell_type": "code",
   "execution_count": null,
   "id": "4b613722-3e3b-4696-aa75-533e96240955",
   "metadata": {
    "tags": []
   },
   "outputs": [],
   "source": [
    "# Get poverty rate and store mtlues in new column\n",
    "mt_poverty_county[\"Poverty_Rate\"] = (mt_poverty_county[\"C17002_002E\"] + \n",
    "                                     mt_poverty_county[\"C17002_003E\"]) / mt_poverty_county[\"B01003_001E\"] * 100\n",
    "\n",
    "# Show dataframe\n",
    "mt_poverty_county.head(2)"
   ]
  },
  {
   "cell_type": "code",
   "execution_count": null,
   "id": "d8745770-e13f-42ca-b05d-46d4ce8a5d2d",
   "metadata": {
    "tags": []
   },
   "outputs": [],
   "source": [
    "# Create subplots\n",
    "fig, ax = plt.subplots(1, 1, figsize = (20, 10))\n",
    "\n",
    "# Plot data\n",
    "mt_poverty_county.plot(column = \"Poverty_Rate\",\n",
    "                       ax = ax,\n",
    "                       cmap = \"RdPu\",\n",
    "                       legend = True)\n",
    "\n",
    "# Stylize plots\n",
    "plt.style.use('bmh')\n",
    "\n",
    "# Set title\n",
    "ax.set_title('Poverty Rates (%) in Montana by County', fontdict = {'fontsize': '25', 'fontweight' : '3'})\n",
    "\n",
    "# Hide grid lines\n",
    "ax.grid(False)\n",
    "\n",
    "# Hide axes ticks\n",
    "ax.set_xticks([])\n",
    "ax.set_yticks([])\n",
    "\n",
    "# Set background color\n",
    "ax.set_facecolor('white')\n",
    "\n",
    "# show the plot\n",
    "plt.show()"
   ]
  }
 ],
 "metadata": {
  "kernelspec": {
   "display_name": "Python 3 (ipykernel)",
   "language": "python",
   "name": "python3"
  },
  "language_info": {
   "codemirror_mode": {
    "name": "ipython",
    "version": 3
   },
   "file_extension": ".py",
   "mimetype": "text/x-python",
   "name": "python",
   "nbconvert_exporter": "python",
   "pygments_lexer": "ipython3",
   "version": "3.9.15"
  }
 },
 "nbformat": 4,
 "nbformat_minor": 5
}
