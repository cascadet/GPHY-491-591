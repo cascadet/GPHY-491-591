{
 "cells": [
  {
   "cell_type": "code",
   "execution_count": 1,
   "id": "00dd39fb-ee70-4adc-a32d-fdf955d632dc",
   "metadata": {},
   "outputs": [],
   "source": [
    "import os \n",
    "import xarray as xr\n",
    "import numpy as np\n",
    "import pandas as pd\n",
    "import geopandas as gpd\n",
    "import rasterio \n",
    "import rioxarray as rio\n",
    "from glob import glob\n",
    "from rasterio.enums import Resampling\n",
    "import xarray as xr\n",
    "from scipy.stats import variation \n",
    "import rasterio.mask\n",
    "from rasterstats import zonal_stats, gen_zonal_stats\n",
    "import matplotlib.pyplot as plt\n",
    "import matplotlib.patches as patches"
   ]
  },
  {
   "cell_type": "code",
   "execution_count": 2,
   "id": "91d0dccd-6a47-4406-8465-e173f4f32f22",
   "metadata": {},
   "outputs": [],
   "source": [
    "# File paths\n",
    "data_in = os.path.join('../../course-materials/GPHY-491-591/data/tutorial011/')\n",
    "data_out = os.path.join('./data/')"
   ]
  },
  {
   "cell_type": "code",
   "execution_count": 3,
   "id": "0f7db83e-535f-47b4-a9aa-310767f3dd0a",
   "metadata": {},
   "outputs": [],
   "source": [
    "# Functions\n",
    "def raster_clip(rst_fn, polys, fn_out):    \n",
    "    \"\"\"\n",
    "    Clips a raster file to the extent of the provided polygons and saves the result to a new file.\n",
    "\n",
    "    Args:\n",
    "        rst_fn (str): The file path and name of the input raster (.tif) file that you want to clip.\n",
    "        polys (list of dict or geopandas.GeoDataFrame): The polygons used to define the clipping region. These should be in the same coordinate reference system (CRS) as the raster.\n",
    "        fn_out (str): The file path and name where the clipped raster (.tif) file will be saved.\n",
    "\n",
    "    Process:\n",
    "        1. Opens the input raster file.\n",
    "        2. Clips the raster data based on the provided polygon geometry.\n",
    "        3. Updates the raster's metadata to reflect the new dimensions and transformation.\n",
    "        4. Saves the clipped raster data to the specified output file.\n",
    "\n",
    "    Example:\n",
    "        raster_clip('input.tif', [polygon1, polygon2], 'clipped_output.tif')\n",
    "\n",
    "    Notes:\n",
    "        - The polygons should be in GeoJSON format, or compatible geometry formats supported by `rasterio.mask`.\n",
    "        - The clipping process will crop the raster to the bounding box of the polygons and mask out the areas outside the polygons.\n",
    "        - The input and output files should be in GeoTIFF (.tif) format.\n",
    "    \"\"\"\n",
    "    \n",
    "    # clip raster\n",
    "    with rasterio.open(rst_fn) as src:\n",
    "        out_image, out_transform = rasterio.mask.mask(src, polys, crop=True)\n",
    "        out_meta = src.meta\n",
    "        \n",
    "    # Update meta data\n",
    "    out_meta.update({\"driver\": \"GTiff\",\n",
    "                 \"height\": out_image.shape[1],\n",
    "                 \"width\": out_image.shape[2],\n",
    "                 \"transform\": out_transform})\n",
    "    \n",
    "    # write image \n",
    "    with rasterio.open(fn_out, \"w\", **out_meta) as dest:\n",
    "        dest.write(out_image)"
   ]
  },
  {
   "cell_type": "code",
   "execution_count": 4,
   "id": "6a6ff135-a83b-4a3a-ba31-3fb94659832d",
   "metadata": {},
   "outputs": [],
   "source": [
    "esri_path = os.path.join(data_in + 'ESRI_WPE_2016_Pop/WPE_1KM_2016_Pop.tif')"
   ]
  },
  {
   "cell_type": "code",
   "execution_count": 5,
   "id": "ed54a63e-5f38-4918-b7af-74d1cd171fc5",
   "metadata": {
    "scrolled": true
   },
   "outputs": [
    {
     "data": {
      "text/plain": [
       "{'driver': 'GTiff',\n",
       " 'dtype': 'int32',\n",
       " 'nodata': -2147483647.0,\n",
       " 'width': 40074,\n",
       " 'height': 14285,\n",
       " 'count': 1,\n",
       " 'crs': CRS.from_epsg(4326),\n",
       " 'transform': Affine(0.008983196, 0.0, -179.99191516916386,\n",
       "        0.0, -0.008983196, 73.32432599999953)}"
      ]
     },
     "execution_count": 5,
     "metadata": {},
     "output_type": "execute_result"
    }
   ],
   "source": [
    "rasterio.open(esri_path).meta"
   ]
  },
  {
   "cell_type": "code",
   "execution_count": 6,
   "id": "29b2481c-870b-4aee-a2b2-2f2473d3987a",
   "metadata": {},
   "outputs": [],
   "source": [
    "# Open shape file\n",
    "polys_fn = os.path.join(data_in + 'GPWv4-boundaries/gwpv4_npl_admin4.shp')\n",
    "polys = gpd.read_file(polys_fn)\n",
    "shapes = polys[\"geometry\"]"
   ]
  },
  {
   "cell_type": "code",
   "execution_count": 7,
   "id": "680de830-17d4-4a9f-9fdd-3f0f3aabebe0",
   "metadata": {},
   "outputs": [
    {
     "name": "stdout",
     "output_type": "stream",
     "text": [
      "./data/esri2016_npl.tif\n"
     ]
    }
   ],
   "source": [
    "# Clip ESRI Data\n",
    "out = os.path.join(data_out, 'esri2016_npl.tif')\n",
    "print(out)\n",
    "raster_clip(rst_fn = esri_path, polys = shapes, fn_out = out)"
   ]
  },
  {
   "cell_type": "code",
   "execution_count": 8,
   "id": "06292fa7-1b25-47b8-8578-22c4f60c8296",
   "metadata": {},
   "outputs": [
    {
     "data": {
      "text/plain": [
       "array([[-2147483647, -2147483647, -2147483647, ..., -2147483647,\n",
       "        -2147483647, -2147483647],\n",
       "       [-2147483647, -2147483647, -2147483647, ..., -2147483647,\n",
       "        -2147483647, -2147483647],\n",
       "       [-2147483647, -2147483647, -2147483647, ..., -2147483647,\n",
       "        -2147483647, -2147483647],\n",
       "       ...,\n",
       "       [-2147483647, -2147483647, -2147483647, ..., -2147483647,\n",
       "        -2147483647, -2147483647],\n",
       "       [-2147483647, -2147483647, -2147483647, ..., -2147483647,\n",
       "        -2147483647, -2147483647],\n",
       "       [-2147483647, -2147483647, -2147483647, ..., -2147483647,\n",
       "        -2147483647, -2147483647]], dtype=int32)"
      ]
     },
     "execution_count": 8,
     "metadata": {},
     "output_type": "execute_result"
    }
   ],
   "source": [
    "arr = rasterio.open(out).read(1)\n",
    "arr"
   ]
  },
  {
   "cell_type": "code",
   "execution_count": 9,
   "id": "b63acc09-69ec-4adb-b2c0-10ed0869b438",
   "metadata": {
    "scrolled": true
   },
   "outputs": [
    {
     "data": {
      "text/plain": [
       "<matplotlib.image.AxesImage at 0x7fd9b70655b0>"
      ]
     },
     "execution_count": 9,
     "metadata": {},
     "output_type": "execute_result"
    },
    {
     "data": {
      "image/png": "[encoded data removed]",
      "text/plain": [
       "<Figure size 640x480 with 1 Axes>"
      ]
     },
     "metadata": {},
     "output_type": "display_data"
    }
   ],
   "source": [
    "plt.imshow(arr)"
   ]
  },
  {
   "cell_type": "code",
   "execution_count": 10,
   "id": "361854c5-515e-450a-917c-03bb0deb4dfb",
   "metadata": {},
   "outputs": [],
   "source": [
    "esri_path = os.path.join(data_in + 'ESRI_WPE_2016_Pop/WPE_1KM_2016_Pop.tif')"
   ]
  },
  {
   "cell_type": "code",
   "execution_count": 11,
   "id": "ff47c83b-3e27-4285-8f13-7934cc309479",
   "metadata": {
    "scrolled": true
   },
   "outputs": [
    {
     "name": "stdout",
     "output_type": "stream",
     "text": [
      "EPSG:4326\n"
     ]
    },
    {
     "data": {
      "text/html": [
       "<div><svg style=\"position: absolute; width: 0; height: 0; overflow: hidden\">\n",
       "<defs>\n",
       "<symbol id=\"icon-database\" viewBox=\"0 0 32 32\">\n",
       "<path d=\"M16 0c-8.837 0-16 2.239-16 5v4c0 2.761 7.163 5 16 5s16-2.239 16-5v-4c0-2.761-7.163-5-16-5z\"></path>\n",
       "<path d=\"M16 17c-8.837 0-16-2.239-16-5v6c0 2.761 7.163 5 16 5s16-2.239 16-5v-6c0 2.761-7.163 5-16 5z\"></path>\n",
       "<path d=\"M16 26c-8.837 0-16-2.239-16-5v6c0 2.761 7.163 5 16 5s16-2.239 16-5v-6c0 2.761-7.163 5-16 5z\"></path>\n",
       "</symbol>\n",
       "<symbol id=\"icon-file-text2\" viewBox=\"0 0 32 32\">\n",
       "<path d=\"M28.681 7.159c-0.694-0.947-1.662-2.053-2.724-3.116s-2.169-2.030-3.116-2.724c-1.612-1.182-2.393-1.319-2.841-1.319h-15.5c-1.378 0-2.5 1.121-2.5 2.5v27c0 1.378 1.122 2.5 2.5 2.5h23c1.378 0 2.5-1.122 2.5-2.5v-19.5c0-0.448-0.137-1.23-1.319-2.841zM24.543 5.457c0.959 0.959 1.712 1.825 2.268 2.543h-4.811v-4.811c0.718 0.556 1.584 1.309 2.543 2.268zM28 29.5c0 0.271-0.229 0.5-0.5 0.5h-23c-0.271 0-0.5-0.229-0.5-0.5v-27c0-0.271 0.229-0.5 0.5-0.5 0 0 15.499-0 15.5 0v7c0 0.552 0.448 1 1 1h7v19.5z\"></path>\n",
       "<path d=\"M23 26h-14c-0.552 0-1-0.448-1-1s0.448-1 1-1h14c0.552 0 1 0.448 1 1s-0.448 1-1 1z\"></path>\n",
       "<path d=\"M23 22h-14c-0.552 0-1-0.448-1-1s0.448-1 1-1h14c0.552 0 1 0.448 1 1s-0.448 1-1 1z\"></path>\n",
       "<path d=\"M23 18h-14c-0.552 0-1-0.448-1-1s0.448-1 1-1h14c0.552 0 1 0.448 1 1s-0.448 1-1 1z\"></path>\n",
       "</symbol>\n",
       "</defs>\n",
       "</svg>\n",
       "<style>/* CSS stylesheet for displaying xarray objects in jupyterlab.\n",
       " *\n",
       " */\n",
       "\n",
       ":root {\n",
       "  --xr-font-color0: var(--jp-content-font-color0, rgba(0, 0, 0, 1));\n",
       "  --xr-font-color2: var(--jp-content-font-color2, rgba(0, 0, 0, 0.54));\n",
       "  --xr-font-color3: var(--jp-content-font-color3, rgba(0, 0, 0, 0.38));\n",
       "  --xr-border-color: var(--jp-border-color2, #e0e0e0);\n",
       "  --xr-disabled-color: var(--jp-layout-color3, #bdbdbd);\n",
       "  --xr-background-color: var(--jp-layout-color0, white);\n",
       "  --xr-background-color-row-even: var(--jp-layout-color1, white);\n",
       "  --xr-background-color-row-odd: var(--jp-layout-color2, #eeeeee);\n",
       "}\n",
       "\n",
       "html[theme=dark],\n",
       "body[data-theme=dark],\n",
       "body.vscode-dark {\n",
       "  --xr-font-color0: rgba(255, 255, 255, 1);\n",
       "  --xr-font-color2: rgba(255, 255, 255, 0.54);\n",
       "  --xr-font-color3: rgba(255, 255, 255, 0.38);\n",
       "  --xr-border-color: #1F1F1F;\n",
       "  --xr-disabled-color: #515151;\n",
       "  --xr-background-color: #111111;\n",
       "  --xr-background-color-row-even: #111111;\n",
       "  --xr-background-color-row-odd: #313131;\n",
       "}\n",
       "\n",
       ".xr-wrap {\n",
       "  display: block !important;\n",
       "  min-width: 300px;\n",
       "  max-width: 700px;\n",
       "}\n",
       "\n",
       ".xr-text-repr-fallback {\n",
       "  /* fallback to plain text repr when CSS is not injected (untrusted notebook) */\n",
       "  display: none;\n",
       "}\n",
       "\n",
       ".xr-header {\n",
       "  padding-top: 6px;\n",
       "  padding-bottom: 6px;\n",
       "  margin-bottom: 4px;\n",
       "  border-bottom: solid 1px var(--xr-border-color);\n",
       "}\n",
       "\n",
       ".xr-header > div,\n",
       ".xr-header > ul {\n",
       "  display: inline;\n",
       "  margin-top: 0;\n",
       "  margin-bottom: 0;\n",
       "}\n",
       "\n",
       ".xr-obj-type,\n",
       ".xr-array-name {\n",
       "  margin-left: 2px;\n",
       "  margin-right: 10px;\n",
       "}\n",
       "\n",
       ".xr-obj-type {\n",
       "  color: var(--xr-font-color2);\n",
       "}\n",
       "\n",
       ".xr-sections {\n",
       "  padding-left: 0 !important;\n",
       "  display: grid;\n",
       "  grid-template-columns: 150px auto auto 1fr 20px 20px;\n",
       "}\n",
       "\n",
       ".xr-section-item {\n",
       "  display: contents;\n",
       "}\n",
       "\n",
       ".xr-section-item input {\n",
       "  display: none;\n",
       "}\n",
       "\n",
       ".xr-section-item input + label {\n",
       "  color: var(--xr-disabled-color);\n",
       "}\n",
       "\n",
       ".xr-section-item input:enabled + label {\n",
       "  cursor: pointer;\n",
       "  color: var(--xr-font-color2);\n",
       "}\n",
       "\n",
       ".xr-section-item input:enabled + label:hover {\n",
       "  color: var(--xr-font-color0);\n",
       "}\n",
       "\n",
       ".xr-section-summary {\n",
       "  grid-column: 1;\n",
       "  color: var(--xr-font-color2);\n",
       "  font-weight: 500;\n",
       "}\n",
       "\n",
       ".xr-section-summary > span {\n",
       "  display: inline-block;\n",
       "  padding-left: 0.5em;\n",
       "}\n",
       "\n",
       ".xr-section-summary-in:disabled + label {\n",
       "  color: var(--xr-font-color2);\n",
       "}\n",
       "\n",
       ".xr-section-summary-in + label:before {\n",
       "  display: inline-block;\n",
       "  content: '►';\n",
       "  font-size: 11px;\n",
       "  width: 15px;\n",
       "  text-align: center;\n",
       "}\n",
       "\n",
       ".xr-section-summary-in:disabled + label:before {\n",
       "  color: var(--xr-disabled-color);\n",
       "}\n",
       "\n",
       ".xr-section-summary-in:checked + label:before {\n",
       "  content: '▼';\n",
       "}\n",
       "\n",
       ".xr-section-summary-in:checked + label > span {\n",
       "  display: none;\n",
       "}\n",
       "\n",
       ".xr-section-summary,\n",
       ".xr-section-inline-details {\n",
       "  padding-top: 4px;\n",
       "  padding-bottom: 4px;\n",
       "}\n",
       "\n",
       ".xr-section-inline-details {\n",
       "  grid-column: 2 / -1;\n",
       "}\n",
       "\n",
       ".xr-section-details {\n",
       "  display: none;\n",
       "  grid-column: 1 / -1;\n",
       "  margin-bottom: 5px;\n",
       "}\n",
       "\n",
       ".xr-section-summary-in:checked ~ .xr-section-details {\n",
       "  display: contents;\n",
       "}\n",
       "\n",
       ".xr-array-wrap {\n",
       "  grid-column: 1 / -1;\n",
       "  display: grid;\n",
       "  grid-template-columns: 20px auto;\n",
       "}\n",
       "\n",
       ".xr-array-wrap > label {\n",
       "  grid-column: 1;\n",
       "  vertical-align: top;\n",
       "}\n",
       "\n",
       ".xr-preview {\n",
       "  color: var(--xr-font-color3);\n",
       "}\n",
       "\n",
       ".xr-array-preview,\n",
       ".xr-array-data {\n",
       "  padding: 0 5px !important;\n",
       "  grid-column: 2;\n",
       "}\n",
       "\n",
       ".xr-array-data,\n",
       ".xr-array-in:checked ~ .xr-array-preview {\n",
       "  display: none;\n",
       "}\n",
       "\n",
       ".xr-array-in:checked ~ .xr-array-data,\n",
       ".xr-array-preview {\n",
       "  display: inline-block;\n",
       "}\n",
       "\n",
       ".xr-dim-list {\n",
       "  display: inline-block !important;\n",
       "  list-style: none;\n",
       "  padding: 0 !important;\n",
       "  margin: 0;\n",
       "}\n",
       "\n",
       ".xr-dim-list li {\n",
       "  display: inline-block;\n",
       "  padding: 0;\n",
       "  margin: 0;\n",
       "}\n",
       "\n",
       ".xr-dim-list:before {\n",
       "  content: '(';\n",
       "}\n",
       "\n",
       ".xr-dim-list:after {\n",
       "  content: ')';\n",
       "}\n",
       "\n",
       ".xr-dim-list li:not(:last-child):after {\n",
       "  content: ',';\n",
       "  padding-right: 5px;\n",
       "}\n",
       "\n",
       ".xr-has-index {\n",
       "  font-weight: bold;\n",
       "}\n",
       "\n",
       ".xr-var-list,\n",
       ".xr-var-item {\n",
       "  display: contents;\n",
       "}\n",
       "\n",
       ".xr-var-item > div,\n",
       ".xr-var-item label,\n",
       ".xr-var-item > .xr-var-name span {\n",
       "  background-color: var(--xr-background-color-row-even);\n",
       "  margin-bottom: 0;\n",
       "}\n",
       "\n",
       ".xr-var-item > .xr-var-name:hover span {\n",
       "  padding-right: 5px;\n",
       "}\n",
       "\n",
       ".xr-var-list > li:nth-child(odd) > div,\n",
       ".xr-var-list > li:nth-child(odd) > label,\n",
       ".xr-var-list > li:nth-child(odd) > .xr-var-name span {\n",
       "  background-color: var(--xr-background-color-row-odd);\n",
       "}\n",
       "\n",
       ".xr-var-name {\n",
       "  grid-column: 1;\n",
       "}\n",
       "\n",
       ".xr-var-dims {\n",
       "  grid-column: 2;\n",
       "}\n",
       "\n",
       ".xr-var-dtype {\n",
       "  grid-column: 3;\n",
       "  text-align: right;\n",
       "  color: var(--xr-font-color2);\n",
       "}\n",
       "\n",
       ".xr-var-preview {\n",
       "  grid-column: 4;\n",
       "}\n",
       "\n",
       ".xr-index-preview {\n",
       "  grid-column: 2 / 5;\n",
       "  color: var(--xr-font-color2);\n",
       "}\n",
       "\n",
       ".xr-var-name,\n",
       ".xr-var-dims,\n",
       ".xr-var-dtype,\n",
       ".xr-preview,\n",
       ".xr-attrs dt {\n",
       "  white-space: nowrap;\n",
       "  overflow: hidden;\n",
       "  text-overflow: ellipsis;\n",
       "  padding-right: 10px;\n",
       "}\n",
       "\n",
       ".xr-var-name:hover,\n",
       ".xr-var-dims:hover,\n",
       ".xr-var-dtype:hover,\n",
       ".xr-attrs dt:hover {\n",
       "  overflow: visible;\n",
       "  width: auto;\n",
       "  z-index: 1;\n",
       "}\n",
       "\n",
       ".xr-var-attrs,\n",
       ".xr-var-data,\n",
       ".xr-index-data {\n",
       "  display: none;\n",
       "  background-color: var(--xr-background-color) !important;\n",
       "  padding-bottom: 5px !important;\n",
       "}\n",
       "\n",
       ".xr-var-attrs-in:checked ~ .xr-var-attrs,\n",
       ".xr-var-data-in:checked ~ .xr-var-data,\n",
       ".xr-index-data-in:checked ~ .xr-index-data {\n",
       "  display: block;\n",
       "}\n",
       "\n",
       ".xr-var-data > table {\n",
       "  float: right;\n",
       "}\n",
       "\n",
       ".xr-var-name span,\n",
       ".xr-var-data,\n",
       ".xr-index-name div,\n",
       ".xr-index-data,\n",
       ".xr-attrs {\n",
       "  padding-left: 25px !important;\n",
       "}\n",
       "\n",
       ".xr-attrs,\n",
       ".xr-var-attrs,\n",
       ".xr-var-data,\n",
       ".xr-index-data {\n",
       "  grid-column: 1 / -1;\n",
       "}\n",
       "\n",
       "dl.xr-attrs {\n",
       "  padding: 0;\n",
       "  margin: 0;\n",
       "  display: grid;\n",
       "  grid-template-columns: 125px auto;\n",
       "}\n",
       "\n",
       ".xr-attrs dt,\n",
       ".xr-attrs dd {\n",
       "  padding: 0;\n",
       "  margin: 0;\n",
       "  float: left;\n",
       "  padding-right: 10px;\n",
       "  width: auto;\n",
       "}\n",
       "\n",
       ".xr-attrs dt {\n",
       "  font-weight: normal;\n",
       "  grid-column: 1;\n",
       "}\n",
       "\n",
       ".xr-attrs dt:hover span {\n",
       "  display: inline-block;\n",
       "  background: var(--xr-background-color);\n",
       "  padding-right: 10px;\n",
       "}\n",
       "\n",
       ".xr-attrs dd {\n",
       "  grid-column: 2;\n",
       "  white-space: pre-wrap;\n",
       "  word-break: break-all;\n",
       "}\n",
       "\n",
       ".xr-icon-database,\n",
       ".xr-icon-file-text2,\n",
       ".xr-no-icon {\n",
       "  display: inline-block;\n",
       "  vertical-align: middle;\n",
       "  width: 1em;\n",
       "  height: 1.5em !important;\n",
       "  stroke-width: 0;\n",
       "  stroke: currentColor;\n",
       "  fill: currentColor;\n",
       "}\n",
       "</style><pre class='xr-text-repr-fallback'>&lt;xarray.DataArray (band: 1, y: 14285, x: 40074)&gt; Size: 2GB\n",
       "[572457090 values with dtype=int32]\n",
       "Coordinates:\n",
       "  * band         (band) int64 8B 1\n",
       "  * x            (x) float64 321kB -180.0 -180.0 -180.0 ... 180.0 180.0 180.0\n",
       "  * y            (y) float64 114kB 73.32 73.31 73.3 ... -54.98 -54.99 -55.0\n",
       "    spatial_ref  int64 8B 0\n",
       "Attributes:\n",
       "    AREA_OR_POINT:           Area\n",
       "    STATISTICS_MAXIMUM:      336720\n",
       "    STATISTICS_MEAN:         401.47917136019\n",
       "    STATISTICS_MINIMUM:      1\n",
       "    STATISTICS_SKIPFACTORX:  1\n",
       "    STATISTICS_SKIPFACTORY:  1\n",
       "    STATISTICS_STDDEV:       1594.7670745165\n",
       "    _FillValue:              -2147483647\n",
       "    scale_factor:            1.0\n",
       "    add_offset:              0.0</pre><div class='xr-wrap' style='display:none'><div class='xr-header'><div class='xr-obj-type'>xarray.DataArray</div><div class='xr-array-name'></div><ul class='xr-dim-list'><li><span class='xr-has-index'>band</span>: 1</li><li><span class='xr-has-index'>y</span>: 14285</li><li><span class='xr-has-index'>x</span>: 40074</li></ul></div><ul class='xr-sections'><li class='xr-section-item'><div class='xr-array-wrap'><input id='section-f058e47a-eacf-4160-ac54-ba3b4709b2aa' class='xr-array-in' type='checkbox' checked><label for='section-f058e47a-eacf-4160-ac54-ba3b4709b2aa' title='Show/hide data repr'><svg class='icon xr-icon-database'><use xlink:href='#icon-database'></use></svg></label><div class='xr-array-preview xr-preview'><span>...</span></div><div class='xr-array-data'><pre>[572457090 values with dtype=int32]</pre></div></div></li><li class='xr-section-item'><input id='section-1af66991-2764-444d-887c-0079a2965d95' class='xr-section-summary-in' type='checkbox'  checked><label for='section-1af66991-2764-444d-887c-0079a2965d95' class='xr-section-summary' >Coordinates: <span>(4)</span></label><div class='xr-section-inline-details'></div><div class='xr-section-details'><ul class='xr-var-list'><li class='xr-var-item'><div class='xr-var-name'><span class='xr-has-index'>band</span></div><div class='xr-var-dims'>(band)</div><div class='xr-var-dtype'>int64</div><div class='xr-var-preview xr-preview'>1</div><input id='attrs-145981b0-d0b1-429e-88d6-f4306aa4bfc1' class='xr-var-attrs-in' type='checkbox' disabled><label for='attrs-145981b0-d0b1-429e-88d6-f4306aa4bfc1' title='Show/Hide attributes'><svg class='icon xr-icon-file-text2'><use xlink:href='#icon-file-text2'></use></svg></label><input id='data-d8d20617-166e-408c-92d2-9fb91ab03de5' class='xr-var-data-in' type='checkbox'><label for='data-d8d20617-166e-408c-92d2-9fb91ab03de5' title='Show/Hide data repr'><svg class='icon xr-icon-database'><use xlink:href='#icon-database'></use></svg></label><div class='xr-var-attrs'><dl class='xr-attrs'></dl></div><div class='xr-var-data'><pre>array([1])</pre></div></li><li class='xr-var-item'><div class='xr-var-name'><span class='xr-has-index'>x</span></div><div class='xr-var-dims'>(x)</div><div class='xr-var-dtype'>float64</div><div class='xr-var-preview xr-preview'>-180.0 -180.0 ... 180.0 180.0</div><input id='attrs-6cadb376-8e4a-40e6-9723-ff24d40d5c7e' class='xr-var-attrs-in' type='checkbox' disabled><label for='attrs-6cadb376-8e4a-40e6-9723-ff24d40d5c7e' title='Show/Hide attributes'><svg class='icon xr-icon-file-text2'><use xlink:href='#icon-file-text2'></use></svg></label><input id='data-4f77564f-c0b6-4530-a825-e8d49b606e94' class='xr-var-data-in' type='checkbox'><label for='data-4f77564f-c0b6-4530-a825-e8d49b606e94' title='Show/Hide data repr'><svg class='icon xr-icon-database'><use xlink:href='#icon-database'></use></svg></label><div class='xr-var-attrs'><dl class='xr-attrs'></dl></div><div class='xr-var-data'><pre>array([-179.987424, -179.97844 , -179.969457, ...,  179.978223,  179.987207,\n",
       "        179.99619 ])</pre></div></li><li class='xr-var-item'><div class='xr-var-name'><span class='xr-has-index'>y</span></div><div class='xr-var-dims'>(y)</div><div class='xr-var-dtype'>float64</div><div class='xr-var-preview xr-preview'>73.32 73.31 73.3 ... -54.99 -55.0</div><input id='attrs-e34e22a8-4efc-447f-99aa-0fe07d8ee3a5' class='xr-var-attrs-in' type='checkbox' disabled><label for='attrs-e34e22a8-4efc-447f-99aa-0fe07d8ee3a5' title='Show/Hide attributes'><svg class='icon xr-icon-file-text2'><use xlink:href='#icon-file-text2'></use></svg></label><input id='data-45891a0a-560c-4e1e-8398-13fe525a8ae0' class='xr-var-data-in' type='checkbox'><label for='data-45891a0a-560c-4e1e-8398-13fe525a8ae0' title='Show/Hide data repr'><svg class='icon xr-icon-database'><use xlink:href='#icon-database'></use></svg></label><div class='xr-var-attrs'><dl class='xr-attrs'></dl></div><div class='xr-var-data'><pre>array([ 73.319834,  73.310851,  73.301868, ..., -54.978171, -54.987154,\n",
       "       -54.996137])</pre></div></li><li class='xr-var-item'><div class='xr-var-name'><span>spatial_ref</span></div><div class='xr-var-dims'>()</div><div class='xr-var-dtype'>int64</div><div class='xr-var-preview xr-preview'>0</div><input id='attrs-92989411-6077-476f-abc8-a44def9ba562' class='xr-var-attrs-in' type='checkbox' ><label for='attrs-92989411-6077-476f-abc8-a44def9ba562' title='Show/Hide attributes'><svg class='icon xr-icon-file-text2'><use xlink:href='#icon-file-text2'></use></svg></label><input id='data-a316b6d0-0f00-491b-b39e-f807a3e8c2e2' class='xr-var-data-in' type='checkbox'><label for='data-a316b6d0-0f00-491b-b39e-f807a3e8c2e2' title='Show/Hide data repr'><svg class='icon xr-icon-database'><use xlink:href='#icon-database'></use></svg></label><div class='xr-var-attrs'><dl class='xr-attrs'><dt><span>crs_wkt :</span></dt><dd>GEOGCS[&quot;WGS 84&quot;,DATUM[&quot;WGS_1984&quot;,SPHEROID[&quot;WGS 84&quot;,6378137,298.257223563,AUTHORITY[&quot;EPSG&quot;,&quot;7030&quot;]],AUTHORITY[&quot;EPSG&quot;,&quot;6326&quot;]],PRIMEM[&quot;Greenwich&quot;,0,AUTHORITY[&quot;EPSG&quot;,&quot;8901&quot;]],UNIT[&quot;degree&quot;,0.0174532925199433,AUTHORITY[&quot;EPSG&quot;,&quot;9122&quot;]],AXIS[&quot;Latitude&quot;,NORTH],AXIS[&quot;Longitude&quot;,EAST],AUTHORITY[&quot;EPSG&quot;,&quot;4326&quot;]]</dd><dt><span>semi_major_axis :</span></dt><dd>6378137.0</dd><dt><span>semi_minor_axis :</span></dt><dd>6356752.314245179</dd><dt><span>inverse_flattening :</span></dt><dd>298.257223563</dd><dt><span>reference_ellipsoid_name :</span></dt><dd>WGS 84</dd><dt><span>longitude_of_prime_meridian :</span></dt><dd>0.0</dd><dt><span>prime_meridian_name :</span></dt><dd>Greenwich</dd><dt><span>geographic_crs_name :</span></dt><dd>WGS 84</dd><dt><span>horizontal_datum_name :</span></dt><dd>World Geodetic System 1984</dd><dt><span>grid_mapping_name :</span></dt><dd>latitude_longitude</dd><dt><span>spatial_ref :</span></dt><dd>GEOGCS[&quot;WGS 84&quot;,DATUM[&quot;WGS_1984&quot;,SPHEROID[&quot;WGS 84&quot;,6378137,298.257223563,AUTHORITY[&quot;EPSG&quot;,&quot;7030&quot;]],AUTHORITY[&quot;EPSG&quot;,&quot;6326&quot;]],PRIMEM[&quot;Greenwich&quot;,0,AUTHORITY[&quot;EPSG&quot;,&quot;8901&quot;]],UNIT[&quot;degree&quot;,0.0174532925199433,AUTHORITY[&quot;EPSG&quot;,&quot;9122&quot;]],AXIS[&quot;Latitude&quot;,NORTH],AXIS[&quot;Longitude&quot;,EAST],AUTHORITY[&quot;EPSG&quot;,&quot;4326&quot;]]</dd><dt><span>GeoTransform :</span></dt><dd>-179.99191516916386 0.008983196 0.0 73.32432599999953 0.0 -0.008983196</dd></dl></div><div class='xr-var-data'><pre>array(0)</pre></div></li></ul></div></li><li class='xr-section-item'><input id='section-62d546af-20d4-4bb7-b98f-b6557f7c8131' class='xr-section-summary-in' type='checkbox'  ><label for='section-62d546af-20d4-4bb7-b98f-b6557f7c8131' class='xr-section-summary' >Indexes: <span>(3)</span></label><div class='xr-section-inline-details'></div><div class='xr-section-details'><ul class='xr-var-list'><li class='xr-var-item'><div class='xr-index-name'><div>band</div></div><div class='xr-index-preview'>PandasIndex</div><div></div><input id='index-d55beaf0-ede7-4347-a746-d9286c5fa786' class='xr-index-data-in' type='checkbox'/><label for='index-d55beaf0-ede7-4347-a746-d9286c5fa786' title='Show/Hide index repr'><svg class='icon xr-icon-database'><use xlink:href='#icon-database'></use></svg></label><div class='xr-index-data'><pre>PandasIndex(Index([1], dtype=&#x27;int64&#x27;, name=&#x27;band&#x27;))</pre></div></li><li class='xr-var-item'><div class='xr-index-name'><div>x</div></div><div class='xr-index-preview'>PandasIndex</div><div></div><input id='index-9383fb62-0953-41b7-9ed9-91ef80f4b414' class='xr-index-data-in' type='checkbox'/><label for='index-9383fb62-0953-41b7-9ed9-91ef80f4b414' title='Show/Hide index repr'><svg class='icon xr-icon-database'><use xlink:href='#icon-database'></use></svg></label><div class='xr-index-data'><pre>PandasIndex(Index([-179.98742357116387, -179.97844037516387, -179.96945717916387,\n",
       "       -179.96047398316387, -179.95149078716386, -179.94250759116386,\n",
       "        -179.9335243951639, -179.92454119916388, -179.91555800316388,\n",
       "       -179.90657480716388,\n",
       "       ...\n",
       "        179.91534097283616,  179.92432416883614,  179.93330736483617,\n",
       "        179.94229056083614,  179.95127375683617,  179.96025695283615,\n",
       "        179.96924014883618,  179.97822334483615,  179.98720654083613,\n",
       "        179.99618973683616],\n",
       "      dtype=&#x27;float64&#x27;, name=&#x27;x&#x27;, length=40074))</pre></div></li><li class='xr-var-item'><div class='xr-index-name'><div>y</div></div><div class='xr-index-preview'>PandasIndex</div><div></div><input id='index-b5ea395b-480a-48cd-9621-d52f9d09e7aa' class='xr-index-data-in' type='checkbox'/><label for='index-b5ea395b-480a-48cd-9621-d52f9d09e7aa' title='Show/Hide index repr'><svg class='icon xr-icon-database'><use xlink:href='#icon-database'></use></svg></label><div class='xr-index-data'><pre>PandasIndex(Index([  73.31983440199953,   73.31085120599953,   73.30186800999952,\n",
       "         73.29288481399954,   73.28390161799953,   73.27491842199953,\n",
       "         73.26593522599953,   73.25695202999952,   73.24796883399952,\n",
       "         73.23898563799953,\n",
       "       ...\n",
       "        -54.91528849800049,  -54.92427169400047,  -54.93325489000047,\n",
       "        -54.94223808600047, -54.951221282000475,  -54.96020447800048,\n",
       "        -54.96918767400048,  -54.97817087000048, -54.987154066000485,\n",
       "        -54.99613726200049],\n",
       "      dtype=&#x27;float64&#x27;, name=&#x27;y&#x27;, length=14285))</pre></div></li></ul></div></li><li class='xr-section-item'><input id='section-ab7f7d9d-2e1a-435e-8a39-6530617f5d4b' class='xr-section-summary-in' type='checkbox'  ><label for='section-ab7f7d9d-2e1a-435e-8a39-6530617f5d4b' class='xr-section-summary' >Attributes: <span>(10)</span></label><div class='xr-section-inline-details'></div><div class='xr-section-details'><dl class='xr-attrs'><dt><span>AREA_OR_POINT :</span></dt><dd>Area</dd><dt><span>STATISTICS_MAXIMUM :</span></dt><dd>336720</dd><dt><span>STATISTICS_MEAN :</span></dt><dd>401.47917136019</dd><dt><span>STATISTICS_MINIMUM :</span></dt><dd>1</dd><dt><span>STATISTICS_SKIPFACTORX :</span></dt><dd>1</dd><dt><span>STATISTICS_SKIPFACTORY :</span></dt><dd>1</dd><dt><span>STATISTICS_STDDEV :</span></dt><dd>1594.7670745165</dd><dt><span>_FillValue :</span></dt><dd>-2147483647</dd><dt><span>scale_factor :</span></dt><dd>1.0</dd><dt><span>add_offset :</span></dt><dd>0.0</dd></dl></div></li></ul></div></div>"
      ],
      "text/plain": [
       "<xarray.DataArray (band: 1, y: 14285, x: 40074)> Size: 2GB\n",
       "[572457090 values with dtype=int32]\n",
       "Coordinates:\n",
       "  * band         (band) int64 8B 1\n",
       "  * x            (x) float64 321kB -180.0 -180.0 -180.0 ... 180.0 180.0 180.0\n",
       "  * y            (y) float64 114kB 73.32 73.31 73.3 ... -54.98 -54.99 -55.0\n",
       "    spatial_ref  int64 8B 0\n",
       "Attributes:\n",
       "    AREA_OR_POINT:           Area\n",
       "    STATISTICS_MAXIMUM:      336720\n",
       "    STATISTICS_MEAN:         401.47917136019\n",
       "    STATISTICS_MINIMUM:      1\n",
       "    STATISTICS_SKIPFACTORX:  1\n",
       "    STATISTICS_SKIPFACTORY:  1\n",
       "    STATISTICS_STDDEV:       1594.7670745165\n",
       "    _FillValue:              -2147483647\n",
       "    scale_factor:            1.0\n",
       "    add_offset:              0.0"
      ]
     },
     "execution_count": 11,
     "metadata": {},
     "output_type": "execute_result"
    }
   ],
   "source": [
    "esri = rio.open_rasterio(esri_path)\n",
    "print(esri.rio.crs)\n",
    "esri"
   ]
  },
  {
   "cell_type": "code",
   "execution_count": null,
   "id": "1a89c277-e4b1-47fd-bc74-c56cc608196e",
   "metadata": {},
   "outputs": [],
   "source": []
  },
  {
   "cell_type": "code",
   "execution_count": 12,
   "id": "c8f746d8-1905-41e7-be2b-bb51e37cc36c",
   "metadata": {},
   "outputs": [
    {
     "ename": "NameError",
     "evalue": "name 'gpw_path' is not defined",
     "output_type": "error",
     "traceback": [
      "\u001b[0;31m---------------------------------------------------------------------------\u001b[0m",
      "\u001b[0;31mNameError\u001b[0m                                 Traceback (most recent call last)",
      "Cell \u001b[0;32mIn[12], line 1\u001b[0m\n\u001b[0;32m----> 1\u001b[0m gpw \u001b[38;5;241m=\u001b[39m rio\u001b[38;5;241m.\u001b[39mopen_rasterio(\u001b[43mgpw_path\u001b[49m)\n\u001b[1;32m      2\u001b[0m \u001b[38;5;28mprint\u001b[39m(gpw\u001b[38;5;241m.\u001b[39mrio\u001b[38;5;241m.\u001b[39mcrs)\n\u001b[1;32m      3\u001b[0m gpw\n",
      "\u001b[0;31mNameError\u001b[0m: name 'gpw_path' is not defined"
     ]
    }
   ],
   "source": [
    "gpw = rio.open_rasterio(gpw_path)\n",
    "print(gpw.rio.crs)\n",
    "gpw"
   ]
  },
  {
   "cell_type": "code",
   "execution_count": null,
   "id": "19a17383-fc2e-480b-b6bb-92669e5f84f1",
   "metadata": {},
   "outputs": [],
   "source": [
    "print(esri.rio.nodata)\n",
    "print('ESRI nan value is', esri.data[0][0][0])\n",
    "print(gpw.rio.nodata)\n",
    "print('ESRI nan value is', gpw.data[0][0][0])"
   ]
  },
  {
   "cell_type": "code",
   "execution_count": null,
   "id": "657bccf6-83b5-4e91-8a56-e30687925e0d",
   "metadata": {},
   "outputs": [],
   "source": [
    "esri.data = np.where(esri.data < 1,-999, esri.data)\n",
    "esri.data"
   ]
  },
  {
   "cell_type": "code",
   "execution_count": null,
   "id": "d09ee299-6dcf-41bb-aad0-98c7801552dc",
   "metadata": {},
   "outputs": [],
   "source": [
    "gpw.data = np.where(gpw.data < 1,-999, gpw.data)\n",
    "gpw.data"
   ]
  },
  {
   "cell_type": "code",
   "execution_count": null,
   "id": "86ba027b-bff9-404a-af71-c4f6465eb261",
   "metadata": {},
   "outputs": [],
   "source": [
    "esri.rio.write_nodata(-999, inplace=True)"
   ]
  },
  {
   "cell_type": "code",
   "execution_count": null,
   "id": "91953ebe-bf87-4be0-83fe-28d1699c2c19",
   "metadata": {},
   "outputs": [],
   "source": [
    "gpw.rio.write_nodata(-999, inplace=True)"
   ]
  },
  {
   "cell_type": "code",
   "execution_count": null,
   "id": "7d07b51f-085f-4284-b4de-733c0cb36e99",
   "metadata": {},
   "outputs": [],
   "source": [
    "print(esri.rio.nodata)\n",
    "print(gpw.rio.nodata)"
   ]
  },
  {
   "cell_type": "code",
   "execution_count": null,
   "id": "37356f3e-f5d6-428c-8a47-88524c7af11f",
   "metadata": {},
   "outputs": [],
   "source": [
    "print(esri.attrs['_FillValue'])\n",
    "print(gpw.attrs['_FillValue'])"
   ]
  },
  {
   "cell_type": "code",
   "execution_count": null,
   "id": "1e0dde59-6993-4a68-af49-d0adff6be672",
   "metadata": {},
   "outputs": [],
   "source": [
    "esri_match = esri.rio.reproject_match(gpw)"
   ]
  },
  {
   "cell_type": "code",
   "execution_count": null,
   "id": "28b19322-0224-4937-8382-dd0ffb93b464",
   "metadata": {
    "scrolled": true
   },
   "outputs": [],
   "source": [
    "gpw_match = gpw.rio.reproject_match(gpw)"
   ]
  },
  {
   "cell_type": "code",
   "execution_count": null,
   "id": "a7eed3c0-3d05-46ef-a7be-52687cfa341d",
   "metadata": {},
   "outputs": [],
   "source": [
    "esri_match.rio.to_raster(data_out + 'esri2016_npl_matched.tif')"
   ]
  },
  {
   "cell_type": "code",
   "execution_count": null,
   "id": "779a82c5-47d3-4f9b-8148-afcdc2b91755",
   "metadata": {},
   "outputs": [],
   "source": [
    "rst_fn = data_out + 'esri2016_npl_matched.tif'"
   ]
  },
  {
   "cell_type": "code",
   "execution_count": null,
   "id": "d24799f1-0446-439c-baf4-966b1151f6bb",
   "metadata": {},
   "outputs": [],
   "source": [
    "# split for naming\n",
    "rst_nm = rst_fn.split('a/')[1].split('.tif')[0]\n",
    "print(rst_nm)\n"
   ]
  },
  {
   "cell_type": "code",
   "execution_count": null,
   "id": "79b998e4-9f64-4482-b420-0553c5531ca7",
   "metadata": {},
   "outputs": [],
   "source": [
    "# open pop rasters and get array\n",
    "arr = rasterio.open(rst_fn).read(1)\n",
    "mask = np.where(arr == -999, 0, 1)"
   ]
  },
  {
   "cell_type": "code",
   "execution_count": null,
   "id": "11729477-297c-4023-850a-160c6956c782",
   "metadata": {},
   "outputs": [],
   "source": [
    "# Open modis urban/rural land cover\n",
    "modis_match_fn = data_out+'MGUP15_2015-1km-npl-matched.tif'\n",
    "modis_arr = rasterio.open(modis_match_fn).read(1)\n",
    "modis_arr"
   ]
  },
  {
   "cell_type": "code",
   "execution_count": null,
   "id": "d24f4930-35fb-488a-84fb-9736c0787b13",
   "metadata": {},
   "outputs": [],
   "source": [
    "# multiply for urban\n",
    "lc_urban = modis_arr == 1\n",
    "arr_urban = arr * lc_urban * mask\n",
    "arr_urban \n"
   ]
  },
  {
   "cell_type": "code",
   "execution_count": null,
   "id": "d39a0e47-3d90-4cf9-b5f8-16a2ab386285",
   "metadata": {},
   "outputs": [],
   "source": [
    "plt.imshow(arr_urban)"
   ]
  },
  {
   "cell_type": "code",
   "execution_count": null,
   "id": "4d0cf343-d763-4c95-96a7-7c7606213869",
   "metadata": {},
   "outputs": [],
   "source": [
    "# multiply for rural\n",
    "lc_rural = modis_arr != 1\n",
    "arr_rural = arr * lc_rural * mask\n",
    "arr_rural"
   ]
  },
  {
   "cell_type": "code",
   "execution_count": null,
   "id": "322a72cd-1d7f-45d2-89c4-fee98c0c7240",
   "metadata": {},
   "outputs": [],
   "source": [
    "plt.imshow(arr_rural, vmin = 100)"
   ]
  },
  {
   "cell_type": "code",
   "execution_count": null,
   "id": "878ca9b0-89de-4193-b247-88bc355bf9f0",
   "metadata": {},
   "outputs": [],
   "source": [
    "# meta data\n",
    "meta = rasterio.open(rst_fn).meta\n",
    "\n",
    "# write out urban\n",
    "meta['dtype'] = arr_urban.dtype\n",
    "out_fn = data_out+rst_nm+'_urban.tif'\n",
    "print(out_fn)\n",
    "with rasterio.open(out_fn, 'w', **meta) as out:\n",
    "    out.write_band(1, arr_urban)\n",
    "\n",
    "# write out rural \n",
    "meta['dtype'] = arr_rural.dtype\n",
    "out_fn = data_out+rst_nm+'_rural.tif'\n",
    "print(out_fn)\n",
    "with rasterio.open(out_fn, 'w', **meta) as out:\n",
    "    out.write_band(1, arr_rural)\n",
    "print('done \\n')"
   ]
  },
  {
   "cell_type": "code",
   "execution_count": null,
   "id": "e88a6b1f-6f15-4435-aa46-4f1a24760411",
   "metadata": {},
   "outputs": [],
   "source": [
    "def poly_prep(polys_fn, col):\n",
    "    \"\"\"\n",
    "    Prepares polygon data for use in zonal statistics calculations by opening the file and subsetting the necessary columns.\n",
    "\n",
    "    Args:\n",
    "        polys_fn (str): The file path to the polygon shapefile or GeoJSON file containing the polygons.\n",
    "        col (str): The column name in the polygon file that will be retained along with the geometry for later use in the zonal statistics calculations.\n",
    "\n",
    "    Returns:\n",
    "        geopandas.GeoDataFrame: A GeoDataFrame containing only the geometry and the specified column from the input file.\n",
    "\n",
    "    Process:\n",
    "        1. Opens the polygon file using `geopandas.read_file()`.\n",
    "        2. Subsets the data to keep only the 'geometry' column and the specified column (`col`).\n",
    "        3. Returns the prepared GeoDataFrame for further use in zonal statistics or other spatial analyses.\n",
    "\n",
    "    Example:\n",
    "        polygons = poly_prep('earthquake_polygons.shp', 'admin_level')\n",
    "\n",
    "    Notes:\n",
    "        - Ensure that the input file is in a format readable by `geopandas`, such as a shapefile (.shp) or GeoJSON (.geojson).\n",
    "        - The column specified by `col` should be present in the input file, as it will be retained for later analysis.\n",
    "    \"\"\"    \n",
    "    # open\n",
    "    polys = gpd.read_file(polys_fn)\n",
    "    \n",
    "    # subset, be sure to check the admin level\n",
    "    polys = polys[['geometry', col]]\n",
    "    \n",
    "    return polys"
   ]
  },
  {
   "cell_type": "code",
   "execution_count": null,
   "id": "f421ba2e-e0e3-463d-ad51-e76ae99464a9",
   "metadata": {},
   "outputs": [],
   "source": [
    "# Open the shape map polygons\n",
    "nepal_polys_fn = os.path.join(data_in + 'USGS_Data/Nepal/shape/mi.shp')"
   ]
  },
  {
   "cell_type": "code",
   "execution_count": null,
   "id": "a40d0655-27a7-4bed-b921-f440df3eb53b",
   "metadata": {},
   "outputs": [],
   "source": [
    "# Subset the polygons\n",
    "col = 'PARAMVALUE'\n",
    "nepal_polys = poly_prep(nepal_polys_fn, col)\n",
    "nepal_polys.head()"
   ]
  },
  {
   "cell_type": "code",
   "execution_count": null,
   "id": "a970d9d3-9d41-4e5f-82f4-4ec01c947a35",
   "metadata": {},
   "outputs": [],
   "source": [
    "rst = './data/esri2016_npl.tif'"
   ]
  },
  {
   "cell_type": "code",
   "execution_count": null,
   "id": "a51d7c7d-a0ff-44bb-b477-5ef37bd6be07",
   "metadata": {},
   "outputs": [],
   "source": [
    "split = '_npl.tif'\n",
    "stats_type = 'sum'"
   ]
  },
  {
   "cell_type": "code",
   "execution_count": null,
   "id": "9349f1fb-01f1-434a-95a3-5732b16c60ac",
   "metadata": {
    "scrolled": true
   },
   "outputs": [],
   "source": [
    "polys_out = nepal_polys.copy()\n",
    "\n",
    "# Get data name\n",
    "print(rst)\n",
    "data = rst.split('data/')[1].split(split)[0].split('.tif')[0]\n",
    "print('Started', data)\n",
    "\n",
    "# Run zonal stats\n",
    "zs_feats = zonal_stats(nepal_polys, rst, stats=stats_type, geojson_out=True, nodata = -999.)\n",
    "zgdf = gpd.GeoDataFrame.from_features(zs_feats, crs=nepal_polys.crs)\n",
    "\n",
    "# Rename columns and merge\n",
    "zgdf = zgdf.rename(columns={stats_type: data+'_'+stats_type})\n",
    "npl_all = polys_out.merge(zgdf[[col, data+'_'+stats_type]], on = col, how = 'inner')"
   ]
  },
  {
   "cell_type": "code",
   "execution_count": null,
   "id": "2fb38c67-812f-490d-b2d4-cf317612f702",
   "metadata": {},
   "outputs": [],
   "source": [
    "rst = './data/esri2016_npl_matched_urban.tif'"
   ]
  },
  {
   "cell_type": "code",
   "execution_count": null,
   "id": "29fd8e33-0976-4043-90b1-b72540e17e65",
   "metadata": {},
   "outputs": [],
   "source": [
    "polys_out = nepal_polys.copy()\n",
    "\n",
    "# Get data name\n",
    "print(rst)\n",
    "data = rst.split('data/')[1].split(split)[0].split('.tif')[0]\n",
    "print('Started', data)\n",
    "\n",
    "# Run zonal stats\n",
    "zs_feats = zonal_stats(nepal_polys, rst, stats=stats_type, geojson_out=True, nodata = -999)\n",
    "zgdf = gpd.GeoDataFrame.from_features(zs_feats, crs=nepal_polys.crs)\n",
    "\n",
    "# Rename columns and merge\n",
    "zgdf = zgdf.rename(columns={stats_type: data+'_'+stats_type})\n",
    "urban_all = polys_out.merge(zgdf[[col, data+'_'+stats_type]], on = col, how = 'inner')"
   ]
  },
  {
   "cell_type": "code",
   "execution_count": null,
   "id": "202aefc9-02a4-4ffd-ba18-8e52901dfcf4",
   "metadata": {},
   "outputs": [],
   "source": [
    "rst = './data/esri2016_npl_matched_rural.tif'"
   ]
  },
  {
   "cell_type": "code",
   "execution_count": null,
   "id": "9ac71cda-e142-4c5a-ac56-b4b5abe34a50",
   "metadata": {},
   "outputs": [],
   "source": [
    "polys_out = nepal_polys.copy()\n",
    "\n",
    "# Get data name\n",
    "print(rst)\n",
    "data = rst.split('data/')[1].split(split)[0].split('.tif')[0]\n",
    "print('Started', data)\n",
    "\n",
    "# Run zonal stats\n",
    "zs_feats = zonal_stats(nepal_polys, rst, stats=stats_type, geojson_out=True, nodata = -999)\n",
    "zgdf = gpd.GeoDataFrame.from_features(zs_feats, crs=nepal_polys.crs)\n",
    "\n",
    "# Rename columns and merge\n",
    "zgdf = zgdf.rename(columns={stats_type: data+'_'+stats_type})\n",
    "rural_all = polys_out.merge(zgdf[[col, data+'_'+stats_type]], on = col, how = 'inner')"
   ]
  },
  {
   "cell_type": "code",
   "execution_count": null,
   "id": "b8c6f21a-bc96-4db6-aa90-9553457d0059",
   "metadata": {},
   "outputs": [],
   "source": [
    "round((urban_all.iloc[:,2] + rural_all.iloc[:,2]) / npl_all.iloc[:,2], 2)"
   ]
  }
 ],
 "metadata": {
  "kernelspec": {
   "display_name": "Python 3 (ipykernel)",
   "language": "python",
   "name": "python3"
  },
  "language_info": {
   "codemirror_mode": {
    "name": "ipython",
    "version": 3
   },
   "file_extension": ".py",
   "mimetype": "text/x-python",
   "name": "python",
   "nbconvert_exporter": "python",
   "pygments_lexer": "ipython3",
   "version": "3.9.15"
  }
 },
 "nbformat": 4,
 "nbformat_minor": 5
}
