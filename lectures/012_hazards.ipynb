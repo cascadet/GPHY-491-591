{
 "cells": [
  {
   "cell_type": "markdown",
   "id": "49f48f87",
   "metadata": {
    "tags": []
   },
   "source": [
    "# Interactive Session: Hazards \n",
    "\n",
    "\n",
    "We are now ready use our knowledge of integrating human and environmental geospatial datasets to understand exposure to natural hazards. We combine what we have learned so far to measure how many people were exposed to the devastating [2015 Nepal Earthquake](https://en.wikipedia.org/wiki/April_2015_Nepal_earthquake). This analysis comes from a paper ([link here](https://www.mdpi.com/1171374?trk=public_post_reshare-text)) published a few years ago. We look at how measures of exposure to three different natural disasters to illustrate how population exposure estimates can vary depending on the human dataset you use. This has big policy implications from resource allocation during response, to figuring out how much money is needed to rebuild.  \n",
    "\n",
    "In this session, we will use [five gridded population datasets](https://www.popgrid.org) and [earthquake data from USGS](https://earthquake.usgs.gov/earthquakes/eventpage/us20002ejl/executive). Gridded population datasets combine census data with remote-sensed and GIS data to infer high resolution population estimates in locations where we have a poor understanding of the population distribution. Broadly, there are two methods to create gridded population datasets: top-down and bottom-up. Top-down approaches use allocate coarse-grained census data to high-resolution grid cells based on where satellite/GIS data tells us where we think people live. Bottom-up approaches link high-resolution micro-census data to satellite/GIS data and then use computer vision algorithms to create populations maps (for more info, including the source of the image below, see [WorldPop](https://www.worldpop.org/methods/populations/). But because gridded population producers use different in-put data and algorithms, they produce different population estimates. This can create real-world proplems, like trying to measure how many people are effected by a major earthquake in an area lacking recent public, high-resolution census data. \n",
    "\n",
    "In this tutorial, we will be using a new package caller [`rioxarray`](https://corteva.github.io/rioxarray/stable/) which builds upon `rasterio` and is a bit more user friendly.\n",
    "\n",
    "<img src=\"./assets/wp.png\" alt=\"rastervector\" width=\"1500\"/>\n",
    " \n",
    "<p style=\"height:1pt\"> </p>\n",
    "\n",
    "<div class=\"boxhead2\">\n",
    "    Session Topics\n",
    "</div>\n",
    "\n",
    "<div class=\"boxtext2\">\n",
    "<ul class=\"a\">\n",
    "    <li> 📌 Introduction to <span class=\"codeb\">Rasterio</span> </li>\n",
    "    <ul class=\"b\">\n",
    "        <li> Resampling raster data </li>\n",
    "        <li> Clipping raster data </li>\n",
    "        <li> Reprojecting raster data </li>   \n",
    "        <li> Rasters math </li>   \n",
    "</ul>\n",
    "</div>\n",
    "\n",
    "<hr style=\"border-top: 0.2px solid gray; margin-top: 12pt; margin-bottom: 0pt\"></hr>\n",
    "\n",
    "### Instructions\n",
    "We will work through this notebook together. To run a cell, click on the cell and press \"Shift\" + \"Enter\" or click the \"Run\" button in the toolbar at the top. \n",
    "\n",
    "<p style=\"color:#408000; font-weight: bold\"> 🐍 &nbsp; &nbsp; This symbol designates an important note about Python structure, syntax, or another quirk.  </p>\n",
    "\n",
    "<p style=\"color:#008C96; font-weight: bold\"> ▶️ &nbsp; &nbsp; This symbol designates a cell with code to be run.  </p>\n",
    "\n",
    "<p style=\"color:#008C96; font-weight: bold\"> ✏️ &nbsp; &nbsp; This symbol designates a partially coded cell with an example.  </p>\n",
    "\n",
    "<hr style=\"border-top: 1px solid gray; margin-top: 24px; margin-bottom: 1px\"></hr>"
   ]
  },
  {
   "cell_type": "code",
   "execution_count": null,
   "id": "a049fd46-64af-4b3a-a36e-8170b31556bd",
   "metadata": {
    "tags": []
   },
   "outputs": [],
   "source": [
    "# dependencies \n",
    "import os \n",
    "import xarray as xr\n",
    "import numpy as np\n",
    "import pandas as pd\n",
    "import geopandas as gpd\n",
    "import rasterio \n",
    "import rioxarray as rio\n",
    "from glob import glob\n",
    "from rasterio.enums import Resampling\n",
    "import xarray as xr\n",
    "from scipy.stats import variation \n",
    "import rasterio.mask\n",
    "from rasterstats import zonal_stats, gen_zonal_stats\n",
    "import matplotlib.pyplot as plt\n",
    "import matplotlib.patches as patches\n",
    "Patch = patches.Patch"
   ]
  },
  {
   "cell_type": "markdown",
   "id": "74ba4c2b-ab90-4336-ae54-2ef5f87bbbf0",
   "metadata": {},
   "source": [
    "### Resampling raster data\n",
    "First, if we want do identify rural and urban populations, we need a quasi indepedent dataset. Here we're going to an urban-rural binary land cover classification derived from MODIS data—the MODIS global urban extent product [(MGUP)](https://www.sciencedirect.com/science/article/pii/S0303243420308989). But the MGUP data is produced at 250m, where as our population data is 1-km spatial resolution.  "
   ]
  },
  {
   "cell_type": "markdown",
   "id": "fbd0a647-7bff-41d8-89a2-1aa814e07ab2",
   "metadata": {},
   "source": [
    "We need to resample the MGUP data using `rasterio`. We are going to use `mode` since this is a binaru `rural-urban` classified raster and we need to upsample it. Here is a function to do this.\n",
    "<div class=\"run\">\n",
    "    ▶️ <b> Run the cells below. </b>\n",
    "</div>"
   ]
  },
  {
   "cell_type": "code",
   "execution_count": null,
   "id": "c4bfa40d-d356-4887-bfdd-9b02d2c31c9f",
   "metadata": {
    "tags": []
   },
   "outputs": [],
   "source": [
    "def resample(fn_in, fn_out, scale_factor, method):\n",
    "    \n",
    "    \"\"\" Resamples a raster and save it out\n",
    "    Args:\n",
    "        fn_in = file path and name of tif input as str\n",
    "        fn_out = file path and name of tif output as str \n",
    "        scale_factor = factor to up or down scale a pixel as float\n",
    "        method = method to resample (rasterio object), see rasterio documentation\n",
    "    \"\"\"\n",
    "    \n",
    "    with rasterio.open(fn_in) as dataset:\n",
    "\n",
    "        # resample data to target shape\n",
    "        data = dataset.read(\n",
    "            out_shape=(\n",
    "                dataset.count,\n",
    "                int(dataset.height * scale_factor),\n",
    "                int(dataset.width * scale_factor)\n",
    "            ),\n",
    "            resampling=method\n",
    "        )\n",
    "\n",
    "        # scale image transform\n",
    "        transform = dataset.transform * dataset.transform.scale(\n",
    "            (dataset.width / data.shape[-1]),\n",
    "            (dataset.height / data.shape[-2])\n",
    "        )\n",
    "    \n",
    "    # meta data to write out\n",
    "    out_meta = dataset.meta\n",
    "\n",
    "    # Update meta data\n",
    "    out_meta.update({\"driver\": \"GTiff\",\n",
    "             \"height\": data.shape[1],\n",
    "             \"width\": data.shape[2],\n",
    "             \"transform\": transform})\n",
    "\n",
    "    # write image \n",
    "    with rasterio.open(fn_out, \"w\", **out_meta) as dest:\n",
    "        dest.write(data)"
   ]
  },
  {
   "cell_type": "code",
   "execution_count": null,
   "id": "82d7d1a2-c191-4101-ae38-d00498c0dace",
   "metadata": {
    "tags": []
   },
   "outputs": [],
   "source": [
    "# File paths\n",
    "data_in = os.path.join('../data/tutorial011/MGUP_annual_2001_2018/')\n",
    "data_out = os.path.join('./data/')"
   ]
  },
  {
   "cell_type": "code",
   "execution_count": null,
   "id": "9b3422c7-b40c-45a0-98e3-19e2253b937d",
   "metadata": {
    "tags": []
   },
   "outputs": [],
   "source": [
    "# File names\n",
    "modis_in = os.path.join(data_in+'MGUP_annual_2001_2018/MGUP_2015.tif')\n",
    "modis_out = os.path.join(data_out+'MGUP_2015-1km.tif')"
   ]
  },
  {
   "cell_type": "code",
   "execution_count": null,
   "id": "9b9c5074-7632-4aef-a26e-f1904cdca525",
   "metadata": {
    "tags": []
   },
   "outputs": [],
   "source": [
    "# Resample and save the MODIS landcover raster\n",
    "resample(modis_in, modis_out, 0.5, Resampling.mode)"
   ]
  },
  {
   "cell_type": "markdown",
   "id": "a79eae3b-c6b1-4759-9541-5814d893e8ec",
   "metadata": {},
   "source": [
    "### Clipping raster data\n",
    "\n",
    "The next step is to clip population rasters to Nepal's boundaries. This will reduce our memory use a lot and speed things up - the population rasters are quite large. "
   ]
  },
  {
   "cell_type": "markdown",
   "id": "1c088006-ece8-47a6-8e9f-0d120ef331dd",
   "metadata": {},
   "source": [
    "We will again use `rasterio` to clip our population rasters to a shape file for Nepal. Here is a function to do this.\n",
    "<div class=\"run\">\n",
    "    ▶️ <b> Run the cells below. </b>\n",
    "</div>"
   ]
  },
  {
   "cell_type": "code",
   "execution_count": 1,
   "id": "c8164066-4515-4618-a7b6-fa70cd141f4a",
   "metadata": {
    "tags": []
   },
   "outputs": [],
   "source": [
    "# Functions\n",
    "def raster_clip(rst_fn, polys, fn_out):\n",
    "    \n",
    "    \"\"\" function clips a raster and saves it out\n",
    "    args:\n",
    "        rst_fn = raster you want to clip\n",
    "        polys = polys you want to clip to\n",
    "        fn_out = path/to/file/out ... name of file you want to save \n",
    "    \"\"\"\n",
    "    \n",
    "    # clip raster\n",
    "    with rasterio.open(rst_fn) as src:\n",
    "        out_image, out_transform = rasterio.mask.mask(src, polys, crop=True)\n",
    "        out_meta = src.meta\n",
    "        \n",
    "    # Update meta data\n",
    "    out_meta.update({\"driver\": \"GTiff\",\n",
    "                 \"height\": out_image.shape[1],\n",
    "                 \"width\": out_image.shape[2],\n",
    "                 \"transform\": out_transform})\n",
    "    \n",
    "    # write image \n",
    "    with rasterio.open(fn_out, \"w\", **out_meta) as dest:\n",
    "        dest.write(out_image)"
   ]
  },
  {
   "cell_type": "code",
   "execution_count": null,
   "id": "facab64d-fbcc-4cbf-b1f6-7793dc6c35b4",
   "metadata": {
    "tags": []
   },
   "outputs": [],
   "source": [
    "# Set up the file paths for each raster \n",
    "wp_path = os.path.join(data_in + 'WorldPop16/ppp_2016_1km_Aggregated.tif')\n",
    "ls_path = os.path.join(data_in + 'LandScan-Global-2015/lspop2015/w001001.adf')\n",
    "esri_path = os.path.join(data_in + 'ESRI_WPE_2016_Pop/WPE_1KM_2016_Pop.tif')\n",
    "ghs_path = os.path.join(data_in + 'GHS-Pop/GHS_POP_E2015_GLOBE_R2019A_4326_30ss_V1_0.tif')\n",
    "gpw_path = os.path.join(data_in + 'gpw_v4/gpw-v4-population-count-rev11_2015_30_sec_tif/gpw_v4_population_count_rev11_2015_30_sec.tif')\n",
    "modis_path = os.path.join(data_out + 'MGUP_2015-1km.tif')"
   ]
  },
  {
   "cell_type": "code",
   "execution_count": null,
   "id": "15d74dca-761b-4e82-b379-151cc6ef8211",
   "metadata": {
    "tags": []
   },
   "outputs": [],
   "source": [
    "# Open shape file\n",
    "polys_fn = os.path.join(data_in + 'GPWv4-boundaries/gwpv4_npl_admin4.shp')\n",
    "polys = gpd.read_file(polys_fn)\n",
    "shapes = polys[\"geometry\"]"
   ]
  },
  {
   "cell_type": "code",
   "execution_count": null,
   "id": "dd9e0853-c551-4f12-b6a4-f0fc8f54ae13",
   "metadata": {
    "tags": []
   },
   "outputs": [],
   "source": [
    "shapes.head()"
   ]
  },
  {
   "cell_type": "markdown",
   "id": "060a797f-6796-4612-9940-8aa4622f8b54",
   "metadata": {
    "tags": []
   },
   "source": [
    "<div class=\"example\">\n",
    "    ✏️ <b> Try it. </b> \n",
    "   Plot the Nepal shape file. \n",
    "</div>"
   ]
  },
  {
   "cell_type": "code",
   "execution_count": null,
   "id": "7c2c8983-922d-415e-a8e1-b08fd8371ba5",
   "metadata": {
    "tags": []
   },
   "outputs": [],
   "source": [
    "# your code here ... "
   ]
  },
  {
   "cell_type": "markdown",
   "id": "0afde8d8-6fb2-46a1-9e7a-ff470d31bbb4",
   "metadata": {
    "tags": []
   },
   "source": [
    "**Now clip the rasters**"
   ]
  },
  {
   "cell_type": "code",
   "execution_count": null,
   "id": "16225c0a-e1cf-4a94-be77-290092cbe7d3",
   "metadata": {
    "tags": []
   },
   "outputs": [],
   "source": [
    "# Clip WorldPop Data\n",
    "out = os.path.join(data_out, 'wp2016_npl.tif')\n",
    "print(out)\n",
    "raster_clip(rst_fn = ls_path, polys = shapes, fn_out = out)"
   ]
  },
  {
   "cell_type": "code",
   "execution_count": null,
   "id": "6552559b-c07b-449c-9ac0-a6032d12bf4f",
   "metadata": {
    "tags": []
   },
   "outputs": [],
   "source": [
    "# Clip LandScan Data\n",
    "out = os.path.join(data_out, 'ls2015_npl.tif')\n",
    "print(out)\n",
    "raster_clip(rst_fn = wp_path, polys = shapes, fn_out = out)"
   ]
  },
  {
   "cell_type": "code",
   "execution_count": null,
   "id": "da678503-9913-4ecb-8cdb-d2a93598a31f",
   "metadata": {
    "tags": []
   },
   "outputs": [],
   "source": [
    "# Clip ESRI Data\n",
    "out = os.path.join(data_out, 'esri2015_npl.tif')\n",
    "print(out)\n",
    "raster_clip(rst_fn = esri_path, polys = shapes, fn_out = out)"
   ]
  },
  {
   "cell_type": "code",
   "execution_count": null,
   "id": "466a6f4f-44d4-4f68-ae2e-b60e6ca95c3a",
   "metadata": {
    "tags": []
   },
   "outputs": [],
   "source": [
    "# Clip GHS Data\n",
    "out = os.path.join(data_out, 'ghs2015_npl.tif')\n",
    "print(out)\n",
    "raster_clip(rst_fn = ghs_path, polys = shapes, fn_out = out)"
   ]
  },
  {
   "cell_type": "code",
   "execution_count": null,
   "id": "da50b418-2731-43c9-a141-d11650ec1849",
   "metadata": {
    "tags": []
   },
   "outputs": [],
   "source": [
    "# Clip GPW Data\n",
    "out = os.path.join(data_out, 'gpw2015_npl.tif')\n",
    "print(out)\n",
    "raster_clip(rst_fn = gpw_path, polys = shapes, fn_out = out)"
   ]
  },
  {
   "cell_type": "code",
   "execution_count": null,
   "id": "34906652-5cf1-4883-954d-5071de8fe9d2",
   "metadata": {
    "tags": []
   },
   "outputs": [],
   "source": [
    "out = os.path.join(data_out, 'modis2015_npl.tif')\n",
    "print(out)\n",
    "raster_clip(rst_fn = modis_path, polys = shapes, fn_out = out)"
   ]
  },
  {
   "cell_type": "code",
   "execution_count": null,
   "id": "6695fe08-80e8-4a87-8dd2-7396ad78852b",
   "metadata": {},
   "outputs": [],
   "source": [
    "# your code here ... "
   ]
  },
  {
   "cell_type": "markdown",
   "id": "d0c19b72-62fc-4f80-83bb-58a762c36e73",
   "metadata": {},
   "source": [
    "Now clip the rasters"
   ]
  },
  {
   "cell_type": "code",
   "execution_count": null,
   "id": "51276afa-f074-4b79-aa33-f304ba5c8541",
   "metadata": {},
   "outputs": [],
   "source": [
    "# Clip WorldPop Data\n",
    "out = os.path.join(data_out, 'wp2016_npl.tif')\n",
    "print(out)\n",
    "raster_clip(rst_fn = ls_path, polys = shapes, fn_out = out)"
   ]
  },
  {
   "cell_type": "code",
   "execution_count": null,
   "id": "cfd12254-020b-4762-8b47-924edfb6e58f",
   "metadata": {},
   "outputs": [],
   "source": [
    "# Clip LandScan Data\n",
    "out = os.path.join(data_out, 'ls2015_npl.tif')\n",
    "print(out)\n",
    "raster_clip(rst_fn = wp_path, polys = shapes, fn_out = out)"
   ]
  },
  {
   "cell_type": "code",
   "execution_count": null,
   "id": "d1c68326-7df0-4059-9d26-414523c042a2",
   "metadata": {},
   "outputs": [],
   "source": [
    "# Clip ESRI Data\n",
    "out = os.path.join(data_out, 'esri2015_npl.tif')\n",
    "print(out)\n",
    "raster_clip(rst_fn = esri_path, polys = shapes, fn_out = out)"
   ]
  },
  {
   "cell_type": "code",
   "execution_count": null,
   "id": "b2645d2c-5fc4-43be-9346-06ae00cd9dab",
   "metadata": {},
   "outputs": [],
   "source": [
    "# Clip GHS Data\n",
    "out = os.path.join(data_out, 'ghs2015_npl.tif')\n",
    "print(out)\n",
    "raster_clip(rst_fn = ghs_path, polys = shapes, fn_out = out)"
   ]
  },
  {
   "cell_type": "code",
   "execution_count": null,
   "id": "3d7ee0df-c4f4-44d3-8b4c-680ee53266cf",
   "metadata": {},
   "outputs": [],
   "source": [
    "# Clip GPW Data\n",
    "out = os.path.join(data_out, 'gpw2015_npl.tif')\n",
    "print(out)\n",
    "raster_clip(rst_fn = gpw_path, polys = shapes, fn_out = out)"
   ]
  },
  {
   "cell_type": "code",
   "execution_count": null,
   "id": "44f92acd-f642-43c6-8eb0-01fb64674141",
   "metadata": {},
   "outputs": [],
   "source": [
    "# Clip the MGUP raster\n",
    "out = os.path.join(data_out, 'modis2015_npl.tif')\n",
    "print(out)\n",
    "raster_clip(rst_fn = modis_path, polys = shapes, fn_out = out)"
   ]
  },
  {
   "cell_type": "markdown",
   "id": "da5e0b5a",
   "metadata": {},
   "source": [
    "### Spatially align (match) and reproject the population rasters\n",
    "\n",
    "Now, we need to match and reproject the population rasters. In other words, we need to eeproject popgrid rasters into the same CRS, size and projection so they stack. But first, let's take a look at the `crs` and `shape` of each raster.\n",
    "\n",
    "\n",
    "<div class=\"run\">\n",
    "    ▶️ <b> Run the cells below. </b>\n",
    "</div>"
   ]
  },
  {
   "cell_type": "code",
   "execution_count": null,
   "id": "ffbd208a",
   "metadata": {
    "tags": []
   },
   "outputs": [],
   "source": [
    "# MODIS2015_LCType2_1km-urban.tif is 2015 MODIS from GEE reclassified to urban/rural \n",
    "# modis : height: 31982: 80148, MODIS Sinusoidal\n",
    "modis = rio.open_rasterio(os.path.join(data_out +'./modis2015_npl.tif'))\n",
    "modis"
   ]
  },
  {
   "cell_type": "code",
   "execution_count": null,
   "id": "a96fee62",
   "metadata": {
    "tags": []
   },
   "outputs": [],
   "source": [
    "# GPW v4 : width = 43200 height = 21600 epsg = 4326\n",
    "gpw = rio.open_rasterio(os.path.join(data_out + './gpw2015_npl.tif'))\n",
    "gpw"
   ]
  },
  {
   "cell_type": "code",
   "execution_count": null,
   "id": "e3cff627",
   "metadata": {
    "tags": []
   },
   "outputs": [],
   "source": [
    "# World Pop 2016 (?_): width = 43200 height = 18720 epsg = 4326\n",
    "wp = rio.open_rasterio(os.path.join(data_out + './wp2016_npl.tif'))\n",
    "wp"
   ]
  },
  {
   "cell_type": "code",
   "execution_count": null,
   "id": "2fd9f4b5",
   "metadata": {
    "tags": []
   },
   "outputs": [],
   "source": [
    "# ESRI 2016 : width = 40074 height = 14285 epsg = 4326\n",
    "esri = rio.open_rasterio(os.path.join(data_out + './esri2015_npl.tif'))\n",
    "esri"
   ]
  },
  {
   "cell_type": "code",
   "execution_count": null,
   "id": "0390cd43",
   "metadata": {
    "tags": []
   },
   "outputs": [],
   "source": [
    "# LS 2015 : width = 43200 height = 21600 epsg = 4326\n",
    "ls = rio.open_rasterio(os.path.join(data_out + './ls2015_npl.tif'))\n",
    "ls"
   ]
  },
  {
   "cell_type": "code",
   "execution_count": null,
   "id": "f7f967d9",
   "metadata": {
    "tags": []
   },
   "outputs": [],
   "source": [
    "# GHS 2015 : width = 43200 height = 21600 epsg = 4326\n",
    "ghs = rio.open_rasterio(os.path.join(data_out + './ghs2015_npl.tif')\n",
    "ghs"
   ]
  },
  {
   "cell_type": "markdown",
   "id": "5e6e104c-01fc-48b1-add1-13cf470875af",
   "metadata": {},
   "source": [
    "The height and shape is ...? \n",
    "- MODIS\n",
    "- GPW\n",
    "- WP\n",
    "- ESRI\n",
    "- LS\n",
    "- GHS"
   ]
  },
  {
   "cell_type": "markdown",
   "id": "6238a14b",
   "metadata": {},
   "source": [
    "Now, let's check the nan values for all data...This is the meta data flag that says \"this value means nan\"."
   ]
  },
  {
   "cell_type": "code",
   "execution_count": null,
   "id": "862fdfb6",
   "metadata": {
    "tags": []
   },
   "outputs": [],
   "source": [
    "print('modis nan value is', modis.data[0][0][0])\n",
    "print('GPW nan value is', gpw.data[0][0][0])\n",
    "print('World Pop nan value is', wp.data[0][0][0])\n",
    "print('LandScan nan value is', ls.data[0][0][0])\n",
    "print('ESRI nan value is', esri.data[0][0][0])\n",
    "print('GHS nan value is', ghs.data[0][0][0])"
   ]
  },
  {
   "cell_type": "markdown",
   "id": "8460220e",
   "metadata": {},
   "source": [
    "**Check the nan fill values for all data** <br>\n",
    "This is the meta data flag that says \"this value means nan\" _and_ print this value when we see an `nan'. "
   ]
  },
  {
   "cell_type": "code",
   "execution_count": null,
   "id": "feae3eec",
   "metadata": {
    "tags": []
   },
   "outputs": [],
   "source": [
    "# modis doesn't have an assigned fill value so we make one\n",
    "modis.attrs['_FillValue'] = 0\n",
    "\n",
    "# Check fille values\n",
    "print(modis.attrs['_FillValue'])\n",
    "print(gpw.attrs['_FillValue'])\n",
    "print(esri.attrs['_FillValue'])\n",
    "print(ls.attrs['_FillValue'])\n",
    "print(wp.attrs['_FillValue'])\n",
    "print(ghs.attrs['_FillValue'])"
   ]
  },
  {
   "cell_type": "code",
   "execution_count": null,
   "id": "ef08b35b-af30-42a6-a06d-0093fd051301",
   "metadata": {
    "tags": []
   },
   "outputs": [],
   "source": [
    "# Set all NAs and -999s to Zero\n",
    "modis.data = np.where(modis.data < 1,-999, modis.data)\n",
    "gpw.data = np.where(gpw.data < 1,-999, gpw.data)\n",
    "wp.data = np.where(wp.data < 1,-999, wp.data)\n",
    "ls.data = np.where(ls.data < 1,-999, ls.data)\n",
    "esri.data = np.where(esri.data < 1,-999, esri.data)\n",
    "ghs.data = np.where(ghs.data < 1,-999, ghs.data)"
   ]
  },
  {
   "cell_type": "code",
   "execution_count": null,
   "id": "ad873782-7911-4641-98d2-3b5ce81102ed",
   "metadata": {
    "tags": []
   },
   "outputs": [],
   "source": [
    "# Check the nan data\n",
    "print('modis na value is', modis.data[0][0][0])\n",
    "print('GPW na value is', gpw.data[0][0][0])\n",
    "print('World Pop na value is', wp.data[0][0][0])\n",
    "print('LandScan na value is', ls.data[0][0][0])\n",
    "print('ESRI na value is', esri.data[0][0][0])\n",
    "print('GHS na value is', ghs.data[0][0][0])"
   ]
  },
  {
   "cell_type": "code",
   "execution_count": null,
   "id": "a3945209-8e35-4c8d-bc6b-49a77db6134f",
   "metadata": {
    "tags": []
   },
   "outputs": [],
   "source": [
    "# Check nan fill values in the meta data\n",
    "print(modis.attrs['_FillValue'])\n",
    "print(gpw.attrs['_FillValue'])\n",
    "print(esri.attrs['_FillValue'])\n",
    "print(ls.attrs['_FillValue'])\n",
    "print(wp.attrs['_FillValue'])\n",
    "print(ghs.attrs['_FillValue'])"
   ]
  },
  {
   "cell_type": "code",
   "execution_count": null,
   "id": "de5c35f7-099c-4ac1-b8f3-1baf1902293d",
   "metadata": {
    "tags": []
   },
   "outputs": [],
   "source": [
    "# Set all nan fill values to - 999 in the meta data\n",
    "na_val = -999\n",
    "\n",
    "modis.attrs['_FillValue'] = na_val\n",
    "gpw.attrs['_FillValue'] = na_val\n",
    "esri.attrs['_FillValue'] = na_val\n",
    "ls.attrs['_FillValue'] = na_val\n",
    "wp.attrs['_FillValue'] = na_val\n",
    "ghs.attrs['_FillValue'] = na_val"
   ]
  },
  {
   "cell_type": "code",
   "execution_count": null,
   "id": "0547671b-7056-4fc1-be6d-9eaeddea8f51",
   "metadata": {
    "tags": []
   },
   "outputs": [],
   "source": [
    "# Check nan fill values in the meta data\n",
    "print(modis.attrs['_FillValue'])\n",
    "print(gpw.attrs['_FillValue'])\n",
    "print(esri.attrs['_FillValue'])\n",
    "print(ls.attrs['_FillValue'])\n",
    "print(wp.attrs['_FillValue'])\n",
    "print(ghs.attrs['_FillValue'])"
   ]
  },
  {
   "cell_type": "markdown",
   "id": "e1167c59-7764-458c-ac73-5090df911bb4",
   "metadata": {
    "tags": []
   },
   "source": [
    "**Reproject rasters** <br>\n",
    "Now we pick one raster, and reproject and match the other rasters to a single basemap. This choice is arbitrary and could use sensitivity analysis, but we'll use GPWv4 because it is the underlying data for many of the other products."
   ]
  },
  {
   "cell_type": "code",
   "execution_count": null,
   "id": "43e50c1a-e220-495a-937c-13a8143fe12b",
   "metadata": {
    "tags": []
   },
   "outputs": [],
   "source": [
    "# Reproject all datasets to GPWv4\n",
    "modis_match = modis.rio.reproject_match(gpw)\n",
    "gwp_match = ghs.rio.reproject_match(gpw) # this is not needed per say, but we're doing it for consistancy\n",
    "ls_match = ls.rio.reproject_match(gpw)\n",
    "esri_match = esri.rio.reproject_match(gpw)\n",
    "wp_match = wp.rio.reproject_match(gpw)\n",
    "ghs_match = ghs.rio.reproject_match(gpw)"
   ]
  },
  {
   "cell_type": "markdown",
   "id": "08249643",
   "metadata": {},
   "source": [
    "**Now check the reprojected data**"
   ]
  },
  {
   "cell_type": "code",
   "execution_count": null,
   "id": "04ae174a",
   "metadata": {
    "tags": []
   },
   "outputs": [],
   "source": [
    "modis_match "
   ]
  },
  {
   "cell_type": "code",
   "execution_count": null,
   "id": "4256caf5-edf8-47bd-8a67-9417f40709ff",
   "metadata": {
    "tags": []
   },
   "outputs": [],
   "source": [
    "gwp_match"
   ]
  },
  {
   "cell_type": "code",
   "execution_count": null,
   "id": "45158bda",
   "metadata": {
    "tags": []
   },
   "outputs": [],
   "source": [
    "ls_match "
   ]
  },
  {
   "cell_type": "code",
   "execution_count": null,
   "id": "fd8e0243",
   "metadata": {
    "tags": []
   },
   "outputs": [],
   "source": [
    "esri_match "
   ]
  },
  {
   "cell_type": "code",
   "execution_count": null,
   "id": "d499f3f4",
   "metadata": {
    "tags": []
   },
   "outputs": [],
   "source": [
    "wp_match "
   ]
  },
  {
   "cell_type": "code",
   "execution_count": null,
   "id": "00162a59",
   "metadata": {
    "tags": []
   },
   "outputs": [],
   "source": [
    "ghs_match "
   ]
  },
  {
   "cell_type": "markdown",
   "id": "b799499b",
   "metadata": {},
   "source": [
    "**Now write the reprojected and matched rasters to disk**\n",
    "\n",
    "Notice that `MGUP15_2015-1km-matched.tif` uses `-` not `_` ... this helps later when we want to use `glob` to get the files we want to work with."
   ]
  },
  {
   "cell_type": "code",
   "execution_count": null,
   "id": "b6a3c7ab",
   "metadata": {
    "tags": []
   },
   "outputs": [],
   "source": [
    "# Now write the reprojected and matched rasters\n",
    "modis_match.rio.to_raster(data_out + 'MGUP15_2015-1km-matched.tif') \n",
    "gpw.rio.to_raster(data_out + 'GPWv4_matched.tif')\n",
    "esri_match.rio.to_raster(data_out + 'ESRI16_matched.tif')\n",
    "ls_match.rio.to_raster(data_out + 'LS15_matched.tif')\n",
    "wp_match.rio.to_raster(data_out + 'WP16_matched.tif')\n",
    "ghs_match.rio.to_raster(data_out + 'GHS15_matched.tif')"
   ]
  },
  {
   "cell_type": "markdown",
   "id": "08a94755",
   "metadata": {},
   "source": [
    "### Part 2\n",
    "Make rural and urban masked rasters"
   ]
  },
  {
   "cell_type": "code",
   "execution_count": null,
   "id": "c1e526e9",
   "metadata": {
    "tags": []
   },
   "outputs": [],
   "source": [
    "def raster_mask(rst_fn, lc_arr, data_out):\n",
    "    \"\"\" Writes out masked rural and urban populations from pop rasters\n",
    "    Args:\n",
    "        rst_nm = pop raster file name + path\n",
    "        lc_fn = urban/rural bianary w/ urban =1, rural = -999\n",
    "        data_out = path to write out new rsts\n",
    "    \"\"\"\n",
    "    \n",
    "    # split for naming\n",
    "    rst_nm = rst_fn.split('/')[1].split('.tif')[0]\n",
    "    print(rst_nm)\n",
    "    \n",
    "    # open pop rasters and get array\n",
    "    arr = rasterio.open(rst_fn).read(1)\n",
    "    \n",
    "    # multiply for urban\n",
    "    lc_urban = lc_arr == 1\n",
    "    arr_urban = arr * lc_urban\n",
    "    \n",
    "    # multiply for rural\n",
    "    lc_rural = lc_arr != 1\n",
    "    arr_rural = arr * lc_rural\n",
    "\n",
    "    # meta data\n",
    "    meta = rasterio.open(rst_fn).meta\n",
    "\n",
    "    # write out urban\n",
    "    meta['dtype'] = arr_urban.dtype\n",
    "    out_fn = data_out+rst_nm+'_urban.tif'\n",
    "    with rasterio.open(out_fn, 'w', **meta) as out:\n",
    "        out.write_band(1, arr_urban)\n",
    "    \n",
    "    # write out rural \n",
    "    meta['dtype'] = arr_rural.dtype\n",
    "    out_fn = data_out+rst_nm+'_rural.tif'\n",
    "    with rasterio.open(out_fn, 'w', **meta) as out:\n",
    "        out.write_band(1, arr_rural)\n",
    "    print('done \\n')"
   ]
  },
  {
   "cell_type": "code",
   "execution_count": null,
   "id": "cedf1ef5",
   "metadata": {
    "tags": []
   },
   "outputs": [],
   "source": [
    "# Make a rural/urban raster (MGUP rural value == 0)\n",
    "urban_rural = modis_match.copy()\n",
    "urban_rural.data = np.where(urban_rural.data == 0, 0, urban_rural.data)\n",
    "urban_rural.data = np.where(urban_rural.data != 1, 0, urban_rural.data)\n",
    "urban_rural.rio.to_raster(data_out+'MGUP15-rural-urban-matched.tif')"
   ]
  },
  {
   "cell_type": "code",
   "execution_count": null,
   "id": "728c49cd-e95e-4cbc-92b0-96d198ac35a3",
   "metadata": {
    "tags": []
   },
   "outputs": [],
   "source": [
    "# Open modis urban/rural land cover\n",
    "modis_match_fn = os.path.join(data_out+'MGUP15-rural-urban-matched.tif')\n",
    "modis_arr = rasterio.open(modis_match_fn).read(1)"
   ]
  },
  {
   "cell_type": "code",
   "execution_count": null,
   "id": "a2a7ec9e",
   "metadata": {
    "tags": []
   },
   "outputs": [],
   "source": [
    "# Git matched tif files, drop MGUP\n",
    "rst_fns = glob(data_out + '*_matched.tif')\n",
    "rst_fns"
   ]
  },
  {
   "cell_type": "code",
   "execution_count": null,
   "id": "ebaedd79",
   "metadata": {
    "tags": []
   },
   "outputs": [],
   "source": [
    "# Mask all the rasters and save them \n",
    "data_out = os.path.join('./')\n",
    "for rst_fn in rst_fns:\n",
    "    raster_mask(rst_fn, modis_arr, data_out)"
   ]
  },
  {
   "cell_type": "markdown",
   "id": "39dad899",
   "metadata": {},
   "source": [
    "<hr style=\"border-top: 0.2px solid gray; margin-top: 12pt; margin-bottom: 0pt\"></hr>\n",
    "\n",
    "# Estimate Population Exposure to Quake by Intensity \n",
    "\n",
    "Now we will dive into estimating how many people were impacted by the quake by earth quake intensity. "
   ]
  },
  {
   "cell_type": "code",
   "execution_count": null,
   "id": "8cf2cc93",
   "metadata": {
    "tags": []
   },
   "outputs": [],
   "source": [
    "# Functions\n",
    "def zone_loop(polys_in, rst_list, stats_type, col, split):\n",
    "    \"\"\" Function loops through rasters, calcs zonal_stats and returns stats as a data frame.\n",
    "    Args:\n",
    "        polys_in = polygons\n",
    "        rst_list = list of paths & fns of rasters\n",
    "        stats_type = stats type for each poly gone (see zonal stats)\n",
    "        col = column to merge it all\n",
    "        split = where to split the file name string (e.g. _matched.tif)\n",
    "    \"\"\"\n",
    "    \n",
    "    # copy polys to write out\n",
    "    polys_out = polys_in.copy()\n",
    "    \n",
    "    for rst in rst_list:\n",
    "        \n",
    "        # Get data name\n",
    "        data = rst.split('/')[1].split(split)[0].split('.tif')[0]\n",
    "        print('Started', data)\n",
    "        \n",
    "        # Run zonal stats\n",
    "        zs_feats = zonal_stats(polys_in, rst, stats=stats_type, geojson_out=True)\n",
    "        zgdf = gpd.GeoDataFrame.from_features(zs_feats, crs=polys_in.crs)\n",
    "        \n",
    "        # Rename columns and merge\n",
    "        zgdf = zgdf.rename(columns={stats_type: data+'_'+stats_type})\n",
    "        \n",
    "        polys_out = polys_out.merge(zgdf[[col, data+'_'+stats_type]], on = col, how = 'inner')\n",
    "    \n",
    "    return polys_out\n",
    "\n",
    "def poly_prep(polys_fn, col):\n",
    "    \"function opens earth quake polygons for zonal loop\"\n",
    "    \n",
    "    # open\n",
    "    polys = gpd.read_file(polys_fn)\n",
    "    \n",
    "    # subset, be sure to check the admin level\n",
    "    polys = polys[['geometry', col]]\n",
    "    \n",
    "    return polys"
   ]
  },
  {
   "cell_type": "markdown",
   "id": "068decd2",
   "metadata": {},
   "source": [
    "## Run on Shakemap Intensity Contours (MI) from USGS for Nepal 2015\n",
    "\n",
    "We are using USGS Shakemap intensity contours recorded during the earthquake. You can read about these data [here](https://databasin.org/datasets/9411dd80be424001ac7af150f8d3b7b0/). "
   ]
  },
  {
   "cell_type": "code",
   "execution_count": null,
   "id": "4a0910df",
   "metadata": {
    "tags": []
   },
   "outputs": [],
   "source": [
    "# Open the shape map polygons\n",
    "nepal_polys_fn = os.path.join(data_in + 'USGS_Data/Nepal/shape/mi.shp')"
   ]
  },
  {
   "cell_type": "code",
   "execution_count": null,
   "id": "12cdb3f2",
   "metadata": {
    "tags": []
   },
   "outputs": [],
   "source": [
    "# Subset the polygons \n",
    "col = 'PARAMVALUE'\n",
    "nepal_polys = poly_prep(nepal_polys_fn, col)\n",
    "nepal_polys.head()"
   ]
  },
  {
   "cell_type": "markdown",
   "id": "cd77accc",
   "metadata": {},
   "source": [
    "#### Plot the MI shape file"
   ]
  },
  {
   "cell_type": "code",
   "execution_count": null,
   "id": "34ccfc4f",
   "metadata": {},
   "outputs": [],
   "source": [
    "# your code here ... "
   ]
  },
  {
   "cell_type": "markdown",
   "id": "ae9e3fb9",
   "metadata": {},
   "source": [
    "### All Data"
   ]
  },
  {
   "cell_type": "code",
   "execution_count": null,
   "id": "40fe0b30",
   "metadata": {
    "tags": []
   },
   "outputs": [],
   "source": [
    "# Git tif files\n",
    "rst_fns = sorted(glob(data_out + '*npl.tif'))\n",
    "rst_fns"
   ]
  },
  {
   "cell_type": "code",
   "execution_count": null,
   "id": "78e87d20-821f-4586-ba6c-6900f0ef9f98",
   "metadata": {
    "tags": []
   },
   "outputs": [],
   "source": [
    "# Notice we need to remove the modis data\n",
    "rst_fns.remove('./modis2015_npl.tif')\n",
    "rst_fns"
   ]
  },
  {
   "cell_type": "code",
   "execution_count": null,
   "id": "20daa711",
   "metadata": {
    "tags": []
   },
   "outputs": [],
   "source": [
    "# Run zonal stats loop\n",
    "nepal_polys_sum = zone_loop(nepal_polys, rst_fns, 'sum', col, '_all_NPL.tif')"
   ]
  },
  {
   "cell_type": "code",
   "execution_count": null,
   "id": "3a823f1b",
   "metadata": {
    "tags": []
   },
   "outputs": [],
   "source": [
    "# Check the data\n",
    "nepal_polys_sum.head()"
   ]
  },
  {
   "cell_type": "code",
   "execution_count": null,
   "id": "6c91d4a7",
   "metadata": {
    "tags": []
   },
   "outputs": [],
   "source": [
    "# Save the data\n",
    "fn_out = os.path.join(data_out + 'nepal_quake_pop.shp')\n",
    "nepal_polys_sum.to_file(fn_out)"
   ]
  },
  {
   "cell_type": "markdown",
   "id": "9fd04fad",
   "metadata": {},
   "source": [
    "### Urban Data"
   ]
  },
  {
   "cell_type": "code",
   "execution_count": null,
   "id": "617d638b",
   "metadata": {
    "tags": []
   },
   "outputs": [],
   "source": [
    "# Git urban tif files\n",
    "rst_fns = sorted(glob(data_out + '*urban.tif'))\n",
    "rst_fns"
   ]
  },
  {
   "cell_type": "code",
   "execution_count": null,
   "id": "bddfce75",
   "metadata": {
    "tags": []
   },
   "outputs": [],
   "source": [
    "# Run zonal stats loop\n",
    "nepal_polys_sum = zone_loop(nepal_polys, rst_fns, 'sum', col, '_urban_NPL.tif')"
   ]
  },
  {
   "cell_type": "code",
   "execution_count": null,
   "id": "90659cbb",
   "metadata": {
    "tags": []
   },
   "outputs": [],
   "source": [
    "# Check the data\n",
    "nepal_polys_sum.head()"
   ]
  },
  {
   "cell_type": "code",
   "execution_count": null,
   "id": "54cf4a28",
   "metadata": {
    "tags": []
   },
   "outputs": [],
   "source": [
    "# Save the poly sums\n",
    "fn_out = os.path.join(data_out + 'nepal_urban_quake_pop.shp')\n",
    "nepal_polys_sum.to_file(fn_out)"
   ]
  },
  {
   "cell_type": "markdown",
   "id": "744862d7",
   "metadata": {},
   "source": [
    "### Rural Data"
   ]
  },
  {
   "cell_type": "code",
   "execution_count": null,
   "id": "88a98b68",
   "metadata": {
    "tags": []
   },
   "outputs": [],
   "source": [
    "# Git rural tif files\n",
    "rst_fns = glob(data_out + '*rural.tif')\n",
    "rst_fns"
   ]
  },
  {
   "cell_type": "code",
   "execution_count": null,
   "id": "2dbd0571",
   "metadata": {
    "tags": []
   },
   "outputs": [],
   "source": [
    "# Run zonal stats loop\n",
    "nepal_polys_sum = zone_loop(nepal_polys, rst_fns, 'sum', col, '_rural_NPL.tif')"
   ]
  },
  {
   "cell_type": "code",
   "execution_count": null,
   "id": "d32c5ad9",
   "metadata": {
    "tags": []
   },
   "outputs": [],
   "source": [
    "# Check the data\n",
    "nepal_polys_sum.head()"
   ]
  },
  {
   "cell_type": "code",
   "execution_count": null,
   "id": "e8382406",
   "metadata": {
    "tags": []
   },
   "outputs": [],
   "source": [
    "#### Save the poly sums\n",
    "fn_out = os.path.join(data_out + 'nepal_rural_quake_pop.shp')\n",
    "nepal_polys_sum.to_file(fn_out)"
   ]
  },
  {
   "cell_type": "markdown",
   "id": "25dee8d2",
   "metadata": {},
   "source": [
    "## Let's double check the data\n",
    "The urban and rural data should equal the total data. But let's check it out! "
   ]
  },
  {
   "cell_type": "code",
   "execution_count": null,
   "id": "4aa933fa",
   "metadata": {
    "tags": []
   },
   "outputs": [],
   "source": [
    "# All\n",
    "fn_in = os.path.join(data_out + 'nepal_quake_pop.shp')\n",
    "all_pop = gpd.read_file(fn_in)\n",
    "all_pop.head()"
   ]
  },
  {
   "cell_type": "code",
   "execution_count": null,
   "id": "f7b8645e",
   "metadata": {
    "tags": []
   },
   "outputs": [],
   "source": [
    "# Urban\n",
    "fn_in = os.path.join(data_out + 'nepal_urban_quake_pop.shp')\n",
    "urban_pop = gpd.read_file(fn_in)\n",
    "urban_pop.head()"
   ]
  },
  {
   "cell_type": "code",
   "execution_count": null,
   "id": "2f68e654",
   "metadata": {
    "tags": []
   },
   "outputs": [],
   "source": [
    "# Rural \n",
    "fn_in = os.path.join(data_out + 'nepal_rural_quake_pop.shp')\n",
    "rural_pop = gpd.read_file(fn_in)\n",
    "rural_pop.head()"
   ]
  },
  {
   "cell_type": "code",
   "execution_count": null,
   "id": "d7538291",
   "metadata": {
    "tags": []
   },
   "outputs": [],
   "source": [
    "# Check the data \n",
    "top = (rural_pop.iloc[:,1:6] + urban_pop.iloc[:,1:6]).values\n",
    "bottom = all_pop.iloc[:,1:6]"
   ]
  },
  {
   "cell_type": "code",
   "execution_count": null,
   "id": "b6fde68f-eaf2-4f73-84f2-8620c9bb1e03",
   "metadata": {
    "tags": []
   },
   "outputs": [],
   "source": [
    "top / bottom"
   ]
  },
  {
   "cell_type": "markdown",
   "id": "c326bd37-8fbb-4056-b623-e67ed3b0e40e",
   "metadata": {
    "tags": []
   },
   "source": [
    "#### Question:\n",
    "Explain why `top / bottom` doesn't equal one?"
   ]
  },
  {
   "cell_type": "markdown",
   "id": "61a5fa43",
   "metadata": {},
   "source": [
    "<hr style=\"border-top: 0.2px solid gray; margin-top: 12pt; margin-bottom: 0pt\"></hr>\n",
    "\n",
    "# Bar Plot\n",
    "Let's look at how exposure levels, but urban and rural populations, compare across quake intensities."
   ]
  },
  {
   "cell_type": "markdown",
   "id": "ca95c9cc",
   "metadata": {},
   "source": [
    "**Colors** <br>\n",
    "There are a ton of named colors available in [`matplotlib`](https://matplotlib.org/stable/gallery/color/named_colors.html). Check em out ane pick some!"
   ]
  },
  {
   "cell_type": "code",
   "execution_count": null,
   "id": "09a986f5",
   "metadata": {
    "tags": []
   },
   "outputs": [],
   "source": [
    "# set colors\n",
    "ESRI16_c = 'blue'\n",
    "GHS15_c = 'indigo'\n",
    "GPWv4_c = 'deeppink'\n",
    "LS15_c = 'deepskyblue'\n",
    "WP16_c = 'forestgreen'"
   ]
  },
  {
   "cell_type": "code",
   "execution_count": null,
   "id": "a3647d59",
   "metadata": {
    "tags": []
   },
   "outputs": [],
   "source": [
    "# Open the shape files \n",
    "npl_all_fn = os.path.join(data_out + 'nepal_quake_pop.shp')\n",
    "npl_all = gpd.read_file(npl_all_fn)\n",
    "\n",
    "npl_rural_fn = os.path.join(data_out + 'nepal_rural_quake_pop.shp')\n",
    "npl_rural = gpd.read_file(npl_rural_fn)\n",
    "\n",
    "npl_urban_fn = os.path.join(data_out + 'nepal_urban_quake_pop.shp')\n",
    "npl_urban = gpd.read_file(npl_urban_fn)"
   ]
  },
  {
   "cell_type": "code",
   "execution_count": null,
   "id": "83db2e56",
   "metadata": {
    "tags": []
   },
   "outputs": [],
   "source": [
    "# Make data\n",
    "def group(df):\n",
    "    \n",
    "    \"Group and sum population by MI ranges, args is df quake pop\"\n",
    "    \n",
    "    iv = df[(df['PARAMVALUE'] >= 4) & (df['PARAMVALUE'] < 5)].iloc[:,1:6].sum(axis = 0)\n",
    "    v = df[(df['PARAMVALUE'] >= 5) & (df['PARAMVALUE'] < 6)].iloc[:,1:6].sum(axis = 0)\n",
    "    vi = df[(df['PARAMVALUE'] >= 6) & (df['PARAMVALUE'] < 7)].iloc[:,1:6].sum(axis = 0)\n",
    "    vii = df[df['PARAMVALUE'] >= 7].iloc[:,1:6].sum(axis = 0)\n",
    "    \n",
    "    out = pd.DataFrame()\n",
    "    out['iv'] = iv\n",
    "    out['v'] = v\n",
    "    out['vi'] = vi\n",
    "    out['vii'] = vii\n",
    "    \n",
    "    out = out.transpose()\n",
    "    return out"
   ]
  },
  {
   "cell_type": "code",
   "execution_count": null,
   "id": "59d080cd-8a72-4021-b10a-1420c02c3290",
   "metadata": {},
   "outputs": [],
   "source": [
    "group(npl_rural)"
   ]
  },
  {
   "cell_type": "code",
   "execution_count": null,
   "id": "f009a479",
   "metadata": {
    "tags": []
   },
   "outputs": [],
   "source": [
    "# Make bar plot \n",
    "fig, axs = plt.subplots(1, 1, figsize = (12, 8), sharex=True)\n",
    "ws = 0.25\n",
    "fig.subplots_adjust(wspace=ws)\n",
    "scale = 10**6\n",
    "\n",
    "# All Quake\n",
    "data = group(npl_all)\n",
    "\n",
    "# Bar locations\n",
    "a = [1-.3,2-.3,3-.3, 4-.3]\n",
    "b = [1-.15,2-.15,3-.15,4-.15]\n",
    "c = [1,2,3,4]\n",
    "d = [1+.15,2+.15,3+.15,4+.15]\n",
    "e = [1+.3,2+.3,3+.3,4+.3]\n",
    "\n",
    "# plots\n",
    "plt.bar(a, data.esri2015_n / scale, width=0.12, align='center', alpha  = 0.5, color = ESRI16_c, ec = 'black')\n",
    "plt.bar(b, data.ghs2015_np / scale, width=0.12, align='center', alpha  = 0.6, color = GHS15_c, ec = 'black')\n",
    "plt.bar(c, data.gpw2015_np / scale, width=0.12, align='center', alpha  = 0.7, color = GPWv4_c, ec = 'black')\n",
    "plt.bar(d, data.ls2015_npl / scale, width=0.12, align='center', alpha  = 0.8, color = LS15_c, ec = 'black')\n",
    "plt.bar(e, data.wp2016_npl / scale, width=0.12, align='center', alpha  = 0.9, color = WP16_c, ec = 'black')\n",
    "\n",
    "# Fake plot for rural hatch legend \n",
    "plt.bar(e, data.wp2016_npl / scale, width=0.12, align='center', alpha  = 0, color = 'white', ec = 'black',hatch = \"///\")\n",
    "\n",
    "# rural quake\n",
    "data = group(npl_rural)\n",
    "plt.bar(a, data.ESRI16_mat / scale, width=0.12, align='center', alpha  = 0.5, color = ESRI16_c, ec = 'black', hatch = \"///\")\n",
    "plt.bar(b, data.GHS15_matc / scale, width=0.12, align='center', alpha  = 0.6, color = GHS15_c, ec = 'black', hatch = \"///\")\n",
    "plt.bar(c, data.GPWv4_matc / scale, width=0.12, align='center', alpha  = 0.7, color = GPWv4_c, ec = 'black', hatch = \"///\")\n",
    "plt.bar(d, data.LS15_match / scale, width=0.12, align='center', alpha  = 0.8, color = LS15_c, ec = 'black', hatch = \"///\")\n",
    "plt.bar(e, data.WP16_match / scale, width=0.12, align='center', alpha  = 0.9, color = WP16_c, ec = 'black', hatch = \"///\")\n",
    "\n",
    "# legend\n",
    "legend_elements = [Patch(facecolor=ESRI16_c, alpha = 0.5, edgecolor=None, label='WPE-15'),\n",
    "                  Patch(facecolor=GHS15_c, alpha = 0.6, edgecolor=None, label='GHSL-15'),\n",
    "                  Patch(facecolor=GPWv4_c, alpha = 0.7, edgecolor=None, label='GPW-15'),\n",
    "                  Patch(facecolor=LS15_c, alpha = 0.8, edgecolor=None, label='LS-15'),\n",
    "                  Patch(facecolor= WP16_c, alpha = 0.9, edgecolor=None, label='WP-16'),\n",
    "                  Patch(facecolor= 'white', alpha = 0.9,  hatch = '///', edgecolor='black', label='rural pop')]\n",
    "plt.legend(handles = legend_elements, bbox_to_anchor=(1, 1.02), loc='upper left', ncol=1, fontsize = 15);\n",
    "\n",
    "# Labels / Titles\n",
    "axs.set_title('Nepal 2015 Earthquake Impact', size = 20)\n",
    "axs.set_xlabel('Instrumental Intesnity', fontsize = 15)\n",
    "axs.set_ylabel('Total Population [millions]', fontsize = 15)\n",
    "\n",
    "# Ticks\n",
    "ticks_bar = ['>=4', ' >=5', '>=6', '>=7'];\n",
    "plt.xticks([1,2,3,4], ticks_bar, fontsize = 15);\n",
    "plt.yticks(fontsize = 15);"
   ]
  },
  {
   "cell_type": "code",
   "execution_count": null,
   "id": "0ea0f397",
   "metadata": {},
   "outputs": [],
   "source": [
    "# save it out\n",
    "fig_out = os.path.join(data_out + 'Figure.png')\n",
    "plt.savefig(fig_out, dpi = 300, facecolor = 'white', bbox_inches='tight')"
   ]
  }
 ],
 "metadata": {
  "kernelspec": {
   "display_name": "Python 3 (ipykernel)",
   "language": "python",
   "name": "python3"
  },
  "language_info": {
   "codemirror_mode": {
    "name": "ipython",
    "version": 3
   },
   "file_extension": ".py",
   "mimetype": "text/x-python",
   "name": "python",
   "nbconvert_exporter": "python",
   "pygments_lexer": "ipython3",
   "version": "3.9.15"
  }
 },
 "nbformat": 4,
 "nbformat_minor": 5
}
