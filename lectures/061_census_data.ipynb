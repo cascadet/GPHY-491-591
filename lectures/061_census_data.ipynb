{
 "cells": [
  {
   "cell_type": "markdown",
   "id": "ff079275",
   "metadata": {},
   "source": [
    "# Session 6-1: Human Population Data - US Census\n",
    "\n",
    "![ntl](./assets/humans.jpg)\n",
    "\n",
    "Humans create [complex systems](https://en.wikipedia.org/wiki/Complex_system) and, as such, humans are incredibly difficult to study. Even counting how many people there on the planet is difficult. Many large countries - which we think have rapidly growing populations - have not had a [reliable census conducted in decades](https://www.pnas.org/doi/abs/10.1073/pnas.1715305115). Even the United States, which has a well-regarded and well-funded census, has trouble [estimating population](https://doi.org/10.1016/j.apgeog.2013.11.002). \n",
    "\n",
    "Human population data is very powerful. In the US, **\\$2.8 Trillion** is distributed based on Census data. That's a lot of money. Human data can also be used in nefarious ways too. Governments can rig elections by stuffing districts and governments can oppress groups if they can count them. The power of This is all to say, that while human data is really important for sustainability, there are true ethical considerations when developing and using human datasets.  \n",
    "\n",
    "In this session, we will become familiar with a few human population datasets, specifically the US Census. In doing so, we will learn about [application programming interfaces (APIs)](https://en.wikipedia.org/wiki/API).\n",
    "\n",
    "<p style=\"height:1pt\"> </p>\n",
    "\n",
    "<div class=\"boxhead2\">\n",
    "    Session Topics\n",
    "</div>\n",
    "\n",
    "<div class=\"boxtext2\">\n",
    "<ul class=\"a\">\n",
    "    <li> 📌 Introduction to <span class=\"codeb\">US Census Data</span> </li>\n",
    "    <ul class=\"b\">\n",
    "        <li> Census API </li>\n",
    "        <li> Merging with shapefiles </li>\n",
    "        <li> Plotting Data </li>\n",
    "        <li> Area Aggregation </li>\n",
    "    </ul>\n",
    "</div>\n",
    "\n",
    "<hr style=\"border-top: 0.2px solid gray; margin-top: 12pt; margin-bottom: 0pt\"></hr>\n",
    "\n",
    "### Instructions\n",
    "We will work through this notebook together. To run a cell, click on the cell and press \"Shift\" + \"Enter\" or click the \"Run\" button in the toolbar at the top. \n",
    "\n",
    "<p style=\"color:#408000; font-weight: bold\"> 🐍 &nbsp; &nbsp; This symbol designates an important note about Python structure, syntax, or another quirk.  </p>\n",
    "\n",
    "<p style=\"color:#008C96; font-weight: bold\"> ▶️ &nbsp; &nbsp; This symbol designates a cell with code to be run.  </p>\n",
    "\n",
    "<p style=\"color:#008C96; font-weight: bold\"> ✏️ &nbsp; &nbsp; This symbol designates a partially coded cell with an example.  </p>\n",
    "\n",
    "<hr style=\"border-top: 1px solid gray; margin-top: 24px; margin-bottom: 1px\"></hr>"
   ]
  },
  {
   "cell_type": "markdown",
   "id": "9adc7edc",
   "metadata": {},
   "source": [
    "# US Census Data\n",
    "\n",
    "<img src=\"./assets/income-censustract.jpg\">\n",
    "\n",
    "The US Census Bureau's \"mission is to serve as the nation's leading provider of quality data about its people and economy.\" It collects, curates and disseminates a wide range of demographic and economic data. It's mission in enshrined the US constitution. \n",
    "\n",
    "The [Decadal Populationa and Housing Census](https://www.census.gov/programs-surveys/decennial-census.html#:~:text=The%20U.S.%20census%20counts%20each,of%20Representatives%20among%20the%20states.) is designed to be a complete count of people residents of the United States' territory, whereas the [American Community Survey (ACS)](https://www.census.gov/programs-surveys/acs) is conducted annually has uses a spatiall-informed sampling strategy to estimate demographic data for the entire country. Both surveys are quite useful.\n",
    "\n",
    "With the Census, it's important to remember that how we group people changes overtime. For example, how we count Hispanic-indentifying residents of the US has [changes through time](https://en.wikipedia.org/wiki/Race_and_ethnicity_in_the_United_States_census), just as various other racial and ethnic groups. This makes tracking specific demographics through time quite difficult. Similiarly, census boundaries can change through time - again making it difficult to measure fine-grained demographic change overtime. But the Census makes a strong effort to document changes and inform users how demographic data is collected and aggregated over space and time. \n",
    "\n",
    "Take a moment to checkout the [graphic below](https://www2.census.gov/geo/pdfs/reference/geodiagram.pdf). \n",
    "\n",
    "<img src=\"./assets/cenus-spatial.png\">\n",
    "\n",
    "It's useful to familiarize yourself with the various spatial domains available from the Census. While it is quite easy to download US Census data, let's use the [Python Census API](https://pygis.io/docs/d_access_census.html) to check out US Census data right in our notebook. Note that this tutorial borrows from a great online resource: [PyGIS - Open Source Spatial Programming & Remote Sensing](https://pygis.io/docs/a_intro.html). Check it out!"
   ]
  },
  {
   "cell_type": "markdown",
   "id": "9a170049",
   "metadata": {},
   "source": [
    "### Importing Data from the Census API\n",
    "<hr style=\"border-top: 0.2px solid gray; margin-top: 12px; margin-bottom: 1px\"></hr>\n",
    "\n",
    "Some APIs are fully public, some require free credentials (e.g. a way to authentic users), and some require a fee to use them. <br>\n",
    "\n",
    "Please obtain a census API Key here: https://api.census.gov/data/key_signup.html <br> \n",
    "\n",
    "Note: I had trouble getting a key and I had to try several times with different email address to finally have one work. We are going to try to use my Census API Key (see below).\n",
    "\n",
    "The Census API allows us to read in census data into memory. The Census, like many organizations, uses a common, yet complex, naming convention for variables. Some variables make sense (e.g. `NAME`) and others are alpha numeric. You can checkout the [US Census API User Guide](https://www.census.gov/content/dam/Census/data/developers/api-user-guide/api-guide.pdf). For geographic information, the Census uses [FIPS](https://en.wikipedia.org/wiki/Federal_Information_Processing_Standard_state_code) codes, which are a standardize format to identify geographic adminstrative areas in the US.  \n",
    "\n",
    "Here we are going to use the [ACS5](https://www.census.gov/data/developers/data-sets/acs-5year.html). From this we'll pull some demographic and socioeconomic data for the great state of Montana."
   ]
  },
  {
   "cell_type": "markdown",
   "id": "914b3b0e",
   "metadata": {},
   "source": [
    "<div class=\"run\">\n",
    "    ▶️ <b> Run the cells below. </b>\n",
    "</div>"
   ]
  },
  {
   "cell_type": "code",
   "execution_count": 1,
   "id": "c3bc9f3a-bb30-4abf-9614-0ff3dbe63865",
   "metadata": {
    "tags": []
   },
   "outputs": [],
   "source": [
    "# Import modules\n",
    "import matplotlib.pyplot as plt\n",
    "import pandas as pd\n",
    "import geopandas as gpd\n",
    "from census import Census\n",
    "from us import states\n",
    "import os\n",
    "import rasterio\n",
    "import sys"
   ]
  },
  {
   "cell_type": "code",
   "execution_count": 2,
   "id": "76c3b439-e534-4e5b-a312-98a773170859",
   "metadata": {
    "tags": []
   },
   "outputs": [],
   "source": [
    "# Set API key \n",
    "c = Census('c2b7b1b0ee04a89666fd161e16d3e1dcec53d1b9') # My key ... please switch to your key."
   ]
  },
  {
   "cell_type": "markdown",
   "id": "04ce5841",
   "metadata": {},
   "source": [
    "Here are the variables we're going to pull from the API:\n",
    "1. C17002_001E - Ratio of Income to Poverty Level in the Past 12 Months Total (e.g. total number of people in 'poverty')\n",
    "1. C17002_002E - Ratio of Income to Poverty Level in the Past 12 Months <50% (e.g. 50% of poverty line)\n",
    "1. C17002_003E - Ratio of Income to Poverty Level in the Past 12 Months 50-99% (e.g. 50% of poverty line)\n",
    "1. B01003_001E - Total Population\n",
    "\n",
    "You can check out the variables yourself [here](https://api.census.gov/data/2022/acs/acs5/variables.html). "
   ]
  },
  {
   "cell_type": "markdown",
   "id": "76865c18",
   "metadata": {},
   "source": [
    "<div class=\"run\">\n",
    "    ▶️ <b> Run the cells below. </b>\n",
    "</div>"
   ]
  },
  {
   "cell_type": "code",
   "execution_count": 3,
   "id": "3e7ae3f1-be3d-4145-8269-0f8f4f73eb17",
   "metadata": {
    "tags": []
   },
   "outputs": [],
   "source": [
    "# Make the API request\n",
    "mt_census = c.acs5.state_county_tract(fields = ('NAME', 'C17002_001E', 'C17002_002E', 'C17002_003E', 'B01003_001E'),\n",
    "                                      state_fips = states.MT.fips, # You can change the state here\n",
    "                                      county_fips = \"*\",\n",
    "                                      tract = \"*\",\n",
    "                                      year = 2021)  # You can change the year here"
   ]
  },
  {
   "cell_type": "code",
   "execution_count": 4,
   "id": "525675af-d817-497d-abbc-b739728298ce",
   "metadata": {
    "scrolled": true,
    "tags": []
   },
   "outputs": [
    {
     "data": {
      "text/html": [
       "<div>\n",
       "<style scoped>\n",
       "    .dataframe tbody tr th:only-of-type {\n",
       "        vertical-align: middle;\n",
       "    }\n",
       "\n",
       "    .dataframe tbody tr th {\n",
       "        vertical-align: top;\n",
       "    }\n",
       "\n",
       "    .dataframe thead th {\n",
       "        text-align: right;\n",
       "    }\n",
       "</style>\n",
       "<table border=\"1\" class=\"dataframe\">\n",
       "  <thead>\n",
       "    <tr style=\"text-align: right;\">\n",
       "      <th></th>\n",
       "      <th>NAME</th>\n",
       "      <th>C17002_001E</th>\n",
       "      <th>C17002_002E</th>\n",
       "      <th>C17002_003E</th>\n",
       "      <th>B01003_001E</th>\n",
       "      <th>state</th>\n",
       "      <th>county</th>\n",
       "      <th>tract</th>\n",
       "    </tr>\n",
       "  </thead>\n",
       "  <tbody>\n",
       "    <tr>\n",
       "      <th>0</th>\n",
       "      <td>Census Tract 1, Beaverhead County, Montana</td>\n",
       "      <td>1510.0</td>\n",
       "      <td>52.0</td>\n",
       "      <td>96.0</td>\n",
       "      <td>1510.0</td>\n",
       "      <td>30</td>\n",
       "      <td>001</td>\n",
       "      <td>000100</td>\n",
       "    </tr>\n",
       "    <tr>\n",
       "      <th>1</th>\n",
       "      <td>Census Tract 2, Beaverhead County, Montana</td>\n",
       "      <td>3749.0</td>\n",
       "      <td>30.0</td>\n",
       "      <td>449.0</td>\n",
       "      <td>3757.0</td>\n",
       "      <td>30</td>\n",
       "      <td>001</td>\n",
       "      <td>000200</td>\n",
       "    </tr>\n",
       "  </tbody>\n",
       "</table>\n",
       "</div>"
      ],
      "text/plain": [
       "                                         NAME  C17002_001E  C17002_002E  \\\n",
       "0  Census Tract 1, Beaverhead County, Montana       1510.0         52.0   \n",
       "1  Census Tract 2, Beaverhead County, Montana       3749.0         30.0   \n",
       "\n",
       "   C17002_003E  B01003_001E state county   tract  \n",
       "0         96.0       1510.0    30    001  000100  \n",
       "1        449.0       3757.0    30    001  000200  "
      ]
     },
     "execution_count": 4,
     "metadata": {},
     "output_type": "execute_result"
    }
   ],
   "source": [
    "# Create a dataframe from the census data\n",
    "mt_df = pd.DataFrame(mt_census)\n",
    "\n",
    "# Show the dataframe\n",
    "mt_df.head(2)"
   ]
  },
  {
   "cell_type": "code",
   "execution_count": 5,
   "id": "e66633b2-692c-41dc-8ba5-27bc81758b7b",
   "metadata": {},
   "outputs": [],
   "source": [
    "# Check out the shape"
   ]
  },
  {
   "cell_type": "code",
   "execution_count": null,
   "id": "6b11db8d",
   "metadata": {},
   "outputs": [],
   "source": [
    "# Check out the data type"
   ]
  },
  {
   "cell_type": "markdown",
   "id": "5609a8aa",
   "metadata": {},
   "source": [
    "### Adding geography\n",
    "<hr style=\"border-top: 0.2px solid gray; margin-top: 12px; margin-bottom: 1px\"></hr>\n",
    "\n",
    "Notice that the census data does not have any geographic information ascribed to it. We'll need to read in data directly from the Census's database of boundaries. `GeoPandas` can do this directly from the internet if the data is set up correctly. <br>\n",
    "\n",
    "Note that I had to dive into the the [Census Tiger Product Guide](https://www.census.gov/programs-surveys/geography/guidance/tiger-data-products-guide.html) to make sense of the Census shapefiles that are online, again because they use a alphanumeric coding, not common place names."
   ]
  },
  {
   "cell_type": "markdown",
   "id": "4bc181eb",
   "metadata": {},
   "source": [
    "<div class=\"run\">\n",
    "    ▶️ <b> Run the cells below. </b>\n",
    "</div>"
   ]
  },
  {
   "cell_type": "code",
   "execution_count": 6,
   "id": "aa25a76b-555d-49ab-a4ed-fce1227f8301",
   "metadata": {
    "tags": []
   },
   "outputs": [
    {
     "data": {
      "text/html": [
       "<div>\n",
       "<style scoped>\n",
       "    .dataframe tbody tr th:only-of-type {\n",
       "        vertical-align: middle;\n",
       "    }\n",
       "\n",
       "    .dataframe tbody tr th {\n",
       "        vertical-align: top;\n",
       "    }\n",
       "\n",
       "    .dataframe thead th {\n",
       "        text-align: right;\n",
       "    }\n",
       "</style>\n",
       "<table border=\"1\" class=\"dataframe\">\n",
       "  <thead>\n",
       "    <tr style=\"text-align: right;\">\n",
       "      <th></th>\n",
       "      <th>STATEFP</th>\n",
       "      <th>COUNTYFP</th>\n",
       "      <th>TRACTCE</th>\n",
       "      <th>GEOID</th>\n",
       "      <th>GEOIDFQ</th>\n",
       "      <th>NAME</th>\n",
       "      <th>NAMELSAD</th>\n",
       "      <th>MTFCC</th>\n",
       "      <th>FUNCSTAT</th>\n",
       "      <th>ALAND</th>\n",
       "      <th>AWATER</th>\n",
       "      <th>INTPTLAT</th>\n",
       "      <th>INTPTLON</th>\n",
       "      <th>geometry</th>\n",
       "    </tr>\n",
       "  </thead>\n",
       "  <tbody>\n",
       "    <tr>\n",
       "      <th>0</th>\n",
       "      <td>30</td>\n",
       "      <td>029</td>\n",
       "      <td>000101</td>\n",
       "      <td>30029000101</td>\n",
       "      <td>1400000US30029000101</td>\n",
       "      <td>1.01</td>\n",
       "      <td>Census Tract 1.01</td>\n",
       "      <td>G5020</td>\n",
       "      <td>S</td>\n",
       "      <td>4688689678</td>\n",
       "      <td>89374843</td>\n",
       "      <td>+48.6403613</td>\n",
       "      <td>-114.1929769</td>\n",
       "      <td>POLYGON ((-114.88873 48.60095, -114.88872 48.6...</td>\n",
       "    </tr>\n",
       "    <tr>\n",
       "      <th>1</th>\n",
       "      <td>30</td>\n",
       "      <td>029</td>\n",
       "      <td>001101</td>\n",
       "      <td>30029001101</td>\n",
       "      <td>1400000US30029001101</td>\n",
       "      <td>11.01</td>\n",
       "      <td>Census Tract 11.01</td>\n",
       "      <td>G5020</td>\n",
       "      <td>S</td>\n",
       "      <td>1832500</td>\n",
       "      <td>6562</td>\n",
       "      <td>+48.1920787</td>\n",
       "      <td>-114.3261339</td>\n",
       "      <td>POLYGON ((-114.33997 48.19705, -114.33982 48.1...</td>\n",
       "    </tr>\n",
       "    <tr>\n",
       "      <th>2</th>\n",
       "      <td>30</td>\n",
       "      <td>029</td>\n",
       "      <td>001703</td>\n",
       "      <td>30029001703</td>\n",
       "      <td>1400000US30029001703</td>\n",
       "      <td>17.03</td>\n",
       "      <td>Census Tract 17.03</td>\n",
       "      <td>G5020</td>\n",
       "      <td>S</td>\n",
       "      <td>1813479759</td>\n",
       "      <td>24064760</td>\n",
       "      <td>+48.1102299</td>\n",
       "      <td>-114.7392721</td>\n",
       "      <td>POLYGON ((-115.02012 48.19747, -115.02010 48.1...</td>\n",
       "    </tr>\n",
       "    <tr>\n",
       "      <th>3</th>\n",
       "      <td>30</td>\n",
       "      <td>029</td>\n",
       "      <td>000903</td>\n",
       "      <td>30029000903</td>\n",
       "      <td>1400000US30029000903</td>\n",
       "      <td>9.03</td>\n",
       "      <td>Census Tract 9.03</td>\n",
       "      <td>G5020</td>\n",
       "      <td>S</td>\n",
       "      <td>3846857</td>\n",
       "      <td>48688</td>\n",
       "      <td>+48.2116106</td>\n",
       "      <td>-114.3184051</td>\n",
       "      <td>POLYGON ((-114.33061 48.22098, -114.33057 48.2...</td>\n",
       "    </tr>\n",
       "    <tr>\n",
       "      <th>4</th>\n",
       "      <td>30</td>\n",
       "      <td>029</td>\n",
       "      <td>000802</td>\n",
       "      <td>30029000802</td>\n",
       "      <td>1400000US30029000802</td>\n",
       "      <td>8.02</td>\n",
       "      <td>Census Tract 8.02</td>\n",
       "      <td>G5020</td>\n",
       "      <td>S</td>\n",
       "      <td>58392970</td>\n",
       "      <td>1352592</td>\n",
       "      <td>+48.1793434</td>\n",
       "      <td>-114.3555488</td>\n",
       "      <td>POLYGON ((-114.39825 48.17564, -114.39824 48.1...</td>\n",
       "    </tr>\n",
       "  </tbody>\n",
       "</table>\n",
       "</div>"
      ],
      "text/plain": [
       "  STATEFP COUNTYFP TRACTCE        GEOID               GEOIDFQ   NAME  \\\n",
       "0      30      029  000101  30029000101  1400000US30029000101   1.01   \n",
       "1      30      029  001101  30029001101  1400000US30029001101  11.01   \n",
       "2      30      029  001703  30029001703  1400000US30029001703  17.03   \n",
       "3      30      029  000903  30029000903  1400000US30029000903   9.03   \n",
       "4      30      029  000802  30029000802  1400000US30029000802   8.02   \n",
       "\n",
       "             NAMELSAD  MTFCC FUNCSTAT       ALAND    AWATER     INTPTLAT  \\\n",
       "0   Census Tract 1.01  G5020        S  4688689678  89374843  +48.6403613   \n",
       "1  Census Tract 11.01  G5020        S     1832500      6562  +48.1920787   \n",
       "2  Census Tract 17.03  G5020        S  1813479759  24064760  +48.1102299   \n",
       "3   Census Tract 9.03  G5020        S     3846857     48688  +48.2116106   \n",
       "4   Census Tract 8.02  G5020        S    58392970   1352592  +48.1793434   \n",
       "\n",
       "       INTPTLON                                           geometry  \n",
       "0  -114.1929769  POLYGON ((-114.88873 48.60095, -114.88872 48.6...  \n",
       "1  -114.3261339  POLYGON ((-114.33997 48.19705, -114.33982 48.1...  \n",
       "2  -114.7392721  POLYGON ((-115.02012 48.19747, -115.02010 48.1...  \n",
       "3  -114.3184051  POLYGON ((-114.33061 48.22098, -114.33057 48.2...  \n",
       "4  -114.3555488  POLYGON ((-114.39825 48.17564, -114.39824 48.1...  "
      ]
     },
     "execution_count": 6,
     "metadata": {},
     "output_type": "execute_result"
    }
   ],
   "source": [
    "# Access shapefile of Montana census tracts\n",
    "mt_tract = gpd.read_file(\"https://www2.census.gov/geo/tiger/TIGER2023/TRACT/tl_2023_30_tract.zip\")\n",
    "mt_tract.head()"
   ]
  },
  {
   "cell_type": "code",
   "execution_count": null,
   "id": "5207676d",
   "metadata": {},
   "outputs": [],
   "source": [
    "# What crs is the tract in?"
   ]
  },
  {
   "cell_type": "code",
   "execution_count": null,
   "id": "0643340a",
   "metadata": {},
   "outputs": [],
   "source": [
    "# What size in the tract file?"
   ]
  },
  {
   "cell_type": "code",
   "execution_count": null,
   "id": "4f6cb71e",
   "metadata": {},
   "outputs": [],
   "source": [
    "# What are the data types of each column?"
   ]
  },
  {
   "cell_type": "code",
   "execution_count": null,
   "id": "dd12c3a8-e2c9-4c1c-aa35-0870f71bcd67",
   "metadata": {
    "scrolled": true
   },
   "outputs": [],
   "source": [
    "# Reproject shapefile to UTM Zone 17N\n",
    "# https://spatialreference.org/ref/epsg/wgs-84-utm-zone-17n/\n",
    "mt_tract = mt_tract.to_crs(epsg = 32617)\n",
    "print(mt_tract.crs)\n",
    "mt_tract.head()"
   ]
  },
  {
   "cell_type": "markdown",
   "id": "ad5f08f9",
   "metadata": {},
   "source": [
    "#### GEOID\n",
    "Notice that the `mt_tract` has a `GEOID` column but `mt_df` does not. So we need to combine the FIPS columns into a single GEOID that we can use to merge onto the shape file. This is pretty easy with simple string addition. "
   ]
  },
  {
   "cell_type": "markdown",
   "id": "c9a6c013",
   "metadata": {},
   "source": [
    "<div class=\"run\">\n",
    "    ▶️ <b> Run the cells below. </b>\n",
    "</div>"
   ]
  },
  {
   "cell_type": "code",
   "execution_count": 7,
   "id": "98060b6d-ad21-42e8-b854-6360d6b92660",
   "metadata": {
    "tags": []
   },
   "outputs": [],
   "source": [
    "# Combine state, county, and tract columns together to create a new string and assign to new column\n",
    "mt_df[\"GEOID\"] = mt_df[\"state\"] + mt_df[\"county\"] + mt_df[\"tract\"]"
   ]
  },
  {
   "cell_type": "code",
   "execution_count": 8,
   "id": "31d2db7d-4f6d-4db6-9b82-666dd4b96c13",
   "metadata": {
    "tags": []
   },
   "outputs": [
    {
     "data": {
      "text/html": [
       "<div>\n",
       "<style scoped>\n",
       "    .dataframe tbody tr th:only-of-type {\n",
       "        vertical-align: middle;\n",
       "    }\n",
       "\n",
       "    .dataframe tbody tr th {\n",
       "        vertical-align: top;\n",
       "    }\n",
       "\n",
       "    .dataframe thead th {\n",
       "        text-align: right;\n",
       "    }\n",
       "</style>\n",
       "<table border=\"1\" class=\"dataframe\">\n",
       "  <thead>\n",
       "    <tr style=\"text-align: right;\">\n",
       "      <th></th>\n",
       "      <th>NAME</th>\n",
       "      <th>C17002_001E</th>\n",
       "      <th>C17002_002E</th>\n",
       "      <th>C17002_003E</th>\n",
       "      <th>B01003_001E</th>\n",
       "      <th>state</th>\n",
       "      <th>county</th>\n",
       "      <th>tract</th>\n",
       "      <th>GEOID</th>\n",
       "    </tr>\n",
       "  </thead>\n",
       "  <tbody>\n",
       "    <tr>\n",
       "      <th>0</th>\n",
       "      <td>Census Tract 1, Beaverhead County, Montana</td>\n",
       "      <td>1510.0</td>\n",
       "      <td>52.0</td>\n",
       "      <td>96.0</td>\n",
       "      <td>1510.0</td>\n",
       "      <td>30</td>\n",
       "      <td>001</td>\n",
       "      <td>000100</td>\n",
       "      <td>30001000100</td>\n",
       "    </tr>\n",
       "    <tr>\n",
       "      <th>1</th>\n",
       "      <td>Census Tract 2, Beaverhead County, Montana</td>\n",
       "      <td>3749.0</td>\n",
       "      <td>30.0</td>\n",
       "      <td>449.0</td>\n",
       "      <td>3757.0</td>\n",
       "      <td>30</td>\n",
       "      <td>001</td>\n",
       "      <td>000200</td>\n",
       "      <td>30001000200</td>\n",
       "    </tr>\n",
       "  </tbody>\n",
       "</table>\n",
       "</div>"
      ],
      "text/plain": [
       "                                         NAME  C17002_001E  C17002_002E  \\\n",
       "0  Census Tract 1, Beaverhead County, Montana       1510.0         52.0   \n",
       "1  Census Tract 2, Beaverhead County, Montana       3749.0         30.0   \n",
       "\n",
       "   C17002_003E  B01003_001E state county   tract        GEOID  \n",
       "0         96.0       1510.0    30    001  000100  30001000100  \n",
       "1        449.0       3757.0    30    001  000200  30001000200  "
      ]
     },
     "execution_count": 8,
     "metadata": {},
     "output_type": "execute_result"
    }
   ],
   "source": [
    "# Print head of dataframe\n",
    "mt_df.head(2)"
   ]
  },
  {
   "cell_type": "code",
   "execution_count": 9,
   "id": "26e00177-287c-44ad-a678-402e712fd156",
   "metadata": {
    "scrolled": true,
    "tags": []
   },
   "outputs": [
    {
     "data": {
      "text/html": [
       "<div>\n",
       "<style scoped>\n",
       "    .dataframe tbody tr th:only-of-type {\n",
       "        vertical-align: middle;\n",
       "    }\n",
       "\n",
       "    .dataframe tbody tr th {\n",
       "        vertical-align: top;\n",
       "    }\n",
       "\n",
       "    .dataframe thead th {\n",
       "        text-align: right;\n",
       "    }\n",
       "</style>\n",
       "<table border=\"1\" class=\"dataframe\">\n",
       "  <thead>\n",
       "    <tr style=\"text-align: right;\">\n",
       "      <th></th>\n",
       "      <th>NAME</th>\n",
       "      <th>C17002_001E</th>\n",
       "      <th>C17002_002E</th>\n",
       "      <th>C17002_003E</th>\n",
       "      <th>B01003_001E</th>\n",
       "      <th>GEOID</th>\n",
       "    </tr>\n",
       "  </thead>\n",
       "  <tbody>\n",
       "    <tr>\n",
       "      <th>0</th>\n",
       "      <td>Census Tract 1, Beaverhead County, Montana</td>\n",
       "      <td>1510.0</td>\n",
       "      <td>52.0</td>\n",
       "      <td>96.0</td>\n",
       "      <td>1510.0</td>\n",
       "      <td>30001000100</td>\n",
       "    </tr>\n",
       "    <tr>\n",
       "      <th>1</th>\n",
       "      <td>Census Tract 2, Beaverhead County, Montana</td>\n",
       "      <td>3749.0</td>\n",
       "      <td>30.0</td>\n",
       "      <td>449.0</td>\n",
       "      <td>3757.0</td>\n",
       "      <td>30001000200</td>\n",
       "    </tr>\n",
       "  </tbody>\n",
       "</table>\n",
       "</div>"
      ],
      "text/plain": [
       "                                         NAME  C17002_001E  C17002_002E  \\\n",
       "0  Census Tract 1, Beaverhead County, Montana       1510.0         52.0   \n",
       "1  Census Tract 2, Beaverhead County, Montana       3749.0         30.0   \n",
       "\n",
       "   C17002_003E  B01003_001E        GEOID  \n",
       "0         96.0       1510.0  30001000100  \n",
       "1        449.0       3757.0  30001000200  "
      ]
     },
     "execution_count": 9,
     "metadata": {},
     "output_type": "execute_result"
    }
   ],
   "source": [
    "# Remove columns we won't need later\n",
    "mt_df = mt_df.drop(columns = [\"state\", \"county\", \"tract\"])\n",
    "\n",
    "# Show updated dataframe\n",
    "mt_df.head(2)"
   ]
  },
  {
   "cell_type": "markdown",
   "id": "7e135816",
   "metadata": {},
   "source": [
    "#### Check the data types\n",
    "It's always good to check the data types before you merge two DataFrames to make sure that they will merge correctly."
   ]
  },
  {
   "cell_type": "markdown",
   "id": "91362433",
   "metadata": {},
   "source": [
    "<div class=\"run\">\n",
    "    ▶️ <b> Run the cells below. </b>\n",
    "</div>"
   ]
  },
  {
   "cell_type": "code",
   "execution_count": 10,
   "id": "23cefc44-d420-412d-8017-7af3e3df9001",
   "metadata": {
    "tags": []
   },
   "outputs": [
    {
     "name": "stdout",
     "output_type": "stream",
     "text": [
      "Column data types for census data:\n",
      "NAME            object\n",
      "C17002_001E    float64\n",
      "C17002_002E    float64\n",
      "C17002_003E    float64\n",
      "B01003_001E    float64\n",
      "GEOID           object\n",
      "dtype: object\n",
      "\n",
      "Column data types for census shapefile:\n",
      "STATEFP       object\n",
      "COUNTYFP      object\n",
      "TRACTCE       object\n",
      "GEOID         object\n",
      "GEOIDFQ       object\n",
      "NAME          object\n",
      "NAMELSAD      object\n",
      "MTFCC         object\n",
      "FUNCSTAT      object\n",
      "ALAND          int64\n",
      "AWATER         int64\n",
      "INTPTLAT      object\n",
      "INTPTLON      object\n",
      "geometry    geometry\n",
      "dtype: object\n"
     ]
    }
   ],
   "source": [
    "# Check column data types for census data\n",
    "print(\"Column data types for census data:\\n{}\".format(mt_df.dtypes))\n",
    "\n",
    "# Check column data types for census shapefile\n",
    "print(\"\\nColumn data types for census shapefile:\\n{}\".format(mt_tract.dtypes))"
   ]
  },
  {
   "cell_type": "markdown",
   "id": "4a4088dc",
   "metadata": {},
   "source": [
    "Now merge the two DataFrames"
   ]
  },
  {
   "cell_type": "markdown",
   "id": "8eed3107",
   "metadata": {},
   "source": [
    "<div class=\"run\">\n",
    "    ▶️ <b> Run the cells below. </b>\n",
    "</div>"
   ]
  },
  {
   "cell_type": "code",
   "execution_count": 11,
   "id": "75e6ab11-1a1e-4974-874a-641a9b8ae838",
   "metadata": {
    "tags": []
   },
   "outputs": [
    {
     "data": {
      "text/html": [
       "<div>\n",
       "<style scoped>\n",
       "    .dataframe tbody tr th:only-of-type {\n",
       "        vertical-align: middle;\n",
       "    }\n",
       "\n",
       "    .dataframe tbody tr th {\n",
       "        vertical-align: top;\n",
       "    }\n",
       "\n",
       "    .dataframe thead th {\n",
       "        text-align: right;\n",
       "    }\n",
       "</style>\n",
       "<table border=\"1\" class=\"dataframe\">\n",
       "  <thead>\n",
       "    <tr style=\"text-align: right;\">\n",
       "      <th></th>\n",
       "      <th>STATEFP</th>\n",
       "      <th>COUNTYFP</th>\n",
       "      <th>TRACTCE</th>\n",
       "      <th>GEOID</th>\n",
       "      <th>GEOIDFQ</th>\n",
       "      <th>NAME_x</th>\n",
       "      <th>NAMELSAD</th>\n",
       "      <th>MTFCC</th>\n",
       "      <th>FUNCSTAT</th>\n",
       "      <th>ALAND</th>\n",
       "      <th>AWATER</th>\n",
       "      <th>INTPTLAT</th>\n",
       "      <th>INTPTLON</th>\n",
       "      <th>geometry</th>\n",
       "      <th>NAME_y</th>\n",
       "      <th>C17002_001E</th>\n",
       "      <th>C17002_002E</th>\n",
       "      <th>C17002_003E</th>\n",
       "      <th>B01003_001E</th>\n",
       "    </tr>\n",
       "  </thead>\n",
       "  <tbody>\n",
       "    <tr>\n",
       "      <th>0</th>\n",
       "      <td>30</td>\n",
       "      <td>029</td>\n",
       "      <td>000101</td>\n",
       "      <td>30029000101</td>\n",
       "      <td>1400000US30029000101</td>\n",
       "      <td>1.01</td>\n",
       "      <td>Census Tract 1.01</td>\n",
       "      <td>G5020</td>\n",
       "      <td>S</td>\n",
       "      <td>4688689678</td>\n",
       "      <td>89374843</td>\n",
       "      <td>+48.6403613</td>\n",
       "      <td>-114.1929769</td>\n",
       "      <td>POLYGON ((-114.88873 48.60095, -114.88872 48.6...</td>\n",
       "      <td>Census Tract 1.01, Flathead County, Montana</td>\n",
       "      <td>821.0</td>\n",
       "      <td>61.0</td>\n",
       "      <td>106.0</td>\n",
       "      <td>860.0</td>\n",
       "    </tr>\n",
       "    <tr>\n",
       "      <th>1</th>\n",
       "      <td>30</td>\n",
       "      <td>029</td>\n",
       "      <td>001101</td>\n",
       "      <td>30029001101</td>\n",
       "      <td>1400000US30029001101</td>\n",
       "      <td>11.01</td>\n",
       "      <td>Census Tract 11.01</td>\n",
       "      <td>G5020</td>\n",
       "      <td>S</td>\n",
       "      <td>1832500</td>\n",
       "      <td>6562</td>\n",
       "      <td>+48.1920787</td>\n",
       "      <td>-114.3261339</td>\n",
       "      <td>POLYGON ((-114.33997 48.19705, -114.33982 48.1...</td>\n",
       "      <td>Census Tract 11.01, Flathead County, Montana</td>\n",
       "      <td>3165.0</td>\n",
       "      <td>118.0</td>\n",
       "      <td>133.0</td>\n",
       "      <td>3165.0</td>\n",
       "    </tr>\n",
       "    <tr>\n",
       "      <th>2</th>\n",
       "      <td>30</td>\n",
       "      <td>029</td>\n",
       "      <td>001703</td>\n",
       "      <td>30029001703</td>\n",
       "      <td>1400000US30029001703</td>\n",
       "      <td>17.03</td>\n",
       "      <td>Census Tract 17.03</td>\n",
       "      <td>G5020</td>\n",
       "      <td>S</td>\n",
       "      <td>1813479759</td>\n",
       "      <td>24064760</td>\n",
       "      <td>+48.1102299</td>\n",
       "      <td>-114.7392721</td>\n",
       "      <td>POLYGON ((-115.02012 48.19747, -115.02010 48.1...</td>\n",
       "      <td>Census Tract 17.03, Flathead County, Montana</td>\n",
       "      <td>2115.0</td>\n",
       "      <td>81.0</td>\n",
       "      <td>236.0</td>\n",
       "      <td>2160.0</td>\n",
       "    </tr>\n",
       "    <tr>\n",
       "      <th>3</th>\n",
       "      <td>30</td>\n",
       "      <td>029</td>\n",
       "      <td>000903</td>\n",
       "      <td>30029000903</td>\n",
       "      <td>1400000US30029000903</td>\n",
       "      <td>9.03</td>\n",
       "      <td>Census Tract 9.03</td>\n",
       "      <td>G5020</td>\n",
       "      <td>S</td>\n",
       "      <td>3846857</td>\n",
       "      <td>48688</td>\n",
       "      <td>+48.2116106</td>\n",
       "      <td>-114.3184051</td>\n",
       "      <td>POLYGON ((-114.33061 48.22098, -114.33057 48.2...</td>\n",
       "      <td>Census Tract 9.03, Flathead County, Montana</td>\n",
       "      <td>3161.0</td>\n",
       "      <td>278.0</td>\n",
       "      <td>213.0</td>\n",
       "      <td>3315.0</td>\n",
       "    </tr>\n",
       "    <tr>\n",
       "      <th>4</th>\n",
       "      <td>30</td>\n",
       "      <td>029</td>\n",
       "      <td>000802</td>\n",
       "      <td>30029000802</td>\n",
       "      <td>1400000US30029000802</td>\n",
       "      <td>8.02</td>\n",
       "      <td>Census Tract 8.02</td>\n",
       "      <td>G5020</td>\n",
       "      <td>S</td>\n",
       "      <td>58392970</td>\n",
       "      <td>1352592</td>\n",
       "      <td>+48.1793434</td>\n",
       "      <td>-114.3555488</td>\n",
       "      <td>POLYGON ((-114.39825 48.17564, -114.39824 48.1...</td>\n",
       "      <td>Census Tract 8.02, Flathead County, Montana</td>\n",
       "      <td>6203.0</td>\n",
       "      <td>85.0</td>\n",
       "      <td>326.0</td>\n",
       "      <td>6203.0</td>\n",
       "    </tr>\n",
       "  </tbody>\n",
       "</table>\n",
       "</div>"
      ],
      "text/plain": [
       "  STATEFP COUNTYFP TRACTCE        GEOID               GEOIDFQ NAME_x  \\\n",
       "0      30      029  000101  30029000101  1400000US30029000101   1.01   \n",
       "1      30      029  001101  30029001101  1400000US30029001101  11.01   \n",
       "2      30      029  001703  30029001703  1400000US30029001703  17.03   \n",
       "3      30      029  000903  30029000903  1400000US30029000903   9.03   \n",
       "4      30      029  000802  30029000802  1400000US30029000802   8.02   \n",
       "\n",
       "             NAMELSAD  MTFCC FUNCSTAT       ALAND    AWATER     INTPTLAT  \\\n",
       "0   Census Tract 1.01  G5020        S  4688689678  89374843  +48.6403613   \n",
       "1  Census Tract 11.01  G5020        S     1832500      6562  +48.1920787   \n",
       "2  Census Tract 17.03  G5020        S  1813479759  24064760  +48.1102299   \n",
       "3   Census Tract 9.03  G5020        S     3846857     48688  +48.2116106   \n",
       "4   Census Tract 8.02  G5020        S    58392970   1352592  +48.1793434   \n",
       "\n",
       "       INTPTLON                                           geometry  \\\n",
       "0  -114.1929769  POLYGON ((-114.88873 48.60095, -114.88872 48.6...   \n",
       "1  -114.3261339  POLYGON ((-114.33997 48.19705, -114.33982 48.1...   \n",
       "2  -114.7392721  POLYGON ((-115.02012 48.19747, -115.02010 48.1...   \n",
       "3  -114.3184051  POLYGON ((-114.33061 48.22098, -114.33057 48.2...   \n",
       "4  -114.3555488  POLYGON ((-114.39825 48.17564, -114.39824 48.1...   \n",
       "\n",
       "                                         NAME_y  C17002_001E  C17002_002E  \\\n",
       "0   Census Tract 1.01, Flathead County, Montana        821.0         61.0   \n",
       "1  Census Tract 11.01, Flathead County, Montana       3165.0        118.0   \n",
       "2  Census Tract 17.03, Flathead County, Montana       2115.0         81.0   \n",
       "3   Census Tract 9.03, Flathead County, Montana       3161.0        278.0   \n",
       "4   Census Tract 8.02, Flathead County, Montana       6203.0         85.0   \n",
       "\n",
       "   C17002_003E  B01003_001E  \n",
       "0        106.0        860.0  \n",
       "1        133.0       3165.0  \n",
       "2        236.0       2160.0  \n",
       "3        213.0       3315.0  \n",
       "4        326.0       6203.0  "
      ]
     },
     "execution_count": 11,
     "metadata": {},
     "output_type": "execute_result"
    }
   ],
   "source": [
    "# Join the attributes of the dataframes together\n",
    "mt_merge = mt_tract.merge(mt_df, on = \"GEOID\")\n",
    "mt_merge.head()"
   ]
  },
  {
   "cell_type": "code",
   "execution_count": null,
   "id": "37f12138",
   "metadata": {},
   "outputs": [],
   "source": [
    "# What data types are the columns?"
   ]
  },
  {
   "cell_type": "markdown",
   "id": "603134bc",
   "metadata": {},
   "source": [
    "#### Poverty Rates\n",
    "Now let's select a few columns to make our DateFrame easier to manage. Notice that we are using `.copy()` so that we have a new object in memory and Python will not throw runtime warnings.\n",
    "\n",
    "To estimate poverty rates, we need to take the poverty ratios and divide them by the total number of people in each census tract."
   ]
  },
  {
   "cell_type": "markdown",
   "id": "3a1f4f3f",
   "metadata": {},
   "source": [
    "<div class=\"run\">\n",
    "    ▶️ <b> Run the cells below. </b>\n",
    "</div>"
   ]
  },
  {
   "cell_type": "code",
   "execution_count": 13,
   "id": "a9b3e4c9-f4a5-4e32-b6ee-56b8d37e7623",
   "metadata": {
    "scrolled": true,
    "tags": []
   },
   "outputs": [
    {
     "data": {
      "text/html": [
       "<div>\n",
       "<style scoped>\n",
       "    .dataframe tbody tr th:only-of-type {\n",
       "        vertical-align: middle;\n",
       "    }\n",
       "\n",
       "    .dataframe tbody tr th {\n",
       "        vertical-align: top;\n",
       "    }\n",
       "\n",
       "    .dataframe thead th {\n",
       "        text-align: right;\n",
       "    }\n",
       "</style>\n",
       "<table border=\"1\" class=\"dataframe\">\n",
       "  <thead>\n",
       "    <tr style=\"text-align: right;\">\n",
       "      <th></th>\n",
       "      <th>STATEFP</th>\n",
       "      <th>COUNTYFP</th>\n",
       "      <th>TRACTCE</th>\n",
       "      <th>GEOID</th>\n",
       "      <th>geometry</th>\n",
       "      <th>C17002_001E</th>\n",
       "      <th>C17002_002E</th>\n",
       "      <th>C17002_003E</th>\n",
       "      <th>B01003_001E</th>\n",
       "    </tr>\n",
       "  </thead>\n",
       "  <tbody>\n",
       "    <tr>\n",
       "      <th>0</th>\n",
       "      <td>30</td>\n",
       "      <td>029</td>\n",
       "      <td>000101</td>\n",
       "      <td>30029000101</td>\n",
       "      <td>POLYGON ((-114.88873 48.60095, -114.88872 48.6...</td>\n",
       "      <td>821.0</td>\n",
       "      <td>61.0</td>\n",
       "      <td>106.0</td>\n",
       "      <td>860.0</td>\n",
       "    </tr>\n",
       "    <tr>\n",
       "      <th>1</th>\n",
       "      <td>30</td>\n",
       "      <td>029</td>\n",
       "      <td>001101</td>\n",
       "      <td>30029001101</td>\n",
       "      <td>POLYGON ((-114.33997 48.19705, -114.33982 48.1...</td>\n",
       "      <td>3165.0</td>\n",
       "      <td>118.0</td>\n",
       "      <td>133.0</td>\n",
       "      <td>3165.0</td>\n",
       "    </tr>\n",
       "    <tr>\n",
       "      <th>2</th>\n",
       "      <td>30</td>\n",
       "      <td>029</td>\n",
       "      <td>001703</td>\n",
       "      <td>30029001703</td>\n",
       "      <td>POLYGON ((-115.02012 48.19747, -115.02010 48.1...</td>\n",
       "      <td>2115.0</td>\n",
       "      <td>81.0</td>\n",
       "      <td>236.0</td>\n",
       "      <td>2160.0</td>\n",
       "    </tr>\n",
       "    <tr>\n",
       "      <th>3</th>\n",
       "      <td>30</td>\n",
       "      <td>029</td>\n",
       "      <td>000903</td>\n",
       "      <td>30029000903</td>\n",
       "      <td>POLYGON ((-114.33061 48.22098, -114.33057 48.2...</td>\n",
       "      <td>3161.0</td>\n",
       "      <td>278.0</td>\n",
       "      <td>213.0</td>\n",
       "      <td>3315.0</td>\n",
       "    </tr>\n",
       "    <tr>\n",
       "      <th>4</th>\n",
       "      <td>30</td>\n",
       "      <td>029</td>\n",
       "      <td>000802</td>\n",
       "      <td>30029000802</td>\n",
       "      <td>POLYGON ((-114.39825 48.17564, -114.39824 48.1...</td>\n",
       "      <td>6203.0</td>\n",
       "      <td>85.0</td>\n",
       "      <td>326.0</td>\n",
       "      <td>6203.0</td>\n",
       "    </tr>\n",
       "  </tbody>\n",
       "</table>\n",
       "</div>"
      ],
      "text/plain": [
       "  STATEFP COUNTYFP TRACTCE        GEOID  \\\n",
       "0      30      029  000101  30029000101   \n",
       "1      30      029  001101  30029001101   \n",
       "2      30      029  001703  30029001703   \n",
       "3      30      029  000903  30029000903   \n",
       "4      30      029  000802  30029000802   \n",
       "\n",
       "                                            geometry  C17002_001E  \\\n",
       "0  POLYGON ((-114.88873 48.60095, -114.88872 48.6...        821.0   \n",
       "1  POLYGON ((-114.33997 48.19705, -114.33982 48.1...       3165.0   \n",
       "2  POLYGON ((-115.02012 48.19747, -115.02010 48.1...       2115.0   \n",
       "3  POLYGON ((-114.33061 48.22098, -114.33057 48.2...       3161.0   \n",
       "4  POLYGON ((-114.39825 48.17564, -114.39824 48.1...       6203.0   \n",
       "\n",
       "   C17002_002E  C17002_003E  B01003_001E  \n",
       "0         61.0        106.0        860.0  \n",
       "1        118.0        133.0       3165.0  \n",
       "2         81.0        236.0       2160.0  \n",
       "3        278.0        213.0       3315.0  \n",
       "4         85.0        326.0       6203.0  "
      ]
     },
     "execution_count": 13,
     "metadata": {},
     "output_type": "execute_result"
    }
   ],
   "source": [
    "# Create new dataframe from select columns\n",
    "mt_poverty_tract = mt_merge[[\"STATEFP\", \"COUNTYFP\", \"TRACTCE\", \n",
    "                             \"GEOID\", \"geometry\", \"C17002_001E\", \n",
    "                             \"C17002_002E\", \"C17002_003E\", \"B01003_001E\"]].copy()\n",
    "mt_poverty_tract.head()"
   ]
  },
  {
   "cell_type": "code",
   "execution_count": 14,
   "id": "a9607aa2",
   "metadata": {},
   "outputs": [],
   "source": [
    "# Get poverty rate and store mtlues in new column\n",
    "mt_poverty_tract[\"Poverty_Rate\"] = (mt_poverty_tract[\"C17002_002E\"] \n",
    "                                     + mt_poverty_tract[\"C17002_003E\"]) / mt_poverty_tract[\"B01003_001E\"] * 100"
   ]
  },
  {
   "cell_type": "markdown",
   "id": "6ff539f3",
   "metadata": {},
   "source": [
    "#### Now plot the data:"
   ]
  },
  {
   "cell_type": "code",
   "execution_count": 39,
   "id": "24e64751",
   "metadata": {},
   "outputs": [
    {
     "data": {
      "image/png": "[encoded data removed]",
      "text/plain": [
       "<Figure size 2000x1000 with 2 Axes>"
      ]
     },
     "metadata": {},
     "output_type": "display_data"
    }
   ],
   "source": [
    "# Create subplots\n",
    "fig, ax = plt.subplots(1, 1, figsize = (20, 10))\n",
    "mt_poverty_tract.plot(column = 'Poverty_Rate', ax = ax, cmap = 'RdPu', legend=True)\n",
    "\n",
    "# Stylize plots\n",
    "plt.style.use('bmh')\n",
    "\n",
    "# Set title\n",
    "ax.set_title('Poverty Rates (%) in Montana by Census Tract', fontdict = {'fontsize': '25', 'fontweight' : '3'})\n",
    "\n",
    "# Hide grid lines\n",
    "ax.grid(False)\n",
    "\n",
    "# Hide axes ticks\n",
    "ax.set_xticks([])\n",
    "ax.set_yticks([])\n",
    "\n",
    "# Set background color\n",
    "ax.set_facecolor('white')"
   ]
  },
  {
   "cell_type": "markdown",
   "id": "03b394d6",
   "metadata": {},
   "source": [
    "### Spatial Aggregation\n",
    "<hr style=\"border-top: 0.2px solid gray; margin-top: 12px; margin-bottom: 1px\"></hr>\n",
    "\n",
    "We may want to aggregate data to the county level. This is very easy to do with `GeoPandas` and uses a spatial [`dissolve`](https://geopandas.org/en/stable/docs/user_guide/aggregation_with_dissolve.html) methods just like ArcGIS or QGIS. In short, `dissolve` uses catagorical data to dissolve the boundaries between ajoining polygons with the same catagorical value. In this case, we will use the `COUNTYFP` code to disscolve the census tract level data. We will need to pass an aggregation method (see [here](https://geopandas.org/en/stable/docs/user_guide/aggregation_with_dissolve.html). In this case, we'll use `sum`."
   ]
  },
  {
   "cell_type": "markdown",
   "id": "2e4e9583",
   "metadata": {},
   "source": [
    "<div class=\"run\">\n",
    "    ▶️ <b> Run the cells below. </b>\n",
    "</div>"
   ]
  },
  {
   "cell_type": "code",
   "execution_count": 21,
   "id": "89b50bd1",
   "metadata": {},
   "outputs": [
    {
     "name": "stderr",
     "output_type": "stream",
     "text": [
      "/Users/t61d992/miniconda3/envs/geo10/lib/python3.10/site-packages/geopandas/geodataframe.py:1676: FutureWarning: The default value of numeric_only in DataFrameGroupBy.sum is deprecated. In a future version, numeric_only will default to False. Either specify numeric_only or select only columns which should be valid for the function.\n",
      "  aggregated_data = data.groupby(**groupby_kwargs).agg(aggfunc)\n"
     ]
    },
    {
     "data": {
      "text/html": [
       "<div>\n",
       "<style scoped>\n",
       "    .dataframe tbody tr th:only-of-type {\n",
       "        vertical-align: middle;\n",
       "    }\n",
       "\n",
       "    .dataframe tbody tr th {\n",
       "        vertical-align: top;\n",
       "    }\n",
       "\n",
       "    .dataframe thead th {\n",
       "        text-align: right;\n",
       "    }\n",
       "</style>\n",
       "<table border=\"1\" class=\"dataframe\">\n",
       "  <thead>\n",
       "    <tr style=\"text-align: right;\">\n",
       "      <th></th>\n",
       "      <th>geometry</th>\n",
       "      <th>C17002_001E</th>\n",
       "      <th>C17002_002E</th>\n",
       "      <th>C17002_003E</th>\n",
       "      <th>B01003_001E</th>\n",
       "    </tr>\n",
       "    <tr>\n",
       "      <th>COUNTYFP</th>\n",
       "      <th></th>\n",
       "      <th></th>\n",
       "      <th></th>\n",
       "      <th></th>\n",
       "      <th></th>\n",
       "    </tr>\n",
       "  </thead>\n",
       "  <tbody>\n",
       "    <tr>\n",
       "      <th>001</th>\n",
       "      <td>POLYGON ((-113.93780 45.69669, -113.93760 45.6...</td>\n",
       "      <td>8895.0</td>\n",
       "      <td>493.0</td>\n",
       "      <td>973.0</td>\n",
       "      <td>9391.0</td>\n",
       "    </tr>\n",
       "    <tr>\n",
       "      <th>003</th>\n",
       "      <td>POLYGON ((-107.01290 44.99641, -107.02009 44.9...</td>\n",
       "      <td>12952.0</td>\n",
       "      <td>1453.0</td>\n",
       "      <td>2247.0</td>\n",
       "      <td>13198.0</td>\n",
       "    </tr>\n",
       "    <tr>\n",
       "      <th>005</th>\n",
       "      <td>POLYGON ((-108.41123 48.31547, -108.41123 48.3...</td>\n",
       "      <td>6953.0</td>\n",
       "      <td>1004.0</td>\n",
       "      <td>790.0</td>\n",
       "      <td>7051.0</td>\n",
       "    </tr>\n",
       "    <tr>\n",
       "      <th>007</th>\n",
       "      <td>POLYGON ((-111.78795 46.56947, -111.78118 46.5...</td>\n",
       "      <td>6589.0</td>\n",
       "      <td>131.0</td>\n",
       "      <td>323.0</td>\n",
       "      <td>6641.0</td>\n",
       "    </tr>\n",
       "    <tr>\n",
       "      <th>009</th>\n",
       "      <td>POLYGON ((-109.06312 44.99954, -109.06362 44.9...</td>\n",
       "      <td>10367.0</td>\n",
       "      <td>311.0</td>\n",
       "      <td>697.0</td>\n",
       "      <td>10488.0</td>\n",
       "    </tr>\n",
       "  </tbody>\n",
       "</table>\n",
       "</div>"
      ],
      "text/plain": [
       "                                                   geometry  C17002_001E  \\\n",
       "COUNTYFP                                                                   \n",
       "001       POLYGON ((-113.93780 45.69669, -113.93760 45.6...       8895.0   \n",
       "003       POLYGON ((-107.01290 44.99641, -107.02009 44.9...      12952.0   \n",
       "005       POLYGON ((-108.41123 48.31547, -108.41123 48.3...       6953.0   \n",
       "007       POLYGON ((-111.78795 46.56947, -111.78118 46.5...       6589.0   \n",
       "009       POLYGON ((-109.06312 44.99954, -109.06362 44.9...      10367.0   \n",
       "\n",
       "          C17002_002E  C17002_003E  B01003_001E  \n",
       "COUNTYFP                                         \n",
       "001             493.0        973.0       9391.0  \n",
       "003            1453.0       2247.0      13198.0  \n",
       "005            1004.0        790.0       7051.0  \n",
       "007             131.0        323.0       6641.0  \n",
       "009             311.0        697.0      10488.0  "
      ]
     },
     "execution_count": 21,
     "metadata": {},
     "output_type": "execute_result"
    }
   ],
   "source": [
    "# Dissolve data\n",
    "mt_poverty_tract_d = mt_merge[[\"STATEFP\", \"COUNTYFP\", \"TRACTCE\", \n",
    "                             \"GEOID\", \"geometry\", \"C17002_001E\", \n",
    "                             \"C17002_002E\", \"C17002_003E\", \"B01003_001E\"]].copy()\n",
    "mt_poverty_county = mt_poverty_tract_d .dissolve(by = 'COUNTYFP', aggfunc = 'sum')\n",
    "mt_poverty_county.head()"
   ]
  },
  {
   "cell_type": "code",
   "execution_count": null,
   "id": "e54367a8",
   "metadata": {},
   "outputs": [],
   "source": [
    "# Use the dataframe's shape to see how many counties there are in Montana"
   ]
  },
  {
   "cell_type": "code",
   "execution_count": 23,
   "id": "4b613722-3e3b-4696-aa75-533e96240955",
   "metadata": {
    "tags": []
   },
   "outputs": [
    {
     "data": {
      "text/html": [
       "<div>\n",
       "<style scoped>\n",
       "    .dataframe tbody tr th:only-of-type {\n",
       "        vertical-align: middle;\n",
       "    }\n",
       "\n",
       "    .dataframe tbody tr th {\n",
       "        vertical-align: top;\n",
       "    }\n",
       "\n",
       "    .dataframe thead th {\n",
       "        text-align: right;\n",
       "    }\n",
       "</style>\n",
       "<table border=\"1\" class=\"dataframe\">\n",
       "  <thead>\n",
       "    <tr style=\"text-align: right;\">\n",
       "      <th></th>\n",
       "      <th>geometry</th>\n",
       "      <th>C17002_001E</th>\n",
       "      <th>C17002_002E</th>\n",
       "      <th>C17002_003E</th>\n",
       "      <th>B01003_001E</th>\n",
       "      <th>Poverty_Rate</th>\n",
       "    </tr>\n",
       "    <tr>\n",
       "      <th>COUNTYFP</th>\n",
       "      <th></th>\n",
       "      <th></th>\n",
       "      <th></th>\n",
       "      <th></th>\n",
       "      <th></th>\n",
       "      <th></th>\n",
       "    </tr>\n",
       "  </thead>\n",
       "  <tbody>\n",
       "    <tr>\n",
       "      <th>001</th>\n",
       "      <td>POLYGON ((-113.93780 45.69669, -113.93760 45.6...</td>\n",
       "      <td>8895.0</td>\n",
       "      <td>493.0</td>\n",
       "      <td>973.0</td>\n",
       "      <td>9391.0</td>\n",
       "      <td>15.610691</td>\n",
       "    </tr>\n",
       "    <tr>\n",
       "      <th>003</th>\n",
       "      <td>POLYGON ((-107.01290 44.99641, -107.02009 44.9...</td>\n",
       "      <td>12952.0</td>\n",
       "      <td>1453.0</td>\n",
       "      <td>2247.0</td>\n",
       "      <td>13198.0</td>\n",
       "      <td>28.034551</td>\n",
       "    </tr>\n",
       "  </tbody>\n",
       "</table>\n",
       "</div>"
      ],
      "text/plain": [
       "                                                   geometry  C17002_001E  \\\n",
       "COUNTYFP                                                                   \n",
       "001       POLYGON ((-113.93780 45.69669, -113.93760 45.6...       8895.0   \n",
       "003       POLYGON ((-107.01290 44.99641, -107.02009 44.9...      12952.0   \n",
       "\n",
       "          C17002_002E  C17002_003E  B01003_001E  Poverty_Rate  \n",
       "COUNTYFP                                                       \n",
       "001             493.0        973.0       9391.0     15.610691  \n",
       "003            1453.0       2247.0      13198.0     28.034551  "
      ]
     },
     "execution_count": 23,
     "metadata": {},
     "output_type": "execute_result"
    }
   ],
   "source": [
    "# Get poverty rate and store mtlues in new column\n",
    "mt_poverty_county[\"Poverty_Rate\"] = (mt_poverty_county[\"C17002_002E\"] + \n",
    "                                     mt_poverty_county[\"C17002_003E\"]) / mt_poverty_county[\"B01003_001E\"] * 100\n",
    "\n",
    "# Show dataframe\n",
    "mt_poverty_county.head(2)"
   ]
  },
  {
   "cell_type": "code",
   "execution_count": 37,
   "id": "d8745770-e13f-42ca-b05d-46d4ce8a5d2d",
   "metadata": {
    "tags": []
   },
   "outputs": [
    {
     "data": {
      "image/png": "[encoded data removed]",
      "text/plain": [
       "<Figure size 2000x1000 with 2 Axes>"
      ]
     },
     "metadata": {},
     "output_type": "display_data"
    }
   ],
   "source": [
    "# Create subplots\n",
    "fig, ax = plt.subplots(1, 1, figsize = (20, 10))\n",
    "\n",
    "# Plot data\n",
    "mt_poverty_county.plot(column = \"Poverty_Rate\",\n",
    "                       ax = ax,\n",
    "                       cmap = \"RdPu\",\n",
    "                       legend = True)\n",
    "\n",
    "# Stylize plots\n",
    "plt.style.use('bmh')\n",
    "\n",
    "# Set title\n",
    "ax.set_title('Poverty Rates (%) in Montana by County', fontdict = {'fontsize': '25', 'fontweight' : '3'})\n",
    "\n",
    "# Hide grid lines\n",
    "ax.grid(False)\n",
    "\n",
    "# Hide axes ticks\n",
    "ax.set_xticks([])\n",
    "ax.set_yticks([])\n",
    "\n",
    "# Set background color\n",
    "ax.set_facecolor('white')"
   ]
  },
  {
   "cell_type": "markdown",
   "id": "bb34ab45",
   "metadata": {},
   "source": [
    "### On Your Own\n",
    "<hr style=\"border-top: 0.2px solid gray; margin-top: 12px; margin-bottom: 1px\"></hr>\n",
    "\n",
    "1. Pull down, make an API request to get the total white population and the total American Indian population at the census-tract level for Montana. You will need to read the US Census variable description sheet – [See here](https://api.census.gov/data/2022/acs/acs5/variables.html) – very carefully to find the correct column names.   <br><br>\n",
    "\n",
    "2. After, at the census tract level, find the percent of the population that is white and the percentage that is American Indian.  <br><br>\n",
    "\n",
    "3. Make census tract level maps of the percentage of white Montanans and American Indian Montanans.  <br><br>\n",
    "\n",
    "4. Finally, make two scatter plots: (1) The census tract level relationship between Whites and poverty rates and American Indians and Poverty rates.  <br><br>"
   ]
  }
 ],
 "metadata": {
  "kernelspec": {
   "display_name": "Python 3 (ipykernel)",
   "language": "python",
   "name": "python3"
  },
  "language_info": {
   "codemirror_mode": {
    "name": "ipython",
    "version": 3
   },
   "file_extension": ".py",
   "mimetype": "text/x-python",
   "name": "python",
   "nbconvert_exporter": "python",
   "pygments_lexer": "ipython3",
   "version": "3.9.15"
  }
 },
 "nbformat": 4,
 "nbformat_minor": 5
}
