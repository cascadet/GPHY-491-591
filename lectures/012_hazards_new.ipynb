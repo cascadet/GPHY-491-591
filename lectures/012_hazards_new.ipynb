{
 "cells": [
  {
   "cell_type": "markdown",
   "id": "49f48f87",
   "metadata": {
    "tags": []
   },
   "source": [
    "# Interactive Session: Hazards \n",
    "\n",
    "\n",
    "We are now ready use our knowledge of integrating human and environmental geospatial datasets to understand exposure to natural hazards. We will combine what we have learned so far to measure how many people were exposed to the devastating [2015 Nepal Earthquake](https://en.wikipedia.org/wiki/April_2015_Nepal_earthquake). This analysis comes from a paper ([link here](https://www.mdpi.com/1171374?trk=public_post_reshare-text)) published a few years ago. We will measure the population exposured to the earthquake three different population datasets to illustrate how population exposure estimates can vary depending on the human dataset you use. This has big policy implications from resource allocation during response, to figuring out how much money is needed to rebuild.  \n",
    "\n",
    "In this session, we will use [five gridded population datasets](https://www.popgrid.org) and [earthquake data from USGS](https://earthquake.usgs.gov/earthquakes/eventpage/us20002ejl/executive). Gridded population datasets combine census data with remote-sensed and GIS data to infer high resolution population estimates in locations where we have a poor understanding of the population distribution. Broadly, there are two methods to create gridded population datasets: top-down and bottom-up. Top-down approaches allocate coarse-grained census data to high-resolution grid cells based on where satellite/GIS data tells us where we think people live. Bottom-up approaches link high-resolution micro-census data to satellite/GIS data and then use computer vision algorithms to create populations maps (for more info, including the source of the image below, see [WorldPop](https://www.worldpop.org/methods/populations/). But because gridded population producers use different input data and algorithms, they produce different population estimates. This can create real-world proplems, like trying to measure how many people are effected by a major earthquake in an area lacking recent public, high-resolution census data. \n",
    "\n",
    "**The question we are going to ask is: how many rural and how many urban people in Nepal were exposued to the 2025 earthquake by earthquake intensity?**\n",
    "\n",
    "In this tutorial, we will be using a new package caller [`rioxarray`](https://corteva.github.io/rioxarray/stable/) which builds upon `rasterio` and is a bit more user friendly.\n",
    "\n",
    "<img src=\"./assets/wp.png\" alt=\"rastervector\" width=\"1500\"/>\n",
    " \n",
    "<p style=\"height:1pt\"> </p>\n",
    "\n",
    "<div class=\"boxhead2\">\n",
    "    Session Topics\n",
    "</div>\n",
    "\n",
    "<div class=\"boxtext2\">\n",
    "<ul class=\"a\">\n",
    "    <li> 📌 Introduction to <span class=\"codeb\">Rasterio</span> </li>\n",
    "    <ul class=\"b\">\n",
    "        <li> Resampling raster data </li>\n",
    "        <li> Clipping raster data </li>\n",
    "        <li> Reprojecting raster data </li>   \n",
    "        <li> Zonal statistics </li>   \n",
    "</ul>\n",
    "</div>\n",
    "\n",
    "<hr style=\"border-top: 0.2px solid gray; margin-top: 12pt; margin-bottom: 0pt\"></hr>\n",
    "\n",
    "### Instructions\n",
    "We will work through this notebook together. To run a cell, click on the cell and press \"Shift\" + \"Enter\" or click the \"Run\" button in the toolbar at the top. \n",
    "\n",
    "<p style=\"color:#408000; font-weight: bold\"> 🐍 &nbsp; &nbsp; This symbol designates an important note about Python structure, syntax, or another quirk.  </p>\n",
    "\n",
    "<p style=\"color:#008C96; font-weight: bold\"> ▶️ &nbsp; &nbsp; This symbol designates a cell with code to be run.  </p>\n",
    "\n",
    "<p style=\"color:#008C96; font-weight: bold\"> ✏️ &nbsp; &nbsp; This symbol designates a partially coded cell with an example.  </p>\n",
    "\n",
    "<hr style=\"border-top: 1px solid gray; margin-top: 24px; margin-bottom: 1px\"></hr>"
   ]
  },
  {
   "cell_type": "code",
   "execution_count": null,
   "id": "a049fd46-64af-4b3a-a36e-8170b31556bd",
   "metadata": {
    "tags": []
   },
   "outputs": [],
   "source": [
    "# dependencies \n",
    "import os \n",
    "import xarray as xr\n",
    "import numpy as np\n",
    "import pandas as pd\n",
    "import geopandas as gpd\n",
    "import rasterio \n",
    "import rioxarray as rio\n",
    "from glob import glob\n",
    "from rasterio.enums import Resampling\n",
    "import xarray as xr\n",
    "from scipy.stats import variation \n",
    "import rasterio.mask\n",
    "from rasterstats import zonal_stats, gen_zonal_stats\n",
    "import matplotlib.pyplot as plt\n",
    "import matplotlib.patches as patches"
   ]
  },
  {
   "cell_type": "markdown",
   "id": "74ba4c2b-ab90-4336-ae54-2ef5f87bbbf0",
   "metadata": {},
   "source": [
    "### Resampling raster data\n",
    "First, if we want to identify rural and urban populations, we need a quasi indepedent dataset. Here we're going to an urban-rural binary land cover classification derived from MODIS data—the MODIS global urban extent product [(MGUP)](https://www.sciencedirect.com/science/article/pii/S0303243420308989). But the MGUP data is produced at 250m, where as our population data is 1-km spatial resolution.  \n",
    "\n",
    "We need to resample the MGUP data using `rasterio`. We are going to use `mode` since this is a binary `rural-urban` classified raster and we need to upsample it. Here is a function to do this.\n",
    "<div class=\"run\">\n",
    "    ▶️ <b> Run the cells below. </b>\n",
    "</div>"
   ]
  },
  {
   "cell_type": "code",
   "execution_count": null,
   "id": "c4bfa40d-d356-4887-bfdd-9b02d2c31c9f",
   "metadata": {
    "tags": []
   },
   "outputs": [],
   "source": [
    "def resample(fn_in, fn_out, scale_factor, method):\n",
    "    \"\"\"\n",
    "    Resamples a raster file by a given scale factor and saves the output to a new file.\n",
    "\n",
    "    Args:\n",
    "        fn_in (str): The file path and name of the input raster (.tif) file.\n",
    "        fn_out (str): The file path and name where the resampled output raster (.tif) file will be saved.\n",
    "        scale_factor (float): The factor by which to scale the raster. Values greater than 1 upsample, while values less than 1 downsample the raster.\n",
    "        method (rasterio.enums.Resampling): The resampling method to use, as defined in the `rasterio.enums.Resampling` class.\n",
    "            Common options include Resampling.nearest, Resampling.bilinear, Resampling.cubic, etc.\n",
    "    \n",
    "    Process:\n",
    "        1. Opens the input raster file.\n",
    "        2. Resamples the raster data to a new shape based on the scale factor and the chosen resampling method.\n",
    "        3. Updates the metadata of the raster to reflect the new dimensions and transformation.\n",
    "        4. Saves the resampled raster data to the specified output file.\n",
    "    \n",
    "    Example:\n",
    "        resample('input.tif', 'output.tif', 0.5, Resampling.bilinear)\n",
    "\n",
    "    Notes:\n",
    "        - The input and output files should be in GeoTIFF (.tif) format.\n",
    "        - The scale factor is applied to both the height and width of the raster.\n",
    "        - Ensure that the correct resampling method is selected based on the desired output quality and performance.\n",
    "    \"\"\"\n",
    "\n",
    "    with rasterio.open(fn_in) as dataset:\n",
    "\n",
    "        # resample data to target shape\n",
    "        data = dataset.read(\n",
    "            out_shape=(\n",
    "                dataset.count,\n",
    "                int(dataset.height * scale_factor),\n",
    "                int(dataset.width * scale_factor)\n",
    "            ),\n",
    "            resampling=method\n",
    "        )\n",
    "\n",
    "        # scale image transform\n",
    "        transform = dataset.transform * dataset.transform.scale(\n",
    "            (dataset.width / data.shape[-1]),\n",
    "            (dataset.height / data.shape[-2])\n",
    "        )\n",
    "    \n",
    "    # meta data to write out\n",
    "    out_meta = dataset.meta\n",
    "\n",
    "    # Update meta data\n",
    "    out_meta.update({\"driver\": \"GTiff\",\n",
    "             \"height\": data.shape[1],\n",
    "             \"width\": data.shape[2],\n",
    "             \"transform\": transform})\n",
    "\n",
    "    # write image \n",
    "    with rasterio.open(fn_out, \"w\", **out_meta) as dest:\n",
    "        dest.write(data)"
   ]
  },
  {
   "cell_type": "code",
   "execution_count": null,
   "id": "82d7d1a2-c191-4101-ae38-d00498c0dace",
   "metadata": {
    "tags": []
   },
   "outputs": [],
   "source": [
    "# File paths\n",
    "data_in = os.path.join('../../course-materials/GPHY-491-591/data/tutorial011/')\n",
    "data_out = os.path.join('./data/')"
   ]
  },
  {
   "cell_type": "code",
   "execution_count": null,
   "id": "9b3422c7-b40c-45a0-98e3-19e2253b937d",
   "metadata": {
    "tags": []
   },
   "outputs": [],
   "source": [
    "# File names\n",
    "modis_in = os.path.join(data_in+'MGUP_annual_2001_2018/MGUP_2015.tif')\n",
    "modis_out = os.path.join(data_out+'MGUP_2015-1km.tif')"
   ]
  },
  {
   "cell_type": "code",
   "execution_count": null,
   "id": "9b9c5074-7632-4aef-a26e-f1904cdca525",
   "metadata": {
    "tags": []
   },
   "outputs": [],
   "source": [
    "# Resample and save the MODIS landcover raster\n",
    "resample(modis_in, modis_out, 0.5, Resampling.mode)"
   ]
  },
  {
   "cell_type": "markdown",
   "id": "a79eae3b-c6b1-4759-9541-5814d893e8ec",
   "metadata": {},
   "source": [
    "<hr style=\"border-top: 1px solid gray; margin-top: 24px; margin-bottom: 1px\"></hr>\n",
    "\n",
    "### Clipping raster data\n",
    "\n",
    "The next step is to clip population rasters to Nepal's boundaries. This will reduce our memory use and speed things up - the population rasters are quite large. \n",
    "\n",
    "We will again use `rasterio` to clip our population rasters to a shape file for Nepal. Here is a function to do this.\n",
    "<div class=\"run\">\n",
    "    ▶️ <b> Run the cells below. </b>\n",
    "</div>"
   ]
  },
  {
   "cell_type": "code",
   "execution_count": null,
   "id": "c8164066-4515-4618-a7b6-fa70cd141f4a",
   "metadata": {
    "tags": []
   },
   "outputs": [],
   "source": [
    "# Functions\n",
    "def raster_clip(rst_fn, polys, fn_out):    \n",
    "    \"\"\"\n",
    "    Clips a raster file to the extent of the provided polygons and saves the result to a new file.\n",
    "\n",
    "    Args:\n",
    "        rst_fn (str): The file path and name of the input raster (.tif) file that you want to clip.\n",
    "        polys (list of dict or geopandas.GeoDataFrame): The polygons used to define the clipping region. These should be in the same coordinate reference system (CRS) as the raster.\n",
    "        fn_out (str): The file path and name where the clipped raster (.tif) file will be saved.\n",
    "\n",
    "    Process:\n",
    "        1. Opens the input raster file.\n",
    "        2. Clips the raster data based on the provided polygon geometry.\n",
    "        3. Updates the raster's metadata to reflect the new dimensions and transformation.\n",
    "        4. Saves the clipped raster data to the specified output file.\n",
    "\n",
    "    Example:\n",
    "        raster_clip('input.tif', [polygon1, polygon2], 'clipped_output.tif')\n",
    "\n",
    "    Notes:\n",
    "        - The polygons should be in GeoJSON format, or compatible geometry formats supported by `rasterio.mask`.\n",
    "        - The clipping process will crop the raster to the bounding box of the polygons and mask out the areas outside the polygons.\n",
    "        - The input and output files should be in GeoTIFF (.tif) format.\n",
    "    \"\"\"\n",
    "    \n",
    "    # clip raster\n",
    "    with rasterio.open(rst_fn) as src:\n",
    "        out_image, out_transform = rasterio.mask.mask(src, polys, crop=True)\n",
    "        out_meta = src.meta\n",
    "        \n",
    "    # Update meta data\n",
    "    out_meta.update({\"driver\": \"GTiff\",\n",
    "                 \"height\": out_image.shape[1],\n",
    "                 \"width\": out_image.shape[2],\n",
    "                 \"transform\": out_transform})\n",
    "    \n",
    "    # write image \n",
    "    with rasterio.open(fn_out, \"w\", **out_meta) as dest:\n",
    "        dest.write(out_image)"
   ]
  },
  {
   "cell_type": "code",
   "execution_count": null,
   "id": "facab64d-fbcc-4cbf-b1f6-7793dc6c35b4",
   "metadata": {
    "tags": []
   },
   "outputs": [],
   "source": [
    "# Set up the file paths for each raster \n",
    "wp_path = os.path.join(data_in + 'WorldPop16/ppp_2016_1km_Aggregated.tif')\n",
    "ls_path = os.path.join(data_in + 'LandScan-Global-2015/lspop2015/w001001.adf')\n",
    "esri_path = os.path.join(data_in + 'ESRI_WPE_2016_Pop/WPE_1KM_2016_Pop.tif')\n",
    "ghs_path = os.path.join(data_in + 'GHS-Pop/GHS_POP_E2015_GLOBE_R2019A_4326_30ss_V1_0.tif')\n",
    "gpw_path = os.path.join(data_in + 'gpw_v4/gpw-v4-population-count-rev11_2015_30_sec_tif/gpw_v4_population_count_rev11_2015_30_sec.tif')\n",
    "modis_path = os.path.join(data_out + 'MGUP_2015-1km.tif')"
   ]
  },
  {
   "cell_type": "code",
   "execution_count": null,
   "id": "15d74dca-761b-4e82-b379-151cc6ef8211",
   "metadata": {
    "tags": []
   },
   "outputs": [],
   "source": [
    "# Open shape file\n",
    "polys_fn = os.path.join(data_in + 'GPWv4-boundaries/gwpv4_npl_admin4.shp')\n",
    "polys = gpd.read_file(polys_fn)\n",
    "shapes = polys[\"geometry\"]"
   ]
  },
  {
   "cell_type": "code",
   "execution_count": null,
   "id": "dd9e0853-c551-4f12-b6a4-f0fc8f54ae13",
   "metadata": {
    "tags": []
   },
   "outputs": [],
   "source": [
    "shapes.head()"
   ]
  },
  {
   "cell_type": "markdown",
   "id": "060a797f-6796-4612-9940-8aa4622f8b54",
   "metadata": {
    "tags": []
   },
   "source": [
    "<div class=\"example\">\n",
    "    ✏️ <b> Try it. </b> \n",
    "   Plot the Nepal shape file. \n",
    "</div>"
   ]
  },
  {
   "cell_type": "code",
   "execution_count": null,
   "id": "7c2c8983-922d-415e-a8e1-b08fd8371ba5",
   "metadata": {
    "tags": []
   },
   "outputs": [],
   "source": [
    "# your code here ... "
   ]
  },
  {
   "cell_type": "markdown",
   "id": "0afde8d8-6fb2-46a1-9e7a-ff470d31bbb4",
   "metadata": {
    "tags": []
   },
   "source": [
    "**Now clip the rasters**"
   ]
  },
  {
   "cell_type": "code",
   "execution_count": null,
   "id": "16225c0a-e1cf-4a94-be77-290092cbe7d3",
   "metadata": {
    "tags": []
   },
   "outputs": [],
   "source": [
    "# Clip WorldPop Data\n",
    "out = os.path.join(data_out, 'wp2016_npl.tif')\n",
    "print(out)\n",
    "raster_clip(rst_fn = wp_path, polys = shapes, fn_out = out)"
   ]
  },
  {
   "cell_type": "code",
   "execution_count": null,
   "id": "6552559b-c07b-449c-9ac0-a6032d12bf4f",
   "metadata": {
    "tags": []
   },
   "outputs": [],
   "source": [
    "# Clip LandScan Data\n",
    "out = os.path.join(data_out, 'ls2015_npl.tif')\n",
    "print(out)\n",
    "raster_clip(rst_fn = ls_path, polys = shapes, fn_out = out)"
   ]
  },
  {
   "cell_type": "code",
   "execution_count": null,
   "id": "da678503-9913-4ecb-8cdb-d2a93598a31f",
   "metadata": {
    "tags": []
   },
   "outputs": [],
   "source": [
    "# Clip ESRI Data\n",
    "out = os.path.join(data_out, 'esri2016_npl.tif')\n",
    "print(out)\n",
    "raster_clip(rst_fn = esri_path, polys = shapes, fn_out = out)"
   ]
  },
  {
   "cell_type": "code",
   "execution_count": null,
   "id": "466a6f4f-44d4-4f68-ae2e-b60e6ca95c3a",
   "metadata": {
    "tags": []
   },
   "outputs": [],
   "source": [
    "# Clip GHS Data\n",
    "out = os.path.join(data_out, 'ghs2015_npl.tif')\n",
    "print(out)\n",
    "raster_clip(rst_fn = ghs_path, polys = shapes, fn_out = out)"
   ]
  },
  {
   "cell_type": "code",
   "execution_count": null,
   "id": "da50b418-2731-43c9-a141-d11650ec1849",
   "metadata": {
    "tags": []
   },
   "outputs": [],
   "source": [
    "# Clip GPW Data\n",
    "out = os.path.join(data_out, 'gpw2015_npl.tif')\n",
    "print(out)\n",
    "raster_clip(rst_fn = gpw_path, polys = shapes, fn_out = out)"
   ]
  },
  {
   "cell_type": "code",
   "execution_count": null,
   "id": "34906652-5cf1-4883-954d-5071de8fe9d2",
   "metadata": {
    "tags": []
   },
   "outputs": [],
   "source": [
    "# Clip modis data\n",
    "out = os.path.join(data_out, 'modis2015_npl.tif')\n",
    "print(out)\n",
    "raster_clip(rst_fn = modis_path, polys = shapes, fn_out = out)"
   ]
  },
  {
   "cell_type": "markdown",
   "id": "da5e0b5a",
   "metadata": {},
   "source": [
    "<hr style=\"border-top: 1px solid gray; margin-top: 24px; margin-bottom: 1px\"></hr>\n",
    "\n",
    "### Spatially align (match) and reproject the population rasters\n",
    "\n",
    "Now, we need to match and reproject the population rasters. We also need each raster to have the same `nan` value. In other words, we need reach popgrid raster to be in the same CRS, have the same shape, nan value, and projection so that they stack. <br>\n",
    "\n",
    "Let's take a look at the `crs`, `shape` and `nan` of each raster.\n",
    "\n",
    "\n",
    "<div class=\"run\">\n",
    "    ▶️ <b> Run the cells below. </b>\n",
    "</div>"
   ]
  },
  {
   "cell_type": "code",
   "execution_count": null,
   "id": "e41eb168-4b96-4342-a6b1-56d7f798302f",
   "metadata": {},
   "outputs": [],
   "source": [
    "wp_path = os.path.join(data_out, 'wp2016_npl.tif')\n",
    "ls_path = os.path.join(data_out, 'ls2015_npl.tif')\n",
    "esri_path = os.path.join(data_out, 'esri2016_npl.tif')\n",
    "ghs_path = os.path.join(data_out, 'ghs2015_npl.tif')\n",
    "gpw_path = os.path.join(data_out, 'gpw2015_npl.tif')\n",
    "modis_path = os.path.join(data_out, 'modis2015_npl.tif')"
   ]
  },
  {
   "cell_type": "code",
   "execution_count": null,
   "id": "ffbd208a",
   "metadata": {
    "tags": []
   },
   "outputs": [],
   "source": [
    "# MODIS2015_LCType2_1km-urban.tif is 2015 MODIS from GEE reclassified to urban/rural \n",
    "# width = ??? \n",
    "# height = ???\n",
    "# crs = ???\n",
    "modis = rio.open_rasterio(modis_path)\n",
    "print(modis.rio.crs)\n",
    "modis"
   ]
  },
  {
   "cell_type": "code",
   "execution_count": null,
   "id": "a96fee62",
   "metadata": {
    "tags": []
   },
   "outputs": [],
   "source": [
    "# GPW v4 : \n",
    "# width = ??? \n",
    "# height = ???\n",
    "# crs = ???\n",
    "gpw = rio.open_rasterio(gpw_path)\n",
    "print(gpw.rio.crs)\n",
    "gpw"
   ]
  },
  {
   "cell_type": "code",
   "execution_count": null,
   "id": "e3cff627",
   "metadata": {
    "tags": []
   },
   "outputs": [],
   "source": [
    "# World Pop 2016 \n",
    "# width = ??? \n",
    "# height = ???\n",
    "wp = rio.open_rasterio(wp_path)\n",
    "print(wp.rio.crs)\n",
    "wp"
   ]
  },
  {
   "cell_type": "code",
   "execution_count": null,
   "id": "2fd9f4b5",
   "metadata": {
    "tags": []
   },
   "outputs": [],
   "source": [
    "# ESRI 2016 \n",
    "# width = ??? \n",
    "# height = ???\n",
    "# crs = ???\n",
    "esri = rio.open_rasterio(esri_path)\n",
    "print(esri.rio.crs)\n",
    "esri"
   ]
  },
  {
   "cell_type": "code",
   "execution_count": null,
   "id": "0390cd43",
   "metadata": {
    "tags": []
   },
   "outputs": [],
   "source": [
    "# LS 2015 \n",
    "# width = ??? \n",
    "# height = ???\n",
    "# crs = ???\n",
    "ls = rio.open_rasterio(ls_path)\n",
    "print(ls.rio.crs)\n",
    "ls"
   ]
  },
  {
   "cell_type": "code",
   "execution_count": null,
   "id": "f7f967d9",
   "metadata": {
    "tags": []
   },
   "outputs": [],
   "source": [
    "# GHS 2015 \n",
    "# width = ??? \n",
    "# height = ???\n",
    "# crs = ???\n",
    "ghs = rio.open_rasterio(ghs_path)\n",
    "print(ghs.rio.crs)\n",
    "ghs"
   ]
  },
  {
   "cell_type": "markdown",
   "id": "6238a14b",
   "metadata": {},
   "source": [
    "#### Dealing with NaN values for the rasters."
   ]
  },
  {
   "cell_type": "markdown",
   "id": "c03e2fe1-e295-4141-9a5d-e5a0d471ea89",
   "metadata": {},
   "source": [
    "**First check the nan `nodata` for all data** <br>\n",
    "This is the meta data flag that says \"this value means nan\" _and_ print this value when we see an `nan'. "
   ]
  },
  {
   "cell_type": "code",
   "execution_count": null,
   "id": "966a2832-7282-49b0-88e1-5061b57e1168",
   "metadata": {},
   "outputs": [],
   "source": [
    "# Check no data values\n",
    "print(modis.rio.nodata)\n",
    "print(gpw.rio.nodata)\n",
    "print(esri.rio.nodata)\n",
    "print(ls.rio.nodata)\n",
    "print(wp.rio.nodata)\n",
    "print(ghs.rio.nodata)"
   ]
  },
  {
   "cell_type": "markdown",
   "id": "605bee0d-4cd5-4e81-b1e3-3aa57a77aed8",
   "metadata": {},
   "source": [
    "Now, let's check the nan values for all data by looking at the value upper left corner of each array."
   ]
  },
  {
   "cell_type": "code",
   "execution_count": null,
   "id": "862fdfb6",
   "metadata": {
    "scrolled": true,
    "tags": []
   },
   "outputs": [],
   "source": [
    "print('modis nan value is', modis.data[0][0][0])\n",
    "print('GPW nan value is', gpw.data[0][0][0])\n",
    "print('World Pop nan value is', wp.data[0][0][0])\n",
    "print('LandScan nan value is', ls.data[0][0][0])\n",
    "print('ESRI nan value is', esri.data[0][0][0])\n",
    "print('GHS nan value is', ghs.data[0][0][0])"
   ]
  },
  {
   "cell_type": "code",
   "execution_count": null,
   "id": "60c90298-a488-4063-b697-5813ad1ff876",
   "metadata": {},
   "outputs": [],
   "source": [
    "# Let's revalue everywhere that is <= 0 since we only care about population\n",
    "modis.data = np.where(modis.data < 1,0, modis.data)\n",
    "gpw.data = np.where(gpw.data < 1,0, gpw.data)\n",
    "wp.data = np.where(wp.data < 1,0, wp.data)\n",
    "ls.data = np.where(ls.data < 1,0, ls.data)\n",
    "esri.data = np.where(esri.data < 1,0, esri.data)\n",
    "ghs.data = np.where(ghs.data < 1,0, ghs.data)"
   ]
  },
  {
   "cell_type": "code",
   "execution_count": null,
   "id": "c2d24f7e-32b6-4433-89ff-7f3d7f462533",
   "metadata": {
    "tags": []
   },
   "outputs": [],
   "source": [
    "# check them out\n",
    "print('modis na value is', modis.data[0][0][0])\n",
    "print('GPW na value is', gpw.data[0][0][0])\n",
    "print('World Pop na value is', wp.data[0][0][0])\n",
    "print('LandScan na value is', ls.data[0][0][0])\n",
    "print('ESRI na value is', esri.data[0][0][0])\n",
    "print('GHS na value is', ghs.data[0][0][0])"
   ]
  },
  {
   "cell_type": "code",
   "execution_count": null,
   "id": "a8feca8b-240d-4170-9ab5-b305b07f1aeb",
   "metadata": {},
   "outputs": [],
   "source": [
    "# check the data type of modis\n",
    "print(modis.dtype)\n",
    "modis.data = modis.data.astype('int16')\n",
    "print(modis.dtype)"
   ]
  },
  {
   "cell_type": "code",
   "execution_count": null,
   "id": "af666a5f-2f05-40af-8eee-21fe6e633093",
   "metadata": {},
   "outputs": [],
   "source": [
    "# Let's set a nodata values for all\n",
    "modis.rio.write_nodata(-999, inplace=True)\n",
    "print(modis.rio.nodata)\n",
    "gpw.rio.write_nodata(-999, inplace=True)\n",
    "print(gpw.rio.nodata)\n",
    "wp.rio.write_nodata(-999, inplace=True)\n",
    "print(wp.rio.nodata)\n",
    "ls.rio.write_nodata(-999, inplace=True)\n",
    "print(ls.rio.nodata)\n",
    "esri.rio.write_nodata(-999, inplace=True)\n",
    "print(esri.rio.nodata)\n",
    "ghs.rio.write_nodata(-999, inplace=True)\n",
    "print(ghs.rio.nodata)"
   ]
  },
  {
   "cell_type": "code",
   "execution_count": null,
   "id": "2a4b4d22-6601-446e-97d1-2c794cd4eb73",
   "metadata": {},
   "outputs": [],
   "source": [
    "# Check no data values\n",
    "print(modis.rio.nodata)\n",
    "print(gpw.rio.nodata)\n",
    "print(esri.rio.nodata)\n",
    "print(ls.rio.nodata)\n",
    "print(wp.rio.nodata)\n",
    "print(ghs.rio.nodata)"
   ]
  },
  {
   "cell_type": "markdown",
   "id": "29ca3877-9304-4a33-a39d-67fb84e4cd3d",
   "metadata": {},
   "source": [
    "**Check the nan `_FillValue` for all data** <br>\n",
    "This is the meta data flag that says \"this value means nan\" _and_ print this value when we see an `nan'. "
   ]
  },
  {
   "cell_type": "code",
   "execution_count": null,
   "id": "feae3eec",
   "metadata": {
    "tags": []
   },
   "outputs": [],
   "source": [
    "# modis doesn't have an assigned fill value so we make one\n",
    "modis.attrs['_FillValue'] = -999\n",
    "\n",
    "# Check fille values\n",
    "print(modis.attrs['_FillValue'])\n",
    "print(gpw.attrs['_FillValue'])\n",
    "print(esri.attrs['_FillValue'])\n",
    "print(ls.attrs['_FillValue'])\n",
    "print(wp.attrs['_FillValue'])\n",
    "print(ghs.attrs['_FillValue'])"
   ]
  },
  {
   "cell_type": "code",
   "execution_count": null,
   "id": "de5c35f7-099c-4ac1-b8f3-1baf1902293d",
   "metadata": {
    "tags": []
   },
   "outputs": [],
   "source": [
    "# Set all nan fill values to 0 in the meta data\n",
    "na_val = -999\n",
    "\n",
    "modis.attrs['_FillValue'] = na_val\n",
    "gpw.attrs['_FillValue'] = na_val\n",
    "esri.attrs['_FillValue'] = na_val\n",
    "ls.attrs['_FillValue'] = na_val\n",
    "wp.attrs['_FillValue'] = na_val\n",
    "ghs.attrs['_FillValue'] = na_val"
   ]
  },
  {
   "cell_type": "code",
   "execution_count": null,
   "id": "0547671b-7056-4fc1-be6d-9eaeddea8f51",
   "metadata": {
    "tags": []
   },
   "outputs": [],
   "source": [
    "# Check nan fill values in the meta data\n",
    "print(modis.attrs['_FillValue'])\n",
    "print(gpw.attrs['_FillValue'])\n",
    "print(esri.attrs['_FillValue'])\n",
    "print(ls.attrs['_FillValue'])\n",
    "print(wp.attrs['_FillValue'])\n",
    "print(ghs.attrs['_FillValue'])"
   ]
  },
  {
   "cell_type": "markdown",
   "id": "e1167c59-7764-458c-ac73-5090df911bb4",
   "metadata": {
    "tags": []
   },
   "source": [
    "**Reproject rasters** <br>\n",
    "Now we pick one raster, and reproject and match the other rasters to a single basemap. This choice is arbitrary and would benefit with a sensitivity analysis (e.g. trying different raster to see how reprojecting changes the data), but we'll use GPWv4 because it is the underlying data for many of the other products."
   ]
  },
  {
   "cell_type": "code",
   "execution_count": null,
   "id": "43e50c1a-e220-495a-937c-13a8143fe12b",
   "metadata": {
    "tags": []
   },
   "outputs": [],
   "source": [
    "# Reproject all datasets to GPWv4\n",
    "modis_match = modis.rio.reproject_match(gpw)\n",
    "gpw_match = gpw.rio.reproject_match(gpw) # this is not needed per say, but we're doing it for consistancy\n",
    "ls_match = ls.rio.reproject_match(gpw)\n",
    "esri_match = esri.rio.reproject_match(gpw)\n",
    "wp_match = wp.rio.reproject_match(gpw)\n",
    "ghs_match = ghs.rio.reproject_match(gpw)"
   ]
  },
  {
   "cell_type": "markdown",
   "id": "08249643",
   "metadata": {},
   "source": [
    "**Now check the reprojected data**"
   ]
  },
  {
   "cell_type": "code",
   "execution_count": null,
   "id": "04ae174a",
   "metadata": {
    "tags": []
   },
   "outputs": [],
   "source": [
    "modis_match"
   ]
  },
  {
   "cell_type": "code",
   "execution_count": null,
   "id": "4256caf5-edf8-47bd-8a67-9417f40709ff",
   "metadata": {
    "tags": []
   },
   "outputs": [],
   "source": [
    "gpw_match"
   ]
  },
  {
   "cell_type": "code",
   "execution_count": null,
   "id": "45158bda",
   "metadata": {
    "tags": []
   },
   "outputs": [],
   "source": [
    "ls_match "
   ]
  },
  {
   "cell_type": "code",
   "execution_count": null,
   "id": "fd8e0243",
   "metadata": {
    "tags": []
   },
   "outputs": [],
   "source": [
    "esri_match "
   ]
  },
  {
   "cell_type": "code",
   "execution_count": null,
   "id": "d499f3f4",
   "metadata": {
    "tags": []
   },
   "outputs": [],
   "source": [
    "wp_match "
   ]
  },
  {
   "cell_type": "code",
   "execution_count": null,
   "id": "00162a59",
   "metadata": {
    "tags": []
   },
   "outputs": [],
   "source": [
    "ghs_match "
   ]
  },
  {
   "cell_type": "markdown",
   "id": "b799499b",
   "metadata": {},
   "source": [
    "**Now write the reprojected and matched rasters to disk**\n",
    "\n",
    "Notice that `MGUP15_2015-1km-matched.tif` uses `-` not `_` ... this helps later when we want to use `glob` to get the files we want to work with."
   ]
  },
  {
   "cell_type": "code",
   "execution_count": null,
   "id": "b6a3c7ab",
   "metadata": {
    "tags": []
   },
   "outputs": [],
   "source": [
    "# Now write the reprojected and matched rasters\n",
    "modis_match.rio.to_raster(data_out + 'MGUP15_2015-1km-npl-matched.tif') \n",
    "gpw_match.rio.to_raster(data_out + 'gpw2015_npl_matched.tif')\n",
    "esri_match.rio.to_raster(data_out + 'esri2016_npl_matched.tif')\n",
    "ls_match.rio.to_raster(data_out + 'ls2015_npl_matched.tif')\n",
    "wp_match.rio.to_raster(data_out + 'wp2016_npl_matched.tif')\n",
    "ghs_match.rio.to_raster(data_out + 'ghs2015_npl_matched.tif')"
   ]
  },
  {
   "cell_type": "markdown",
   "id": "08a94755",
   "metadata": {},
   "source": [
    "<hr style=\"border-top: 1px solid gray; margin-top: 24px; margin-bottom: 1px\"></hr>\n",
    "\n",
    "### Mask Rural and Urban Populations\n",
    "\n",
    "Now, we will create a mask to use the binary `MGUP` rural-urban populations to isolate urban populations and rural populations for each popgrid raster <br>\n",
    "\n",
    "\n",
    "<div class=\"run\">\n",
    "    ▶️ <b> Run the cells below. </b>\n",
    "</div>"
   ]
  },
  {
   "cell_type": "code",
   "execution_count": null,
   "id": "c1e526e9",
   "metadata": {
    "tags": []
   },
   "outputs": [],
   "source": [
    "def raster_mask(rst_fn, lc_arr, data_out):\n",
    "    \"\"\"\n",
    "    Masks and separates population raster data into urban and rural regions based on a binary classification layer, and writes the results to separate output files.\n",
    "\n",
    "    Args:\n",
    "        rst_fn (str): The file path and name of the input population raster (.tif).\n",
    "        lc_arr (numpy.array): A binary array representing land cover, where urban areas are indicated by 1 and rural areas are indicated by values other than 1 (e.g., -999).\n",
    "        data_out (str): The directory path where the resulting urban and rural raster files will be saved.\n",
    "\n",
    "    Process:\n",
    "        1. Opens the input population raster and reads it as an array.\n",
    "        2. Applies a mask to separate urban (land cover == 1) and rural (land cover != 1) population data.\n",
    "        3. Updates the metadata to match the new raster data.\n",
    "        4. Saves the masked urban and rural rasters as new files with modified filenames.\n",
    "\n",
    "    Output:\n",
    "        - Two GeoTIFF files: one for the urban population and one for the rural population.\n",
    "        - Filenames will be derived from the input raster name and will end with '_urban.tif' and '_rural.tif'.\n",
    "\n",
    "    Example:\n",
    "        raster_mask('population.tif', landcover_array, 'output_directory/')\n",
    "\n",
    "    Notes:\n",
    "        - The input raster should be in GeoTIFF (.tif) format.\n",
    "        - Ensure that the land cover array has the same dimensions as the population raster.\n",
    "        - The function writes two output files, one for the urban population and one for the rural population.\n",
    "    \"\"\"\n",
    "    \n",
    "    # split for naming\n",
    "    rst_nm = rst_fn.split('a/')[1].split('.tif')[0]\n",
    "    print(rst_nm)\n",
    "    \n",
    "    # open pop rasters and get array\n",
    "    arr = rasterio.open(rst_fn).read(1)\n",
    "    mask = np.where(arr == -999, 0, 1) # make an NaN mask \n",
    "    \n",
    "    # multiply for urban\n",
    "    lc_urban = lc_arr == 1\n",
    "    arr_urban = arr * lc_urban * mask\n",
    "    \n",
    "    # multiply for rural\n",
    "    lc_rural = lc_arr != 1\n",
    "    arr_rural = arr * lc_rural * mask\n",
    "\n",
    "    # meta data\n",
    "    meta = rasterio.open(rst_fn).meta\n",
    "\n",
    "    # write out urban\n",
    "    meta['nodata'] = -999\n",
    "    meta['dtype'] = arr_urban.dtype\n",
    "    out_fn = data_out+rst_nm+'_urban.tif'\n",
    "    print(out_fn)\n",
    "    with rasterio.open(out_fn, 'w', **meta) as out:\n",
    "        out.write_band(1, arr_urban)\n",
    "    \n",
    "    # write out rural \n",
    "    meta['nodata'] = -999\n",
    "    meta['dtype'] = arr_rural.dtype\n",
    "    out_fn = data_out+rst_nm+'_rural.tif'\n",
    "    print(out_fn)\n",
    "    with rasterio.open(out_fn, 'w', **meta) as out:\n",
    "        out.write_band(1, arr_rural)\n",
    "    print('done \\n')"
   ]
  },
  {
   "cell_type": "code",
   "execution_count": null,
   "id": "403d2f7d-5e8d-429f-bd8a-6f4e753b6cd3",
   "metadata": {},
   "outputs": [],
   "source": [
    "# Make a rural/urban raster (MGUP rural value == 0)\n",
    "urban_rural = modis_match.copy()\n",
    "urban_rural.data = np.where(urban_rural.data == 0, 0, urban_rural.data)\n",
    "urban_rural.data = np.where(urban_rural.data != 1, 0, urban_rural.data)\n",
    "urban_rural.rio.to_raster(data_out+'MGUP15-rural-urban-matched.tif')\n",
    "modis_arr = rasterio.open(data_out+'MGUP15-rural-urban-matched.tif').read(1)"
   ]
  },
  {
   "cell_type": "code",
   "execution_count": null,
   "id": "a2a7ec9e",
   "metadata": {
    "tags": []
   },
   "outputs": [],
   "source": [
    "# Git matched tif files\n",
    "rst_fns = sorted(glob(data_out + '*_matched.tif'))\n",
    "rst_fns"
   ]
  },
  {
   "cell_type": "code",
   "execution_count": null,
   "id": "ebaedd79",
   "metadata": {
    "tags": []
   },
   "outputs": [],
   "source": [
    "# Mask all the rasters and save them \n",
    "for rst_fn in rst_fns:\n",
    "    raster_mask(rst_fn, modis_arr, data_out)"
   ]
  },
  {
   "cell_type": "markdown",
   "id": "39dad899",
   "metadata": {},
   "source": [
    "<hr style=\"border-top: 0.2px solid gray; margin-top: 12pt; margin-bottom: 0pt\"></hr>\n",
    "\n",
    "### Estimate Population Exposure to Quake by Intensity \n",
    "\n",
    "Now we will dive into estimating how many people were impacted by the quake by earth quake intensity for each population raster, isolating urban from rural populations. <br>\n",
    "\n",
    "We are using **USGS Shakemap intensity contours** recorded during the earthquake. You can read about these data [here](https://databasin.org/datasets/9411dd80be424001ac7af150f8d3b7b0/). \n",
    "\n",
    "<div class=\"run\">\n",
    "    ▶️ <b> Run the cells below. </b>\n",
    "</div>"
   ]
  },
  {
   "cell_type": "code",
   "execution_count": null,
   "id": "c420d3ce-c5de-4682-a6da-72beb2225bdc",
   "metadata": {},
   "outputs": [],
   "source": [
    "def poly_prep(polys_fn, col):\n",
    "    \"\"\"\n",
    "    Prepares polygon data for use in zonal statistics calculations by opening the file and subsetting the necessary columns.\n",
    "\n",
    "    Args:\n",
    "        polys_fn (str): The file path to the polygon shapefile or GeoJSON file containing the polygons.\n",
    "        col (str): The column name in the polygon file that will be retained along with the geometry for later use in the zonal statistics calculations.\n",
    "\n",
    "    Returns:\n",
    "        geopandas.GeoDataFrame: A GeoDataFrame containing only the geometry and the specified column from the input file.\n",
    "\n",
    "    Process:\n",
    "        1. Opens the polygon file using `geopandas.read_file()`.\n",
    "        2. Subsets the data to keep only the 'geometry' column and the specified column (`col`).\n",
    "        3. Returns the prepared GeoDataFrame for further use in zonal statistics or other spatial analyses.\n",
    "\n",
    "    Example:\n",
    "        polygons = poly_prep('earthquake_polygons.shp', 'admin_level')\n",
    "\n",
    "    Notes:\n",
    "        - Ensure that the input file is in a format readable by `geopandas`, such as a shapefile (.shp) or GeoJSON (.geojson).\n",
    "        - The column specified by `col` should be present in the input file, as it will be retained for later analysis.\n",
    "    \"\"\"    \n",
    "    # open\n",
    "    polys = gpd.read_file(polys_fn)\n",
    "    \n",
    "    # subset, be sure to check the admin level\n",
    "    polys = polys[['geometry', col]]\n",
    "    \n",
    "    return polys"
   ]
  },
  {
   "cell_type": "code",
   "execution_count": null,
   "id": "4fe964a9-c754-4717-9bfe-ed374bf0fdc3",
   "metadata": {
    "tags": []
   },
   "outputs": [],
   "source": [
    "# Open the shape map polygons\n",
    "nepal_polys_fn = os.path.join(data_in + 'USGS_Data/Nepal/shape/mi.shp')"
   ]
  },
  {
   "cell_type": "code",
   "execution_count": null,
   "id": "a428963b-2e40-4ecf-9be1-ceb37eb0a70a",
   "metadata": {
    "tags": []
   },
   "outputs": [],
   "source": [
    "# Subset the polygons\n",
    "col = 'PARAMVALUE'\n",
    "nepal_polys = poly_prep(nepal_polys_fn, col)\n",
    "nepal_polys.head()"
   ]
  },
  {
   "cell_type": "markdown",
   "id": "5f9163e7-f24b-4155-95e8-0eb5336762ca",
   "metadata": {
    "jp-MarkdownHeadingCollapsed": true
   },
   "source": [
    "Plot the MI shape file with the GPWv4 population data"
   ]
  },
  {
   "cell_type": "code",
   "execution_count": null,
   "id": "b849b964-bc66-4875-ac1e-57fe8841b546",
   "metadata": {},
   "outputs": [],
   "source": [
    "# your code here ... \n",
    "\n",
    "# Open the raster file using rioxarray\n",
    "raster = rio.open_rasterio('./data/gpw2015_npl_matched.tif')\n",
    "\n",
    "# Apply a mask to avoid NaN and non-positive values, preserving the spatial metadata\n",
    "raster_clean = raster.where(raster > 0)  # Only keep positive values, mask NaNs and zeros\n",
    "\n",
    "# Apply the log scale to the raster data, preserving metadata\n",
    "raster_clean.data = np.log10(raster_clean.data)  # Apply log transformation to the data array directly\n",
    "\n",
    "# Create the plot\n",
    "fig, ax = plt.subplots()\n",
    "\n",
    "# Plot the raster\n",
    "raster_clean.plot(ax=ax, cmap='viridis', vmin = 0)  # You can change the colormap as needed\n",
    "\n",
    "# Plot the shapefile on top of the raster\n",
    "nepal_polys.plot(ax=ax, column = 'PARAMVALUE', cmap = 'Reds', facecolor = 'None', alpha = 0.5)\n",
    "\n",
    "# Set titles and labels if needed\n",
    "ax.set_title('Earthquake Intensity and Population of Nepal')\n",
    "plt.xlabel('Longitude')\n",
    "plt.ylabel('Latitude')\n",
    "\n",
    "# Show the plot\n",
    "plt.show()"
   ]
  },
  {
   "cell_type": "markdown",
   "id": "e7dec414-0934-4cba-8f9d-6ed953e9b80f",
   "metadata": {
    "jp-MarkdownHeadingCollapsed": true
   },
   "source": [
    "Plot the MI shape file with the GPWv4 population data **Zoomed over Kathmandu**"
   ]
  },
  {
   "cell_type": "code",
   "execution_count": null,
   "id": "e2343ace-244d-47fd-a494-281a8b176ca4",
   "metadata": {},
   "outputs": [],
   "source": [
    "# Create the plot\n",
    "fig, ax = plt.subplots()\n",
    "\n",
    "# Plot the raster\n",
    "raster_clean.plot(ax=ax, cmap='viridis', vmin = 0)  # You can change the colormap as needed\n",
    "\n",
    "# Plot the shapefile on top of the raster\n",
    "nepal_polys.plot(ax=ax, column = 'PARAMVALUE', cmap = 'Reds', facecolor = 'None', alpha = 0.5)\n",
    "\n",
    "# Set xlim and ylim\n",
    "plt.xlim([85,86])\n",
    "plt.ylim([27.5,28])\n",
    "\n",
    "# Set titles and labels if needed\n",
    "ax.set_title('Earthquake Intensity and Population of Nepal')\n",
    "plt.xlabel('Longitude')\n",
    "plt.ylabel('Latitude')\n",
    "\n",
    "# Show the plot\n",
    "plt.show()"
   ]
  },
  {
   "cell_type": "markdown",
   "id": "5a25c993-ad9a-4183-970a-71286f36de4f",
   "metadata": {},
   "source": [
    "We need a function to extract the zonal stats. Check out the one below:"
   ]
  },
  {
   "cell_type": "code",
   "execution_count": null,
   "id": "8cf2cc93",
   "metadata": {
    "tags": []
   },
   "outputs": [],
   "source": [
    "# Functions\n",
    "def zone_loop(polys_in, rst_list, stats_type, col, split):\n",
    "    \"\"\"\n",
    "    Loops through a list of rasters, calculates zonal statistics for each polygon, and returns the results as a merged GeoDataFrame.\n",
    "\n",
    "    Args:\n",
    "        polys_in (geopandas.GeoDataFrame): A GeoDataFrame containing the polygons for which zonal statistics will be calculated.\n",
    "        rst_list (list of str): A list of file paths to the rasters (.tif) on which zonal statistics will be performed.\n",
    "        stats_type (str): The type of statistic to calculate for each polygon (e.g., 'mean', 'sum', 'min', 'max'). See the `zonal_stats` function for available options.\n",
    "        col (str): The column name in `polys_in` that will be used to merge the zonal statistics results.\n",
    "        split (str): A string delimiter used to split and extract a portion of the raster file name for labeling the output columns (e.g., \"_matched.tif\").\n",
    "\n",
    "    Process:\n",
    "        1. Creates a copy of the input polygon GeoDataFrame (`polys_in`) to hold the resulting zonal statistics.\n",
    "        2. Loops through each raster in `rst_list`:\n",
    "           - Extracts a meaningful name from the raster file name using the provided `split` string.\n",
    "           - Computes zonal statistics for the polygons on the current raster.\n",
    "           - Converts the results to a GeoDataFrame and renames the statistics column with the extracted name.\n",
    "           - Merges the zonal statistics results with the original polygon GeoDataFrame on the specified column (`col`).\n",
    "        3. Returns the final GeoDataFrame containing the original polygons and the calculated zonal statistics from all rasters.\n",
    "\n",
    "    Returns:\n",
    "        geopandas.GeoDataFrame: A GeoDataFrame with the original polygons and added columns for zonal statistics from each raster.\n",
    "\n",
    "    Example:\n",
    "        result = zone_loop(polygons, ['raster1.tif', 'raster2.tif'], 'mean', 'id_column', '_matched.tif')\n",
    "\n",
    "    Notes:\n",
    "        - The `zonal_stats` function is used to compute the statistics. Ensure that it is properly imported from `rasterstats`.\n",
    "        - The `split` argument should match part of the file name to correctly parse it for labeling the output.\n",
    "        - The resulting columns in the output GeoDataFrame will be named based on the raster file name and the `stats_type` (e.g., 'raster1_mean').\n",
    "    \"\"\"    \n",
    "    # copy polys to write out\n",
    "    polys_out = polys_in.copy()\n",
    "    \n",
    "    for rst in rst_list:\n",
    "        \n",
    "        # Get data name\n",
    "        print(rst)\n",
    "        data = rst.split('data/')[1].split(split)[0].split('.tif')[0]\n",
    "        print('Started', data)\n",
    "        \n",
    "        # Run zonal stats\n",
    "        zs_feats = zonal_stats(polys_in, rst, stats=stats_type, geojson_out=True)\n",
    "        zgdf = gpd.GeoDataFrame.from_features(zs_feats, crs=polys_in.crs)\n",
    "        \n",
    "        # Rename columns and merge\n",
    "        zgdf = zgdf.rename(columns={stats_type: data+'_'+stats_type})\n",
    "        polys_out = polys_out.merge(zgdf[[col, data+'_'+stats_type]], on = col, how = 'inner')\n",
    "    \n",
    "    return polys_out"
   ]
  },
  {
   "cell_type": "markdown",
   "id": "ae9e3fb9",
   "metadata": {},
   "source": [
    "### All Data\n",
    "Extract the population exposed by intensity contour."
   ]
  },
  {
   "cell_type": "code",
   "execution_count": null,
   "id": "40fe0b30",
   "metadata": {
    "tags": []
   },
   "outputs": [],
   "source": [
    "# Git tif files\n",
    "rst_fns = sorted(glob(data_out + '*npl.tif'))\n",
    "rst_fns"
   ]
  },
  {
   "cell_type": "code",
   "execution_count": null,
   "id": "78e87d20-821f-4586-ba6c-6900f0ef9f98",
   "metadata": {
    "tags": []
   },
   "outputs": [],
   "source": [
    "# Notice we need to remove the modis data\n",
    "rst_fns.remove('./data/modis2015_npl.tif')\n",
    "rst_fns"
   ]
  },
  {
   "cell_type": "code",
   "execution_count": null,
   "id": "2c641129-b4bf-45eb-935c-7590dcd47cf5",
   "metadata": {},
   "outputs": [],
   "source": [
    "for fn in rst_fns:\n",
    "    print(rasterio.open(fn).meta)\n",
    "    print(rasterio.open(fn).read(1)[0][0])"
   ]
  },
  {
   "cell_type": "code",
   "execution_count": null,
   "id": "20daa711",
   "metadata": {
    "tags": []
   },
   "outputs": [],
   "source": [
    "# Run zonal stats loop\n",
    "nepal_polys_sum = zone_loop(polys_in = nepal_polys, rst_list = rst_fns, stats_type = 'sum', col = 'PARAMVALUE', split = '_npl.tif')"
   ]
  },
  {
   "cell_type": "code",
   "execution_count": null,
   "id": "3a823f1b",
   "metadata": {
    "tags": []
   },
   "outputs": [],
   "source": [
    "# Check the data\n",
    "nepal_polys_sum.head()"
   ]
  },
  {
   "cell_type": "code",
   "execution_count": null,
   "id": "6c91d4a7",
   "metadata": {
    "tags": []
   },
   "outputs": [],
   "source": [
    "# Save the data\n",
    "fn_out = os.path.join(data_out + 'nepal_all_quake_pop.shp')\n",
    "fn_out"
   ]
  },
  {
   "cell_type": "code",
   "execution_count": null,
   "id": "d0d6d32a-2e3e-4473-b055-a65d027d5b0e",
   "metadata": {},
   "outputs": [],
   "source": [
    "nepal_polys_sum.to_file(fn_out)"
   ]
  },
  {
   "cell_type": "markdown",
   "id": "9fd04fad",
   "metadata": {},
   "source": [
    "### Urban Data\n",
    "Extract the urban population exposed by intensity contour."
   ]
  },
  {
   "cell_type": "code",
   "execution_count": null,
   "id": "617d638b",
   "metadata": {
    "tags": []
   },
   "outputs": [],
   "source": [
    "# Git urban tif files\n",
    "rst_fns = sorted(glob(data_out + '*urban.tif'))\n",
    "rst_fns"
   ]
  },
  {
   "cell_type": "code",
   "execution_count": null,
   "id": "bddfce75",
   "metadata": {
    "tags": []
   },
   "outputs": [],
   "source": [
    "# Run zonal stats loop\n",
    "nepal_polys_sum = zone_loop(polys_in = nepal_polys, rst_list = rst_fns, stats_type = 'sum', col = 'PARAMVALUE', split = '_npl-matched_urban.tif')"
   ]
  },
  {
   "cell_type": "code",
   "execution_count": null,
   "id": "90659cbb",
   "metadata": {
    "tags": []
   },
   "outputs": [],
   "source": [
    "# Check the data\n",
    "nepal_polys_sum.head()"
   ]
  },
  {
   "cell_type": "code",
   "execution_count": null,
   "id": "54cf4a28",
   "metadata": {
    "tags": []
   },
   "outputs": [],
   "source": [
    "# Save the poly sums\n",
    "fn_out = os.path.join(data_out + 'nepal_urban_quake_pop.shp')\n",
    "fn_out"
   ]
  },
  {
   "cell_type": "code",
   "execution_count": null,
   "id": "5602c667-c1f6-4384-8555-0929574a857c",
   "metadata": {},
   "outputs": [],
   "source": [
    "nepal_polys_sum.to_file(fn_out)"
   ]
  },
  {
   "cell_type": "markdown",
   "id": "744862d7",
   "metadata": {},
   "source": [
    "### Rural Data"
   ]
  },
  {
   "cell_type": "code",
   "execution_count": null,
   "id": "88a98b68",
   "metadata": {
    "tags": []
   },
   "outputs": [],
   "source": [
    "# Git rural tif files\n",
    "rst_fns = sorted(glob(data_out + '*rural.tif'))\n",
    "rst_fns"
   ]
  },
  {
   "cell_type": "code",
   "execution_count": null,
   "id": "2dbd0571",
   "metadata": {
    "tags": []
   },
   "outputs": [],
   "source": [
    "# Run zonal stats loop\n",
    "nepal_polys_sum = zone_loop(polys_in = nepal_polys, rst_list = rst_fns, stats_type = 'sum', col = 'PARAMVALUE', split = '_npl-matched_rural.tif')"
   ]
  },
  {
   "cell_type": "code",
   "execution_count": null,
   "id": "d32c5ad9",
   "metadata": {
    "tags": []
   },
   "outputs": [],
   "source": [
    "# Check the data\n",
    "nepal_polys_sum.head()"
   ]
  },
  {
   "cell_type": "code",
   "execution_count": null,
   "id": "e8382406",
   "metadata": {
    "tags": []
   },
   "outputs": [],
   "source": [
    "# Save the poly sums\n",
    "fn_out = os.path.join(data_out + 'nepal_rural_quake_pop.shp')\n",
    "fn_out"
   ]
  },
  {
   "cell_type": "code",
   "execution_count": null,
   "id": "9198958e-fa00-4e2f-9db1-8a57b019777c",
   "metadata": {},
   "outputs": [],
   "source": [
    "nepal_polys_sum.to_file(fn_out)"
   ]
  },
  {
   "cell_type": "markdown",
   "id": "25dee8d2",
   "metadata": {},
   "source": [
    "## Let's double check the data\n",
    "The urban and rural data should equal the total data. But let's check it out! "
   ]
  },
  {
   "cell_type": "code",
   "execution_count": null,
   "id": "4aa933fa",
   "metadata": {
    "tags": []
   },
   "outputs": [],
   "source": [
    "# All\n",
    "fn_in = os.path.join(data_out + 'nepal_all_quake_pop.shp')\n",
    "all_pop = gpd.read_file(fn_in)\n",
    "all_pop.head()"
   ]
  },
  {
   "cell_type": "code",
   "execution_count": null,
   "id": "f7b8645e",
   "metadata": {
    "tags": []
   },
   "outputs": [],
   "source": [
    "# Urban\n",
    "fn_in = os.path.join(data_out + 'nepal_urban_quake_pop.shp')\n",
    "urban_pop = gpd.read_file(fn_in)\n",
    "urban_pop.head()"
   ]
  },
  {
   "cell_type": "code",
   "execution_count": null,
   "id": "2f68e654",
   "metadata": {
    "tags": []
   },
   "outputs": [],
   "source": [
    "# Rural \n",
    "fn_in = os.path.join(data_out + 'nepal_rural_quake_pop.shp')\n",
    "rural_pop = gpd.read_file(fn_in)\n",
    "rural_pop.head()"
   ]
  },
  {
   "cell_type": "code",
   "execution_count": null,
   "id": "d7538291",
   "metadata": {
    "tags": []
   },
   "outputs": [],
   "source": [
    "# Check the data \n",
    "top = (rural_pop.iloc[:,1:6] + urban_pop.iloc[:,1:6]).values\n",
    "bottom = all_pop.iloc[:,1:6]"
   ]
  },
  {
   "cell_type": "code",
   "execution_count": null,
   "id": "b6fde68f-eaf2-4f73-84f2-8620c9bb1e03",
   "metadata": {
    "tags": []
   },
   "outputs": [],
   "source": [
    "top / bottom"
   ]
  },
  {
   "cell_type": "markdown",
   "id": "61a5fa43",
   "metadata": {},
   "source": [
    "<hr style=\"border-top: 0.2px solid gray; margin-top: 12pt; margin-bottom: 0pt\"></hr>\n",
    "\n",
    "# Bar Plot\n",
    "Let's look at how exposure levels, but urban and rural populations, compare across quake intensities.\n",
    "\n",
    "**Colors** <br>\n",
    "Reminder that there are a ton of named colors available in [`matplotlib`](https://matplotlib.org/stable/gallery/color/named_colors.html). Check em out ane pick some!"
   ]
  },
  {
   "cell_type": "code",
   "execution_count": null,
   "id": "09a986f5",
   "metadata": {
    "tags": []
   },
   "outputs": [],
   "source": [
    "# set colors\n",
    "ESRI16_c = 'blue'\n",
    "GHS15_c = 'indigo'\n",
    "GPWv4_c = 'deeppink'\n",
    "LS15_c = 'deepskyblue'\n",
    "WP16_c = 'forestgreen'"
   ]
  },
  {
   "cell_type": "code",
   "execution_count": null,
   "id": "a3647d59",
   "metadata": {
    "tags": []
   },
   "outputs": [],
   "source": [
    "# Open the shape files \n",
    "npl_all_fn = os.path.join(data_out + 'nepal_all_quake_pop.shp')\n",
    "npl_all = gpd.read_file(npl_all_fn)\n",
    "\n",
    "npl_rural_fn = os.path.join(data_out + 'nepal_rural_quake_pop.shp')\n",
    "npl_rural = gpd.read_file(npl_rural_fn)\n",
    "\n",
    "npl_urban_fn = os.path.join(data_out + 'nepal_urban_quake_pop.shp')\n",
    "npl_urban = gpd.read_file(npl_urban_fn)"
   ]
  },
  {
   "cell_type": "code",
   "execution_count": null,
   "id": "83db2e56",
   "metadata": {
    "tags": []
   },
   "outputs": [],
   "source": [
    "# Make data\n",
    "def group(df):\n",
    "    \"\"\"\n",
    "    Groups and sums population data by Modified Mercalli Intensity (MI) ranges and returns a summary DataFrame.\n",
    "\n",
    "    Args:\n",
    "        df (pandas.DataFrame): Input DataFrame containing population data and earthquake intensity values.\n",
    "            - The DataFrame should have a 'PARAMVALUE' column representing the Modified Mercalli Intensity (MI) levels.\n",
    "            - Population data should be in columns 1 to 6 (index positions 1:6), which will be summed for each intensity range.\n",
    "\n",
    "    Process:\n",
    "        1. Filters and sums population data for the following MI ranges:\n",
    "           - MI range 4.0 to 4.9 (IV)\n",
    "           - MI range 5.0 to 5.9 (V)\n",
    "           - MI range 6.0 to 6.9 (VI)\n",
    "           - MI 7.0 and above (VII)\n",
    "        2. Sums the population data for each intensity range.\n",
    "        3. Creates a DataFrame with the summed population data for each MI range.\n",
    "        4. Transposes the resulting DataFrame to display MI ranges as rows and population categories as columns.\n",
    "\n",
    "    Returns:\n",
    "        pandas.DataFrame: A transposed DataFrame where each row corresponds to an MI range ('iv', 'v', 'vi', 'vii'), and the columns represent the summed population data across categories.\n",
    "\n",
    "    Example:\n",
    "        result = group_and_sum_population_by_MI_ranges(quake_population_df)\n",
    "\n",
    "    Notes:\n",
    "        - Ensure that the 'PARAMVALUE' column contains MI values, and that columns 1 to 6 hold population data.\n",
    "        - The returned DataFrame will have the MI ranges as rows and the summed population data for each range as columns.\n",
    "    \"\"\"\n",
    "    \n",
    "    iv = df[(df['PARAMVALUE'] >= 4) & (df['PARAMVALUE'] < 5)].iloc[:, 1:6].sum(axis=0)\n",
    "    v = df[(df['PARAMVALUE'] >= 5) & (df['PARAMVALUE'] < 6)].iloc[:, 1:6].sum(axis=0)\n",
    "    vi = df[(df['PARAMVALUE'] >= 6) & (df['PARAMVALUE'] < 7)].iloc[:, 1:6].sum(axis=0)\n",
    "    vii = df[df['PARAMVALUE'] >= 7].iloc[:, 1:6].sum(axis=0)\n",
    "    \n",
    "    out = pd.DataFrame()\n",
    "    out['iv'] = iv\n",
    "    out['v'] = v\n",
    "    out['vi'] = vi\n",
    "    out['vii'] = vii\n",
    "    \n",
    "    out = out.transpose()\n",
    "    return out"
   ]
  },
  {
   "cell_type": "code",
   "execution_count": null,
   "id": "59d080cd-8a72-4021-b10a-1420c02c3290",
   "metadata": {},
   "outputs": [],
   "source": [
    "# check out the function\n",
    "group(npl_rural)"
   ]
  },
  {
   "cell_type": "code",
   "execution_count": null,
   "id": "f009a479",
   "metadata": {
    "tags": []
   },
   "outputs": [],
   "source": [
    "# Make bar plot \n",
    "fig, axs = plt.subplots(1, 1, figsize = (12, 8), sharex=True)\n",
    "ws = 0.25\n",
    "fig.subplots_adjust(wspace=ws)\n",
    "scale = 10**6\n",
    "\n",
    "# All Quake\n",
    "data = group(npl_all)\n",
    "\n",
    "# Bar locations\n",
    "a = [1-.3,2-.3,3-.3, 4-.3]\n",
    "b = [1-.15,2-.15,3-.15,4-.15]\n",
    "c = [1,2,3,4]\n",
    "d = [1+.15,2+.15,3+.15,4+.15]\n",
    "e = [1+.3,2+.3,3+.3,4+.3]\n",
    "\n",
    "# plots\n",
    "plt.bar(a, data.esri2016_s / scale, width=0.12, align='center', alpha  = 0.5, color = ESRI16_c, ec = 'black')\n",
    "plt.bar(b, data.ghs2015_su / scale, width=0.12, align='center', alpha  = 0.6, color = GHS15_c, ec = 'black')\n",
    "plt.bar(c, data.gpw2015_su / scale, width=0.12, align='center', alpha  = 0.7, color = GPWv4_c, ec = 'black')\n",
    "plt.bar(d, data.ls2015_sum / scale, width=0.12, align='center', alpha  = 0.8, color = LS15_c, ec = 'black')\n",
    "plt.bar(e, data.wp2016_sum / scale, width=0.12, align='center', alpha  = 0.9, color = WP16_c, ec = 'black')\n",
    "\n",
    "# Fake plot for rural hatch legend \n",
    "plt.bar(e, data.wp2016_sum / scale, width=0.12, align='center', alpha  = 0, color = 'white', ec = 'black',hatch = \"///\")\n",
    "\n",
    "# rural quake\n",
    "data = group(npl_rural)\n",
    "plt.bar(a, data.esri2016_n / scale, width=0.12, align='center', alpha  = 0.5, color = ESRI16_c, ec = 'black', hatch = \"///\")\n",
    "plt.bar(b, data.ghs2015_np / scale, width=0.12, align='center', alpha  = 0.6, color = GHS15_c, ec = 'black', hatch = \"///\")\n",
    "plt.bar(c, data.gpw2015_np / scale, width=0.12, align='center', alpha  = 0.7, color = GPWv4_c, ec = 'black', hatch = \"///\")\n",
    "plt.bar(d, data.ls2015_npl / scale, width=0.12, align='center', alpha  = 0.8, color = LS15_c, ec = 'black', hatch = \"///\")\n",
    "plt.bar(e, data.wp2016_npl / scale, width=0.12, align='center', alpha  = 0.9, color = WP16_c, ec = 'black', hatch = \"///\")\n",
    "\n",
    "# legend\n",
    "legend_elements = [patches.Patch(facecolor=ESRI16_c, alpha = 0.5, edgecolor=None, label='WPE-15'),\n",
    "                  patches.Patch(facecolor=GHS15_c, alpha = 0.6, edgecolor=None, label='GHSL-15'),\n",
    "                  patches.Patch(facecolor=GPWv4_c, alpha = 0.7, edgecolor=None, label='GPW-15'),\n",
    "                  patches.Patch(facecolor=LS15_c, alpha = 0.8, edgecolor=None, label='LS-15'),\n",
    "                  patches.Patch(facecolor= WP16_c, alpha = 0.9, edgecolor=None, label='WP-16'),\n",
    "                  patches.Patch(facecolor= 'white', alpha = 0.9,  hatch = '///', edgecolor='black', label='rural pop')]\n",
    "plt.legend(handles = legend_elements, bbox_to_anchor=(1, 1.02), loc='upper left', ncol=1, fontsize = 15);\n",
    "\n",
    "# Labels / Titles\n",
    "axs.set_title('Nepal 2015 Earthquake Impact', size = 20)\n",
    "axs.set_xlabel('Instrumental Intesnity', fontsize = 15)\n",
    "axs.set_ylabel('Total Population [millions]', fontsize = 15)\n",
    "\n",
    "# Ticks\n",
    "ticks_bar = ['>=4', ' >=5', '>=6', '>=7'];\n",
    "plt.xticks([1,2,3,4], ticks_bar, fontsize = 15);\n",
    "plt.yticks(fontsize = 15);"
   ]
  },
  {
   "cell_type": "code",
   "execution_count": null,
   "id": "0ea0f397",
   "metadata": {},
   "outputs": [],
   "source": [
    "# save it out\n",
    "fig_out = os.path.join(data_out + 'Figure.png')\n",
    "fig_out"
   ]
  },
  {
   "cell_type": "code",
   "execution_count": null,
   "id": "81a41c3e-b5ef-432c-81ea-05cab70bab70",
   "metadata": {},
   "outputs": [],
   "source": [
    "plt.savefig(fig_out, dpi = 300, facecolor = 'white', bbox_inches='tight')"
   ]
  },
  {
   "cell_type": "code",
   "execution_count": null,
   "id": "ebca6fe9-0a9a-4347-890c-6a120ff2953d",
   "metadata": {},
   "outputs": [],
   "source": [
    "fn = './data/esri2016_npl_matched.tif'"
   ]
  },
  {
   "cell_type": "code",
   "execution_count": null,
   "id": "85abbdcb-9a1c-4db5-87dd-2bfb3b472469",
   "metadata": {},
   "outputs": [],
   "source": [
    "rasterio.open(fn).read(1)"
   ]
  },
  {
   "cell_type": "code",
   "execution_count": null,
   "id": "773e25ee-b644-45a7-beca-28d834572a54",
   "metadata": {},
   "outputs": [],
   "source": []
  }
 ],
 "metadata": {
  "kernelspec": {
   "display_name": "Python 3 (ipykernel)",
   "language": "python",
   "name": "python3"
  },
  "language_info": {
   "codemirror_mode": {
    "name": "ipython",
    "version": 3
   },
   "file_extension": ".py",
   "mimetype": "text/x-python",
   "name": "python",
   "nbconvert_exporter": "python",
   "pygments_lexer": "ipython3",
   "version": "3.9.15"
  }
 },
 "nbformat": 4,
 "nbformat_minor": 5
}
