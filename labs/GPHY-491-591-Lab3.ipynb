{
 "cells": [
  {
   "cell_type": "markdown",
   "id": "c50d5d6c",
   "metadata": {},
   "source": [
    "# GPHY 491-591 Lab 3\n",
    "Written by Cascade Tuholske, Sep. 2024  \n",
    "\n",
    "### <u> Goals <u>\n",
    "\n",
    "The goal of this lab is to practice making API requests to access US Census Data. \n",
    "\n",
    "### <u> Instruction <u>\n",
    "1. Please rename your notebook as: `Last_First_Lab1` **NOTE:** Naming convetions matter for files, including notebooks and data. Always be consistant. \n",
    "2. Complete lab by writing code in the cells as in structed by the comments\n",
    "3. Save your notebook in your student directory. \n",
    "\n",
    "<hr style=\"border-top: 0.2px solid gray; margin-top: 12px; margin-bottom: 1px\"></hr>"
   ]
  },
  {
   "cell_type": "markdown",
   "id": "dcb10d73-bd9e-4a70-9f43-b7dad74ac46b",
   "metadata": {},
   "source": [
    "### Part 1\n",
    "1. Make an API request to get the Total occupied housing units (B25003_001E), owner-occupied housing units (B25003_002E), and renter-occupied housing units (B25003_003E). <br>\n",
    "\n",
    "2. Merge the census data your pulled with the Montana census tract boundaries.\n",
    "   \n",
    "3. After, at the census tract level, find the percentage of housing units that are owner occupied.  <br>\n",
    "\n",
    "4. Make census tract level maps of the percentage of housing units that are owner occupied.  <br>"
   ]
  },
  {
   "cell_type": "markdown",
   "id": "a832d624-d261-4f7f-84e3-a0ab07dc6cde",
   "metadata": {},
   "source": [
    "### Part 2\n",
    "\n",
    "1. Make an API request to get the total population, total white population, and the total American Indian population at the census-tract level for Montana. You will need to read the US Census variable description sheet – [See here](https://api.census.gov/data/2022/acs/acs5/variables.html) – very carefully to find the correct column names (or you can ask ChatGPT to find them for you).   <br>\n",
    "\n",
    "2. Merge the census data your pulled with the Montana census tract boundaries.\n",
    "\n",
    "3. After, at the census tract level, find the percent of the population that is white and the percentage that is American Indian.  <br>\n",
    "\n",
    "4. Make census tract level maps of the percentage of white Montanans and American Indian Montanans.  <br>"
   ]
  },
  {
   "cell_type": "markdown",
   "id": "4ff161cb-2c28-4ba2-9f5d-19edf5419ffa",
   "metadata": {},
   "source": [
    "### Part 3\n",
    "1. Make an API request to estimate the census-tract level poverty rates for Montana. <br>\n",
    "\n",
    "2. Plot the relationship between housing ownership and percent white. <br>\n",
    "\n",
    "3. Plot the relationship between housing ownership and percent American Indian. <br>\n",
    "\n",
    "4. Plot the relationship between poverty and housing ownership. <br>\n",
    "\n",
    "5. Are there any spatial correlations in the data? Why do you think there are or there are not correlations?"
   ]
  }
 ],
 "metadata": {
  "kernelspec": {
   "display_name": "Python 3 (ipykernel)",
   "language": "python",
   "name": "python3"
  },
  "language_info": {
   "codemirror_mode": {
    "name": "ipython",
    "version": 3
   },
   "file_extension": ".py",
   "mimetype": "text/x-python",
   "name": "python",
   "nbconvert_exporter": "python",
   "pygments_lexer": "ipython3",
   "version": "3.9.15"
  }
 },
 "nbformat": 4,
 "nbformat_minor": 5
}
