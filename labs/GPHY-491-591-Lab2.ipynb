{
 "cells": [
  {
   "cell_type": "markdown",
   "id": "57bd4b42",
   "metadata": {},
   "source": [
    "# GPHY 491-591: Lab 2 \n",
    "Written by Cascade Tuholske, Jan. 2024  \n",
    "\n",
    "### <u> Goals <u>\n",
    "The goal of this lab is to pratice writing code with numpy, pandas, and matplotlib using a real-world dataset. The dataset was developed to understand the relationship between child undernutrition, measured by [USAID Demographic and Health Surveys](https://www.usaid.gov/global-health/demographic-and-health-surveys-program), and national-level indicators of economic development. Child undernutrition is often broken into two categories: low weight for age (stunting - reflecting chronic food insecurity) and low weight for height (wasting - reflecting acute food insecurity). <br>\n",
    "    \n",
    "Orthodox theories of economic development posit that as a country urbanizes, its economy grows and food security improves. Thus, more urbanized countries should be more food secure compared to more rural countries. Further, within a country, urban areas should be more food secure compared to rural areas.<br>\n",
    "    \n",
    "We will explore this dataset to understand if economic development and food security are well-correlated, and see what proxy indecators of economic development may also correlate with child food insecurity. <br>\n",
    "    \n",
    "### <u> Instruction <u>\n",
    "1. Please rename your notebook as: `Last_First_Lab1` **NOTE:** Naming convetions matter for files, including notebooks and data. Always be consistant. \n",
    "2. Complete lab by writing code or answering questions in the cells as in structed by the comments.\n",
    "3. Copy your notebook to `/home/YOURNETID/gphy591/submissions/`\n",
    "\n"
   ]
  },
  {
   "cell_type": "markdown",
   "id": "a035322e",
   "metadata": {},
   "source": [
    "# Let's import our packages\n",
    "![import](assets/import.png)"
   ]
  },
  {
   "cell_type": "code",
   "execution_count": null,
   "id": "1d9f0cd0",
   "metadata": {},
   "outputs": [],
   "source": [
    "# Packages\n",
    "import pandas as pd\n",
    "import numpy as np\n",
    "import matplotlib.pyplot as plt\n",
    "import os # this package allows us to interface with out opperating system "
   ]
  },
  {
   "cell_type": "markdown",
   "id": "c7352969",
   "metadata": {},
   "source": [
    "## Let's load the .csv file with pandas and explore it."
   ]
  },
  {
   "cell_type": "code",
   "execution_count": null,
   "id": "e991a6c9",
   "metadata": {},
   "outputs": [],
   "source": [
    "# we write file paths and names as their own variables for easy editing\n",
    "fn = os.path.join('./data/DhsPrevalenceWCovar.csv')\n",
    "type(fn) # see that our fn is a string, but the os.path.join also helps Python know it's a file path"
   ]
  },
  {
   "cell_type": "code",
   "execution_count": null,
   "id": "ffff14a7",
   "metadata": {},
   "outputs": [],
   "source": [
    "# open the data frame and check it\n",
    "df = pd.read_csv(fn)\n",
    "df.head(4) # show first four rows"
   ]
  },
  {
   "cell_type": "code",
   "execution_count": null,
   "id": "b1039b4d",
   "metadata": {},
   "outputs": [],
   "source": [
    "# write a for loop that prints all the column names sorted by first letter\n",
    "for column in sorted(df.columns):\n",
    "    print(column)"
   ]
  },
  {
   "cell_type": "code",
   "execution_count": null,
   "id": "80b60a6b",
   "metadata": {},
   "outputs": [],
   "source": [
    "# What is the shape of the data frame?"
   ]
  },
  {
   "cell_type": "code",
   "execution_count": null,
   "id": "b038d427",
   "metadata": {},
   "outputs": [],
   "source": [
    "# Print the data type for each column."
   ]
  },
  {
   "cell_type": "code",
   "execution_count": null,
   "id": "e3f936fc",
   "metadata": {},
   "outputs": [],
   "source": [
    "# Which rows are missing data?"
   ]
  },
  {
   "cell_type": "markdown",
   "id": "5d34bf8c",
   "metadata": {},
   "source": [
    "Our dataset is organized in survey-year-country rows. This means that each year is a single survey for a single country. All the metrics are national-level, meaning that stunting or wasting are rates (e.g. prevelance). "
   ]
  },
  {
   "cell_type": "code",
   "execution_count": null,
   "id": "0ecbb9e8",
   "metadata": {},
   "outputs": [],
   "source": [
    "# Which country-year had the highest stunting prevalence for all households?\n",
    "df.loc[df['stunt_all'].idxmax()]"
   ]
  },
  {
   "cell_type": "code",
   "execution_count": null,
   "id": "d6d7dae1",
   "metadata": {},
   "outputs": [],
   "source": [
    "# Which country-year had the lowest stunting prevalence for all households?"
   ]
  },
  {
   "cell_type": "code",
   "execution_count": null,
   "id": "4244df8e",
   "metadata": {},
   "outputs": [],
   "source": [
    "# How many surveys were conducted in Senegal?\n",
    "geog = 'Senegal'\n",
    "df_ = df[df['country'] == geog]\n",
    "len(df_)"
   ]
  },
  {
   "cell_type": "code",
   "execution_count": null,
   "id": "20c04ba0",
   "metadata": {},
   "outputs": [],
   "source": [
    "# What years were surveys conducted in Senegal?"
   ]
  },
  {
   "cell_type": "code",
   "execution_count": null,
   "id": "2ebcd1c9",
   "metadata": {},
   "outputs": [],
   "source": [
    "# Using for loops, print the year of the year and prevalence ranked highest to lowest for urban wasting for senegal."
   ]
  },
  {
   "cell_type": "code",
   "execution_count": null,
   "id": "0a839c90",
   "metadata": {},
   "outputs": [],
   "source": [
    "# Another way to do this, is using the built-in methods to a pandas data frame 'sort_values'\n",
    "df_.sort_values('waste_urban', ascending = True)"
   ]
  },
  {
   "cell_type": "code",
   "execution_count": null,
   "id": "5cf78752",
   "metadata": {},
   "outputs": [],
   "source": [
    "# You can look at all the available functions using the key word 'dir'\n",
    "dir(df_)"
   ]
  },
  {
   "cell_type": "code",
   "execution_count": null,
   "id": "e3ae5946",
   "metadata": {
    "scrolled": true
   },
   "outputs": [],
   "source": [
    "# You can use 'help' to understand objects, methods, functions, etc.\n",
    "# Parameters (also called 'arguments') are the objects you pass to a function before you 'call it'\n",
    "help(df_.sort_values)"
   ]
  },
  {
   "cell_type": "code",
   "execution_count": null,
   "id": "d123d065",
   "metadata": {},
   "outputs": [],
   "source": [
    "# You can also summerize each column easily\n",
    "df_.describe()"
   ]
  },
  {
   "cell_type": "markdown",
   "id": "92eed2bd",
   "metadata": {},
   "source": [
    "## New Columns\n",
    "You can easily make new columns in a Pandas DateFrame using simple math."
   ]
  },
  {
   "cell_type": "code",
   "execution_count": null,
   "id": "4fd63c24",
   "metadata": {},
   "outputs": [],
   "source": [
    "# Make a new column that is the ratio of agLabor to agLand\n",
    "df_['agLabor-to-agLand'] = df_['agLabor'] / df_['agLand']"
   ]
  },
  {
   "cell_type": "markdown",
   "id": "fd127a22",
   "metadata": {},
   "source": [
    "The warning is important. **Always** read about warnings before deciding if you are okay with moving forward. In this case, we are okay to continue."
   ]
  },
  {
   "cell_type": "code",
   "execution_count": null,
   "id": "b21c99ee",
   "metadata": {},
   "outputs": [],
   "source": [
    "# what kind of data is df_['agLabor-to-agLand']?"
   ]
  },
  {
   "cell_type": "code",
   "execution_count": null,
   "id": "cddb278b",
   "metadata": {},
   "outputs": [],
   "source": [
    "# Let's round our data two 2 decimals\n",
    "df_['agLabor-to-agLand'] = df_['agLabor-to-agLand'].round(2)"
   ]
  },
  {
   "cell_type": "code",
   "execution_count": null,
   "id": "eebbf7a0",
   "metadata": {},
   "outputs": [],
   "source": [
    "# what kind of data is df_['agLabor-to-agLand'] now?\n",
    "df_['agLabor-to-agLand']"
   ]
  },
  {
   "cell_type": "code",
   "execution_count": null,
   "id": "4112d52c",
   "metadata": {
    "scrolled": true
   },
   "outputs": [],
   "source": [
    "# Let's change it to save memory\n",
    "df_['agLabor-to-agLand'] = df_['agLabor-to-agLand'].astype('float32')"
   ]
  },
  {
   "cell_type": "markdown",
   "id": "eb2dc060",
   "metadata": {},
   "source": [
    "### Let's do the same, but for agLabor to foodExport"
   ]
  },
  {
   "cell_type": "code",
   "execution_count": null,
   "id": "1ae06e38",
   "metadata": {},
   "outputs": [],
   "source": [
    "# Make a new column that is the ratio of agLabor to agLand\n",
    "df_c = df_.copy()\n",
    "df_c.loc[:, 'agLabor-to-foodExport'] = df_c['agLabor'] / df_c['foodExport']"
   ]
  },
  {
   "cell_type": "markdown",
   "id": "8a28df7b",
   "metadata": {},
   "source": [
    "Notice `.copy()` removes the warning. You are now doing proper indexing under the latest version of Pandas by creating a new copy of the Senegal data."
   ]
  },
  {
   "cell_type": "markdown",
   "id": "04fd7f0b",
   "metadata": {},
   "source": [
    "## Now explore a bit yourself"
   ]
  },
  {
   "cell_type": "markdown",
   "id": "2ec5eb63",
   "metadata": {},
   "source": [
    "Which country and what year did the highest [gdp ppp](https://www.cia.gov/the-world-factbook/field/real-gdp-purchasing-power-parity/country-comparison#:~:text=A%20nation%27s%20GDP%20at%20purchasing,prevailing%20in%20the%20United%20States.) happen? "
   ]
  },
  {
   "cell_type": "code",
   "execution_count": null,
   "id": "7cd43c79",
   "metadata": {},
   "outputs": [],
   "source": [
    "# Code here. (note: you should us the df object, not df_)"
   ]
  },
  {
   "cell_type": "markdown",
   "id": "2457ac3a",
   "metadata": {},
   "source": [
    "Across all years, what is the correlation between gdp ppp and stunting? <br> Hint - you can try `np.corrcoef(x, y)`"
   ]
  },
  {
   "cell_type": "code",
   "execution_count": null,
   "id": "7737bc76",
   "metadata": {},
   "outputs": [],
   "source": [
    "# Code here."
   ]
  },
  {
   "cell_type": "markdown",
   "id": "83f019da",
   "metadata": {},
   "source": [
    "Across all years, what is the correlation between gdp ppp and stunting for surveys conducted after 2000? <br> Hint - you can subset your DataFrame by year with  `df[df['year'] > 2000]`"
   ]
  },
  {
   "cell_type": "code",
   "execution_count": null,
   "id": "af77dd11",
   "metadata": {},
   "outputs": [],
   "source": [
    "# Code here."
   ]
  },
  {
   "cell_type": "markdown",
   "id": "03c0e557",
   "metadata": {},
   "source": [
    "# Let's do some plots"
   ]
  },
  {
   "cell_type": "code",
   "execution_count": null,
   "id": "af25e8fc",
   "metadata": {},
   "outputs": [],
   "source": [
    "# Make a scatter plot of the relationship between GPD PPP and All Stunting"
   ]
  },
  {
   "cell_type": "code",
   "execution_count": null,
   "id": "444964bf",
   "metadata": {},
   "outputs": [],
   "source": [
    "# Make a scatter plot of the relationship between GPD PPP and Urban Stunting"
   ]
  },
  {
   "cell_type": "code",
   "execution_count": null,
   "id": "88e0c980",
   "metadata": {},
   "outputs": [],
   "source": [
    "# Make a scatter plot of the relationship between GPD PPP and Rural Stunting"
   ]
  },
  {
   "cell_type": "code",
   "execution_count": null,
   "id": "0cf891bb",
   "metadata": {},
   "outputs": [],
   "source": [
    "# Make a scatter plot of the relationship between GPD PPP with both Urban and Rural Stunting plotted \n",
    "# on the same plot"
   ]
  },
  {
   "cell_type": "markdown",
   "id": "79a7f8c1",
   "metadata": {},
   "source": [
    "FYI: UrbanPop is the percentage of the total population classified as 'urban'. "
   ]
  },
  {
   "cell_type": "code",
   "execution_count": null,
   "id": "e659584d",
   "metadata": {},
   "outputs": [],
   "source": [
    "# Make a three panel figure with panel (A) the relationship between UrbanPop and All wasting \n",
    "# panel (B) the relationship between UrbanPop and rural wasting, and panel (C) the relationship \n",
    "# between UrbanPop and urban wasting."
   ]
  },
  {
   "cell_type": "markdown",
   "id": "0140e512",
   "metadata": {},
   "source": [
    "### Take some time to read about the package [Seaborn](https://seaborn.pydata.org)"
   ]
  },
  {
   "cell_type": "code",
   "execution_count": null,
   "id": "ffa8fdec",
   "metadata": {},
   "outputs": [],
   "source": [
    "import seaborn as sns"
   ]
  },
  {
   "cell_type": "code",
   "execution_count": null,
   "id": "18eaf2bc",
   "metadata": {},
   "outputs": [],
   "source": [
    "# Try making a histogram of GPD PPP using Seaborn"
   ]
  },
  {
   "cell_type": "code",
   "execution_count": null,
   "id": "279c6a68",
   "metadata": {},
   "outputs": [],
   "source": [
    "# Try making a scatter plot of the relationship between GPD PPP and All Stunting \n",
    "# with the regression line using seaborn using Seaborn"
   ]
  },
  {
   "cell_type": "code",
   "execution_count": null,
   "id": "0455a567",
   "metadata": {},
   "outputs": [],
   "source": [
    "# Try making a pairplot of GPD PPP, UrbanPop, AgLabor, All Stunting, Rural Stunting, and Urban Stunting"
   ]
  },
  {
   "cell_type": "markdown",
   "id": "aa83c787",
   "metadata": {},
   "source": [
    "# Questions"
   ]
  },
  {
   "cell_type": "markdown",
   "id": "710eac53",
   "metadata": {},
   "source": [
    "### Question 1: Which variables are most highly correlated: GPD PPP, UrbanPop, AgLabor, All Stunting, Rural Stunting, and Urban Stunting? Provide evidence to support your conclusions."
   ]
  },
  {
   "cell_type": "markdown",
   "id": "4d96bd6c",
   "metadata": {},
   "source": [
    "Answer 1: <br>\n",
    "xyz ..."
   ]
  }
 ],
 "metadata": {
  "kernelspec": {
   "display_name": "Python 3 (ipykernel)",
   "language": "python",
   "name": "python3"
  },
  "language_info": {
   "codemirror_mode": {
    "name": "ipython",
    "version": 3
   },
   "file_extension": ".py",
   "mimetype": "text/x-python",
   "name": "python",
   "nbconvert_exporter": "python",
   "pygments_lexer": "ipython3",
   "version": "3.10.9"
  }
 },
 "nbformat": 4,
 "nbformat_minor": 5
}
