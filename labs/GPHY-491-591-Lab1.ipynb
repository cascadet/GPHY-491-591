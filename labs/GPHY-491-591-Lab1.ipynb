{
 "cells": [
  {
   "cell_type": "markdown",
   "id": "c50d5d6c",
   "metadata": {},
   "source": [
    "# GPHY 491-591 Lab 1\n",
    "Written by Cascade Tuholske, Jan. 2024  \n",
    "\n",
    "### <u> Goals <u>\n",
    "\n",
    "    The goals of this lab are to practice making lists and using control statements, while familiarizing \n",
    "    yourself with basics of python data types and structures. While there are best practicies, there are no per say correct answers with this lab.\n",
    "\n",
    "### <u> Instruction <u>\n",
    "1. Please rename your notebook as: `Last_First_Lab1` **NOTE:** Naming convetions matter for files, including notebooks and data. Always be consistant. \n",
    "2. Complete lab by writing code in the cells as in structed by the comments\n",
    "3. Move your notebook to XXXXXXX\n",
    "\n"
   ]
  },
  {
   "cell_type": "markdown",
   "id": "c7352969",
   "metadata": {},
   "source": [
    "## Let's make some lists"
   ]
  },
  {
   "cell_type": "code",
   "execution_count": null,
   "id": "80933feb",
   "metadata": {},
   "outputs": [],
   "source": [
    "# Make a list with ten first names of your choosing"
   ]
  },
  {
   "cell_type": "code",
   "execution_count": null,
   "id": "720e2c0b",
   "metadata": {},
   "outputs": [],
   "source": [
    "# Make a list with ten genders of your choosing"
   ]
  },
  {
   "cell_type": "code",
   "execution_count": null,
   "id": "09ca9dc5",
   "metadata": {},
   "outputs": [],
   "source": [
    "# Make a list with ten ages of your choosing"
   ]
  },
  {
   "cell_type": "code",
   "execution_count": null,
   "id": "90e13d78",
   "metadata": {},
   "outputs": [],
   "source": [
    "# Make a list with ten heights of your choosing, using floating point data"
   ]
  },
  {
   "cell_type": "code",
   "execution_count": null,
   "id": "cc5c8335",
   "metadata": {},
   "outputs": [],
   "source": [
    "# Make a list with ten weights of your choosing, using floating point data"
   ]
  },
  {
   "cell_type": "code",
   "execution_count": null,
   "id": "f685121f",
   "metadata": {},
   "outputs": [],
   "source": [
    "# Make a slice of the first five names as a new list"
   ]
  },
  {
   "cell_type": "code",
   "execution_count": null,
   "id": "b1039b4d",
   "metadata": {},
   "outputs": [],
   "source": [
    "# Make a slice of the last three ages as a new list"
   ]
  },
  {
   "cell_type": "markdown",
   "id": "92eed2bd",
   "metadata": {},
   "source": [
    "## For Loops"
   ]
  },
  {
   "cell_type": "code",
   "execution_count": null,
   "id": "6cfc1124",
   "metadata": {},
   "outputs": [],
   "source": [
    "# Write a for loop that prints the names of each person"
   ]
  },
  {
   "cell_type": "code",
   "execution_count": null,
   "id": "632ec35b",
   "metadata": {},
   "outputs": [],
   "source": [
    "# Write a nested for loop that prints the name and age of each person on the same line"
   ]
  },
  {
   "cell_type": "code",
   "execution_count": null,
   "id": "57879acc",
   "metadata": {},
   "outputs": [],
   "source": [
    "# Write a single for loop that uses zip to print the first name and age of each person the same line"
   ]
  },
  {
   "cell_type": "code",
   "execution_count": null,
   "id": "b2fc6726",
   "metadata": {},
   "outputs": [],
   "source": [
    "# Write a for loop that uses 'enumerate' for your name list and prints each name\n",
    "# and index number, but stops printing for the 8th person in the list"
   ]
  },
  {
   "cell_type": "code",
   "execution_count": null,
   "id": "43dd6328",
   "metadata": {},
   "outputs": [],
   "source": [
    "# Write a for loop that prints weight divided by eight "
   ]
  },
  {
   "cell_type": "code",
   "execution_count": null,
   "id": "8fb83860",
   "metadata": {},
   "outputs": [],
   "source": [
    "# Write a for loop that calculates weight divided by eight and saves it to a new list\n",
    "\n",
    "new_list = [] # hint you'll need this outside your loop \n",
    "new_list.append() # hint you'll need this in your loop"
   ]
  },
  {
   "cell_type": "code",
   "execution_count": null,
   "id": "06a9aa3e",
   "metadata": {},
   "outputs": [],
   "source": [
    "# Write a single for loop that uses zip to print the first name and age of each person the same line"
   ]
  },
  {
   "cell_type": "markdown",
   "id": "1028039a",
   "metadata": {},
   "source": [
    "### Question 1: Explain what the zip key word does in your own words? What kind of data does it produce? Is this data mutable?"
   ]
  },
  {
   "cell_type": "markdown",
   "id": "9663fc8a",
   "metadata": {},
   "source": [
    "### Answer 1:  \n",
    "xyz ... "
   ]
  },
  {
   "cell_type": "markdown",
   "id": "f83a3d31",
   "metadata": {},
   "source": [
    "## List Comprehension "
   ]
  },
  {
   "cell_type": "code",
   "execution_count": null,
   "id": "225ef0ff",
   "metadata": {},
   "outputs": [],
   "source": [
    "# Use list comprehention and zip to add the age to each name string to make a new list\n",
    "\n",
    "new_list = [x + str(y) for x, y in zip(l1,l2)] # hint your code will look something like this \n",
    "new_list"
   ]
  },
  {
   "cell_type": "code",
   "execution_count": null,
   "id": "12e33c76",
   "metadata": {},
   "outputs": [],
   "source": [
    "# Use list comprehention to add '.csv' to each name in your name list to make a new list"
   ]
  },
  {
   "cell_type": "markdown",
   "id": "817b1382",
   "metadata": {},
   "source": [
    "## Dictionaries "
   ]
  },
  {
   "cell_type": "code",
   "execution_count": null,
   "id": "3d6ea05d",
   "metadata": {},
   "outputs": [],
   "source": [
    "# Make a dictionary with name, gender, ages, heights, and weights as keys and the corresponding list as the values "
   ]
  },
  {
   "cell_type": "code",
   "execution_count": null,
   "id": "d5b73695",
   "metadata": {},
   "outputs": [],
   "source": [
    "# Write a loop that prints the each key and the corresponding first value "
   ]
  },
  {
   "cell_type": "code",
   "execution_count": null,
   "id": "57300bd1",
   "metadata": {},
   "outputs": [],
   "source": [
    "# Turn your diectionary into a Pandas dataframe with the code below\n",
    "import pandas as pd\n",
    "\n",
    "df = pd.DataFrame(my_dict) # my_dict is the dictionary you created above \n",
    "df"
   ]
  },
  {
   "cell_type": "code",
   "execution_count": null,
   "id": "dd3d97c7",
   "metadata": {},
   "outputs": [],
   "source": [
    "# Print the column names of your dataframe"
   ]
  },
  {
   "cell_type": "code",
   "execution_count": null,
   "id": "8357a5d6",
   "metadata": {},
   "outputs": [],
   "source": [
    "# Make a new column that is weight divided by height"
   ]
  },
  {
   "cell_type": "code",
   "execution_count": null,
   "id": "40b0d9e5",
   "metadata": {},
   "outputs": [],
   "source": [
    "# Print the data types of each column"
   ]
  },
  {
   "cell_type": "markdown",
   "id": "8b7bd22a",
   "metadata": {},
   "source": [
    "### Question 2: In a few sentences, explain why data types matter in Python. "
   ]
  },
  {
   "cell_type": "markdown",
   "id": "d39594a0",
   "metadata": {},
   "source": [
    "### Answer 2:  \n",
    "xyz ... "
   ]
  },
  {
   "cell_type": "markdown",
   "id": "43957dad",
   "metadata": {},
   "source": [
    "### Question 3:  In a few sentences, explain how Pandas DataFrames use Python's key-value dictionary structure to organize data."
   ]
  },
  {
   "cell_type": "markdown",
   "id": "64cff0b7",
   "metadata": {},
   "source": [
    "### Answer 3:  \n",
    "xyz ... "
   ]
  }
 ],
 "metadata": {
  "kernelspec": {
   "display_name": "Python 3 (ipykernel)",
   "language": "python",
   "name": "python3"
  },
  "language_info": {
   "codemirror_mode": {
    "name": "ipython",
    "version": 3
   },
   "file_extension": ".py",
   "mimetype": "text/x-python",
   "name": "python",
   "nbconvert_exporter": "python",
   "pygments_lexer": "ipython3",
   "version": "3.10.9"
  }
 },
 "nbformat": 4,
 "nbformat_minor": 5
}
