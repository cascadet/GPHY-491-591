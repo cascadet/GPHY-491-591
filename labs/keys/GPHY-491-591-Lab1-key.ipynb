{
 "cells": [
  {
   "cell_type": "markdown",
   "id": "c50d5d6c",
   "metadata": {},
   "source": [
    "# GPHY 491-591 Lab 1\n",
    "Written by Cascade Tuholske, Jan. 2024  \n",
    "\n",
    "### <u> Goals <u>\n",
    "\n",
    "    The goals of this lab are to practice making lists and using control statements, while familiarizing \n",
    "    yourself with basics of python data types and structures. While there are best practicies, there are no per say correct answers with this lab.\n",
    "\n",
    "### <u> Instruction <u>\n",
    "1. Please rename your notebook as: `Last_First_Lab1` **NOTE:** Naming convetions matter for files, including notebooks and data. Always be consistant. \n",
    "2. Complete lab by writing code in the cells as in structed by the comments\n",
    "3. Move your notebook to XXXXXXX\n",
    "\n"
   ]
  },
  {
   "cell_type": "markdown",
   "id": "c7352969",
   "metadata": {},
   "source": [
    "## Let's make some lists"
   ]
  },
  {
   "cell_type": "code",
   "execution_count": 1,
   "id": "80933feb",
   "metadata": {},
   "outputs": [
    {
     "name": "stdout",
     "output_type": "stream",
     "text": [
      "10\n"
     ]
    },
    {
     "data": {
      "text/plain": [
       "['Ted',\n",
       " 'Homer',\n",
       " 'Beth',\n",
       " 'Liz',\n",
       " 'Don',\n",
       " 'Sara',\n",
       " 'Colter',\n",
       " 'Chas',\n",
       " 'Frankie',\n",
       " 'Taylor']"
      ]
     },
     "execution_count": 1,
     "metadata": {},
     "output_type": "execute_result"
    }
   ],
   "source": [
    "# Make a list with ten first names of your choosing\n",
    "name_list = ['Ted', 'Homer', 'Beth', 'Liz', 'Don', 'Sara', 'Colter', 'Chas', 'Frankie', 'Taylor']\n",
    "print(len(name_list))\n",
    "name_list"
   ]
  },
  {
   "cell_type": "code",
   "execution_count": 5,
   "id": "720e2c0b",
   "metadata": {},
   "outputs": [
    {
     "name": "stdout",
     "output_type": "stream",
     "text": [
      "10\n"
     ]
    },
    {
     "data": {
      "text/plain": [
       "['m', 'm', 'f', 'f', 'm', 'nb', 'nb', 'm', 'f', 'f']"
      ]
     },
     "execution_count": 5,
     "metadata": {},
     "output_type": "execute_result"
    }
   ],
   "source": [
    "# Make a list with ten genders of your choosing\n",
    "gender_list = ['m', 'm', 'f', 'f', 'm', 'nb', 'nb', 'm', 'f', 'f']\n",
    "print(len(gender_list))\n",
    "gender_list"
   ]
  },
  {
   "cell_type": "code",
   "execution_count": 18,
   "id": "09ca9dc5",
   "metadata": {},
   "outputs": [
    {
     "name": "stdout",
     "output_type": "stream",
     "text": [
      "10\n"
     ]
    },
    {
     "data": {
      "text/plain": [
       "[10, 12, 15, 2, 50, 23, 7, 23, 13, 32]"
      ]
     },
     "execution_count": 18,
     "metadata": {},
     "output_type": "execute_result"
    }
   ],
   "source": [
    "# Make a list with ten ages of your choosing\n",
    "age_list = [10, 12, 15, 2, 50, 23, 7, 23, 13, 32]\n",
    "print(len(age_list))\n",
    "age_list"
   ]
  },
  {
   "cell_type": "code",
   "execution_count": 7,
   "id": "90e13d78",
   "metadata": {},
   "outputs": [
    {
     "name": "stdout",
     "output_type": "stream",
     "text": [
      "10\n"
     ]
    },
    {
     "data": {
      "text/plain": [
       "array([64, 70, 74, 70, 63, 72, 63, 71, 69, 67])"
      ]
     },
     "execution_count": 7,
     "metadata": {},
     "output_type": "execute_result"
    }
   ],
   "source": [
    "import numpy as np\n",
    "\n",
    "# Make a list with ten heights of your choosing, using floating point data\n",
    "height_list = np.random.randint(low = 60, high = 75, size = 10)\n",
    "print(len(height_list))\n",
    "height_list"
   ]
  },
  {
   "cell_type": "code",
   "execution_count": 8,
   "id": "cc5c8335",
   "metadata": {},
   "outputs": [
    {
     "name": "stdout",
     "output_type": "stream",
     "text": [
      "10\n"
     ]
    },
    {
     "data": {
      "text/plain": [
       "array([203, 122, 187, 189, 197, 224, 216, 248, 184, 211])"
      ]
     },
     "execution_count": 8,
     "metadata": {},
     "output_type": "execute_result"
    }
   ],
   "source": [
    "# Make a list with ten weights of your choosing, using floating point data\n",
    "weight_list = np.random.randint(low = 120, high = 250, size = 10)\n",
    "print(len(weight_list))\n",
    "weight_list"
   ]
  },
  {
   "cell_type": "code",
   "execution_count": 9,
   "id": "f685121f",
   "metadata": {},
   "outputs": [
    {
     "data": {
      "text/plain": [
       "['Ted', 'Homer', 'Beth', 'Liz', 'Don']"
      ]
     },
     "execution_count": 9,
     "metadata": {},
     "output_type": "execute_result"
    }
   ],
   "source": [
    "# Make a slice of the first five names as a new list\n",
    "n_slice = name_list[:5]\n",
    "n_slice"
   ]
  },
  {
   "cell_type": "code",
   "execution_count": 21,
   "id": "b1039b4d",
   "metadata": {
    "scrolled": true
   },
   "outputs": [
    {
     "data": {
      "text/plain": [
       "[23, 13, 32]"
      ]
     },
     "execution_count": 21,
     "metadata": {},
     "output_type": "execute_result"
    }
   ],
   "source": [
    "# Make a slice of the last three ages as a new list\n",
    "age_slice = age_list[-3:]\n",
    "age_slice"
   ]
  },
  {
   "cell_type": "markdown",
   "id": "92eed2bd",
   "metadata": {},
   "source": [
    "## For Loops"
   ]
  },
  {
   "cell_type": "code",
   "execution_count": 22,
   "id": "6cfc1124",
   "metadata": {},
   "outputs": [
    {
     "name": "stdout",
     "output_type": "stream",
     "text": [
      "Ted\n",
      "Homer\n",
      "Beth\n",
      "Liz\n",
      "Don\n",
      "Sara\n",
      "Colter\n",
      "Chas\n",
      "Frankie\n",
      "Taylor\n"
     ]
    }
   ],
   "source": [
    "# Write a for loop that prints the names of each person\n",
    "for name in name_list:\n",
    "    print(name)"
   ]
  },
  {
   "cell_type": "code",
   "execution_count": 24,
   "id": "632ec35b",
   "metadata": {},
   "outputs": [
    {
     "name": "stdout",
     "output_type": "stream",
     "text": [
      "Ted 10\n",
      "Homer 12\n",
      "Beth 15\n",
      "Liz 2\n",
      "Don 50\n",
      "Sara 23\n",
      "Colter 7\n",
      "Chas 23\n",
      "Frankie 13\n",
      "Taylor 32\n"
     ]
    }
   ],
   "source": [
    "# Write a nested for loop that prints the name and age of each person on the same line\n",
    "for i, name in enumerate(name_list):\n",
    "    for j, age in enumerate(age_list):\n",
    "        if i==j:\n",
    "            print(name, age)"
   ]
  },
  {
   "cell_type": "code",
   "execution_count": 26,
   "id": "57879acc",
   "metadata": {},
   "outputs": [
    {
     "name": "stdout",
     "output_type": "stream",
     "text": [
      "Ted 10\n",
      "Homer 12\n",
      "Beth 15\n",
      "Liz 2\n",
      "Don 50\n",
      "Sara 23\n",
      "Colter 7\n",
      "Chas 23\n",
      "Frankie 13\n",
      "Taylor 32\n"
     ]
    }
   ],
   "source": [
    "# Write a single for loop that uses zip to print the first name and age of each person the same line\n",
    "for i in zip(name_list, age_list):\n",
    "    print(i[0], i[1])"
   ]
  },
  {
   "cell_type": "code",
   "execution_count": 27,
   "id": "b2fc6726",
   "metadata": {},
   "outputs": [
    {
     "name": "stdout",
     "output_type": "stream",
     "text": [
      "Ted 0\n",
      "Homer 1\n",
      "Beth 2\n",
      "Liz 3\n",
      "Don 4\n",
      "Sara 5\n",
      "Colter 6\n",
      "Chas 7\n"
     ]
    }
   ],
   "source": [
    "# Write a for loop that uses 'enumerate' for your name list and prints each name\n",
    "# and index number, but stops printing for the 8th person in the list\n",
    "for i, name in enumerate(name_list):\n",
    "    print(name, i)\n",
    "    \n",
    "    if i+1 == 8:\n",
    "        break"
   ]
  },
  {
   "cell_type": "code",
   "execution_count": 28,
   "id": "43dd6328",
   "metadata": {},
   "outputs": [
    {
     "name": "stdout",
     "output_type": "stream",
     "text": [
      "25.375\n",
      "15.25\n",
      "23.375\n",
      "23.625\n",
      "24.625\n",
      "28.0\n",
      "27.0\n",
      "31.0\n",
      "23.0\n",
      "26.375\n"
     ]
    }
   ],
   "source": [
    "# Write a nested for loop that prints weight divided by eight \n",
    "for weight in weight_list:\n",
    "    print(weight/8)"
   ]
  },
  {
   "cell_type": "code",
   "execution_count": 29,
   "id": "8fb83860",
   "metadata": {},
   "outputs": [
    {
     "data": {
      "text/plain": [
       "[25.375, 15.25, 23.375, 23.625, 24.625, 28.0, 27.0, 31.0, 23.0, 26.375]"
      ]
     },
     "execution_count": 29,
     "metadata": {},
     "output_type": "execute_result"
    }
   ],
   "source": [
    "# Write a for loop that calculates weight divided by eight and saves it to a new list\n",
    "\n",
    "new_list = [] # hint you'll need this outside your loop \n",
    "\n",
    "for weight in weight_list:\n",
    "    ans = weight/8 \n",
    "    new_list.append(ans) # hint you'll need this in your loop\n",
    "\n",
    "new_list"
   ]
  },
  {
   "cell_type": "markdown",
   "id": "1028039a",
   "metadata": {},
   "source": [
    "### Question 1: Explain what the zip key word does in your own words? What kind of data does it produce? Is this data mutable?"
   ]
  },
  {
   "cell_type": "markdown",
   "id": "9663fc8a",
   "metadata": {},
   "source": [
    "### Answer 1:  \n",
    "`zip()` returns an iterator that takes iterables - objects that can return items one at a time - and returns tuples of the iterable items. In other words, it zips together lists, usually of equal length. Tuples are like lists, but they are immutable, meaning that items cannot be changed. "
   ]
  },
  {
   "cell_type": "markdown",
   "id": "f83a3d31",
   "metadata": {},
   "source": [
    "## List Comprehension "
   ]
  },
  {
   "cell_type": "code",
   "execution_count": 32,
   "id": "225ef0ff",
   "metadata": {},
   "outputs": [
    {
     "data": {
      "text/plain": [
       "['Ted 10',\n",
       " 'Homer 12',\n",
       " 'Beth 15',\n",
       " 'Liz 2',\n",
       " 'Don 50',\n",
       " 'Sara 23',\n",
       " 'Colter 7',\n",
       " 'Chas 23',\n",
       " 'Frankie 13',\n",
       " 'Taylor 32']"
      ]
     },
     "execution_count": 32,
     "metadata": {},
     "output_type": "execute_result"
    }
   ],
   "source": [
    "# Use list comprehention and zip to add the age to each name string to make a new list\n",
    "\n",
    "new_list = [x + ' ' + str(y) for x, y in zip(name_list, age_list)] # hint your code will look something like this \n",
    "new_list"
   ]
  },
  {
   "cell_type": "code",
   "execution_count": 34,
   "id": "90e3793c",
   "metadata": {},
   "outputs": [
    {
     "data": {
      "text/plain": [
       "['Ted.csv',\n",
       " 'Homer.csv',\n",
       " 'Beth.csv',\n",
       " 'Liz.csv',\n",
       " 'Don.csv',\n",
       " 'Sara.csv',\n",
       " 'Colter.csv',\n",
       " 'Chas.csv',\n",
       " 'Frankie.csv',\n",
       " 'Taylor.csv']"
      ]
     },
     "execution_count": 34,
     "metadata": {},
     "output_type": "execute_result"
    }
   ],
   "source": [
    "# Use list comprehention to add '.csv' to each name in your name list to make a new list\n",
    "new_list = [x + '.csv' for x in name_list]\n",
    "new_list"
   ]
  },
  {
   "cell_type": "markdown",
   "id": "817b1382",
   "metadata": {},
   "source": [
    "## Dictionaries "
   ]
  },
  {
   "cell_type": "code",
   "execution_count": 37,
   "id": "3d6ea05d",
   "metadata": {},
   "outputs": [
    {
     "data": {
      "text/plain": [
       "{'name': ['Ted',\n",
       "  'Homer',\n",
       "  'Beth',\n",
       "  'Liz',\n",
       "  'Don',\n",
       "  'Sara',\n",
       "  'Colter',\n",
       "  'Chas',\n",
       "  'Frankie',\n",
       "  'Taylor'],\n",
       " 'gender': ['m', 'm', 'f', 'f', 'm', 'nb', 'nb', 'm', 'f', 'f'],\n",
       " 'age': [10, 12, 15, 2, 50, 23, 7, 23, 13, 32],\n",
       " 'height': array([64, 70, 74, 70, 63, 72, 63, 71, 69, 67]),\n",
       " 'weight': array([203, 122, 187, 189, 197, 224, 216, 248, 184, 211])}"
      ]
     },
     "execution_count": 37,
     "metadata": {},
     "output_type": "execute_result"
    }
   ],
   "source": [
    "# Make a dictionary with name, gender, ages, heights, and weights as keys and the corresponding list as the values\n",
    "my_dict = {'name' : name_list, \n",
    "           'gender' : gender_list,\n",
    "           'age' : age_list,\n",
    "           'height' : height_list,\n",
    "           'weight' : weight_list\n",
    "          }\n",
    "my_dict"
   ]
  },
  {
   "cell_type": "code",
   "execution_count": 39,
   "id": "d5b73695",
   "metadata": {},
   "outputs": [
    {
     "name": "stdout",
     "output_type": "stream",
     "text": [
      "name Ted\n",
      "gender m\n",
      "age 10\n",
      "height 64\n",
      "weight 203\n"
     ]
    }
   ],
   "source": [
    "# Write a loop that prints the each key and the corresponding first value \n",
    "for key, value in my_dict.items():\n",
    "    print(key, value[0])"
   ]
  },
  {
   "cell_type": "code",
   "execution_count": 40,
   "id": "57300bd1",
   "metadata": {},
   "outputs": [
    {
     "data": {
      "text/html": [
       "<div>\n",
       "<style scoped>\n",
       "    .dataframe tbody tr th:only-of-type {\n",
       "        vertical-align: middle;\n",
       "    }\n",
       "\n",
       "    .dataframe tbody tr th {\n",
       "        vertical-align: top;\n",
       "    }\n",
       "\n",
       "    .dataframe thead th {\n",
       "        text-align: right;\n",
       "    }\n",
       "</style>\n",
       "<table border=\"1\" class=\"dataframe\">\n",
       "  <thead>\n",
       "    <tr style=\"text-align: right;\">\n",
       "      <th></th>\n",
       "      <th>name</th>\n",
       "      <th>gender</th>\n",
       "      <th>age</th>\n",
       "      <th>height</th>\n",
       "      <th>weight</th>\n",
       "    </tr>\n",
       "  </thead>\n",
       "  <tbody>\n",
       "    <tr>\n",
       "      <th>0</th>\n",
       "      <td>Ted</td>\n",
       "      <td>m</td>\n",
       "      <td>10</td>\n",
       "      <td>64</td>\n",
       "      <td>203</td>\n",
       "    </tr>\n",
       "    <tr>\n",
       "      <th>1</th>\n",
       "      <td>Homer</td>\n",
       "      <td>m</td>\n",
       "      <td>12</td>\n",
       "      <td>70</td>\n",
       "      <td>122</td>\n",
       "    </tr>\n",
       "    <tr>\n",
       "      <th>2</th>\n",
       "      <td>Beth</td>\n",
       "      <td>f</td>\n",
       "      <td>15</td>\n",
       "      <td>74</td>\n",
       "      <td>187</td>\n",
       "    </tr>\n",
       "    <tr>\n",
       "      <th>3</th>\n",
       "      <td>Liz</td>\n",
       "      <td>f</td>\n",
       "      <td>2</td>\n",
       "      <td>70</td>\n",
       "      <td>189</td>\n",
       "    </tr>\n",
       "    <tr>\n",
       "      <th>4</th>\n",
       "      <td>Don</td>\n",
       "      <td>m</td>\n",
       "      <td>50</td>\n",
       "      <td>63</td>\n",
       "      <td>197</td>\n",
       "    </tr>\n",
       "    <tr>\n",
       "      <th>5</th>\n",
       "      <td>Sara</td>\n",
       "      <td>nb</td>\n",
       "      <td>23</td>\n",
       "      <td>72</td>\n",
       "      <td>224</td>\n",
       "    </tr>\n",
       "    <tr>\n",
       "      <th>6</th>\n",
       "      <td>Colter</td>\n",
       "      <td>nb</td>\n",
       "      <td>7</td>\n",
       "      <td>63</td>\n",
       "      <td>216</td>\n",
       "    </tr>\n",
       "    <tr>\n",
       "      <th>7</th>\n",
       "      <td>Chas</td>\n",
       "      <td>m</td>\n",
       "      <td>23</td>\n",
       "      <td>71</td>\n",
       "      <td>248</td>\n",
       "    </tr>\n",
       "    <tr>\n",
       "      <th>8</th>\n",
       "      <td>Frankie</td>\n",
       "      <td>f</td>\n",
       "      <td>13</td>\n",
       "      <td>69</td>\n",
       "      <td>184</td>\n",
       "    </tr>\n",
       "    <tr>\n",
       "      <th>9</th>\n",
       "      <td>Taylor</td>\n",
       "      <td>f</td>\n",
       "      <td>32</td>\n",
       "      <td>67</td>\n",
       "      <td>211</td>\n",
       "    </tr>\n",
       "  </tbody>\n",
       "</table>\n",
       "</div>"
      ],
      "text/plain": [
       "      name gender  age  height  weight\n",
       "0      Ted      m   10      64     203\n",
       "1    Homer      m   12      70     122\n",
       "2     Beth      f   15      74     187\n",
       "3      Liz      f    2      70     189\n",
       "4      Don      m   50      63     197\n",
       "5     Sara     nb   23      72     224\n",
       "6   Colter     nb    7      63     216\n",
       "7     Chas      m   23      71     248\n",
       "8  Frankie      f   13      69     184\n",
       "9   Taylor      f   32      67     211"
      ]
     },
     "execution_count": 40,
     "metadata": {},
     "output_type": "execute_result"
    }
   ],
   "source": [
    "# Turn your diectionary into a Pandas dataframe with the code below\n",
    "import pandas as pd\n",
    "\n",
    "df = pd.DataFrame(my_dict) # my_dict is the dictionary you created above \n",
    "df"
   ]
  },
  {
   "cell_type": "code",
   "execution_count": 42,
   "id": "dd3d97c7",
   "metadata": {},
   "outputs": [
    {
     "data": {
      "text/plain": [
       "Index(['name', 'gender', 'age', 'height', 'weight'], dtype='object')"
      ]
     },
     "execution_count": 42,
     "metadata": {},
     "output_type": "execute_result"
    }
   ],
   "source": [
    "# Print the column names of your dataframe\n",
    "df.columns"
   ]
  },
  {
   "cell_type": "code",
   "execution_count": 43,
   "id": "8357a5d6",
   "metadata": {},
   "outputs": [],
   "source": [
    "# Make a new column that is weight divided by height\n",
    "df['wfh'] = df['weight'] / df['height']"
   ]
  },
  {
   "cell_type": "code",
   "execution_count": 44,
   "id": "40b0d9e5",
   "metadata": {},
   "outputs": [
    {
     "data": {
      "text/plain": [
       "name       object\n",
       "gender     object\n",
       "age         int64\n",
       "height      int64\n",
       "weight      int64\n",
       "wfh       float64\n",
       "dtype: object"
      ]
     },
     "execution_count": 44,
     "metadata": {},
     "output_type": "execute_result"
    }
   ],
   "source": [
    "# Print the data types of each column\n",
    "df.dtypes"
   ]
  },
  {
   "cell_type": "markdown",
   "id": "8b7bd22a",
   "metadata": {},
   "source": [
    "### Question 2: In a few sentences, explain why data types matter in Python. "
   ]
  },
  {
   "cell_type": "markdown",
   "id": "d39594a0",
   "metadata": {},
   "source": [
    "### Answer 2:  \n",
    "Data types matter for three main reasons. First, data types can generally only interact with the same data type. This is not to say a float cannot be `divided` by an `int` but a `float` divided by a `string` with throw an error. Second, data type determines the amount of memory needed for a program to opperate and can influence the speed of a program. Third, data type relates to the amount of disk space needed to save data/files.   "
   ]
  },
  {
   "cell_type": "markdown",
   "id": "43957dad",
   "metadata": {},
   "source": [
    "### Question 3:  In a few sentences, explain how Pandas DataFrames use Python's key-value dictionary structure to organize data."
   ]
  },
  {
   "cell_type": "markdown",
   "id": "64cff0b7",
   "metadata": {},
   "source": [
    "### Answer 3:  \n",
    "Pandas uses dicts to organizes data into Pandas Series, which can be combined into DataFarmes. Basically, the `keys` are the columns of a DataFrame and the rows are the `values` from a dict. It is important that all values be of the same data or object type in a Pandas Series."
   ]
  }
 ],
 "metadata": {
  "kernelspec": {
   "display_name": "Python 3 (ipykernel)",
   "language": "python",
   "name": "python3"
  },
  "language_info": {
   "codemirror_mode": {
    "name": "ipython",
    "version": 3
   },
   "file_extension": ".py",
   "mimetype": "text/x-python",
   "name": "python",
   "nbconvert_exporter": "python",
   "pygments_lexer": "ipython3",
   "version": "3.9.15"
  }
 },
 "nbformat": 4,
 "nbformat_minor": 5
}
